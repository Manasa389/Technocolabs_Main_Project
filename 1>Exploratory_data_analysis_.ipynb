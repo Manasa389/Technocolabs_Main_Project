{
  "nbformat": 4,
  "nbformat_minor": 0,
  "metadata": {
    "colab": {
      "name": "1>Exploratory data analysis .ipynb",
      "provenance": [],
      "collapsed_sections": [],
      "authorship_tag": "ABX9TyOR6BxonLEkON4ua+/qFBQ0",
      "include_colab_link": true
    },
    "kernelspec": {
      "name": "python3",
      "display_name": "Python 3"
    },
    "language_info": {
      "name": "python"
    }
  },
  "cells": [
    {
      "cell_type": "markdown",
      "metadata": {
        "id": "view-in-github",
        "colab_type": "text"
      },
      "source": [
        "<a href=\"https://colab.research.google.com/github/Manasa389/Technocolabs_Main_Project/blob/main/1%3EExploratory_data_analysis_.ipynb\" target=\"_parent\"><img src=\"https://colab.research.google.com/assets/colab-badge.svg\" alt=\"Open In Colab\"/></a>"
      ]
    },
    {
      "cell_type": "code",
      "metadata": {
        "colab": {
          "base_uri": "https://localhost:8080/"
        },
        "id": "Ew5irS-3r2tF",
        "outputId": "07e35dfa-496b-4883-f903-ea1d194a093f"
      },
      "source": [
        "from google.colab import drive\n",
        "drive.mount('/content/drive')"
      ],
      "execution_count": 1,
      "outputs": [
        {
          "output_type": "stream",
          "text": [
            "Mounted at /content/drive\n"
          ],
          "name": "stdout"
        }
      ]
    },
    {
      "cell_type": "code",
      "metadata": {
        "id": "aYB2oXoysJIn"
      },
      "source": [
        "import pandas as pd\n",
        "import numpy as np\n",
        "import matplotlib.pyplot as plt\n",
        "%matplotlib inline\n",
        "import seaborn as sns"
      ],
      "execution_count": 2,
      "outputs": []
    },
    {
      "cell_type": "code",
      "metadata": {
        "id": "43qphDG7sXt0"
      },
      "source": [
        "#Filter the unwanted warning\n",
        "import warnings\n",
        "warnings.simplefilter(\"ignore\")"
      ],
      "execution_count": 3,
      "outputs": []
    },
    {
      "cell_type": "code",
      "metadata": {
        "id": "v69lqcjosgNc"
      },
      "source": [
        "data_filepath=\"/content/drive/MyDrive/accepted_2007_to_2018Q4.csv.gz\""
      ],
      "execution_count": 40,
      "outputs": []
    },
    {
      "cell_type": "code",
      "metadata": {
        "id": "oPnXoXOUskvD"
      },
      "source": [
        "df_Accepted =pd.read_csv(data_filepath)"
      ],
      "execution_count": 41,
      "outputs": []
    },
    {
      "cell_type": "code",
      "metadata": {
        "colab": {
          "base_uri": "https://localhost:8080/",
          "height": 355
        },
        "id": "lNWXrpXTsvlk",
        "outputId": "48e48e12-3a27-4837-fef5-c6105416585c"
      },
      "source": [
        "df_Accepted.head()"
      ],
      "execution_count": null,
      "outputs": [
        {
          "output_type": "execute_result",
          "data": {
            "text/html": [
              "<div>\n",
              "<style scoped>\n",
              "    .dataframe tbody tr th:only-of-type {\n",
              "        vertical-align: middle;\n",
              "    }\n",
              "\n",
              "    .dataframe tbody tr th {\n",
              "        vertical-align: top;\n",
              "    }\n",
              "\n",
              "    .dataframe thead th {\n",
              "        text-align: right;\n",
              "    }\n",
              "</style>\n",
              "<table border=\"1\" class=\"dataframe\">\n",
              "  <thead>\n",
              "    <tr style=\"text-align: right;\">\n",
              "      <th></th>\n",
              "      <th>id</th>\n",
              "      <th>member_id</th>\n",
              "      <th>loan_amnt</th>\n",
              "      <th>funded_amnt</th>\n",
              "      <th>funded_amnt_inv</th>\n",
              "      <th>term</th>\n",
              "      <th>int_rate</th>\n",
              "      <th>installment</th>\n",
              "      <th>grade</th>\n",
              "      <th>sub_grade</th>\n",
              "      <th>emp_title</th>\n",
              "      <th>emp_length</th>\n",
              "      <th>home_ownership</th>\n",
              "      <th>annual_inc</th>\n",
              "      <th>verification_status</th>\n",
              "      <th>issue_d</th>\n",
              "      <th>loan_status</th>\n",
              "      <th>pymnt_plan</th>\n",
              "      <th>url</th>\n",
              "      <th>desc</th>\n",
              "      <th>purpose</th>\n",
              "      <th>title</th>\n",
              "      <th>zip_code</th>\n",
              "      <th>addr_state</th>\n",
              "      <th>dti</th>\n",
              "      <th>delinq_2yrs</th>\n",
              "      <th>earliest_cr_line</th>\n",
              "      <th>fico_range_low</th>\n",
              "      <th>fico_range_high</th>\n",
              "      <th>inq_last_6mths</th>\n",
              "      <th>mths_since_last_delinq</th>\n",
              "      <th>mths_since_last_record</th>\n",
              "      <th>open_acc</th>\n",
              "      <th>pub_rec</th>\n",
              "      <th>revol_bal</th>\n",
              "      <th>revol_util</th>\n",
              "      <th>total_acc</th>\n",
              "      <th>initial_list_status</th>\n",
              "      <th>out_prncp</th>\n",
              "      <th>out_prncp_inv</th>\n",
              "      <th>...</th>\n",
              "      <th>tot_hi_cred_lim</th>\n",
              "      <th>total_bal_ex_mort</th>\n",
              "      <th>total_bc_limit</th>\n",
              "      <th>total_il_high_credit_limit</th>\n",
              "      <th>revol_bal_joint</th>\n",
              "      <th>sec_app_fico_range_low</th>\n",
              "      <th>sec_app_fico_range_high</th>\n",
              "      <th>sec_app_earliest_cr_line</th>\n",
              "      <th>sec_app_inq_last_6mths</th>\n",
              "      <th>sec_app_mort_acc</th>\n",
              "      <th>sec_app_open_acc</th>\n",
              "      <th>sec_app_revol_util</th>\n",
              "      <th>sec_app_open_act_il</th>\n",
              "      <th>sec_app_num_rev_accts</th>\n",
              "      <th>sec_app_chargeoff_within_12_mths</th>\n",
              "      <th>sec_app_collections_12_mths_ex_med</th>\n",
              "      <th>sec_app_mths_since_last_major_derog</th>\n",
              "      <th>hardship_flag</th>\n",
              "      <th>hardship_type</th>\n",
              "      <th>hardship_reason</th>\n",
              "      <th>hardship_status</th>\n",
              "      <th>deferral_term</th>\n",
              "      <th>hardship_amount</th>\n",
              "      <th>hardship_start_date</th>\n",
              "      <th>hardship_end_date</th>\n",
              "      <th>payment_plan_start_date</th>\n",
              "      <th>hardship_length</th>\n",
              "      <th>hardship_dpd</th>\n",
              "      <th>hardship_loan_status</th>\n",
              "      <th>orig_projected_additional_accrued_interest</th>\n",
              "      <th>hardship_payoff_balance_amount</th>\n",
              "      <th>hardship_last_payment_amount</th>\n",
              "      <th>disbursement_method</th>\n",
              "      <th>debt_settlement_flag</th>\n",
              "      <th>debt_settlement_flag_date</th>\n",
              "      <th>settlement_status</th>\n",
              "      <th>settlement_date</th>\n",
              "      <th>settlement_amount</th>\n",
              "      <th>settlement_percentage</th>\n",
              "      <th>settlement_term</th>\n",
              "    </tr>\n",
              "  </thead>\n",
              "  <tbody>\n",
              "    <tr>\n",
              "      <th>0</th>\n",
              "      <td>68407277</td>\n",
              "      <td>NaN</td>\n",
              "      <td>3600.0</td>\n",
              "      <td>3600.0</td>\n",
              "      <td>3600.0</td>\n",
              "      <td>36 months</td>\n",
              "      <td>13.99</td>\n",
              "      <td>123.03</td>\n",
              "      <td>C</td>\n",
              "      <td>C4</td>\n",
              "      <td>leadman</td>\n",
              "      <td>10+ years</td>\n",
              "      <td>MORTGAGE</td>\n",
              "      <td>55000.0</td>\n",
              "      <td>Not Verified</td>\n",
              "      <td>Dec-2015</td>\n",
              "      <td>Fully Paid</td>\n",
              "      <td>n</td>\n",
              "      <td>https://lendingclub.com/browse/loanDetail.acti...</td>\n",
              "      <td>NaN</td>\n",
              "      <td>debt_consolidation</td>\n",
              "      <td>Debt consolidation</td>\n",
              "      <td>190xx</td>\n",
              "      <td>PA</td>\n",
              "      <td>5.91</td>\n",
              "      <td>0.0</td>\n",
              "      <td>Aug-2003</td>\n",
              "      <td>675.0</td>\n",
              "      <td>679.0</td>\n",
              "      <td>1.0</td>\n",
              "      <td>30.0</td>\n",
              "      <td>NaN</td>\n",
              "      <td>7.0</td>\n",
              "      <td>0.0</td>\n",
              "      <td>2765.0</td>\n",
              "      <td>29.7</td>\n",
              "      <td>13.0</td>\n",
              "      <td>w</td>\n",
              "      <td>0.00</td>\n",
              "      <td>0.00</td>\n",
              "      <td>...</td>\n",
              "      <td>178050.0</td>\n",
              "      <td>7746.0</td>\n",
              "      <td>2400.0</td>\n",
              "      <td>13734.0</td>\n",
              "      <td>NaN</td>\n",
              "      <td>NaN</td>\n",
              "      <td>NaN</td>\n",
              "      <td>NaN</td>\n",
              "      <td>NaN</td>\n",
              "      <td>NaN</td>\n",
              "      <td>NaN</td>\n",
              "      <td>NaN</td>\n",
              "      <td>NaN</td>\n",
              "      <td>NaN</td>\n",
              "      <td>NaN</td>\n",
              "      <td>NaN</td>\n",
              "      <td>NaN</td>\n",
              "      <td>N</td>\n",
              "      <td>NaN</td>\n",
              "      <td>NaN</td>\n",
              "      <td>NaN</td>\n",
              "      <td>NaN</td>\n",
              "      <td>NaN</td>\n",
              "      <td>NaN</td>\n",
              "      <td>NaN</td>\n",
              "      <td>NaN</td>\n",
              "      <td>NaN</td>\n",
              "      <td>NaN</td>\n",
              "      <td>NaN</td>\n",
              "      <td>NaN</td>\n",
              "      <td>NaN</td>\n",
              "      <td>NaN</td>\n",
              "      <td>Cash</td>\n",
              "      <td>N</td>\n",
              "      <td>NaN</td>\n",
              "      <td>NaN</td>\n",
              "      <td>NaN</td>\n",
              "      <td>NaN</td>\n",
              "      <td>NaN</td>\n",
              "      <td>NaN</td>\n",
              "    </tr>\n",
              "    <tr>\n",
              "      <th>1</th>\n",
              "      <td>68355089</td>\n",
              "      <td>NaN</td>\n",
              "      <td>24700.0</td>\n",
              "      <td>24700.0</td>\n",
              "      <td>24700.0</td>\n",
              "      <td>36 months</td>\n",
              "      <td>11.99</td>\n",
              "      <td>820.28</td>\n",
              "      <td>C</td>\n",
              "      <td>C1</td>\n",
              "      <td>Engineer</td>\n",
              "      <td>10+ years</td>\n",
              "      <td>MORTGAGE</td>\n",
              "      <td>65000.0</td>\n",
              "      <td>Not Verified</td>\n",
              "      <td>Dec-2015</td>\n",
              "      <td>Fully Paid</td>\n",
              "      <td>n</td>\n",
              "      <td>https://lendingclub.com/browse/loanDetail.acti...</td>\n",
              "      <td>NaN</td>\n",
              "      <td>small_business</td>\n",
              "      <td>Business</td>\n",
              "      <td>577xx</td>\n",
              "      <td>SD</td>\n",
              "      <td>16.06</td>\n",
              "      <td>1.0</td>\n",
              "      <td>Dec-1999</td>\n",
              "      <td>715.0</td>\n",
              "      <td>719.0</td>\n",
              "      <td>4.0</td>\n",
              "      <td>6.0</td>\n",
              "      <td>NaN</td>\n",
              "      <td>22.0</td>\n",
              "      <td>0.0</td>\n",
              "      <td>21470.0</td>\n",
              "      <td>19.2</td>\n",
              "      <td>38.0</td>\n",
              "      <td>w</td>\n",
              "      <td>0.00</td>\n",
              "      <td>0.00</td>\n",
              "      <td>...</td>\n",
              "      <td>314017.0</td>\n",
              "      <td>39475.0</td>\n",
              "      <td>79300.0</td>\n",
              "      <td>24667.0</td>\n",
              "      <td>NaN</td>\n",
              "      <td>NaN</td>\n",
              "      <td>NaN</td>\n",
              "      <td>NaN</td>\n",
              "      <td>NaN</td>\n",
              "      <td>NaN</td>\n",
              "      <td>NaN</td>\n",
              "      <td>NaN</td>\n",
              "      <td>NaN</td>\n",
              "      <td>NaN</td>\n",
              "      <td>NaN</td>\n",
              "      <td>NaN</td>\n",
              "      <td>NaN</td>\n",
              "      <td>N</td>\n",
              "      <td>NaN</td>\n",
              "      <td>NaN</td>\n",
              "      <td>NaN</td>\n",
              "      <td>NaN</td>\n",
              "      <td>NaN</td>\n",
              "      <td>NaN</td>\n",
              "      <td>NaN</td>\n",
              "      <td>NaN</td>\n",
              "      <td>NaN</td>\n",
              "      <td>NaN</td>\n",
              "      <td>NaN</td>\n",
              "      <td>NaN</td>\n",
              "      <td>NaN</td>\n",
              "      <td>NaN</td>\n",
              "      <td>Cash</td>\n",
              "      <td>N</td>\n",
              "      <td>NaN</td>\n",
              "      <td>NaN</td>\n",
              "      <td>NaN</td>\n",
              "      <td>NaN</td>\n",
              "      <td>NaN</td>\n",
              "      <td>NaN</td>\n",
              "    </tr>\n",
              "    <tr>\n",
              "      <th>2</th>\n",
              "      <td>68341763</td>\n",
              "      <td>NaN</td>\n",
              "      <td>20000.0</td>\n",
              "      <td>20000.0</td>\n",
              "      <td>20000.0</td>\n",
              "      <td>60 months</td>\n",
              "      <td>10.78</td>\n",
              "      <td>432.66</td>\n",
              "      <td>B</td>\n",
              "      <td>B4</td>\n",
              "      <td>truck driver</td>\n",
              "      <td>10+ years</td>\n",
              "      <td>MORTGAGE</td>\n",
              "      <td>63000.0</td>\n",
              "      <td>Not Verified</td>\n",
              "      <td>Dec-2015</td>\n",
              "      <td>Fully Paid</td>\n",
              "      <td>n</td>\n",
              "      <td>https://lendingclub.com/browse/loanDetail.acti...</td>\n",
              "      <td>NaN</td>\n",
              "      <td>home_improvement</td>\n",
              "      <td>NaN</td>\n",
              "      <td>605xx</td>\n",
              "      <td>IL</td>\n",
              "      <td>10.78</td>\n",
              "      <td>0.0</td>\n",
              "      <td>Aug-2000</td>\n",
              "      <td>695.0</td>\n",
              "      <td>699.0</td>\n",
              "      <td>0.0</td>\n",
              "      <td>NaN</td>\n",
              "      <td>NaN</td>\n",
              "      <td>6.0</td>\n",
              "      <td>0.0</td>\n",
              "      <td>7869.0</td>\n",
              "      <td>56.2</td>\n",
              "      <td>18.0</td>\n",
              "      <td>w</td>\n",
              "      <td>0.00</td>\n",
              "      <td>0.00</td>\n",
              "      <td>...</td>\n",
              "      <td>218418.0</td>\n",
              "      <td>18696.0</td>\n",
              "      <td>6200.0</td>\n",
              "      <td>14877.0</td>\n",
              "      <td>NaN</td>\n",
              "      <td>NaN</td>\n",
              "      <td>NaN</td>\n",
              "      <td>NaN</td>\n",
              "      <td>NaN</td>\n",
              "      <td>NaN</td>\n",
              "      <td>NaN</td>\n",
              "      <td>NaN</td>\n",
              "      <td>NaN</td>\n",
              "      <td>NaN</td>\n",
              "      <td>NaN</td>\n",
              "      <td>NaN</td>\n",
              "      <td>NaN</td>\n",
              "      <td>N</td>\n",
              "      <td>NaN</td>\n",
              "      <td>NaN</td>\n",
              "      <td>NaN</td>\n",
              "      <td>NaN</td>\n",
              "      <td>NaN</td>\n",
              "      <td>NaN</td>\n",
              "      <td>NaN</td>\n",
              "      <td>NaN</td>\n",
              "      <td>NaN</td>\n",
              "      <td>NaN</td>\n",
              "      <td>NaN</td>\n",
              "      <td>NaN</td>\n",
              "      <td>NaN</td>\n",
              "      <td>NaN</td>\n",
              "      <td>Cash</td>\n",
              "      <td>N</td>\n",
              "      <td>NaN</td>\n",
              "      <td>NaN</td>\n",
              "      <td>NaN</td>\n",
              "      <td>NaN</td>\n",
              "      <td>NaN</td>\n",
              "      <td>NaN</td>\n",
              "    </tr>\n",
              "    <tr>\n",
              "      <th>3</th>\n",
              "      <td>66310712</td>\n",
              "      <td>NaN</td>\n",
              "      <td>35000.0</td>\n",
              "      <td>35000.0</td>\n",
              "      <td>35000.0</td>\n",
              "      <td>60 months</td>\n",
              "      <td>14.85</td>\n",
              "      <td>829.90</td>\n",
              "      <td>C</td>\n",
              "      <td>C5</td>\n",
              "      <td>Information Systems Officer</td>\n",
              "      <td>10+ years</td>\n",
              "      <td>MORTGAGE</td>\n",
              "      <td>110000.0</td>\n",
              "      <td>Source Verified</td>\n",
              "      <td>Dec-2015</td>\n",
              "      <td>Current</td>\n",
              "      <td>n</td>\n",
              "      <td>https://lendingclub.com/browse/loanDetail.acti...</td>\n",
              "      <td>NaN</td>\n",
              "      <td>debt_consolidation</td>\n",
              "      <td>Debt consolidation</td>\n",
              "      <td>076xx</td>\n",
              "      <td>NJ</td>\n",
              "      <td>17.06</td>\n",
              "      <td>0.0</td>\n",
              "      <td>Sep-2008</td>\n",
              "      <td>785.0</td>\n",
              "      <td>789.0</td>\n",
              "      <td>0.0</td>\n",
              "      <td>NaN</td>\n",
              "      <td>NaN</td>\n",
              "      <td>13.0</td>\n",
              "      <td>0.0</td>\n",
              "      <td>7802.0</td>\n",
              "      <td>11.6</td>\n",
              "      <td>17.0</td>\n",
              "      <td>w</td>\n",
              "      <td>15897.65</td>\n",
              "      <td>15897.65</td>\n",
              "      <td>...</td>\n",
              "      <td>381215.0</td>\n",
              "      <td>52226.0</td>\n",
              "      <td>62500.0</td>\n",
              "      <td>18000.0</td>\n",
              "      <td>NaN</td>\n",
              "      <td>NaN</td>\n",
              "      <td>NaN</td>\n",
              "      <td>NaN</td>\n",
              "      <td>NaN</td>\n",
              "      <td>NaN</td>\n",
              "      <td>NaN</td>\n",
              "      <td>NaN</td>\n",
              "      <td>NaN</td>\n",
              "      <td>NaN</td>\n",
              "      <td>NaN</td>\n",
              "      <td>NaN</td>\n",
              "      <td>NaN</td>\n",
              "      <td>N</td>\n",
              "      <td>NaN</td>\n",
              "      <td>NaN</td>\n",
              "      <td>NaN</td>\n",
              "      <td>NaN</td>\n",
              "      <td>NaN</td>\n",
              "      <td>NaN</td>\n",
              "      <td>NaN</td>\n",
              "      <td>NaN</td>\n",
              "      <td>NaN</td>\n",
              "      <td>NaN</td>\n",
              "      <td>NaN</td>\n",
              "      <td>NaN</td>\n",
              "      <td>NaN</td>\n",
              "      <td>NaN</td>\n",
              "      <td>Cash</td>\n",
              "      <td>N</td>\n",
              "      <td>NaN</td>\n",
              "      <td>NaN</td>\n",
              "      <td>NaN</td>\n",
              "      <td>NaN</td>\n",
              "      <td>NaN</td>\n",
              "      <td>NaN</td>\n",
              "    </tr>\n",
              "    <tr>\n",
              "      <th>4</th>\n",
              "      <td>68476807</td>\n",
              "      <td>NaN</td>\n",
              "      <td>10400.0</td>\n",
              "      <td>10400.0</td>\n",
              "      <td>10400.0</td>\n",
              "      <td>60 months</td>\n",
              "      <td>22.45</td>\n",
              "      <td>289.91</td>\n",
              "      <td>F</td>\n",
              "      <td>F1</td>\n",
              "      <td>Contract Specialist</td>\n",
              "      <td>3 years</td>\n",
              "      <td>MORTGAGE</td>\n",
              "      <td>104433.0</td>\n",
              "      <td>Source Verified</td>\n",
              "      <td>Dec-2015</td>\n",
              "      <td>Fully Paid</td>\n",
              "      <td>n</td>\n",
              "      <td>https://lendingclub.com/browse/loanDetail.acti...</td>\n",
              "      <td>NaN</td>\n",
              "      <td>major_purchase</td>\n",
              "      <td>Major purchase</td>\n",
              "      <td>174xx</td>\n",
              "      <td>PA</td>\n",
              "      <td>25.37</td>\n",
              "      <td>1.0</td>\n",
              "      <td>Jun-1998</td>\n",
              "      <td>695.0</td>\n",
              "      <td>699.0</td>\n",
              "      <td>3.0</td>\n",
              "      <td>12.0</td>\n",
              "      <td>NaN</td>\n",
              "      <td>12.0</td>\n",
              "      <td>0.0</td>\n",
              "      <td>21929.0</td>\n",
              "      <td>64.5</td>\n",
              "      <td>35.0</td>\n",
              "      <td>w</td>\n",
              "      <td>0.00</td>\n",
              "      <td>0.00</td>\n",
              "      <td>...</td>\n",
              "      <td>439570.0</td>\n",
              "      <td>95768.0</td>\n",
              "      <td>20300.0</td>\n",
              "      <td>88097.0</td>\n",
              "      <td>NaN</td>\n",
              "      <td>NaN</td>\n",
              "      <td>NaN</td>\n",
              "      <td>NaN</td>\n",
              "      <td>NaN</td>\n",
              "      <td>NaN</td>\n",
              "      <td>NaN</td>\n",
              "      <td>NaN</td>\n",
              "      <td>NaN</td>\n",
              "      <td>NaN</td>\n",
              "      <td>NaN</td>\n",
              "      <td>NaN</td>\n",
              "      <td>NaN</td>\n",
              "      <td>N</td>\n",
              "      <td>NaN</td>\n",
              "      <td>NaN</td>\n",
              "      <td>NaN</td>\n",
              "      <td>NaN</td>\n",
              "      <td>NaN</td>\n",
              "      <td>NaN</td>\n",
              "      <td>NaN</td>\n",
              "      <td>NaN</td>\n",
              "      <td>NaN</td>\n",
              "      <td>NaN</td>\n",
              "      <td>NaN</td>\n",
              "      <td>NaN</td>\n",
              "      <td>NaN</td>\n",
              "      <td>NaN</td>\n",
              "      <td>Cash</td>\n",
              "      <td>N</td>\n",
              "      <td>NaN</td>\n",
              "      <td>NaN</td>\n",
              "      <td>NaN</td>\n",
              "      <td>NaN</td>\n",
              "      <td>NaN</td>\n",
              "      <td>NaN</td>\n",
              "    </tr>\n",
              "  </tbody>\n",
              "</table>\n",
              "<p>5 rows × 151 columns</p>\n",
              "</div>"
            ],
            "text/plain": [
              "         id  member_id  ...  settlement_percentage  settlement_term\n",
              "0  68407277        NaN  ...                    NaN              NaN\n",
              "1  68355089        NaN  ...                    NaN              NaN\n",
              "2  68341763        NaN  ...                    NaN              NaN\n",
              "3  66310712        NaN  ...                    NaN              NaN\n",
              "4  68476807        NaN  ...                    NaN              NaN\n",
              "\n",
              "[5 rows x 151 columns]"
            ]
          },
          "metadata": {
            "tags": []
          },
          "execution_count": 6
        }
      ]
    },
    {
      "cell_type": "code",
      "metadata": {
        "colab": {
          "base_uri": "https://localhost:8080/"
        },
        "id": "yrjzYB-vtAZ1",
        "outputId": "eb73b9b4-316b-4b1a-c4b3-ce29cc4027bc"
      },
      "source": [
        "df_Accepted.shape"
      ],
      "execution_count": null,
      "outputs": [
        {
          "output_type": "execute_result",
          "data": {
            "text/plain": [
              "(2260701, 151)"
            ]
          },
          "metadata": {
            "tags": []
          },
          "execution_count": 7
        }
      ]
    },
    {
      "cell_type": "code",
      "metadata": {
        "colab": {
          "base_uri": "https://localhost:8080/"
        },
        "id": "Nuk24B2YtCo9",
        "outputId": "dfd037fc-38d0-4a4d-cd52-840af61ffe62"
      },
      "source": [
        "df_Accepted.columns"
      ],
      "execution_count": null,
      "outputs": [
        {
          "output_type": "execute_result",
          "data": {
            "text/plain": [
              "Index(['id', 'member_id', 'loan_amnt', 'funded_amnt', 'funded_amnt_inv',\n",
              "       'term', 'int_rate', 'installment', 'grade', 'sub_grade',\n",
              "       ...\n",
              "       'hardship_payoff_balance_amount', 'hardship_last_payment_amount',\n",
              "       'disbursement_method', 'debt_settlement_flag',\n",
              "       'debt_settlement_flag_date', 'settlement_status', 'settlement_date',\n",
              "       'settlement_amount', 'settlement_percentage', 'settlement_term'],\n",
              "      dtype='object', length=151)"
            ]
          },
          "metadata": {
            "tags": []
          },
          "execution_count": 8
        }
      ]
    },
    {
      "cell_type": "code",
      "metadata": {
        "colab": {
          "base_uri": "https://localhost:8080/"
        },
        "id": "-iIOaQQStFDS",
        "outputId": "74caa1b8-38d7-45bb-8c26-111440f0b83a"
      },
      "source": [
        "List = list(df_Accepted.columns)\n",
        "print(List)"
      ],
      "execution_count": null,
      "outputs": [
        {
          "output_type": "stream",
          "text": [
            "['id', 'member_id', 'loan_amnt', 'funded_amnt', 'funded_amnt_inv', 'term', 'int_rate', 'installment', 'grade', 'sub_grade', 'emp_title', 'emp_length', 'home_ownership', 'annual_inc', 'verification_status', 'issue_d', 'loan_status', 'pymnt_plan', 'url', 'desc', 'purpose', 'title', 'zip_code', 'addr_state', 'dti', 'delinq_2yrs', 'earliest_cr_line', 'fico_range_low', 'fico_range_high', 'inq_last_6mths', 'mths_since_last_delinq', 'mths_since_last_record', 'open_acc', 'pub_rec', 'revol_bal', 'revol_util', 'total_acc', 'initial_list_status', 'out_prncp', 'out_prncp_inv', 'total_pymnt', 'total_pymnt_inv', 'total_rec_prncp', 'total_rec_int', 'total_rec_late_fee', 'recoveries', 'collection_recovery_fee', 'last_pymnt_d', 'last_pymnt_amnt', 'next_pymnt_d', 'last_credit_pull_d', 'last_fico_range_high', 'last_fico_range_low', 'collections_12_mths_ex_med', 'mths_since_last_major_derog', 'policy_code', 'application_type', 'annual_inc_joint', 'dti_joint', 'verification_status_joint', 'acc_now_delinq', 'tot_coll_amt', 'tot_cur_bal', 'open_acc_6m', 'open_act_il', 'open_il_12m', 'open_il_24m', 'mths_since_rcnt_il', 'total_bal_il', 'il_util', 'open_rv_12m', 'open_rv_24m', 'max_bal_bc', 'all_util', 'total_rev_hi_lim', 'inq_fi', 'total_cu_tl', 'inq_last_12m', 'acc_open_past_24mths', 'avg_cur_bal', 'bc_open_to_buy', 'bc_util', 'chargeoff_within_12_mths', 'delinq_amnt', 'mo_sin_old_il_acct', 'mo_sin_old_rev_tl_op', 'mo_sin_rcnt_rev_tl_op', 'mo_sin_rcnt_tl', 'mort_acc', 'mths_since_recent_bc', 'mths_since_recent_bc_dlq', 'mths_since_recent_inq', 'mths_since_recent_revol_delinq', 'num_accts_ever_120_pd', 'num_actv_bc_tl', 'num_actv_rev_tl', 'num_bc_sats', 'num_bc_tl', 'num_il_tl', 'num_op_rev_tl', 'num_rev_accts', 'num_rev_tl_bal_gt_0', 'num_sats', 'num_tl_120dpd_2m', 'num_tl_30dpd', 'num_tl_90g_dpd_24m', 'num_tl_op_past_12m', 'pct_tl_nvr_dlq', 'percent_bc_gt_75', 'pub_rec_bankruptcies', 'tax_liens', 'tot_hi_cred_lim', 'total_bal_ex_mort', 'total_bc_limit', 'total_il_high_credit_limit', 'revol_bal_joint', 'sec_app_fico_range_low', 'sec_app_fico_range_high', 'sec_app_earliest_cr_line', 'sec_app_inq_last_6mths', 'sec_app_mort_acc', 'sec_app_open_acc', 'sec_app_revol_util', 'sec_app_open_act_il', 'sec_app_num_rev_accts', 'sec_app_chargeoff_within_12_mths', 'sec_app_collections_12_mths_ex_med', 'sec_app_mths_since_last_major_derog', 'hardship_flag', 'hardship_type', 'hardship_reason', 'hardship_status', 'deferral_term', 'hardship_amount', 'hardship_start_date', 'hardship_end_date', 'payment_plan_start_date', 'hardship_length', 'hardship_dpd', 'hardship_loan_status', 'orig_projected_additional_accrued_interest', 'hardship_payoff_balance_amount', 'hardship_last_payment_amount', 'disbursement_method', 'debt_settlement_flag', 'debt_settlement_flag_date', 'settlement_status', 'settlement_date', 'settlement_amount', 'settlement_percentage', 'settlement_term']\n"
          ],
          "name": "stdout"
        }
      ]
    },
    {
      "cell_type": "code",
      "metadata": {
        "colab": {
          "base_uri": "https://localhost:8080/"
        },
        "id": "J_zlLE7JtHzD",
        "outputId": "0f9ffd69-3909-448c-bc4b-bab247c89501"
      },
      "source": [
        "List.sort()\n",
        "\n",
        "print(List)"
      ],
      "execution_count": null,
      "outputs": [
        {
          "output_type": "stream",
          "text": [
            "['acc_now_delinq', 'acc_open_past_24mths', 'addr_state', 'all_util', 'annual_inc', 'annual_inc_joint', 'application_type', 'avg_cur_bal', 'bc_open_to_buy', 'bc_util', 'chargeoff_within_12_mths', 'collection_recovery_fee', 'collections_12_mths_ex_med', 'debt_settlement_flag', 'debt_settlement_flag_date', 'deferral_term', 'delinq_2yrs', 'delinq_amnt', 'desc', 'disbursement_method', 'dti', 'dti_joint', 'earliest_cr_line', 'emp_length', 'emp_title', 'fico_range_high', 'fico_range_low', 'funded_amnt', 'funded_amnt_inv', 'grade', 'hardship_amount', 'hardship_dpd', 'hardship_end_date', 'hardship_flag', 'hardship_last_payment_amount', 'hardship_length', 'hardship_loan_status', 'hardship_payoff_balance_amount', 'hardship_reason', 'hardship_start_date', 'hardship_status', 'hardship_type', 'home_ownership', 'id', 'il_util', 'initial_list_status', 'inq_fi', 'inq_last_12m', 'inq_last_6mths', 'installment', 'int_rate', 'issue_d', 'last_credit_pull_d', 'last_fico_range_high', 'last_fico_range_low', 'last_pymnt_amnt', 'last_pymnt_d', 'loan_amnt', 'loan_status', 'max_bal_bc', 'member_id', 'mo_sin_old_il_acct', 'mo_sin_old_rev_tl_op', 'mo_sin_rcnt_rev_tl_op', 'mo_sin_rcnt_tl', 'mort_acc', 'mths_since_last_delinq', 'mths_since_last_major_derog', 'mths_since_last_record', 'mths_since_rcnt_il', 'mths_since_recent_bc', 'mths_since_recent_bc_dlq', 'mths_since_recent_inq', 'mths_since_recent_revol_delinq', 'next_pymnt_d', 'num_accts_ever_120_pd', 'num_actv_bc_tl', 'num_actv_rev_tl', 'num_bc_sats', 'num_bc_tl', 'num_il_tl', 'num_op_rev_tl', 'num_rev_accts', 'num_rev_tl_bal_gt_0', 'num_sats', 'num_tl_120dpd_2m', 'num_tl_30dpd', 'num_tl_90g_dpd_24m', 'num_tl_op_past_12m', 'open_acc', 'open_acc_6m', 'open_act_il', 'open_il_12m', 'open_il_24m', 'open_rv_12m', 'open_rv_24m', 'orig_projected_additional_accrued_interest', 'out_prncp', 'out_prncp_inv', 'payment_plan_start_date', 'pct_tl_nvr_dlq', 'percent_bc_gt_75', 'policy_code', 'pub_rec', 'pub_rec_bankruptcies', 'purpose', 'pymnt_plan', 'recoveries', 'revol_bal', 'revol_bal_joint', 'revol_util', 'sec_app_chargeoff_within_12_mths', 'sec_app_collections_12_mths_ex_med', 'sec_app_earliest_cr_line', 'sec_app_fico_range_high', 'sec_app_fico_range_low', 'sec_app_inq_last_6mths', 'sec_app_mort_acc', 'sec_app_mths_since_last_major_derog', 'sec_app_num_rev_accts', 'sec_app_open_acc', 'sec_app_open_act_il', 'sec_app_revol_util', 'settlement_amount', 'settlement_date', 'settlement_percentage', 'settlement_status', 'settlement_term', 'sub_grade', 'tax_liens', 'term', 'title', 'tot_coll_amt', 'tot_cur_bal', 'tot_hi_cred_lim', 'total_acc', 'total_bal_ex_mort', 'total_bal_il', 'total_bc_limit', 'total_cu_tl', 'total_il_high_credit_limit', 'total_pymnt', 'total_pymnt_inv', 'total_rec_int', 'total_rec_late_fee', 'total_rec_prncp', 'total_rev_hi_lim', 'url', 'verification_status', 'verification_status_joint', 'zip_code']\n"
          ],
          "name": "stdout"
        }
      ]
    },
    {
      "cell_type": "code",
      "metadata": {
        "id": "6psuciULtLQS"
      },
      "source": [
        "pd.set_option('display.max_rows', 200)\n",
        "pd.set_option('display.max_columns', 151)\n",
        "pd.set_option('display.max_colwidth', 2000)\n",
        "pd.set_option('max_colwidth', 2000)\n",
        "pd.options.display.float_format = '{:.3f}'.format"
      ],
      "execution_count": null,
      "outputs": []
    },
    {
      "cell_type": "code",
      "metadata": {
        "id": "XAMu59sitvZ6"
      },
      "source": [
        "Missing_Value = df_Accepted.isnull().sum().sort_values(ascending=False)"
      ],
      "execution_count": null,
      "outputs": []
    },
    {
      "cell_type": "code",
      "metadata": {
        "id": "MbF9DVL4tz16"
      },
      "source": [
        "Missing_Value_PCT = df_Accepted.isnull().mean().sort_values(ascending=False)*100"
      ],
      "execution_count": null,
      "outputs": []
    },
    {
      "cell_type": "code",
      "metadata": {
        "colab": {
          "base_uri": "https://localhost:8080/",
          "height": 1000
        },
        "id": "Q_73N7Wkt9Si",
        "outputId": "d1e1cb3e-bcde-48d7-feef-e1bffed4bcad"
      },
      "source": [
        "Missing_Values_df = pd.DataFrame({\n",
        "    \"Features\" : Missing_Value.index,\n",
        "    \"No.of Missing_Value\" : Missing_Value.values,\n",
        "    \"Percentages of Missing_Value\" : Missing_Value_PCT.values\n",
        "})\n",
        "Missing_Values_df"
      ],
      "execution_count": null,
      "outputs": [
        {
          "output_type": "execute_result",
          "data": {
            "text/html": [
              "<div>\n",
              "<style scoped>\n",
              "    .dataframe tbody tr th:only-of-type {\n",
              "        vertical-align: middle;\n",
              "    }\n",
              "\n",
              "    .dataframe tbody tr th {\n",
              "        vertical-align: top;\n",
              "    }\n",
              "\n",
              "    .dataframe thead th {\n",
              "        text-align: right;\n",
              "    }\n",
              "</style>\n",
              "<table border=\"1\" class=\"dataframe\">\n",
              "  <thead>\n",
              "    <tr style=\"text-align: right;\">\n",
              "      <th></th>\n",
              "      <th>Features</th>\n",
              "      <th>No.of Missing_Value</th>\n",
              "      <th>Percentages of Missing_Value</th>\n",
              "    </tr>\n",
              "  </thead>\n",
              "  <tbody>\n",
              "    <tr>\n",
              "      <th>0</th>\n",
              "      <td>member_id</td>\n",
              "      <td>2260701</td>\n",
              "      <td>100.000</td>\n",
              "    </tr>\n",
              "    <tr>\n",
              "      <th>1</th>\n",
              "      <td>orig_projected_additional_accrued_interest</td>\n",
              "      <td>2252050</td>\n",
              "      <td>99.617</td>\n",
              "    </tr>\n",
              "    <tr>\n",
              "      <th>2</th>\n",
              "      <td>hardship_loan_status</td>\n",
              "      <td>2249784</td>\n",
              "      <td>99.517</td>\n",
              "    </tr>\n",
              "    <tr>\n",
              "      <th>3</th>\n",
              "      <td>hardship_dpd</td>\n",
              "      <td>2249784</td>\n",
              "      <td>99.517</td>\n",
              "    </tr>\n",
              "    <tr>\n",
              "      <th>4</th>\n",
              "      <td>hardship_reason</td>\n",
              "      <td>2249784</td>\n",
              "      <td>99.517</td>\n",
              "    </tr>\n",
              "    <tr>\n",
              "      <th>5</th>\n",
              "      <td>hardship_status</td>\n",
              "      <td>2249784</td>\n",
              "      <td>99.517</td>\n",
              "    </tr>\n",
              "    <tr>\n",
              "      <th>6</th>\n",
              "      <td>deferral_term</td>\n",
              "      <td>2249784</td>\n",
              "      <td>99.517</td>\n",
              "    </tr>\n",
              "    <tr>\n",
              "      <th>7</th>\n",
              "      <td>hardship_amount</td>\n",
              "      <td>2249784</td>\n",
              "      <td>99.517</td>\n",
              "    </tr>\n",
              "    <tr>\n",
              "      <th>8</th>\n",
              "      <td>hardship_start_date</td>\n",
              "      <td>2249784</td>\n",
              "      <td>99.517</td>\n",
              "    </tr>\n",
              "    <tr>\n",
              "      <th>9</th>\n",
              "      <td>hardship_end_date</td>\n",
              "      <td>2249784</td>\n",
              "      <td>99.517</td>\n",
              "    </tr>\n",
              "    <tr>\n",
              "      <th>10</th>\n",
              "      <td>payment_plan_start_date</td>\n",
              "      <td>2249784</td>\n",
              "      <td>99.517</td>\n",
              "    </tr>\n",
              "    <tr>\n",
              "      <th>11</th>\n",
              "      <td>hardship_length</td>\n",
              "      <td>2249784</td>\n",
              "      <td>99.517</td>\n",
              "    </tr>\n",
              "    <tr>\n",
              "      <th>12</th>\n",
              "      <td>hardship_type</td>\n",
              "      <td>2249784</td>\n",
              "      <td>99.517</td>\n",
              "    </tr>\n",
              "    <tr>\n",
              "      <th>13</th>\n",
              "      <td>hardship_payoff_balance_amount</td>\n",
              "      <td>2249784</td>\n",
              "      <td>99.517</td>\n",
              "    </tr>\n",
              "    <tr>\n",
              "      <th>14</th>\n",
              "      <td>hardship_last_payment_amount</td>\n",
              "      <td>2249784</td>\n",
              "      <td>99.517</td>\n",
              "    </tr>\n",
              "    <tr>\n",
              "      <th>15</th>\n",
              "      <td>settlement_percentage</td>\n",
              "      <td>2226455</td>\n",
              "      <td>98.485</td>\n",
              "    </tr>\n",
              "    <tr>\n",
              "      <th>16</th>\n",
              "      <td>debt_settlement_flag_date</td>\n",
              "      <td>2226455</td>\n",
              "      <td>98.485</td>\n",
              "    </tr>\n",
              "    <tr>\n",
              "      <th>17</th>\n",
              "      <td>settlement_status</td>\n",
              "      <td>2226455</td>\n",
              "      <td>98.485</td>\n",
              "    </tr>\n",
              "    <tr>\n",
              "      <th>18</th>\n",
              "      <td>settlement_date</td>\n",
              "      <td>2226455</td>\n",
              "      <td>98.485</td>\n",
              "    </tr>\n",
              "    <tr>\n",
              "      <th>19</th>\n",
              "      <td>settlement_amount</td>\n",
              "      <td>2226455</td>\n",
              "      <td>98.485</td>\n",
              "    </tr>\n",
              "    <tr>\n",
              "      <th>20</th>\n",
              "      <td>settlement_term</td>\n",
              "      <td>2226455</td>\n",
              "      <td>98.485</td>\n",
              "    </tr>\n",
              "    <tr>\n",
              "      <th>21</th>\n",
              "      <td>sec_app_mths_since_last_major_derog</td>\n",
              "      <td>2224759</td>\n",
              "      <td>98.410</td>\n",
              "    </tr>\n",
              "    <tr>\n",
              "      <th>22</th>\n",
              "      <td>sec_app_revol_util</td>\n",
              "      <td>2154517</td>\n",
              "      <td>95.303</td>\n",
              "    </tr>\n",
              "    <tr>\n",
              "      <th>23</th>\n",
              "      <td>revol_bal_joint</td>\n",
              "      <td>2152681</td>\n",
              "      <td>95.222</td>\n",
              "    </tr>\n",
              "    <tr>\n",
              "      <th>24</th>\n",
              "      <td>sec_app_chargeoff_within_12_mths</td>\n",
              "      <td>2152680</td>\n",
              "      <td>95.222</td>\n",
              "    </tr>\n",
              "    <tr>\n",
              "      <th>25</th>\n",
              "      <td>sec_app_num_rev_accts</td>\n",
              "      <td>2152680</td>\n",
              "      <td>95.222</td>\n",
              "    </tr>\n",
              "    <tr>\n",
              "      <th>26</th>\n",
              "      <td>sec_app_open_act_il</td>\n",
              "      <td>2152680</td>\n",
              "      <td>95.222</td>\n",
              "    </tr>\n",
              "    <tr>\n",
              "      <th>27</th>\n",
              "      <td>sec_app_open_acc</td>\n",
              "      <td>2152680</td>\n",
              "      <td>95.222</td>\n",
              "    </tr>\n",
              "    <tr>\n",
              "      <th>28</th>\n",
              "      <td>sec_app_mort_acc</td>\n",
              "      <td>2152680</td>\n",
              "      <td>95.222</td>\n",
              "    </tr>\n",
              "    <tr>\n",
              "      <th>29</th>\n",
              "      <td>sec_app_inq_last_6mths</td>\n",
              "      <td>2152680</td>\n",
              "      <td>95.222</td>\n",
              "    </tr>\n",
              "    <tr>\n",
              "      <th>30</th>\n",
              "      <td>sec_app_earliest_cr_line</td>\n",
              "      <td>2152680</td>\n",
              "      <td>95.222</td>\n",
              "    </tr>\n",
              "    <tr>\n",
              "      <th>31</th>\n",
              "      <td>sec_app_fico_range_high</td>\n",
              "      <td>2152680</td>\n",
              "      <td>95.222</td>\n",
              "    </tr>\n",
              "    <tr>\n",
              "      <th>32</th>\n",
              "      <td>sec_app_fico_range_low</td>\n",
              "      <td>2152680</td>\n",
              "      <td>95.222</td>\n",
              "    </tr>\n",
              "    <tr>\n",
              "      <th>33</th>\n",
              "      <td>sec_app_collections_12_mths_ex_med</td>\n",
              "      <td>2152680</td>\n",
              "      <td>95.222</td>\n",
              "    </tr>\n",
              "    <tr>\n",
              "      <th>34</th>\n",
              "      <td>verification_status_joint</td>\n",
              "      <td>2144971</td>\n",
              "      <td>94.881</td>\n",
              "    </tr>\n",
              "    <tr>\n",
              "      <th>35</th>\n",
              "      <td>dti_joint</td>\n",
              "      <td>2139995</td>\n",
              "      <td>94.661</td>\n",
              "    </tr>\n",
              "    <tr>\n",
              "      <th>36</th>\n",
              "      <td>annual_inc_joint</td>\n",
              "      <td>2139991</td>\n",
              "      <td>94.661</td>\n",
              "    </tr>\n",
              "    <tr>\n",
              "      <th>37</th>\n",
              "      <td>desc</td>\n",
              "      <td>2134634</td>\n",
              "      <td>94.424</td>\n",
              "    </tr>\n",
              "    <tr>\n",
              "      <th>38</th>\n",
              "      <td>mths_since_last_record</td>\n",
              "      <td>1901545</td>\n",
              "      <td>84.113</td>\n",
              "    </tr>\n",
              "    <tr>\n",
              "      <th>39</th>\n",
              "      <td>mths_since_recent_bc_dlq</td>\n",
              "      <td>1741000</td>\n",
              "      <td>77.012</td>\n",
              "    </tr>\n",
              "    <tr>\n",
              "      <th>40</th>\n",
              "      <td>mths_since_last_major_derog</td>\n",
              "      <td>1679926</td>\n",
              "      <td>74.310</td>\n",
              "    </tr>\n",
              "    <tr>\n",
              "      <th>41</th>\n",
              "      <td>mths_since_recent_revol_delinq</td>\n",
              "      <td>1520342</td>\n",
              "      <td>67.251</td>\n",
              "    </tr>\n",
              "    <tr>\n",
              "      <th>42</th>\n",
              "      <td>next_pymnt_d</td>\n",
              "      <td>1345343</td>\n",
              "      <td>59.510</td>\n",
              "    </tr>\n",
              "    <tr>\n",
              "      <th>43</th>\n",
              "      <td>mths_since_last_delinq</td>\n",
              "      <td>1158535</td>\n",
              "      <td>51.247</td>\n",
              "    </tr>\n",
              "    <tr>\n",
              "      <th>44</th>\n",
              "      <td>il_util</td>\n",
              "      <td>1068883</td>\n",
              "      <td>47.281</td>\n",
              "    </tr>\n",
              "    <tr>\n",
              "      <th>45</th>\n",
              "      <td>mths_since_rcnt_il</td>\n",
              "      <td>909957</td>\n",
              "      <td>40.251</td>\n",
              "    </tr>\n",
              "    <tr>\n",
              "      <th>46</th>\n",
              "      <td>all_util</td>\n",
              "      <td>866381</td>\n",
              "      <td>38.324</td>\n",
              "    </tr>\n",
              "    <tr>\n",
              "      <th>47</th>\n",
              "      <td>open_acc_6m</td>\n",
              "      <td>866163</td>\n",
              "      <td>38.314</td>\n",
              "    </tr>\n",
              "    <tr>\n",
              "      <th>48</th>\n",
              "      <td>total_cu_tl</td>\n",
              "      <td>866163</td>\n",
              "      <td>38.314</td>\n",
              "    </tr>\n",
              "    <tr>\n",
              "      <th>49</th>\n",
              "      <td>inq_last_12m</td>\n",
              "      <td>866163</td>\n",
              "      <td>38.314</td>\n",
              "    </tr>\n",
              "    <tr>\n",
              "      <th>50</th>\n",
              "      <td>open_il_12m</td>\n",
              "      <td>866162</td>\n",
              "      <td>38.314</td>\n",
              "    </tr>\n",
              "    <tr>\n",
              "      <th>51</th>\n",
              "      <td>open_il_24m</td>\n",
              "      <td>866162</td>\n",
              "      <td>38.314</td>\n",
              "    </tr>\n",
              "    <tr>\n",
              "      <th>52</th>\n",
              "      <td>total_bal_il</td>\n",
              "      <td>866162</td>\n",
              "      <td>38.314</td>\n",
              "    </tr>\n",
              "    <tr>\n",
              "      <th>53</th>\n",
              "      <td>open_act_il</td>\n",
              "      <td>866162</td>\n",
              "      <td>38.314</td>\n",
              "    </tr>\n",
              "    <tr>\n",
              "      <th>54</th>\n",
              "      <td>open_rv_12m</td>\n",
              "      <td>866162</td>\n",
              "      <td>38.314</td>\n",
              "    </tr>\n",
              "    <tr>\n",
              "      <th>55</th>\n",
              "      <td>open_rv_24m</td>\n",
              "      <td>866162</td>\n",
              "      <td>38.314</td>\n",
              "    </tr>\n",
              "    <tr>\n",
              "      <th>56</th>\n",
              "      <td>max_bal_bc</td>\n",
              "      <td>866162</td>\n",
              "      <td>38.314</td>\n",
              "    </tr>\n",
              "    <tr>\n",
              "      <th>57</th>\n",
              "      <td>inq_fi</td>\n",
              "      <td>866162</td>\n",
              "      <td>38.314</td>\n",
              "    </tr>\n",
              "    <tr>\n",
              "      <th>58</th>\n",
              "      <td>mths_since_recent_inq</td>\n",
              "      <td>295468</td>\n",
              "      <td>13.070</td>\n",
              "    </tr>\n",
              "    <tr>\n",
              "      <th>59</th>\n",
              "      <td>emp_title</td>\n",
              "      <td>167002</td>\n",
              "      <td>7.387</td>\n",
              "    </tr>\n",
              "    <tr>\n",
              "      <th>60</th>\n",
              "      <td>num_tl_120dpd_2m</td>\n",
              "      <td>153690</td>\n",
              "      <td>6.798</td>\n",
              "    </tr>\n",
              "    <tr>\n",
              "      <th>61</th>\n",
              "      <td>emp_length</td>\n",
              "      <td>146940</td>\n",
              "      <td>6.500</td>\n",
              "    </tr>\n",
              "    <tr>\n",
              "      <th>62</th>\n",
              "      <td>mo_sin_old_il_acct</td>\n",
              "      <td>139104</td>\n",
              "      <td>6.153</td>\n",
              "    </tr>\n",
              "    <tr>\n",
              "      <th>63</th>\n",
              "      <td>bc_util</td>\n",
              "      <td>76104</td>\n",
              "      <td>3.366</td>\n",
              "    </tr>\n",
              "    <tr>\n",
              "      <th>64</th>\n",
              "      <td>percent_bc_gt_75</td>\n",
              "      <td>75412</td>\n",
              "      <td>3.336</td>\n",
              "    </tr>\n",
              "    <tr>\n",
              "      <th>65</th>\n",
              "      <td>bc_open_to_buy</td>\n",
              "      <td>74968</td>\n",
              "      <td>3.316</td>\n",
              "    </tr>\n",
              "    <tr>\n",
              "      <th>66</th>\n",
              "      <td>mths_since_recent_bc</td>\n",
              "      <td>73445</td>\n",
              "      <td>3.249</td>\n",
              "    </tr>\n",
              "    <tr>\n",
              "      <th>67</th>\n",
              "      <td>pct_tl_nvr_dlq</td>\n",
              "      <td>70464</td>\n",
              "      <td>3.117</td>\n",
              "    </tr>\n",
              "    <tr>\n",
              "      <th>68</th>\n",
              "      <td>avg_cur_bal</td>\n",
              "      <td>70379</td>\n",
              "      <td>3.113</td>\n",
              "    </tr>\n",
              "    <tr>\n",
              "      <th>69</th>\n",
              "      <td>mo_sin_rcnt_rev_tl_op</td>\n",
              "      <td>70310</td>\n",
              "      <td>3.110</td>\n",
              "    </tr>\n",
              "    <tr>\n",
              "      <th>70</th>\n",
              "      <td>mo_sin_old_rev_tl_op</td>\n",
              "      <td>70310</td>\n",
              "      <td>3.110</td>\n",
              "    </tr>\n",
              "    <tr>\n",
              "      <th>71</th>\n",
              "      <td>num_rev_accts</td>\n",
              "      <td>70310</td>\n",
              "      <td>3.110</td>\n",
              "    </tr>\n",
              "    <tr>\n",
              "      <th>72</th>\n",
              "      <td>num_tl_90g_dpd_24m</td>\n",
              "      <td>70309</td>\n",
              "      <td>3.110</td>\n",
              "    </tr>\n",
              "    <tr>\n",
              "      <th>73</th>\n",
              "      <td>num_tl_30dpd</td>\n",
              "      <td>70309</td>\n",
              "      <td>3.110</td>\n",
              "    </tr>\n",
              "    <tr>\n",
              "      <th>74</th>\n",
              "      <td>num_accts_ever_120_pd</td>\n",
              "      <td>70309</td>\n",
              "      <td>3.110</td>\n",
              "    </tr>\n",
              "    <tr>\n",
              "      <th>75</th>\n",
              "      <td>num_tl_op_past_12m</td>\n",
              "      <td>70309</td>\n",
              "      <td>3.110</td>\n",
              "    </tr>\n",
              "    <tr>\n",
              "      <th>76</th>\n",
              "      <td>tot_cur_bal</td>\n",
              "      <td>70309</td>\n",
              "      <td>3.110</td>\n",
              "    </tr>\n",
              "    <tr>\n",
              "      <th>77</th>\n",
              "      <td>tot_coll_amt</td>\n",
              "      <td>70309</td>\n",
              "      <td>3.110</td>\n",
              "    </tr>\n",
              "    <tr>\n",
              "      <th>78</th>\n",
              "      <td>num_rev_tl_bal_gt_0</td>\n",
              "      <td>70309</td>\n",
              "      <td>3.110</td>\n",
              "    </tr>\n",
              "    <tr>\n",
              "      <th>79</th>\n",
              "      <td>total_rev_hi_lim</td>\n",
              "      <td>70309</td>\n",
              "      <td>3.110</td>\n",
              "    </tr>\n",
              "    <tr>\n",
              "      <th>80</th>\n",
              "      <td>num_op_rev_tl</td>\n",
              "      <td>70309</td>\n",
              "      <td>3.110</td>\n",
              "    </tr>\n",
              "    <tr>\n",
              "      <th>81</th>\n",
              "      <td>num_il_tl</td>\n",
              "      <td>70309</td>\n",
              "      <td>3.110</td>\n",
              "    </tr>\n",
              "    <tr>\n",
              "      <th>82</th>\n",
              "      <td>num_bc_tl</td>\n",
              "      <td>70309</td>\n",
              "      <td>3.110</td>\n",
              "    </tr>\n",
              "    <tr>\n",
              "      <th>83</th>\n",
              "      <td>num_actv_rev_tl</td>\n",
              "      <td>70309</td>\n",
              "      <td>3.110</td>\n",
              "    </tr>\n",
              "    <tr>\n",
              "      <th>84</th>\n",
              "      <td>total_il_high_credit_limit</td>\n",
              "      <td>70309</td>\n",
              "      <td>3.110</td>\n",
              "    </tr>\n",
              "    <tr>\n",
              "      <th>85</th>\n",
              "      <td>mo_sin_rcnt_tl</td>\n",
              "      <td>70309</td>\n",
              "      <td>3.110</td>\n",
              "    </tr>\n",
              "    <tr>\n",
              "      <th>86</th>\n",
              "      <td>num_actv_bc_tl</td>\n",
              "      <td>70309</td>\n",
              "      <td>3.110</td>\n",
              "    </tr>\n",
              "    <tr>\n",
              "      <th>87</th>\n",
              "      <td>tot_hi_cred_lim</td>\n",
              "      <td>70309</td>\n",
              "      <td>3.110</td>\n",
              "    </tr>\n",
              "    <tr>\n",
              "      <th>88</th>\n",
              "      <td>num_sats</td>\n",
              "      <td>58623</td>\n",
              "      <td>2.593</td>\n",
              "    </tr>\n",
              "    <tr>\n",
              "      <th>89</th>\n",
              "      <td>num_bc_sats</td>\n",
              "      <td>58623</td>\n",
              "      <td>2.593</td>\n",
              "    </tr>\n",
              "    <tr>\n",
              "      <th>90</th>\n",
              "      <td>total_bal_ex_mort</td>\n",
              "      <td>50063</td>\n",
              "      <td>2.214</td>\n",
              "    </tr>\n",
              "    <tr>\n",
              "      <th>91</th>\n",
              "      <td>acc_open_past_24mths</td>\n",
              "      <td>50063</td>\n",
              "      <td>2.214</td>\n",
              "    </tr>\n",
              "    <tr>\n",
              "      <th>92</th>\n",
              "      <td>mort_acc</td>\n",
              "      <td>50063</td>\n",
              "      <td>2.214</td>\n",
              "    </tr>\n",
              "    <tr>\n",
              "      <th>93</th>\n",
              "      <td>total_bc_limit</td>\n",
              "      <td>50063</td>\n",
              "      <td>2.214</td>\n",
              "    </tr>\n",
              "    <tr>\n",
              "      <th>94</th>\n",
              "      <td>title</td>\n",
              "      <td>23358</td>\n",
              "      <td>1.033</td>\n",
              "    </tr>\n",
              "    <tr>\n",
              "      <th>95</th>\n",
              "      <td>last_pymnt_d</td>\n",
              "      <td>2460</td>\n",
              "      <td>0.109</td>\n",
              "    </tr>\n",
              "    <tr>\n",
              "      <th>96</th>\n",
              "      <td>revol_util</td>\n",
              "      <td>1835</td>\n",
              "      <td>0.081</td>\n",
              "    </tr>\n",
              "    <tr>\n",
              "      <th>97</th>\n",
              "      <td>dti</td>\n",
              "      <td>1744</td>\n",
              "      <td>0.077</td>\n",
              "    </tr>\n",
              "    <tr>\n",
              "      <th>98</th>\n",
              "      <td>pub_rec_bankruptcies</td>\n",
              "      <td>1398</td>\n",
              "      <td>0.062</td>\n",
              "    </tr>\n",
              "    <tr>\n",
              "      <th>99</th>\n",
              "      <td>collections_12_mths_ex_med</td>\n",
              "      <td>178</td>\n",
              "      <td>0.008</td>\n",
              "    </tr>\n",
              "    <tr>\n",
              "      <th>100</th>\n",
              "      <td>chargeoff_within_12_mths</td>\n",
              "      <td>178</td>\n",
              "      <td>0.008</td>\n",
              "    </tr>\n",
              "    <tr>\n",
              "      <th>101</th>\n",
              "      <td>tax_liens</td>\n",
              "      <td>138</td>\n",
              "      <td>0.006</td>\n",
              "    </tr>\n",
              "    <tr>\n",
              "      <th>102</th>\n",
              "      <td>last_credit_pull_d</td>\n",
              "      <td>105</td>\n",
              "      <td>0.005</td>\n",
              "    </tr>\n",
              "    <tr>\n",
              "      <th>103</th>\n",
              "      <td>inq_last_6mths</td>\n",
              "      <td>63</td>\n",
              "      <td>0.003</td>\n",
              "    </tr>\n",
              "    <tr>\n",
              "      <th>104</th>\n",
              "      <td>earliest_cr_line</td>\n",
              "      <td>62</td>\n",
              "      <td>0.003</td>\n",
              "    </tr>\n",
              "    <tr>\n",
              "      <th>105</th>\n",
              "      <td>acc_now_delinq</td>\n",
              "      <td>62</td>\n",
              "      <td>0.003</td>\n",
              "    </tr>\n",
              "    <tr>\n",
              "      <th>106</th>\n",
              "      <td>total_acc</td>\n",
              "      <td>62</td>\n",
              "      <td>0.003</td>\n",
              "    </tr>\n",
              "    <tr>\n",
              "      <th>107</th>\n",
              "      <td>delinq_amnt</td>\n",
              "      <td>62</td>\n",
              "      <td>0.003</td>\n",
              "    </tr>\n",
              "    <tr>\n",
              "      <th>108</th>\n",
              "      <td>open_acc</td>\n",
              "      <td>62</td>\n",
              "      <td>0.003</td>\n",
              "    </tr>\n",
              "    <tr>\n",
              "      <th>109</th>\n",
              "      <td>pub_rec</td>\n",
              "      <td>62</td>\n",
              "      <td>0.003</td>\n",
              "    </tr>\n",
              "    <tr>\n",
              "      <th>110</th>\n",
              "      <td>delinq_2yrs</td>\n",
              "      <td>62</td>\n",
              "      <td>0.003</td>\n",
              "    </tr>\n",
              "    <tr>\n",
              "      <th>111</th>\n",
              "      <td>annual_inc</td>\n",
              "      <td>37</td>\n",
              "      <td>0.002</td>\n",
              "    </tr>\n",
              "    <tr>\n",
              "      <th>112</th>\n",
              "      <td>zip_code</td>\n",
              "      <td>34</td>\n",
              "      <td>0.002</td>\n",
              "    </tr>\n",
              "    <tr>\n",
              "      <th>113</th>\n",
              "      <td>pymnt_plan</td>\n",
              "      <td>33</td>\n",
              "      <td>0.001</td>\n",
              "    </tr>\n",
              "    <tr>\n",
              "      <th>114</th>\n",
              "      <td>url</td>\n",
              "      <td>33</td>\n",
              "      <td>0.001</td>\n",
              "    </tr>\n",
              "    <tr>\n",
              "      <th>115</th>\n",
              "      <td>loan_status</td>\n",
              "      <td>33</td>\n",
              "      <td>0.001</td>\n",
              "    </tr>\n",
              "    <tr>\n",
              "      <th>116</th>\n",
              "      <td>disbursement_method</td>\n",
              "      <td>33</td>\n",
              "      <td>0.001</td>\n",
              "    </tr>\n",
              "    <tr>\n",
              "      <th>117</th>\n",
              "      <td>loan_amnt</td>\n",
              "      <td>33</td>\n",
              "      <td>0.001</td>\n",
              "    </tr>\n",
              "    <tr>\n",
              "      <th>118</th>\n",
              "      <td>issue_d</td>\n",
              "      <td>33</td>\n",
              "      <td>0.001</td>\n",
              "    </tr>\n",
              "    <tr>\n",
              "      <th>119</th>\n",
              "      <td>verification_status</td>\n",
              "      <td>33</td>\n",
              "      <td>0.001</td>\n",
              "    </tr>\n",
              "    <tr>\n",
              "      <th>120</th>\n",
              "      <td>purpose</td>\n",
              "      <td>33</td>\n",
              "      <td>0.001</td>\n",
              "    </tr>\n",
              "    <tr>\n",
              "      <th>121</th>\n",
              "      <td>home_ownership</td>\n",
              "      <td>33</td>\n",
              "      <td>0.001</td>\n",
              "    </tr>\n",
              "    <tr>\n",
              "      <th>122</th>\n",
              "      <td>sub_grade</td>\n",
              "      <td>33</td>\n",
              "      <td>0.001</td>\n",
              "    </tr>\n",
              "    <tr>\n",
              "      <th>123</th>\n",
              "      <td>grade</td>\n",
              "      <td>33</td>\n",
              "      <td>0.001</td>\n",
              "    </tr>\n",
              "    <tr>\n",
              "      <th>124</th>\n",
              "      <td>installment</td>\n",
              "      <td>33</td>\n",
              "      <td>0.001</td>\n",
              "    </tr>\n",
              "    <tr>\n",
              "      <th>125</th>\n",
              "      <td>int_rate</td>\n",
              "      <td>33</td>\n",
              "      <td>0.001</td>\n",
              "    </tr>\n",
              "    <tr>\n",
              "      <th>126</th>\n",
              "      <td>term</td>\n",
              "      <td>33</td>\n",
              "      <td>0.001</td>\n",
              "    </tr>\n",
              "    <tr>\n",
              "      <th>127</th>\n",
              "      <td>funded_amnt_inv</td>\n",
              "      <td>33</td>\n",
              "      <td>0.001</td>\n",
              "    </tr>\n",
              "    <tr>\n",
              "      <th>128</th>\n",
              "      <td>funded_amnt</td>\n",
              "      <td>33</td>\n",
              "      <td>0.001</td>\n",
              "    </tr>\n",
              "    <tr>\n",
              "      <th>129</th>\n",
              "      <td>debt_settlement_flag</td>\n",
              "      <td>33</td>\n",
              "      <td>0.001</td>\n",
              "    </tr>\n",
              "    <tr>\n",
              "      <th>130</th>\n",
              "      <td>collection_recovery_fee</td>\n",
              "      <td>33</td>\n",
              "      <td>0.001</td>\n",
              "    </tr>\n",
              "    <tr>\n",
              "      <th>131</th>\n",
              "      <td>addr_state</td>\n",
              "      <td>33</td>\n",
              "      <td>0.001</td>\n",
              "    </tr>\n",
              "    <tr>\n",
              "      <th>132</th>\n",
              "      <td>fico_range_low</td>\n",
              "      <td>33</td>\n",
              "      <td>0.001</td>\n",
              "    </tr>\n",
              "    <tr>\n",
              "      <th>133</th>\n",
              "      <td>application_type</td>\n",
              "      <td>33</td>\n",
              "      <td>0.001</td>\n",
              "    </tr>\n",
              "    <tr>\n",
              "      <th>134</th>\n",
              "      <td>policy_code</td>\n",
              "      <td>33</td>\n",
              "      <td>0.001</td>\n",
              "    </tr>\n",
              "    <tr>\n",
              "      <th>135</th>\n",
              "      <td>last_fico_range_low</td>\n",
              "      <td>33</td>\n",
              "      <td>0.001</td>\n",
              "    </tr>\n",
              "    <tr>\n",
              "      <th>136</th>\n",
              "      <td>last_fico_range_high</td>\n",
              "      <td>33</td>\n",
              "      <td>0.001</td>\n",
              "    </tr>\n",
              "    <tr>\n",
              "      <th>137</th>\n",
              "      <td>last_pymnt_amnt</td>\n",
              "      <td>33</td>\n",
              "      <td>0.001</td>\n",
              "    </tr>\n",
              "    <tr>\n",
              "      <th>138</th>\n",
              "      <td>recoveries</td>\n",
              "      <td>33</td>\n",
              "      <td>0.001</td>\n",
              "    </tr>\n",
              "    <tr>\n",
              "      <th>139</th>\n",
              "      <td>total_rec_late_fee</td>\n",
              "      <td>33</td>\n",
              "      <td>0.001</td>\n",
              "    </tr>\n",
              "    <tr>\n",
              "      <th>140</th>\n",
              "      <td>total_rec_int</td>\n",
              "      <td>33</td>\n",
              "      <td>0.001</td>\n",
              "    </tr>\n",
              "    <tr>\n",
              "      <th>141</th>\n",
              "      <td>total_rec_prncp</td>\n",
              "      <td>33</td>\n",
              "      <td>0.001</td>\n",
              "    </tr>\n",
              "    <tr>\n",
              "      <th>142</th>\n",
              "      <td>total_pymnt_inv</td>\n",
              "      <td>33</td>\n",
              "      <td>0.001</td>\n",
              "    </tr>\n",
              "    <tr>\n",
              "      <th>143</th>\n",
              "      <td>total_pymnt</td>\n",
              "      <td>33</td>\n",
              "      <td>0.001</td>\n",
              "    </tr>\n",
              "    <tr>\n",
              "      <th>144</th>\n",
              "      <td>out_prncp_inv</td>\n",
              "      <td>33</td>\n",
              "      <td>0.001</td>\n",
              "    </tr>\n",
              "    <tr>\n",
              "      <th>145</th>\n",
              "      <td>out_prncp</td>\n",
              "      <td>33</td>\n",
              "      <td>0.001</td>\n",
              "    </tr>\n",
              "    <tr>\n",
              "      <th>146</th>\n",
              "      <td>initial_list_status</td>\n",
              "      <td>33</td>\n",
              "      <td>0.001</td>\n",
              "    </tr>\n",
              "    <tr>\n",
              "      <th>147</th>\n",
              "      <td>revol_bal</td>\n",
              "      <td>33</td>\n",
              "      <td>0.001</td>\n",
              "    </tr>\n",
              "    <tr>\n",
              "      <th>148</th>\n",
              "      <td>hardship_flag</td>\n",
              "      <td>33</td>\n",
              "      <td>0.001</td>\n",
              "    </tr>\n",
              "    <tr>\n",
              "      <th>149</th>\n",
              "      <td>fico_range_high</td>\n",
              "      <td>33</td>\n",
              "      <td>0.001</td>\n",
              "    </tr>\n",
              "    <tr>\n",
              "      <th>150</th>\n",
              "      <td>id</td>\n",
              "      <td>0</td>\n",
              "      <td>0.000</td>\n",
              "    </tr>\n",
              "  </tbody>\n",
              "</table>\n",
              "</div>"
            ],
            "text/plain": [
              "                                       Features  No.of Missing_Value  \\\n",
              "0                                     member_id              2260701   \n",
              "1    orig_projected_additional_accrued_interest              2252050   \n",
              "2                          hardship_loan_status              2249784   \n",
              "3                                  hardship_dpd              2249784   \n",
              "4                               hardship_reason              2249784   \n",
              "5                               hardship_status              2249784   \n",
              "6                                 deferral_term              2249784   \n",
              "7                               hardship_amount              2249784   \n",
              "8                           hardship_start_date              2249784   \n",
              "9                             hardship_end_date              2249784   \n",
              "10                      payment_plan_start_date              2249784   \n",
              "11                              hardship_length              2249784   \n",
              "12                                hardship_type              2249784   \n",
              "13               hardship_payoff_balance_amount              2249784   \n",
              "14                 hardship_last_payment_amount              2249784   \n",
              "15                        settlement_percentage              2226455   \n",
              "16                    debt_settlement_flag_date              2226455   \n",
              "17                            settlement_status              2226455   \n",
              "18                              settlement_date              2226455   \n",
              "19                            settlement_amount              2226455   \n",
              "20                              settlement_term              2226455   \n",
              "21          sec_app_mths_since_last_major_derog              2224759   \n",
              "22                           sec_app_revol_util              2154517   \n",
              "23                              revol_bal_joint              2152681   \n",
              "24             sec_app_chargeoff_within_12_mths              2152680   \n",
              "25                        sec_app_num_rev_accts              2152680   \n",
              "26                          sec_app_open_act_il              2152680   \n",
              "27                             sec_app_open_acc              2152680   \n",
              "28                             sec_app_mort_acc              2152680   \n",
              "29                       sec_app_inq_last_6mths              2152680   \n",
              "30                     sec_app_earliest_cr_line              2152680   \n",
              "31                      sec_app_fico_range_high              2152680   \n",
              "32                       sec_app_fico_range_low              2152680   \n",
              "33           sec_app_collections_12_mths_ex_med              2152680   \n",
              "34                    verification_status_joint              2144971   \n",
              "35                                    dti_joint              2139995   \n",
              "36                             annual_inc_joint              2139991   \n",
              "37                                         desc              2134634   \n",
              "38                       mths_since_last_record              1901545   \n",
              "39                     mths_since_recent_bc_dlq              1741000   \n",
              "40                  mths_since_last_major_derog              1679926   \n",
              "41               mths_since_recent_revol_delinq              1520342   \n",
              "42                                 next_pymnt_d              1345343   \n",
              "43                       mths_since_last_delinq              1158535   \n",
              "44                                      il_util              1068883   \n",
              "45                           mths_since_rcnt_il               909957   \n",
              "46                                     all_util               866381   \n",
              "47                                  open_acc_6m               866163   \n",
              "48                                  total_cu_tl               866163   \n",
              "49                                 inq_last_12m               866163   \n",
              "50                                  open_il_12m               866162   \n",
              "51                                  open_il_24m               866162   \n",
              "52                                 total_bal_il               866162   \n",
              "53                                  open_act_il               866162   \n",
              "54                                  open_rv_12m               866162   \n",
              "55                                  open_rv_24m               866162   \n",
              "56                                   max_bal_bc               866162   \n",
              "57                                       inq_fi               866162   \n",
              "58                        mths_since_recent_inq               295468   \n",
              "59                                    emp_title               167002   \n",
              "60                             num_tl_120dpd_2m               153690   \n",
              "61                                   emp_length               146940   \n",
              "62                           mo_sin_old_il_acct               139104   \n",
              "63                                      bc_util                76104   \n",
              "64                             percent_bc_gt_75                75412   \n",
              "65                               bc_open_to_buy                74968   \n",
              "66                         mths_since_recent_bc                73445   \n",
              "67                               pct_tl_nvr_dlq                70464   \n",
              "68                                  avg_cur_bal                70379   \n",
              "69                        mo_sin_rcnt_rev_tl_op                70310   \n",
              "70                         mo_sin_old_rev_tl_op                70310   \n",
              "71                                num_rev_accts                70310   \n",
              "72                           num_tl_90g_dpd_24m                70309   \n",
              "73                                 num_tl_30dpd                70309   \n",
              "74                        num_accts_ever_120_pd                70309   \n",
              "75                           num_tl_op_past_12m                70309   \n",
              "76                                  tot_cur_bal                70309   \n",
              "77                                 tot_coll_amt                70309   \n",
              "78                          num_rev_tl_bal_gt_0                70309   \n",
              "79                             total_rev_hi_lim                70309   \n",
              "80                                num_op_rev_tl                70309   \n",
              "81                                    num_il_tl                70309   \n",
              "82                                    num_bc_tl                70309   \n",
              "83                              num_actv_rev_tl                70309   \n",
              "84                   total_il_high_credit_limit                70309   \n",
              "85                               mo_sin_rcnt_tl                70309   \n",
              "86                               num_actv_bc_tl                70309   \n",
              "87                              tot_hi_cred_lim                70309   \n",
              "88                                     num_sats                58623   \n",
              "89                                  num_bc_sats                58623   \n",
              "90                            total_bal_ex_mort                50063   \n",
              "91                         acc_open_past_24mths                50063   \n",
              "92                                     mort_acc                50063   \n",
              "93                               total_bc_limit                50063   \n",
              "94                                        title                23358   \n",
              "95                                 last_pymnt_d                 2460   \n",
              "96                                   revol_util                 1835   \n",
              "97                                          dti                 1744   \n",
              "98                         pub_rec_bankruptcies                 1398   \n",
              "99                   collections_12_mths_ex_med                  178   \n",
              "100                    chargeoff_within_12_mths                  178   \n",
              "101                                   tax_liens                  138   \n",
              "102                          last_credit_pull_d                  105   \n",
              "103                              inq_last_6mths                   63   \n",
              "104                            earliest_cr_line                   62   \n",
              "105                              acc_now_delinq                   62   \n",
              "106                                   total_acc                   62   \n",
              "107                                 delinq_amnt                   62   \n",
              "108                                    open_acc                   62   \n",
              "109                                     pub_rec                   62   \n",
              "110                                 delinq_2yrs                   62   \n",
              "111                                  annual_inc                   37   \n",
              "112                                    zip_code                   34   \n",
              "113                                  pymnt_plan                   33   \n",
              "114                                         url                   33   \n",
              "115                                 loan_status                   33   \n",
              "116                         disbursement_method                   33   \n",
              "117                                   loan_amnt                   33   \n",
              "118                                     issue_d                   33   \n",
              "119                         verification_status                   33   \n",
              "120                                     purpose                   33   \n",
              "121                              home_ownership                   33   \n",
              "122                                   sub_grade                   33   \n",
              "123                                       grade                   33   \n",
              "124                                 installment                   33   \n",
              "125                                    int_rate                   33   \n",
              "126                                        term                   33   \n",
              "127                             funded_amnt_inv                   33   \n",
              "128                                 funded_amnt                   33   \n",
              "129                        debt_settlement_flag                   33   \n",
              "130                     collection_recovery_fee                   33   \n",
              "131                                  addr_state                   33   \n",
              "132                              fico_range_low                   33   \n",
              "133                            application_type                   33   \n",
              "134                                 policy_code                   33   \n",
              "135                         last_fico_range_low                   33   \n",
              "136                        last_fico_range_high                   33   \n",
              "137                             last_pymnt_amnt                   33   \n",
              "138                                  recoveries                   33   \n",
              "139                          total_rec_late_fee                   33   \n",
              "140                               total_rec_int                   33   \n",
              "141                             total_rec_prncp                   33   \n",
              "142                             total_pymnt_inv                   33   \n",
              "143                                 total_pymnt                   33   \n",
              "144                               out_prncp_inv                   33   \n",
              "145                                   out_prncp                   33   \n",
              "146                         initial_list_status                   33   \n",
              "147                                   revol_bal                   33   \n",
              "148                               hardship_flag                   33   \n",
              "149                             fico_range_high                   33   \n",
              "150                                          id                    0   \n",
              "\n",
              "     Percentages of Missing_Value  \n",
              "0                         100.000  \n",
              "1                          99.617  \n",
              "2                          99.517  \n",
              "3                          99.517  \n",
              "4                          99.517  \n",
              "5                          99.517  \n",
              "6                          99.517  \n",
              "7                          99.517  \n",
              "8                          99.517  \n",
              "9                          99.517  \n",
              "10                         99.517  \n",
              "11                         99.517  \n",
              "12                         99.517  \n",
              "13                         99.517  \n",
              "14                         99.517  \n",
              "15                         98.485  \n",
              "16                         98.485  \n",
              "17                         98.485  \n",
              "18                         98.485  \n",
              "19                         98.485  \n",
              "20                         98.485  \n",
              "21                         98.410  \n",
              "22                         95.303  \n",
              "23                         95.222  \n",
              "24                         95.222  \n",
              "25                         95.222  \n",
              "26                         95.222  \n",
              "27                         95.222  \n",
              "28                         95.222  \n",
              "29                         95.222  \n",
              "30                         95.222  \n",
              "31                         95.222  \n",
              "32                         95.222  \n",
              "33                         95.222  \n",
              "34                         94.881  \n",
              "35                         94.661  \n",
              "36                         94.661  \n",
              "37                         94.424  \n",
              "38                         84.113  \n",
              "39                         77.012  \n",
              "40                         74.310  \n",
              "41                         67.251  \n",
              "42                         59.510  \n",
              "43                         51.247  \n",
              "44                         47.281  \n",
              "45                         40.251  \n",
              "46                         38.324  \n",
              "47                         38.314  \n",
              "48                         38.314  \n",
              "49                         38.314  \n",
              "50                         38.314  \n",
              "51                         38.314  \n",
              "52                         38.314  \n",
              "53                         38.314  \n",
              "54                         38.314  \n",
              "55                         38.314  \n",
              "56                         38.314  \n",
              "57                         38.314  \n",
              "58                         13.070  \n",
              "59                          7.387  \n",
              "60                          6.798  \n",
              "61                          6.500  \n",
              "62                          6.153  \n",
              "63                          3.366  \n",
              "64                          3.336  \n",
              "65                          3.316  \n",
              "66                          3.249  \n",
              "67                          3.117  \n",
              "68                          3.113  \n",
              "69                          3.110  \n",
              "70                          3.110  \n",
              "71                          3.110  \n",
              "72                          3.110  \n",
              "73                          3.110  \n",
              "74                          3.110  \n",
              "75                          3.110  \n",
              "76                          3.110  \n",
              "77                          3.110  \n",
              "78                          3.110  \n",
              "79                          3.110  \n",
              "80                          3.110  \n",
              "81                          3.110  \n",
              "82                          3.110  \n",
              "83                          3.110  \n",
              "84                          3.110  \n",
              "85                          3.110  \n",
              "86                          3.110  \n",
              "87                          3.110  \n",
              "88                          2.593  \n",
              "89                          2.593  \n",
              "90                          2.214  \n",
              "91                          2.214  \n",
              "92                          2.214  \n",
              "93                          2.214  \n",
              "94                          1.033  \n",
              "95                          0.109  \n",
              "96                          0.081  \n",
              "97                          0.077  \n",
              "98                          0.062  \n",
              "99                          0.008  \n",
              "100                         0.008  \n",
              "101                         0.006  \n",
              "102                         0.005  \n",
              "103                         0.003  \n",
              "104                         0.003  \n",
              "105                         0.003  \n",
              "106                         0.003  \n",
              "107                         0.003  \n",
              "108                         0.003  \n",
              "109                         0.003  \n",
              "110                         0.003  \n",
              "111                         0.002  \n",
              "112                         0.002  \n",
              "113                         0.001  \n",
              "114                         0.001  \n",
              "115                         0.001  \n",
              "116                         0.001  \n",
              "117                         0.001  \n",
              "118                         0.001  \n",
              "119                         0.001  \n",
              "120                         0.001  \n",
              "121                         0.001  \n",
              "122                         0.001  \n",
              "123                         0.001  \n",
              "124                         0.001  \n",
              "125                         0.001  \n",
              "126                         0.001  \n",
              "127                         0.001  \n",
              "128                         0.001  \n",
              "129                         0.001  \n",
              "130                         0.001  \n",
              "131                         0.001  \n",
              "132                         0.001  \n",
              "133                         0.001  \n",
              "134                         0.001  \n",
              "135                         0.001  \n",
              "136                         0.001  \n",
              "137                         0.001  \n",
              "138                         0.001  \n",
              "139                         0.001  \n",
              "140                         0.001  \n",
              "141                         0.001  \n",
              "142                         0.001  \n",
              "143                         0.001  \n",
              "144                         0.001  \n",
              "145                         0.001  \n",
              "146                         0.001  \n",
              "147                         0.001  \n",
              "148                         0.001  \n",
              "149                         0.001  \n",
              "150                         0.000  "
            ]
          },
          "metadata": {
            "tags": []
          },
          "execution_count": 16
        }
      ]
    },
    {
      "cell_type": "markdown",
      "metadata": {
        "id": "qhDSLS0TuDvf"
      },
      "source": [
        "Since our dataset contains 2.2M records, its good to drop features which contains more than 25% of missing values.. May some features have valid numerical data, maybe we can think of imputing some mean or median with those missing, but due to large portion of missing(aprox 565175) it'll affect the accuracy of the prediction\n",
        "\n",
        "So i am deciding to drop those features with more than 25% Missing values"
      ]
    },
    {
      "cell_type": "code",
      "metadata": {
        "colab": {
          "base_uri": "https://localhost:8080/"
        },
        "id": "CNg26EXUuHN-",
        "outputId": "db43767d-1d2e-40f2-ebeb-c5f664d4d702"
      },
      "source": [
        "Missing_Val_List = list(Missing_Values_df[\"Features\"][Missing_Values_df[\"Percentages of Missing_Value\"]>25])\n",
        "len(Missing_Val_List)"
      ],
      "execution_count": null,
      "outputs": [
        {
          "output_type": "execute_result",
          "data": {
            "text/plain": [
              "58"
            ]
          },
          "metadata": {
            "tags": []
          },
          "execution_count": 17
        }
      ]
    },
    {
      "cell_type": "code",
      "metadata": {
        "colab": {
          "base_uri": "https://localhost:8080/"
        },
        "id": "qPei93xwuHQs",
        "outputId": "93e62293-f633-4a4e-a973-92d74d19e8e8"
      },
      "source": [
        "df_Accepted.shape"
      ],
      "execution_count": null,
      "outputs": [
        {
          "output_type": "execute_result",
          "data": {
            "text/plain": [
              "(2260701, 151)"
            ]
          },
          "metadata": {
            "tags": []
          },
          "execution_count": 18
        }
      ]
    },
    {
      "cell_type": "markdown",
      "metadata": {
        "id": "BcR4sUD4uNnY"
      },
      "source": [
        "LETS REMOVE SOME UNWANTED COLUMNS WHICH WILL NOT SUPPORT IN OUR ANALYSIS¶"
      ]
    },
    {
      "cell_type": "code",
      "metadata": {
        "id": "VZdQ9JueuLaY"
      },
      "source": [
        "Col_present = list(df_Accepted.columns)\n"
      ],
      "execution_count": null,
      "outputs": []
    },
    {
      "cell_type": "code",
      "metadata": {
        "id": "7I8jcSRTuaW3"
      },
      "source": [
        "Important_Features = [\"loan_amnt\", \"term\",\"int_rate\",\"installment\",\"grade\",\"sub_grade\",\"emp_title\",\"emp_length\",\"home_ownership\",\"annual_inc\",\n",
        "                      \"loan_status\",\"purpose\",\"dti\", \"zip_code\", \"addr_state\",\"fico_range_low\",\"fico_range_high\", 'delinq_amnt',\"pub_rec\",\"application_type\"]\n",
        "\n",
        "Features_Need_to_be_Dropped = []   #Let's get the unwanted feature list to drop\n",
        "for i in Col_present:\n",
        "  if i in Important_Features:\n",
        "    pass\n",
        "  else:\n",
        "    Features_Need_to_be_Dropped.append(i)\n",
        "\n",
        "# print(Features_Need_to_be_Dropped)"
      ],
      "execution_count": null,
      "outputs": []
    },
    {
      "cell_type": "code",
      "metadata": {
        "id": "b-keWD4Nufbh"
      },
      "source": [
        "Important_Features = [\"loan_amnt\", \"term\",\"int_rate\",\"installment\",\"grade\",\"sub_grade\",\"emp_title\",\"emp_length\",\"home_ownership\",\"annual_inc\",\n",
        "                      \"loan_status\",\"purpose\",\"dti\", \"zip_code\", \"addr_state\",\"fico_range_low\",\"fico_range_high\",\"pub_rec\",\"application_type\"]\n",
        "\n",
        "Features_Need_to_be_Dropped = ['id', 'funded_amnt', 'funded_amnt_inv', 'verification_status', 'issue_d', 'pymnt_plan', 'url', 'title', 'delinq_2yrs','earliest_cr_line', 'inq_last_6mths',\n",
        " 'open_acc', 'revol_bal', 'revol_util', 'total_acc', 'initial_list_status', 'out_prncp', 'out_prncp_inv', 'total_pymnt', 'total_pymnt_inv', 'total_rec_prncp',\n",
        " 'total_rec_int', 'total_rec_late_fee', 'recoveries', 'collection_recovery_fee', 'last_pymnt_d', 'last_pymnt_amnt', 'last_credit_pull_d', 'last_fico_range_high',\n",
        " 'last_fico_range_low', 'collections_12_mths_ex_med', 'policy_code', 'acc_now_delinq', 'tot_coll_amt', 'tot_cur_bal', 'total_rev_hi_lim', 'acc_open_past_24mths',\n",
        " 'avg_cur_bal', 'bc_open_to_buy', 'bc_util', 'chargeoff_within_12_mths', 'mo_sin_old_il_acct', 'mo_sin_old_rev_tl_op', 'mo_sin_rcnt_rev_tl_op',\n",
        " 'mo_sin_rcnt_tl', 'mort_acc', 'mths_since_recent_bc', 'mths_since_recent_inq', 'num_accts_ever_120_pd', 'num_actv_bc_tl', 'num_actv_rev_tl', 'num_bc_sats',\n",
        " 'num_bc_tl', 'num_il_tl', 'num_op_rev_tl', 'num_rev_accts', 'num_rev_tl_bal_gt_0', 'num_sats', 'num_tl_120dpd_2m', 'num_tl_30dpd', 'num_tl_90g_dpd_24m',\n",
        " 'num_tl_op_past_12m', 'pct_tl_nvr_dlq', 'percent_bc_gt_75', 'pub_rec_bankruptcies', 'tax_liens', 'tot_hi_cred_lim', 'total_bal_ex_mort', 'total_bc_limit',\n",
        " 'total_il_high_credit_limit', 'hardship_flag', 'disbursement_method', 'debt_settlement_flag']"
      ],
      "execution_count": null,
      "outputs": []
    },
    {
      "cell_type": "code",
      "metadata": {
        "id": "1rWe3M9Duh6r"
      },
      "source": [
        "df_Accepted.drop(labels=Features_Need_to_be_Dropped, axis=1, inplace=True)"
      ],
      "execution_count": null,
      "outputs": []
    },
    {
      "cell_type": "code",
      "metadata": {
        "colab": {
          "base_uri": "https://localhost:8080/"
        },
        "id": "E95Ro0rpukWz",
        "outputId": "5d4c2c44-f4aa-44f6-e153-72d6aaa40610"
      },
      "source": [
        "df_Accepted.shape"
      ],
      "execution_count": null,
      "outputs": [
        {
          "output_type": "execute_result",
          "data": {
            "text/plain": [
              "(2260701, 78)"
            ]
          },
          "metadata": {
            "tags": []
          },
          "execution_count": 25
        }
      ]
    },
    {
      "cell_type": "code",
      "metadata": {
        "colab": {
          "base_uri": "https://localhost:8080/"
        },
        "id": "lOGKNfFtumPp",
        "outputId": "7f6ea1b7-32b0-4810-bc69-2afdf0d3c4e7"
      },
      "source": [
        "df_Accepted.dtypes"
      ],
      "execution_count": null,
      "outputs": [
        {
          "output_type": "execute_result",
          "data": {
            "text/plain": [
              "member_id                                     float64\n",
              "loan_amnt                                     float64\n",
              "term                                           object\n",
              "int_rate                                      float64\n",
              "installment                                   float64\n",
              "grade                                          object\n",
              "sub_grade                                      object\n",
              "emp_title                                      object\n",
              "emp_length                                     object\n",
              "home_ownership                                 object\n",
              "annual_inc                                    float64\n",
              "loan_status                                    object\n",
              "desc                                           object\n",
              "purpose                                        object\n",
              "zip_code                                       object\n",
              "addr_state                                     object\n",
              "dti                                           float64\n",
              "fico_range_low                                float64\n",
              "fico_range_high                               float64\n",
              "mths_since_last_delinq                        float64\n",
              "mths_since_last_record                        float64\n",
              "pub_rec                                       float64\n",
              "next_pymnt_d                                   object\n",
              "mths_since_last_major_derog                   float64\n",
              "application_type                               object\n",
              "annual_inc_joint                              float64\n",
              "dti_joint                                     float64\n",
              "verification_status_joint                      object\n",
              "open_acc_6m                                   float64\n",
              "open_act_il                                   float64\n",
              "open_il_12m                                   float64\n",
              "open_il_24m                                   float64\n",
              "mths_since_rcnt_il                            float64\n",
              "total_bal_il                                  float64\n",
              "il_util                                       float64\n",
              "open_rv_12m                                   float64\n",
              "open_rv_24m                                   float64\n",
              "max_bal_bc                                    float64\n",
              "all_util                                      float64\n",
              "inq_fi                                        float64\n",
              "total_cu_tl                                   float64\n",
              "inq_last_12m                                  float64\n",
              "delinq_amnt                                   float64\n",
              "mths_since_recent_bc_dlq                      float64\n",
              "mths_since_recent_revol_delinq                float64\n",
              "revol_bal_joint                               float64\n",
              "sec_app_fico_range_low                        float64\n",
              "sec_app_fico_range_high                       float64\n",
              "sec_app_earliest_cr_line                       object\n",
              "sec_app_inq_last_6mths                        float64\n",
              "sec_app_mort_acc                              float64\n",
              "sec_app_open_acc                              float64\n",
              "sec_app_revol_util                            float64\n",
              "sec_app_open_act_il                           float64\n",
              "sec_app_num_rev_accts                         float64\n",
              "sec_app_chargeoff_within_12_mths              float64\n",
              "sec_app_collections_12_mths_ex_med            float64\n",
              "sec_app_mths_since_last_major_derog           float64\n",
              "hardship_type                                  object\n",
              "hardship_reason                                object\n",
              "hardship_status                                object\n",
              "deferral_term                                 float64\n",
              "hardship_amount                               float64\n",
              "hardship_start_date                            object\n",
              "hardship_end_date                              object\n",
              "payment_plan_start_date                        object\n",
              "hardship_length                               float64\n",
              "hardship_dpd                                  float64\n",
              "hardship_loan_status                           object\n",
              "orig_projected_additional_accrued_interest    float64\n",
              "hardship_payoff_balance_amount                float64\n",
              "hardship_last_payment_amount                  float64\n",
              "debt_settlement_flag_date                      object\n",
              "settlement_status                              object\n",
              "settlement_date                                object\n",
              "settlement_amount                             float64\n",
              "settlement_percentage                         float64\n",
              "settlement_term                               float64\n",
              "dtype: object"
            ]
          },
          "metadata": {
            "tags": []
          },
          "execution_count": 26
        }
      ]
    },
    {
      "cell_type": "code",
      "metadata": {
        "colab": {
          "base_uri": "https://localhost:8080/",
          "height": 326
        },
        "id": "9qlz_Uo4upDq",
        "outputId": "9b1d70e4-3c18-48d5-9876-e7533a297877"
      },
      "source": [
        "df_Accepted.head()"
      ],
      "execution_count": null,
      "outputs": [
        {
          "output_type": "execute_result",
          "data": {
            "text/html": [
              "<div>\n",
              "<style scoped>\n",
              "    .dataframe tbody tr th:only-of-type {\n",
              "        vertical-align: middle;\n",
              "    }\n",
              "\n",
              "    .dataframe tbody tr th {\n",
              "        vertical-align: top;\n",
              "    }\n",
              "\n",
              "    .dataframe thead th {\n",
              "        text-align: right;\n",
              "    }\n",
              "</style>\n",
              "<table border=\"1\" class=\"dataframe\">\n",
              "  <thead>\n",
              "    <tr style=\"text-align: right;\">\n",
              "      <th></th>\n",
              "      <th>member_id</th>\n",
              "      <th>loan_amnt</th>\n",
              "      <th>term</th>\n",
              "      <th>int_rate</th>\n",
              "      <th>installment</th>\n",
              "      <th>grade</th>\n",
              "      <th>sub_grade</th>\n",
              "      <th>emp_title</th>\n",
              "      <th>emp_length</th>\n",
              "      <th>home_ownership</th>\n",
              "      <th>annual_inc</th>\n",
              "      <th>loan_status</th>\n",
              "      <th>desc</th>\n",
              "      <th>purpose</th>\n",
              "      <th>zip_code</th>\n",
              "      <th>addr_state</th>\n",
              "      <th>dti</th>\n",
              "      <th>fico_range_low</th>\n",
              "      <th>fico_range_high</th>\n",
              "      <th>mths_since_last_delinq</th>\n",
              "      <th>mths_since_last_record</th>\n",
              "      <th>pub_rec</th>\n",
              "      <th>next_pymnt_d</th>\n",
              "      <th>mths_since_last_major_derog</th>\n",
              "      <th>application_type</th>\n",
              "      <th>annual_inc_joint</th>\n",
              "      <th>dti_joint</th>\n",
              "      <th>verification_status_joint</th>\n",
              "      <th>open_acc_6m</th>\n",
              "      <th>open_act_il</th>\n",
              "      <th>open_il_12m</th>\n",
              "      <th>open_il_24m</th>\n",
              "      <th>mths_since_rcnt_il</th>\n",
              "      <th>total_bal_il</th>\n",
              "      <th>il_util</th>\n",
              "      <th>open_rv_12m</th>\n",
              "      <th>open_rv_24m</th>\n",
              "      <th>max_bal_bc</th>\n",
              "      <th>all_util</th>\n",
              "      <th>inq_fi</th>\n",
              "      <th>total_cu_tl</th>\n",
              "      <th>inq_last_12m</th>\n",
              "      <th>delinq_amnt</th>\n",
              "      <th>mths_since_recent_bc_dlq</th>\n",
              "      <th>mths_since_recent_revol_delinq</th>\n",
              "      <th>revol_bal_joint</th>\n",
              "      <th>sec_app_fico_range_low</th>\n",
              "      <th>sec_app_fico_range_high</th>\n",
              "      <th>sec_app_earliest_cr_line</th>\n",
              "      <th>sec_app_inq_last_6mths</th>\n",
              "      <th>sec_app_mort_acc</th>\n",
              "      <th>sec_app_open_acc</th>\n",
              "      <th>sec_app_revol_util</th>\n",
              "      <th>sec_app_open_act_il</th>\n",
              "      <th>sec_app_num_rev_accts</th>\n",
              "      <th>sec_app_chargeoff_within_12_mths</th>\n",
              "      <th>sec_app_collections_12_mths_ex_med</th>\n",
              "      <th>sec_app_mths_since_last_major_derog</th>\n",
              "      <th>hardship_type</th>\n",
              "      <th>hardship_reason</th>\n",
              "      <th>hardship_status</th>\n",
              "      <th>deferral_term</th>\n",
              "      <th>hardship_amount</th>\n",
              "      <th>hardship_start_date</th>\n",
              "      <th>hardship_end_date</th>\n",
              "      <th>payment_plan_start_date</th>\n",
              "      <th>hardship_length</th>\n",
              "      <th>hardship_dpd</th>\n",
              "      <th>hardship_loan_status</th>\n",
              "      <th>orig_projected_additional_accrued_interest</th>\n",
              "      <th>hardship_payoff_balance_amount</th>\n",
              "      <th>hardship_last_payment_amount</th>\n",
              "      <th>debt_settlement_flag_date</th>\n",
              "      <th>settlement_status</th>\n",
              "      <th>settlement_date</th>\n",
              "      <th>settlement_amount</th>\n",
              "      <th>settlement_percentage</th>\n",
              "      <th>settlement_term</th>\n",
              "    </tr>\n",
              "  </thead>\n",
              "  <tbody>\n",
              "    <tr>\n",
              "      <th>0</th>\n",
              "      <td>nan</td>\n",
              "      <td>3600.000</td>\n",
              "      <td>36 months</td>\n",
              "      <td>13.990</td>\n",
              "      <td>123.030</td>\n",
              "      <td>C</td>\n",
              "      <td>C4</td>\n",
              "      <td>leadman</td>\n",
              "      <td>10+ years</td>\n",
              "      <td>MORTGAGE</td>\n",
              "      <td>55000.000</td>\n",
              "      <td>Fully Paid</td>\n",
              "      <td>NaN</td>\n",
              "      <td>debt_consolidation</td>\n",
              "      <td>190xx</td>\n",
              "      <td>PA</td>\n",
              "      <td>5.910</td>\n",
              "      <td>675.000</td>\n",
              "      <td>679.000</td>\n",
              "      <td>30.000</td>\n",
              "      <td>nan</td>\n",
              "      <td>0.000</td>\n",
              "      <td>NaN</td>\n",
              "      <td>30.000</td>\n",
              "      <td>Individual</td>\n",
              "      <td>nan</td>\n",
              "      <td>nan</td>\n",
              "      <td>NaN</td>\n",
              "      <td>2.000</td>\n",
              "      <td>2.000</td>\n",
              "      <td>0.000</td>\n",
              "      <td>1.000</td>\n",
              "      <td>21.000</td>\n",
              "      <td>4981.000</td>\n",
              "      <td>36.000</td>\n",
              "      <td>3.000</td>\n",
              "      <td>3.000</td>\n",
              "      <td>722.000</td>\n",
              "      <td>34.000</td>\n",
              "      <td>3.000</td>\n",
              "      <td>1.000</td>\n",
              "      <td>4.000</td>\n",
              "      <td>0.000</td>\n",
              "      <td>69.000</td>\n",
              "      <td>69.000</td>\n",
              "      <td>nan</td>\n",
              "      <td>nan</td>\n",
              "      <td>nan</td>\n",
              "      <td>NaN</td>\n",
              "      <td>nan</td>\n",
              "      <td>nan</td>\n",
              "      <td>nan</td>\n",
              "      <td>nan</td>\n",
              "      <td>nan</td>\n",
              "      <td>nan</td>\n",
              "      <td>nan</td>\n",
              "      <td>nan</td>\n",
              "      <td>nan</td>\n",
              "      <td>NaN</td>\n",
              "      <td>NaN</td>\n",
              "      <td>NaN</td>\n",
              "      <td>nan</td>\n",
              "      <td>nan</td>\n",
              "      <td>NaN</td>\n",
              "      <td>NaN</td>\n",
              "      <td>NaN</td>\n",
              "      <td>nan</td>\n",
              "      <td>nan</td>\n",
              "      <td>NaN</td>\n",
              "      <td>nan</td>\n",
              "      <td>nan</td>\n",
              "      <td>nan</td>\n",
              "      <td>NaN</td>\n",
              "      <td>NaN</td>\n",
              "      <td>NaN</td>\n",
              "      <td>nan</td>\n",
              "      <td>nan</td>\n",
              "      <td>nan</td>\n",
              "    </tr>\n",
              "    <tr>\n",
              "      <th>1</th>\n",
              "      <td>nan</td>\n",
              "      <td>24700.000</td>\n",
              "      <td>36 months</td>\n",
              "      <td>11.990</td>\n",
              "      <td>820.280</td>\n",
              "      <td>C</td>\n",
              "      <td>C1</td>\n",
              "      <td>Engineer</td>\n",
              "      <td>10+ years</td>\n",
              "      <td>MORTGAGE</td>\n",
              "      <td>65000.000</td>\n",
              "      <td>Fully Paid</td>\n",
              "      <td>NaN</td>\n",
              "      <td>small_business</td>\n",
              "      <td>577xx</td>\n",
              "      <td>SD</td>\n",
              "      <td>16.060</td>\n",
              "      <td>715.000</td>\n",
              "      <td>719.000</td>\n",
              "      <td>6.000</td>\n",
              "      <td>nan</td>\n",
              "      <td>0.000</td>\n",
              "      <td>NaN</td>\n",
              "      <td>nan</td>\n",
              "      <td>Individual</td>\n",
              "      <td>nan</td>\n",
              "      <td>nan</td>\n",
              "      <td>NaN</td>\n",
              "      <td>1.000</td>\n",
              "      <td>1.000</td>\n",
              "      <td>0.000</td>\n",
              "      <td>1.000</td>\n",
              "      <td>19.000</td>\n",
              "      <td>18005.000</td>\n",
              "      <td>73.000</td>\n",
              "      <td>2.000</td>\n",
              "      <td>3.000</td>\n",
              "      <td>6472.000</td>\n",
              "      <td>29.000</td>\n",
              "      <td>0.000</td>\n",
              "      <td>0.000</td>\n",
              "      <td>6.000</td>\n",
              "      <td>0.000</td>\n",
              "      <td>nan</td>\n",
              "      <td>6.000</td>\n",
              "      <td>nan</td>\n",
              "      <td>nan</td>\n",
              "      <td>nan</td>\n",
              "      <td>NaN</td>\n",
              "      <td>nan</td>\n",
              "      <td>nan</td>\n",
              "      <td>nan</td>\n",
              "      <td>nan</td>\n",
              "      <td>nan</td>\n",
              "      <td>nan</td>\n",
              "      <td>nan</td>\n",
              "      <td>nan</td>\n",
              "      <td>nan</td>\n",
              "      <td>NaN</td>\n",
              "      <td>NaN</td>\n",
              "      <td>NaN</td>\n",
              "      <td>nan</td>\n",
              "      <td>nan</td>\n",
              "      <td>NaN</td>\n",
              "      <td>NaN</td>\n",
              "      <td>NaN</td>\n",
              "      <td>nan</td>\n",
              "      <td>nan</td>\n",
              "      <td>NaN</td>\n",
              "      <td>nan</td>\n",
              "      <td>nan</td>\n",
              "      <td>nan</td>\n",
              "      <td>NaN</td>\n",
              "      <td>NaN</td>\n",
              "      <td>NaN</td>\n",
              "      <td>nan</td>\n",
              "      <td>nan</td>\n",
              "      <td>nan</td>\n",
              "    </tr>\n",
              "    <tr>\n",
              "      <th>2</th>\n",
              "      <td>nan</td>\n",
              "      <td>20000.000</td>\n",
              "      <td>60 months</td>\n",
              "      <td>10.780</td>\n",
              "      <td>432.660</td>\n",
              "      <td>B</td>\n",
              "      <td>B4</td>\n",
              "      <td>truck driver</td>\n",
              "      <td>10+ years</td>\n",
              "      <td>MORTGAGE</td>\n",
              "      <td>63000.000</td>\n",
              "      <td>Fully Paid</td>\n",
              "      <td>NaN</td>\n",
              "      <td>home_improvement</td>\n",
              "      <td>605xx</td>\n",
              "      <td>IL</td>\n",
              "      <td>10.780</td>\n",
              "      <td>695.000</td>\n",
              "      <td>699.000</td>\n",
              "      <td>nan</td>\n",
              "      <td>nan</td>\n",
              "      <td>0.000</td>\n",
              "      <td>NaN</td>\n",
              "      <td>nan</td>\n",
              "      <td>Joint App</td>\n",
              "      <td>71000.000</td>\n",
              "      <td>13.850</td>\n",
              "      <td>Not Verified</td>\n",
              "      <td>0.000</td>\n",
              "      <td>1.000</td>\n",
              "      <td>0.000</td>\n",
              "      <td>4.000</td>\n",
              "      <td>19.000</td>\n",
              "      <td>10827.000</td>\n",
              "      <td>73.000</td>\n",
              "      <td>0.000</td>\n",
              "      <td>2.000</td>\n",
              "      <td>2081.000</td>\n",
              "      <td>65.000</td>\n",
              "      <td>2.000</td>\n",
              "      <td>5.000</td>\n",
              "      <td>1.000</td>\n",
              "      <td>0.000</td>\n",
              "      <td>nan</td>\n",
              "      <td>nan</td>\n",
              "      <td>nan</td>\n",
              "      <td>nan</td>\n",
              "      <td>nan</td>\n",
              "      <td>NaN</td>\n",
              "      <td>nan</td>\n",
              "      <td>nan</td>\n",
              "      <td>nan</td>\n",
              "      <td>nan</td>\n",
              "      <td>nan</td>\n",
              "      <td>nan</td>\n",
              "      <td>nan</td>\n",
              "      <td>nan</td>\n",
              "      <td>nan</td>\n",
              "      <td>NaN</td>\n",
              "      <td>NaN</td>\n",
              "      <td>NaN</td>\n",
              "      <td>nan</td>\n",
              "      <td>nan</td>\n",
              "      <td>NaN</td>\n",
              "      <td>NaN</td>\n",
              "      <td>NaN</td>\n",
              "      <td>nan</td>\n",
              "      <td>nan</td>\n",
              "      <td>NaN</td>\n",
              "      <td>nan</td>\n",
              "      <td>nan</td>\n",
              "      <td>nan</td>\n",
              "      <td>NaN</td>\n",
              "      <td>NaN</td>\n",
              "      <td>NaN</td>\n",
              "      <td>nan</td>\n",
              "      <td>nan</td>\n",
              "      <td>nan</td>\n",
              "    </tr>\n",
              "    <tr>\n",
              "      <th>3</th>\n",
              "      <td>nan</td>\n",
              "      <td>35000.000</td>\n",
              "      <td>60 months</td>\n",
              "      <td>14.850</td>\n",
              "      <td>829.900</td>\n",
              "      <td>C</td>\n",
              "      <td>C5</td>\n",
              "      <td>Information Systems Officer</td>\n",
              "      <td>10+ years</td>\n",
              "      <td>MORTGAGE</td>\n",
              "      <td>110000.000</td>\n",
              "      <td>Current</td>\n",
              "      <td>NaN</td>\n",
              "      <td>debt_consolidation</td>\n",
              "      <td>076xx</td>\n",
              "      <td>NJ</td>\n",
              "      <td>17.060</td>\n",
              "      <td>785.000</td>\n",
              "      <td>789.000</td>\n",
              "      <td>nan</td>\n",
              "      <td>nan</td>\n",
              "      <td>0.000</td>\n",
              "      <td>Apr-2019</td>\n",
              "      <td>nan</td>\n",
              "      <td>Individual</td>\n",
              "      <td>nan</td>\n",
              "      <td>nan</td>\n",
              "      <td>NaN</td>\n",
              "      <td>1.000</td>\n",
              "      <td>1.000</td>\n",
              "      <td>0.000</td>\n",
              "      <td>1.000</td>\n",
              "      <td>23.000</td>\n",
              "      <td>12609.000</td>\n",
              "      <td>70.000</td>\n",
              "      <td>1.000</td>\n",
              "      <td>1.000</td>\n",
              "      <td>6987.000</td>\n",
              "      <td>45.000</td>\n",
              "      <td>0.000</td>\n",
              "      <td>1.000</td>\n",
              "      <td>0.000</td>\n",
              "      <td>0.000</td>\n",
              "      <td>nan</td>\n",
              "      <td>nan</td>\n",
              "      <td>nan</td>\n",
              "      <td>nan</td>\n",
              "      <td>nan</td>\n",
              "      <td>NaN</td>\n",
              "      <td>nan</td>\n",
              "      <td>nan</td>\n",
              "      <td>nan</td>\n",
              "      <td>nan</td>\n",
              "      <td>nan</td>\n",
              "      <td>nan</td>\n",
              "      <td>nan</td>\n",
              "      <td>nan</td>\n",
              "      <td>nan</td>\n",
              "      <td>NaN</td>\n",
              "      <td>NaN</td>\n",
              "      <td>NaN</td>\n",
              "      <td>nan</td>\n",
              "      <td>nan</td>\n",
              "      <td>NaN</td>\n",
              "      <td>NaN</td>\n",
              "      <td>NaN</td>\n",
              "      <td>nan</td>\n",
              "      <td>nan</td>\n",
              "      <td>NaN</td>\n",
              "      <td>nan</td>\n",
              "      <td>nan</td>\n",
              "      <td>nan</td>\n",
              "      <td>NaN</td>\n",
              "      <td>NaN</td>\n",
              "      <td>NaN</td>\n",
              "      <td>nan</td>\n",
              "      <td>nan</td>\n",
              "      <td>nan</td>\n",
              "    </tr>\n",
              "    <tr>\n",
              "      <th>4</th>\n",
              "      <td>nan</td>\n",
              "      <td>10400.000</td>\n",
              "      <td>60 months</td>\n",
              "      <td>22.450</td>\n",
              "      <td>289.910</td>\n",
              "      <td>F</td>\n",
              "      <td>F1</td>\n",
              "      <td>Contract Specialist</td>\n",
              "      <td>3 years</td>\n",
              "      <td>MORTGAGE</td>\n",
              "      <td>104433.000</td>\n",
              "      <td>Fully Paid</td>\n",
              "      <td>NaN</td>\n",
              "      <td>major_purchase</td>\n",
              "      <td>174xx</td>\n",
              "      <td>PA</td>\n",
              "      <td>25.370</td>\n",
              "      <td>695.000</td>\n",
              "      <td>699.000</td>\n",
              "      <td>12.000</td>\n",
              "      <td>nan</td>\n",
              "      <td>0.000</td>\n",
              "      <td>NaN</td>\n",
              "      <td>nan</td>\n",
              "      <td>Individual</td>\n",
              "      <td>nan</td>\n",
              "      <td>nan</td>\n",
              "      <td>NaN</td>\n",
              "      <td>1.000</td>\n",
              "      <td>3.000</td>\n",
              "      <td>0.000</td>\n",
              "      <td>3.000</td>\n",
              "      <td>14.000</td>\n",
              "      <td>73839.000</td>\n",
              "      <td>84.000</td>\n",
              "      <td>4.000</td>\n",
              "      <td>7.000</td>\n",
              "      <td>9702.000</td>\n",
              "      <td>78.000</td>\n",
              "      <td>2.000</td>\n",
              "      <td>1.000</td>\n",
              "      <td>3.000</td>\n",
              "      <td>0.000</td>\n",
              "      <td>12.000</td>\n",
              "      <td>12.000</td>\n",
              "      <td>nan</td>\n",
              "      <td>nan</td>\n",
              "      <td>nan</td>\n",
              "      <td>NaN</td>\n",
              "      <td>nan</td>\n",
              "      <td>nan</td>\n",
              "      <td>nan</td>\n",
              "      <td>nan</td>\n",
              "      <td>nan</td>\n",
              "      <td>nan</td>\n",
              "      <td>nan</td>\n",
              "      <td>nan</td>\n",
              "      <td>nan</td>\n",
              "      <td>NaN</td>\n",
              "      <td>NaN</td>\n",
              "      <td>NaN</td>\n",
              "      <td>nan</td>\n",
              "      <td>nan</td>\n",
              "      <td>NaN</td>\n",
              "      <td>NaN</td>\n",
              "      <td>NaN</td>\n",
              "      <td>nan</td>\n",
              "      <td>nan</td>\n",
              "      <td>NaN</td>\n",
              "      <td>nan</td>\n",
              "      <td>nan</td>\n",
              "      <td>nan</td>\n",
              "      <td>NaN</td>\n",
              "      <td>NaN</td>\n",
              "      <td>NaN</td>\n",
              "      <td>nan</td>\n",
              "      <td>nan</td>\n",
              "      <td>nan</td>\n",
              "    </tr>\n",
              "  </tbody>\n",
              "</table>\n",
              "</div>"
            ],
            "text/plain": [
              "   member_id  loan_amnt        term  int_rate  installment grade sub_grade  \\\n",
              "0        nan   3600.000   36 months    13.990      123.030     C        C4   \n",
              "1        nan  24700.000   36 months    11.990      820.280     C        C1   \n",
              "2        nan  20000.000   60 months    10.780      432.660     B        B4   \n",
              "3        nan  35000.000   60 months    14.850      829.900     C        C5   \n",
              "4        nan  10400.000   60 months    22.450      289.910     F        F1   \n",
              "\n",
              "                     emp_title emp_length home_ownership  annual_inc  \\\n",
              "0                      leadman  10+ years       MORTGAGE   55000.000   \n",
              "1                     Engineer  10+ years       MORTGAGE   65000.000   \n",
              "2                 truck driver  10+ years       MORTGAGE   63000.000   \n",
              "3  Information Systems Officer  10+ years       MORTGAGE  110000.000   \n",
              "4          Contract Specialist    3 years       MORTGAGE  104433.000   \n",
              "\n",
              "  loan_status desc             purpose zip_code addr_state    dti  \\\n",
              "0  Fully Paid  NaN  debt_consolidation    190xx         PA  5.910   \n",
              "1  Fully Paid  NaN      small_business    577xx         SD 16.060   \n",
              "2  Fully Paid  NaN    home_improvement    605xx         IL 10.780   \n",
              "3     Current  NaN  debt_consolidation    076xx         NJ 17.060   \n",
              "4  Fully Paid  NaN      major_purchase    174xx         PA 25.370   \n",
              "\n",
              "   fico_range_low  fico_range_high  mths_since_last_delinq  \\\n",
              "0         675.000          679.000                  30.000   \n",
              "1         715.000          719.000                   6.000   \n",
              "2         695.000          699.000                     nan   \n",
              "3         785.000          789.000                     nan   \n",
              "4         695.000          699.000                  12.000   \n",
              "\n",
              "   mths_since_last_record  pub_rec next_pymnt_d  mths_since_last_major_derog  \\\n",
              "0                     nan    0.000          NaN                       30.000   \n",
              "1                     nan    0.000          NaN                          nan   \n",
              "2                     nan    0.000          NaN                          nan   \n",
              "3                     nan    0.000     Apr-2019                          nan   \n",
              "4                     nan    0.000          NaN                          nan   \n",
              "\n",
              "  application_type  annual_inc_joint  dti_joint verification_status_joint  \\\n",
              "0       Individual               nan        nan                       NaN   \n",
              "1       Individual               nan        nan                       NaN   \n",
              "2        Joint App         71000.000     13.850              Not Verified   \n",
              "3       Individual               nan        nan                       NaN   \n",
              "4       Individual               nan        nan                       NaN   \n",
              "\n",
              "   open_acc_6m  open_act_il  open_il_12m  open_il_24m  mths_since_rcnt_il  \\\n",
              "0        2.000        2.000        0.000        1.000              21.000   \n",
              "1        1.000        1.000        0.000        1.000              19.000   \n",
              "2        0.000        1.000        0.000        4.000              19.000   \n",
              "3        1.000        1.000        0.000        1.000              23.000   \n",
              "4        1.000        3.000        0.000        3.000              14.000   \n",
              "\n",
              "   total_bal_il  il_util  open_rv_12m  open_rv_24m  max_bal_bc  all_util  \\\n",
              "0      4981.000   36.000        3.000        3.000     722.000    34.000   \n",
              "1     18005.000   73.000        2.000        3.000    6472.000    29.000   \n",
              "2     10827.000   73.000        0.000        2.000    2081.000    65.000   \n",
              "3     12609.000   70.000        1.000        1.000    6987.000    45.000   \n",
              "4     73839.000   84.000        4.000        7.000    9702.000    78.000   \n",
              "\n",
              "   inq_fi  total_cu_tl  inq_last_12m  delinq_amnt  mths_since_recent_bc_dlq  \\\n",
              "0   3.000        1.000         4.000        0.000                    69.000   \n",
              "1   0.000        0.000         6.000        0.000                       nan   \n",
              "2   2.000        5.000         1.000        0.000                       nan   \n",
              "3   0.000        1.000         0.000        0.000                       nan   \n",
              "4   2.000        1.000         3.000        0.000                    12.000   \n",
              "\n",
              "   mths_since_recent_revol_delinq  revol_bal_joint  sec_app_fico_range_low  \\\n",
              "0                          69.000              nan                     nan   \n",
              "1                           6.000              nan                     nan   \n",
              "2                             nan              nan                     nan   \n",
              "3                             nan              nan                     nan   \n",
              "4                          12.000              nan                     nan   \n",
              "\n",
              "   sec_app_fico_range_high sec_app_earliest_cr_line  sec_app_inq_last_6mths  \\\n",
              "0                      nan                      NaN                     nan   \n",
              "1                      nan                      NaN                     nan   \n",
              "2                      nan                      NaN                     nan   \n",
              "3                      nan                      NaN                     nan   \n",
              "4                      nan                      NaN                     nan   \n",
              "\n",
              "   sec_app_mort_acc  sec_app_open_acc  sec_app_revol_util  \\\n",
              "0               nan               nan                 nan   \n",
              "1               nan               nan                 nan   \n",
              "2               nan               nan                 nan   \n",
              "3               nan               nan                 nan   \n",
              "4               nan               nan                 nan   \n",
              "\n",
              "   sec_app_open_act_il  sec_app_num_rev_accts  \\\n",
              "0                  nan                    nan   \n",
              "1                  nan                    nan   \n",
              "2                  nan                    nan   \n",
              "3                  nan                    nan   \n",
              "4                  nan                    nan   \n",
              "\n",
              "   sec_app_chargeoff_within_12_mths  sec_app_collections_12_mths_ex_med  \\\n",
              "0                               nan                                 nan   \n",
              "1                               nan                                 nan   \n",
              "2                               nan                                 nan   \n",
              "3                               nan                                 nan   \n",
              "4                               nan                                 nan   \n",
              "\n",
              "   sec_app_mths_since_last_major_derog hardship_type hardship_reason  \\\n",
              "0                                  nan           NaN             NaN   \n",
              "1                                  nan           NaN             NaN   \n",
              "2                                  nan           NaN             NaN   \n",
              "3                                  nan           NaN             NaN   \n",
              "4                                  nan           NaN             NaN   \n",
              "\n",
              "  hardship_status  deferral_term  hardship_amount hardship_start_date  \\\n",
              "0             NaN            nan              nan                 NaN   \n",
              "1             NaN            nan              nan                 NaN   \n",
              "2             NaN            nan              nan                 NaN   \n",
              "3             NaN            nan              nan                 NaN   \n",
              "4             NaN            nan              nan                 NaN   \n",
              "\n",
              "  hardship_end_date payment_plan_start_date  hardship_length  hardship_dpd  \\\n",
              "0               NaN                     NaN              nan           nan   \n",
              "1               NaN                     NaN              nan           nan   \n",
              "2               NaN                     NaN              nan           nan   \n",
              "3               NaN                     NaN              nan           nan   \n",
              "4               NaN                     NaN              nan           nan   \n",
              "\n",
              "  hardship_loan_status  orig_projected_additional_accrued_interest  \\\n",
              "0                  NaN                                         nan   \n",
              "1                  NaN                                         nan   \n",
              "2                  NaN                                         nan   \n",
              "3                  NaN                                         nan   \n",
              "4                  NaN                                         nan   \n",
              "\n",
              "   hardship_payoff_balance_amount  hardship_last_payment_amount  \\\n",
              "0                             nan                           nan   \n",
              "1                             nan                           nan   \n",
              "2                             nan                           nan   \n",
              "3                             nan                           nan   \n",
              "4                             nan                           nan   \n",
              "\n",
              "  debt_settlement_flag_date settlement_status settlement_date  \\\n",
              "0                       NaN               NaN             NaN   \n",
              "1                       NaN               NaN             NaN   \n",
              "2                       NaN               NaN             NaN   \n",
              "3                       NaN               NaN             NaN   \n",
              "4                       NaN               NaN             NaN   \n",
              "\n",
              "   settlement_amount  settlement_percentage  settlement_term  \n",
              "0                nan                    nan              nan  \n",
              "1                nan                    nan              nan  \n",
              "2                nan                    nan              nan  \n",
              "3                nan                    nan              nan  \n",
              "4                nan                    nan              nan  "
            ]
          },
          "metadata": {
            "tags": []
          },
          "execution_count": 27
        }
      ]
    },
    {
      "cell_type": "code",
      "metadata": {
        "colab": {
          "base_uri": "https://localhost:8080/"
        },
        "id": "pf3uKIXeuryY",
        "outputId": "f1827ddf-cf56-4fc3-b295-a5ca9b3fdc3d"
      },
      "source": [
        "df_Accepted[\"loan_status\"].value_counts()"
      ],
      "execution_count": null,
      "outputs": [
        {
          "output_type": "execute_result",
          "data": {
            "text/plain": [
              "Fully Paid                                             1076751\n",
              "Current                                                 878317\n",
              "Charged Off                                             268559\n",
              "Late (31-120 days)                                       21467\n",
              "In Grace Period                                           8436\n",
              "Late (16-30 days)                                         4349\n",
              "Does not meet the credit policy. Status:Fully Paid        1988\n",
              "Does not meet the credit policy. Status:Charged Off        761\n",
              "Default                                                     40\n",
              "Name: loan_status, dtype: int64"
            ]
          },
          "metadata": {
            "tags": []
          },
          "execution_count": 28
        }
      ]
    },
    {
      "cell_type": "markdown",
      "metadata": {
        "id": "QLO2hB8Quwge"
      },
      "source": [
        "**TARGET VARIABLE = LOAN_STATUS**\n",
        "\n",
        "In this project our target variable is loan_status. Based on the Re-payment and Default status of customers we are going to decide whom to give loan and whom to not..\n",
        "\n",
        "From Loan_status, we are only interested to analysis for those customers who've fully repaid their loan and Charged Off(Defaulters category). So let's proceed our analysis on only these two terms"
      ]
    },
    {
      "cell_type": "code",
      "metadata": {
        "colab": {
          "base_uri": "https://localhost:8080/"
        },
        "id": "QVbGN2L3ut_p",
        "outputId": "6cd1e5d3-226e-4c02-df8b-9791ef50c7eb"
      },
      "source": [
        "df_Accepted = df_Accepted.loc[df_Accepted[\"loan_status\"].isin([\"Fully Paid\",\"Charged Off\"])]\n",
        "df_Accepted[\"loan_status\"].value_counts(normalize=True)"
      ],
      "execution_count": null,
      "outputs": [
        {
          "output_type": "execute_result",
          "data": {
            "text/plain": [
              "Fully Paid    0.800\n",
              "Charged Off   0.200\n",
              "Name: loan_status, dtype: float64"
            ]
          },
          "metadata": {
            "tags": []
          },
          "execution_count": 29
        }
      ]
    },
    {
      "cell_type": "code",
      "metadata": {
        "colab": {
          "base_uri": "https://localhost:8080/",
          "height": 266
        },
        "id": "YSmKwR4du4RY",
        "outputId": "5b8882fa-b5e2-4455-9ec1-c5547a4360a2"
      },
      "source": [
        "plt.style.use('ggplot')\n",
        "\n",
        "data = df_Accepted[\"loan_status\"].value_counts(normalize=True)\n",
        "plt.pie(data, labels=data.index, startangle = 90, shadow = True, radius=1, explode= [0,0.05],autopct='%0.2f%%')\n",
        "plt.title(\"Loan Status\", fontsize=16, fontweight='bold')\n",
        "plt.show()"
      ],
      "execution_count": null,
      "outputs": [
        {
          "output_type": "display_data",
          "data": {
            "image/png": "[encoded data removed]",
            "text/plain": [
              "<Figure size 432x288 with 1 Axes>"
            ]
          },
          "metadata": {
            "tags": []
          }
        }
      ]
    },
    {
      "cell_type": "code",
      "metadata": {
        "colab": {
          "base_uri": "https://localhost:8080/"
        },
        "id": "MLetjxF_u5-w",
        "outputId": "4a78938d-1212-410e-ccfc-d39a693071d8"
      },
      "source": [
        "df_Accepted.shape"
      ],
      "execution_count": null,
      "outputs": [
        {
          "output_type": "execute_result",
          "data": {
            "text/plain": [
              "(1345310, 78)"
            ]
          },
          "metadata": {
            "tags": []
          },
          "execution_count": 31
        }
      ]
    },
    {
      "cell_type": "code",
      "metadata": {
        "colab": {
          "base_uri": "https://localhost:8080/"
        },
        "id": "KOXWXbPfu78k",
        "outputId": "ad75300f-bc23-423c-ed18-0c0493a536ce"
      },
      "source": [
        "df_Accepted.dtypes"
      ],
      "execution_count": null,
      "outputs": [
        {
          "output_type": "execute_result",
          "data": {
            "text/plain": [
              "member_id                                     float64\n",
              "loan_amnt                                     float64\n",
              "term                                           object\n",
              "int_rate                                      float64\n",
              "installment                                   float64\n",
              "grade                                          object\n",
              "sub_grade                                      object\n",
              "emp_title                                      object\n",
              "emp_length                                     object\n",
              "home_ownership                                 object\n",
              "annual_inc                                    float64\n",
              "loan_status                                    object\n",
              "desc                                           object\n",
              "purpose                                        object\n",
              "zip_code                                       object\n",
              "addr_state                                     object\n",
              "dti                                           float64\n",
              "fico_range_low                                float64\n",
              "fico_range_high                               float64\n",
              "mths_since_last_delinq                        float64\n",
              "mths_since_last_record                        float64\n",
              "pub_rec                                       float64\n",
              "next_pymnt_d                                   object\n",
              "mths_since_last_major_derog                   float64\n",
              "application_type                               object\n",
              "annual_inc_joint                              float64\n",
              "dti_joint                                     float64\n",
              "verification_status_joint                      object\n",
              "open_acc_6m                                   float64\n",
              "open_act_il                                   float64\n",
              "open_il_12m                                   float64\n",
              "open_il_24m                                   float64\n",
              "mths_since_rcnt_il                            float64\n",
              "total_bal_il                                  float64\n",
              "il_util                                       float64\n",
              "open_rv_12m                                   float64\n",
              "open_rv_24m                                   float64\n",
              "max_bal_bc                                    float64\n",
              "all_util                                      float64\n",
              "inq_fi                                        float64\n",
              "total_cu_tl                                   float64\n",
              "inq_last_12m                                  float64\n",
              "delinq_amnt                                   float64\n",
              "mths_since_recent_bc_dlq                      float64\n",
              "mths_since_recent_revol_delinq                float64\n",
              "revol_bal_joint                               float64\n",
              "sec_app_fico_range_low                        float64\n",
              "sec_app_fico_range_high                       float64\n",
              "sec_app_earliest_cr_line                       object\n",
              "sec_app_inq_last_6mths                        float64\n",
              "sec_app_mort_acc                              float64\n",
              "sec_app_open_acc                              float64\n",
              "sec_app_revol_util                            float64\n",
              "sec_app_open_act_il                           float64\n",
              "sec_app_num_rev_accts                         float64\n",
              "sec_app_chargeoff_within_12_mths              float64\n",
              "sec_app_collections_12_mths_ex_med            float64\n",
              "sec_app_mths_since_last_major_derog           float64\n",
              "hardship_type                                  object\n",
              "hardship_reason                                object\n",
              "hardship_status                                object\n",
              "deferral_term                                 float64\n",
              "hardship_amount                               float64\n",
              "hardship_start_date                            object\n",
              "hardship_end_date                              object\n",
              "payment_plan_start_date                        object\n",
              "hardship_length                               float64\n",
              "hardship_dpd                                  float64\n",
              "hardship_loan_status                           object\n",
              "orig_projected_additional_accrued_interest    float64\n",
              "hardship_payoff_balance_amount                float64\n",
              "hardship_last_payment_amount                  float64\n",
              "debt_settlement_flag_date                      object\n",
              "settlement_status                              object\n",
              "settlement_date                                object\n",
              "settlement_amount                             float64\n",
              "settlement_percentage                         float64\n",
              "settlement_term                               float64\n",
              "dtype: object"
            ]
          },
          "metadata": {
            "tags": []
          },
          "execution_count": 32
        }
      ]
    },
    {
      "cell_type": "code",
      "metadata": {
        "colab": {
          "base_uri": "https://localhost:8080/",
          "height": 1000
        },
        "id": "wS2QIoDlu9vO",
        "outputId": "03680745-1159-4279-a508-313c0ca2bdff"
      },
      "source": [
        "import matplotlib.pyplot as plt\n",
        "\n",
        "List = [\"loan_amnt\",\"int_rate\",\"installment\",\"annual_inc\", \"dti\", \"pub_rec\", \"fico_range_low\", \"fico_range_high\", \"delinq_amnt\"]\n",
        "\n",
        "for column in List:\n",
        "    plt.figure()\n",
        "    plt.title(column)\n",
        "    df_Accepted.boxplot([column])"
      ],
      "execution_count": null,
      "outputs": [
        {
          "output_type": "display_data",
          "data": {
            "image/png": "[encoded data removed]",
            "text/plain": [
              "<Figure size 432x288 with 1 Axes>"
            ]
          },
          "metadata": {
            "tags": []
          }
        },
        {
          "output_type": "display_data",
          "data": {
            "image/png": "[encoded data removed]",
            "text/plain": [
              "<Figure size 432x288 with 1 Axes>"
            ]
          },
          "metadata": {
            "tags": []
          }
        },
        {
          "output_type": "display_data",
          "data": {
            "image/png": "[encoded data removed]",
            "text/plain": [
              "<Figure size 432x288 with 1 Axes>"
            ]
          },
          "metadata": {
            "tags": []
          }
        },
        {
          "output_type": "display_data",
          "data": {
            "image/png": "[encoded data removed]",
            "text/plain": [
              "<Figure size 432x288 with 1 Axes>"
            ]
          },
          "metadata": {
            "tags": []
          }
        },
        {
          "output_type": "display_data",
          "data": {
            "image/png": "[encoded data removed]",
            "text/plain": [
              "<Figure size 432x288 with 1 Axes>"
            ]
          },
          "metadata": {
            "tags": []
          }
        },
        {
          "output_type": "display_data",
          "data": {
            "image/png": "[encoded data removed]",
            "text/plain": [
              "<Figure size 432x288 with 1 Axes>"
            ]
          },
          "metadata": {
            "tags": []
          }
        },
        {
          "output_type": "display_data",
          "data": {
            "image/png": "[encoded data removed]",
            "text/plain": [
              "<Figure size 432x288 with 1 Axes>"
            ]
          },
          "metadata": {
            "tags": []
          }
        },
        {
          "output_type": "display_data",
          "data": {
            "image/png": "[encoded data removed]",
            "text/plain": [
              "<Figure size 432x288 with 1 Axes>"
            ]
          },
          "metadata": {
            "tags": []
          }
        },
        {
          "output_type": "display_data",
          "data": {
            "image/png": "[encoded data removed]",
            "text/plain": [
              "<Figure size 432x288 with 1 Axes>"
            ]
          },
          "metadata": {
            "tags": []
          }
        }
      ]
    },
    {
      "cell_type": "code",
      "metadata": {
        "colab": {
          "base_uri": "https://localhost:8080/"
        },
        "id": "fWOWlnhtvAyO",
        "outputId": "b7ad9dae-a489-44ac-b634-e8cfd19aa326"
      },
      "source": [
        "df_Accepted.isnull().sum()"
      ],
      "execution_count": null,
      "outputs": [
        {
          "output_type": "execute_result",
          "data": {
            "text/plain": [
              "member_id                                     1345310\n",
              "loan_amnt                                           0\n",
              "term                                                0\n",
              "int_rate                                            0\n",
              "installment                                         0\n",
              "grade                                               0\n",
              "sub_grade                                           0\n",
              "emp_title                                       85785\n",
              "emp_length                                      78511\n",
              "home_ownership                                      0\n",
              "annual_inc                                          0\n",
              "loan_status                                         0\n",
              "desc                                          1221778\n",
              "purpose                                             0\n",
              "zip_code                                            1\n",
              "addr_state                                          0\n",
              "dti                                               374\n",
              "fico_range_low                                      0\n",
              "fico_range_high                                     0\n",
              "mths_since_last_delinq                         678743\n",
              "mths_since_last_record                        1116755\n",
              "pub_rec                                             0\n",
              "next_pymnt_d                                  1345310\n",
              "mths_since_last_major_derog                    991560\n",
              "application_type                                    0\n",
              "annual_inc_joint                              1319510\n",
              "dti_joint                                     1319513\n",
              "verification_status_joint                     1319715\n",
              "open_acc_6m                                    807713\n",
              "open_act_il                                    807712\n",
              "open_il_12m                                    807712\n",
              "open_il_24m                                    807712\n",
              "mths_since_rcnt_il                             821928\n",
              "total_bal_il                                   807712\n",
              "il_util                                        880294\n",
              "open_rv_12m                                    807712\n",
              "open_rv_24m                                    807712\n",
              "max_bal_bc                                     807712\n",
              "all_util                                       807765\n",
              "inq_fi                                         807712\n",
              "total_cu_tl                                    807713\n",
              "inq_last_12m                                   807713\n",
              "delinq_amnt                                         0\n",
              "mths_since_recent_bc_dlq                      1026290\n",
              "mths_since_recent_revol_delinq                 895348\n",
              "revol_bal_joint                               1326681\n",
              "sec_app_fico_range_low                        1326680\n",
              "sec_app_fico_range_high                       1326680\n",
              "sec_app_earliest_cr_line                      1326680\n",
              "sec_app_inq_last_6mths                        1326680\n",
              "sec_app_mort_acc                              1326680\n",
              "sec_app_open_acc                              1326680\n",
              "sec_app_revol_util                            1327008\n",
              "sec_app_open_act_il                           1326680\n",
              "sec_app_num_rev_accts                         1326680\n",
              "sec_app_chargeoff_within_12_mths              1326680\n",
              "sec_app_collections_12_mths_ex_med            1326680\n",
              "sec_app_mths_since_last_major_derog           1338665\n",
              "hardship_type                                 1339556\n",
              "hardship_reason                               1339556\n",
              "hardship_status                               1339556\n",
              "deferral_term                                 1339556\n",
              "hardship_amount                               1339556\n",
              "hardship_start_date                           1339556\n",
              "hardship_end_date                             1339556\n",
              "payment_plan_start_date                       1339556\n",
              "hardship_length                               1339556\n",
              "hardship_dpd                                  1339556\n",
              "hardship_loan_status                          1339556\n",
              "orig_projected_additional_accrued_interest    1341551\n",
              "hardship_payoff_balance_amount                1339556\n",
              "hardship_last_payment_amount                  1339556\n",
              "debt_settlement_flag_date                     1312034\n",
              "settlement_status                             1312034\n",
              "settlement_date                               1312034\n",
              "settlement_amount                             1312034\n",
              "settlement_percentage                         1312034\n",
              "settlement_term                               1312034\n",
              "dtype: int64"
            ]
          },
          "metadata": {
            "tags": []
          },
          "execution_count": 34
        }
      ]
    },
    {
      "cell_type": "markdown",
      "metadata": {
        "id": "V4AJmhVrvHTe"
      },
      "source": [
        "**1) LOAN AMOUNT:**"
      ]
    },
    {
      "cell_type": "code",
      "metadata": {
        "colab": {
          "base_uri": "https://localhost:8080/"
        },
        "id": "s2JIbdmyvD6A",
        "outputId": "ac34695a-1e9e-439f-fc13-750b637782b5"
      },
      "source": [
        "df_Accepted[\"loan_amnt\"].describe()"
      ],
      "execution_count": null,
      "outputs": [
        {
          "output_type": "execute_result",
          "data": {
            "text/plain": [
              "count   1345310.000\n",
              "mean      14419.972\n",
              "std        8717.051\n",
              "min         500.000\n",
              "25%        8000.000\n",
              "50%       12000.000\n",
              "75%       20000.000\n",
              "max       40000.000\n",
              "Name: loan_amnt, dtype: float64"
            ]
          },
          "metadata": {
            "tags": []
          },
          "execution_count": 35
        }
      ]
    },
    {
      "cell_type": "markdown",
      "metadata": {
        "id": "sn9Uo0mzvPt-"
      },
      "source": [
        "As per the current status of lending club, they've not provided loan less than 1000 Dollars and more than 40000 Dollars to any customers. So let's find the records beyond these limit and drop them."
      ]
    },
    {
      "cell_type": "code",
      "metadata": {
        "colab": {
          "base_uri": "https://localhost:8080/"
        },
        "id": "1L5SslWUvNyr",
        "outputId": "ad924c23-64b9-4ead-82bc-ea7df2206e08"
      },
      "source": [
        "df_Accepted[\"loan_status\"][df_Accepted[\"loan_amnt\"]<1000].value_counts()"
      ],
      "execution_count": null,
      "outputs": [
        {
          "output_type": "execute_result",
          "data": {
            "text/plain": [
              "Fully Paid     11\n",
              "Charged Off     1\n",
              "Name: loan_status, dtype: int64"
            ]
          },
          "metadata": {
            "tags": []
          },
          "execution_count": 36
        }
      ]
    },
    {
      "cell_type": "code",
      "metadata": {
        "id": "8K-wx_3jvTBQ"
      },
      "source": [
        "Drop_loan_amount = df_Accepted[\"loan_status\"][df_Accepted[\"loan_amnt\"]<1000].index"
      ],
      "execution_count": null,
      "outputs": []
    },
    {
      "cell_type": "code",
      "metadata": {
        "id": "PKF_ZwVZvbsH"
      },
      "source": [
        "df_Accepted.drop(labels= Drop_loan_amount, axis=0, inplace=True)\n",
        "\n"
      ],
      "execution_count": null,
      "outputs": []
    },
    {
      "cell_type": "code",
      "metadata": {
        "colab": {
          "base_uri": "https://localhost:8080/"
        },
        "id": "-zfApu-QviyB",
        "outputId": "562f8a48-f05e-4fc2-ab17-69956af4bf62"
      },
      "source": [
        "df_Accepted[\"loan_status\"][df_Accepted[\"loan_amnt\"]>40000].value_counts()\n",
        "\n"
      ],
      "execution_count": null,
      "outputs": [
        {
          "output_type": "execute_result",
          "data": {
            "text/plain": [
              "Series([], Name: loan_status, dtype: int64)"
            ]
          },
          "metadata": {
            "tags": []
          },
          "execution_count": 40
        }
      ]
    },
    {
      "cell_type": "code",
      "metadata": {
        "colab": {
          "base_uri": "https://localhost:8080/",
          "height": 162
        },
        "id": "KnFMHdYXvq4i",
        "outputId": "b6eaefda-3928-4fd2-bbf4-169e06c185a0"
      },
      "source": [
        "pd.pivot_table(df_Accepted, index='loan_status', aggfunc='mean')\n",
        "\n"
      ],
      "execution_count": null,
      "outputs": [
        {
          "output_type": "execute_result",
          "data": {
            "text/html": [
              "<div>\n",
              "<style scoped>\n",
              "    .dataframe tbody tr th:only-of-type {\n",
              "        vertical-align: middle;\n",
              "    }\n",
              "\n",
              "    .dataframe tbody tr th {\n",
              "        vertical-align: top;\n",
              "    }\n",
              "\n",
              "    .dataframe thead th {\n",
              "        text-align: right;\n",
              "    }\n",
              "</style>\n",
              "<table border=\"1\" class=\"dataframe\">\n",
              "  <thead>\n",
              "    <tr style=\"text-align: right;\">\n",
              "      <th></th>\n",
              "      <th>all_util</th>\n",
              "      <th>annual_inc</th>\n",
              "      <th>annual_inc_joint</th>\n",
              "      <th>deferral_term</th>\n",
              "      <th>delinq_amnt</th>\n",
              "      <th>dti</th>\n",
              "      <th>dti_joint</th>\n",
              "      <th>fico_range_high</th>\n",
              "      <th>fico_range_low</th>\n",
              "      <th>hardship_amount</th>\n",
              "      <th>hardship_dpd</th>\n",
              "      <th>hardship_last_payment_amount</th>\n",
              "      <th>hardship_length</th>\n",
              "      <th>hardship_payoff_balance_amount</th>\n",
              "      <th>il_util</th>\n",
              "      <th>inq_fi</th>\n",
              "      <th>inq_last_12m</th>\n",
              "      <th>installment</th>\n",
              "      <th>int_rate</th>\n",
              "      <th>loan_amnt</th>\n",
              "      <th>max_bal_bc</th>\n",
              "      <th>mths_since_last_delinq</th>\n",
              "      <th>mths_since_last_major_derog</th>\n",
              "      <th>mths_since_last_record</th>\n",
              "      <th>mths_since_rcnt_il</th>\n",
              "      <th>mths_since_recent_bc_dlq</th>\n",
              "      <th>mths_since_recent_revol_delinq</th>\n",
              "      <th>open_acc_6m</th>\n",
              "      <th>open_act_il</th>\n",
              "      <th>open_il_12m</th>\n",
              "      <th>open_il_24m</th>\n",
              "      <th>open_rv_12m</th>\n",
              "      <th>open_rv_24m</th>\n",
              "      <th>orig_projected_additional_accrued_interest</th>\n",
              "      <th>pub_rec</th>\n",
              "      <th>revol_bal_joint</th>\n",
              "      <th>sec_app_chargeoff_within_12_mths</th>\n",
              "      <th>sec_app_collections_12_mths_ex_med</th>\n",
              "      <th>sec_app_fico_range_high</th>\n",
              "      <th>sec_app_fico_range_low</th>\n",
              "      <th>sec_app_inq_last_6mths</th>\n",
              "      <th>sec_app_mort_acc</th>\n",
              "      <th>sec_app_mths_since_last_major_derog</th>\n",
              "      <th>sec_app_num_rev_accts</th>\n",
              "      <th>sec_app_open_acc</th>\n",
              "      <th>sec_app_open_act_il</th>\n",
              "      <th>sec_app_revol_util</th>\n",
              "      <th>settlement_amount</th>\n",
              "      <th>settlement_percentage</th>\n",
              "      <th>settlement_term</th>\n",
              "      <th>total_bal_il</th>\n",
              "      <th>total_cu_tl</th>\n",
              "    </tr>\n",
              "    <tr>\n",
              "      <th>loan_status</th>\n",
              "      <th></th>\n",
              "      <th></th>\n",
              "      <th></th>\n",
              "      <th></th>\n",
              "      <th></th>\n",
              "      <th></th>\n",
              "      <th></th>\n",
              "      <th></th>\n",
              "      <th></th>\n",
              "      <th></th>\n",
              "      <th></th>\n",
              "      <th></th>\n",
              "      <th></th>\n",
              "      <th></th>\n",
              "      <th></th>\n",
              "      <th></th>\n",
              "      <th></th>\n",
              "      <th></th>\n",
              "      <th></th>\n",
              "      <th></th>\n",
              "      <th></th>\n",
              "      <th></th>\n",
              "      <th></th>\n",
              "      <th></th>\n",
              "      <th></th>\n",
              "      <th></th>\n",
              "      <th></th>\n",
              "      <th></th>\n",
              "      <th></th>\n",
              "      <th></th>\n",
              "      <th></th>\n",
              "      <th></th>\n",
              "      <th></th>\n",
              "      <th></th>\n",
              "      <th></th>\n",
              "      <th></th>\n",
              "      <th></th>\n",
              "      <th></th>\n",
              "      <th></th>\n",
              "      <th></th>\n",
              "      <th></th>\n",
              "      <th></th>\n",
              "      <th></th>\n",
              "      <th></th>\n",
              "      <th></th>\n",
              "      <th></th>\n",
              "      <th></th>\n",
              "      <th></th>\n",
              "      <th></th>\n",
              "      <th></th>\n",
              "      <th></th>\n",
              "      <th></th>\n",
              "    </tr>\n",
              "  </thead>\n",
              "  <tbody>\n",
              "    <tr>\n",
              "      <th>Charged Off</th>\n",
              "      <td>61.651</td>\n",
              "      <td>70400.961</td>\n",
              "      <td>107888.924</td>\n",
              "      <td>3.000</td>\n",
              "      <td>19.434</td>\n",
              "      <td>20.171</td>\n",
              "      <td>20.802</td>\n",
              "      <td>691.850</td>\n",
              "      <td>687.850</td>\n",
              "      <td>161.819</td>\n",
              "      <td>15.495</td>\n",
              "      <td>195.746</td>\n",
              "      <td>3.000</td>\n",
              "      <td>11779.972</td>\n",
              "      <td>73.370</td>\n",
              "      <td>1.207</td>\n",
              "      <td>2.590</td>\n",
              "      <td>465.150</td>\n",
              "      <td>15.711</td>\n",
              "      <td>15565.110</td>\n",
              "      <td>5154.823</td>\n",
              "      <td>33.783</td>\n",
              "      <td>43.429</td>\n",
              "      <td>71.048</td>\n",
              "      <td>18.612</td>\n",
              "      <td>39.151</td>\n",
              "      <td>35.272</td>\n",
              "      <td>1.184</td>\n",
              "      <td>2.836</td>\n",
              "      <td>0.853</td>\n",
              "      <td>1.865</td>\n",
              "      <td>1.607</td>\n",
              "      <td>3.418</td>\n",
              "      <td>463.781</td>\n",
              "      <td>0.247</td>\n",
              "      <td>31532.605</td>\n",
              "      <td>0.107</td>\n",
              "      <td>0.168</td>\n",
              "      <td>649.886</td>\n",
              "      <td>645.886</td>\n",
              "      <td>1.039</td>\n",
              "      <td>1.216</td>\n",
              "      <td>30.566</td>\n",
              "      <td>12.257</td>\n",
              "      <td>11.288</td>\n",
              "      <td>3.076</td>\n",
              "      <td>63.801</td>\n",
              "      <td>5030.061</td>\n",
              "      <td>47.691</td>\n",
              "      <td>13.159</td>\n",
              "      <td>35664.203</td>\n",
              "      <td>1.536</td>\n",
              "    </tr>\n",
              "    <tr>\n",
              "      <th>Fully Paid</th>\n",
              "      <td>57.177</td>\n",
              "      <td>77706.465</td>\n",
              "      <td>120478.715</td>\n",
              "      <td>3.000</td>\n",
              "      <td>13.764</td>\n",
              "      <td>17.812</td>\n",
              "      <td>18.275</td>\n",
              "      <td>702.264</td>\n",
              "      <td>698.264</td>\n",
              "      <td>112.958</td>\n",
              "      <td>10.245</td>\n",
              "      <td>158.190</td>\n",
              "      <td>3.000</td>\n",
              "      <td>9114.143</td>\n",
              "      <td>70.855</td>\n",
              "      <td>1.061</td>\n",
              "      <td>2.233</td>\n",
              "      <td>431.327</td>\n",
              "      <td>12.623</td>\n",
              "      <td>14134.507</td>\n",
              "      <td>5647.843</td>\n",
              "      <td>34.450</td>\n",
              "      <td>43.778</td>\n",
              "      <td>70.519</td>\n",
              "      <td>19.873</td>\n",
              "      <td>39.786</td>\n",
              "      <td>35.943</td>\n",
              "      <td>1.012</td>\n",
              "      <td>2.780</td>\n",
              "      <td>0.754</td>\n",
              "      <td>1.708</td>\n",
              "      <td>1.367</td>\n",
              "      <td>2.886</td>\n",
              "      <td>339.222</td>\n",
              "      <td>0.207</td>\n",
              "      <td>31565.882</td>\n",
              "      <td>0.040</td>\n",
              "      <td>0.061</td>\n",
              "      <td>676.584</td>\n",
              "      <td>672.584</td>\n",
              "      <td>0.658</td>\n",
              "      <td>1.820</td>\n",
              "      <td>38.879</td>\n",
              "      <td>12.979</td>\n",
              "      <td>11.311</td>\n",
              "      <td>2.902</td>\n",
              "      <td>55.058</td>\n",
              "      <td>4179.508</td>\n",
              "      <td>52.008</td>\n",
              "      <td>6.600</td>\n",
              "      <td>35918.911</td>\n",
              "      <td>1.630</td>\n",
              "    </tr>\n",
              "  </tbody>\n",
              "</table>\n",
              "</div>"
            ],
            "text/plain": [
              "             all_util  annual_inc  annual_inc_joint  deferral_term  \\\n",
              "loan_status                                                          \n",
              "Charged Off    61.651   70400.961        107888.924          3.000   \n",
              "Fully Paid     57.177   77706.465        120478.715          3.000   \n",
              "\n",
              "             delinq_amnt    dti  dti_joint  fico_range_high  fico_range_low  \\\n",
              "loan_status                                                                   \n",
              "Charged Off       19.434 20.171     20.802          691.850         687.850   \n",
              "Fully Paid        13.764 17.812     18.275          702.264         698.264   \n",
              "\n",
              "             hardship_amount  hardship_dpd  hardship_last_payment_amount  \\\n",
              "loan_status                                                                \n",
              "Charged Off          161.819        15.495                       195.746   \n",
              "Fully Paid           112.958        10.245                       158.190   \n",
              "\n",
              "             hardship_length  hardship_payoff_balance_amount  il_util  inq_fi  \\\n",
              "loan_status                                                                     \n",
              "Charged Off            3.000                       11779.972   73.370   1.207   \n",
              "Fully Paid             3.000                        9114.143   70.855   1.061   \n",
              "\n",
              "             inq_last_12m  installment  int_rate  loan_amnt  max_bal_bc  \\\n",
              "loan_status                                                               \n",
              "Charged Off         2.590      465.150    15.711  15565.110    5154.823   \n",
              "Fully Paid          2.233      431.327    12.623  14134.507    5647.843   \n",
              "\n",
              "             mths_since_last_delinq  mths_since_last_major_derog  \\\n",
              "loan_status                                                        \n",
              "Charged Off                  33.783                       43.429   \n",
              "Fully Paid                   34.450                       43.778   \n",
              "\n",
              "             mths_since_last_record  mths_since_rcnt_il  \\\n",
              "loan_status                                               \n",
              "Charged Off                  71.048              18.612   \n",
              "Fully Paid                   70.519              19.873   \n",
              "\n",
              "             mths_since_recent_bc_dlq  mths_since_recent_revol_delinq  \\\n",
              "loan_status                                                             \n",
              "Charged Off                    39.151                          35.272   \n",
              "Fully Paid                     39.786                          35.943   \n",
              "\n",
              "             open_acc_6m  open_act_il  open_il_12m  open_il_24m  open_rv_12m  \\\n",
              "loan_status                                                                    \n",
              "Charged Off        1.184        2.836        0.853        1.865        1.607   \n",
              "Fully Paid         1.012        2.780        0.754        1.708        1.367   \n",
              "\n",
              "             open_rv_24m  orig_projected_additional_accrued_interest  pub_rec  \\\n",
              "loan_status                                                                     \n",
              "Charged Off        3.418                                     463.781    0.247   \n",
              "Fully Paid         2.886                                     339.222    0.207   \n",
              "\n",
              "             revol_bal_joint  sec_app_chargeoff_within_12_mths  \\\n",
              "loan_status                                                      \n",
              "Charged Off        31532.605                             0.107   \n",
              "Fully Paid         31565.882                             0.040   \n",
              "\n",
              "             sec_app_collections_12_mths_ex_med  sec_app_fico_range_high  \\\n",
              "loan_status                                                                \n",
              "Charged Off                               0.168                  649.886   \n",
              "Fully Paid                                0.061                  676.584   \n",
              "\n",
              "             sec_app_fico_range_low  sec_app_inq_last_6mths  sec_app_mort_acc  \\\n",
              "loan_status                                                                     \n",
              "Charged Off                 645.886                   1.039             1.216   \n",
              "Fully Paid                  672.584                   0.658             1.820   \n",
              "\n",
              "             sec_app_mths_since_last_major_derog  sec_app_num_rev_accts  \\\n",
              "loan_status                                                               \n",
              "Charged Off                               30.566                 12.257   \n",
              "Fully Paid                                38.879                 12.979   \n",
              "\n",
              "             sec_app_open_acc  sec_app_open_act_il  sec_app_revol_util  \\\n",
              "loan_status                                                              \n",
              "Charged Off            11.288                3.076              63.801   \n",
              "Fully Paid             11.311                2.902              55.058   \n",
              "\n",
              "             settlement_amount  settlement_percentage  settlement_term  \\\n",
              "loan_status                                                              \n",
              "Charged Off           5030.061                 47.691           13.159   \n",
              "Fully Paid            4179.508                 52.008            6.600   \n",
              "\n",
              "             total_bal_il  total_cu_tl  \n",
              "loan_status                             \n",
              "Charged Off     35664.203        1.536  \n",
              "Fully Paid      35918.911        1.630  "
            ]
          },
          "metadata": {
            "tags": []
          },
          "execution_count": 42
        }
      ]
    },
    {
      "cell_type": "code",
      "metadata": {
        "colab": {
          "base_uri": "https://localhost:8080/"
        },
        "id": "7Ze0cbsXvtrP",
        "outputId": "bb6a6b7c-0359-423a-c1da-3ee90dec40bb"
      },
      "source": [
        "df_Accepted.shape"
      ],
      "execution_count": null,
      "outputs": [
        {
          "output_type": "execute_result",
          "data": {
            "text/plain": [
              "(1345298, 78)"
            ]
          },
          "metadata": {
            "tags": []
          },
          "execution_count": 43
        }
      ]
    },
    {
      "cell_type": "code",
      "metadata": {
        "colab": {
          "base_uri": "https://localhost:8080/",
          "height": 317
        },
        "id": "hopmsxRNvzYI",
        "outputId": "9efdb07d-917a-43f3-e043-2a9ef6cce593"
      },
      "source": [
        "df_Accepted.describe()"
      ],
      "execution_count": null,
      "outputs": [
        {
          "output_type": "execute_result",
          "data": {
            "text/html": [
              "<div>\n",
              "<style scoped>\n",
              "    .dataframe tbody tr th:only-of-type {\n",
              "        vertical-align: middle;\n",
              "    }\n",
              "\n",
              "    .dataframe tbody tr th {\n",
              "        vertical-align: top;\n",
              "    }\n",
              "\n",
              "    .dataframe thead th {\n",
              "        text-align: right;\n",
              "    }\n",
              "</style>\n",
              "<table border=\"1\" class=\"dataframe\">\n",
              "  <thead>\n",
              "    <tr style=\"text-align: right;\">\n",
              "      <th></th>\n",
              "      <th>member_id</th>\n",
              "      <th>loan_amnt</th>\n",
              "      <th>int_rate</th>\n",
              "      <th>installment</th>\n",
              "      <th>annual_inc</th>\n",
              "      <th>dti</th>\n",
              "      <th>fico_range_low</th>\n",
              "      <th>fico_range_high</th>\n",
              "      <th>mths_since_last_delinq</th>\n",
              "      <th>mths_since_last_record</th>\n",
              "      <th>pub_rec</th>\n",
              "      <th>mths_since_last_major_derog</th>\n",
              "      <th>annual_inc_joint</th>\n",
              "      <th>dti_joint</th>\n",
              "      <th>open_acc_6m</th>\n",
              "      <th>open_act_il</th>\n",
              "      <th>open_il_12m</th>\n",
              "      <th>open_il_24m</th>\n",
              "      <th>mths_since_rcnt_il</th>\n",
              "      <th>total_bal_il</th>\n",
              "      <th>il_util</th>\n",
              "      <th>open_rv_12m</th>\n",
              "      <th>open_rv_24m</th>\n",
              "      <th>max_bal_bc</th>\n",
              "      <th>all_util</th>\n",
              "      <th>inq_fi</th>\n",
              "      <th>total_cu_tl</th>\n",
              "      <th>inq_last_12m</th>\n",
              "      <th>delinq_amnt</th>\n",
              "      <th>mths_since_recent_bc_dlq</th>\n",
              "      <th>mths_since_recent_revol_delinq</th>\n",
              "      <th>revol_bal_joint</th>\n",
              "      <th>sec_app_fico_range_low</th>\n",
              "      <th>sec_app_fico_range_high</th>\n",
              "      <th>sec_app_inq_last_6mths</th>\n",
              "      <th>sec_app_mort_acc</th>\n",
              "      <th>sec_app_open_acc</th>\n",
              "      <th>sec_app_revol_util</th>\n",
              "      <th>sec_app_open_act_il</th>\n",
              "      <th>sec_app_num_rev_accts</th>\n",
              "      <th>sec_app_chargeoff_within_12_mths</th>\n",
              "      <th>sec_app_collections_12_mths_ex_med</th>\n",
              "      <th>sec_app_mths_since_last_major_derog</th>\n",
              "      <th>deferral_term</th>\n",
              "      <th>hardship_amount</th>\n",
              "      <th>hardship_length</th>\n",
              "      <th>hardship_dpd</th>\n",
              "      <th>orig_projected_additional_accrued_interest</th>\n",
              "      <th>hardship_payoff_balance_amount</th>\n",
              "      <th>hardship_last_payment_amount</th>\n",
              "      <th>settlement_amount</th>\n",
              "      <th>settlement_percentage</th>\n",
              "      <th>settlement_term</th>\n",
              "    </tr>\n",
              "  </thead>\n",
              "  <tbody>\n",
              "    <tr>\n",
              "      <th>count</th>\n",
              "      <td>0.000</td>\n",
              "      <td>1345298.000</td>\n",
              "      <td>1345298.000</td>\n",
              "      <td>1345298.000</td>\n",
              "      <td>1345298.000</td>\n",
              "      <td>1344924.000</td>\n",
              "      <td>1345298.000</td>\n",
              "      <td>1345298.000</td>\n",
              "      <td>666558.000</td>\n",
              "      <td>228546.000</td>\n",
              "      <td>1345298.000</td>\n",
              "      <td>353750.000</td>\n",
              "      <td>25800.000</td>\n",
              "      <td>25797.000</td>\n",
              "      <td>537597.000</td>\n",
              "      <td>537598.000</td>\n",
              "      <td>537598.000</td>\n",
              "      <td>537598.000</td>\n",
              "      <td>523382.000</td>\n",
              "      <td>537598.000</td>\n",
              "      <td>465016.000</td>\n",
              "      <td>537598.000</td>\n",
              "      <td>537598.000</td>\n",
              "      <td>537598.000</td>\n",
              "      <td>537545.000</td>\n",
              "      <td>537598.000</td>\n",
              "      <td>537597.000</td>\n",
              "      <td>537597.000</td>\n",
              "      <td>1345298.000</td>\n",
              "      <td>319020.000</td>\n",
              "      <td>449962.000</td>\n",
              "      <td>18629.000</td>\n",
              "      <td>18630.000</td>\n",
              "      <td>18630.000</td>\n",
              "      <td>18630.000</td>\n",
              "      <td>18630.000</td>\n",
              "      <td>18630.000</td>\n",
              "      <td>18302.000</td>\n",
              "      <td>18630.000</td>\n",
              "      <td>18630.000</td>\n",
              "      <td>18630.000</td>\n",
              "      <td>18630.000</td>\n",
              "      <td>6645.000</td>\n",
              "      <td>5754.000</td>\n",
              "      <td>5754.000</td>\n",
              "      <td>5754.000</td>\n",
              "      <td>5754.000</td>\n",
              "      <td>3759.000</td>\n",
              "      <td>5754.000</td>\n",
              "      <td>5754.000</td>\n",
              "      <td>33276.000</td>\n",
              "      <td>33276.000</td>\n",
              "      <td>33276.000</td>\n",
              "    </tr>\n",
              "    <tr>\n",
              "      <th>mean</th>\n",
              "      <td>nan</td>\n",
              "      <td>14420.095</td>\n",
              "      <td>13.240</td>\n",
              "      <td>438.079</td>\n",
              "      <td>76248.088</td>\n",
              "      <td>18.283</td>\n",
              "      <td>696.185</td>\n",
              "      <td>700.185</td>\n",
              "      <td>34.312</td>\n",
              "      <td>70.640</td>\n",
              "      <td>0.215</td>\n",
              "      <td>43.701</td>\n",
              "      <td>117382.992</td>\n",
              "      <td>18.897</td>\n",
              "      <td>1.051</td>\n",
              "      <td>2.793</td>\n",
              "      <td>0.776</td>\n",
              "      <td>1.743</td>\n",
              "      <td>19.593</td>\n",
              "      <td>35862.010</td>\n",
              "      <td>71.422</td>\n",
              "      <td>1.421</td>\n",
              "      <td>3.005</td>\n",
              "      <td>5537.703</td>\n",
              "      <td>58.176</td>\n",
              "      <td>1.093</td>\n",
              "      <td>1.609</td>\n",
              "      <td>2.312</td>\n",
              "      <td>14.896</td>\n",
              "      <td>39.653</td>\n",
              "      <td>35.805</td>\n",
              "      <td>31557.638</td>\n",
              "      <td>665.970</td>\n",
              "      <td>669.970</td>\n",
              "      <td>0.752</td>\n",
              "      <td>1.670</td>\n",
              "      <td>11.305</td>\n",
              "      <td>57.196</td>\n",
              "      <td>2.945</td>\n",
              "      <td>12.800</td>\n",
              "      <td>0.057</td>\n",
              "      <td>0.087</td>\n",
              "      <td>36.357</td>\n",
              "      <td>3.000</td>\n",
              "      <td>147.434</td>\n",
              "      <td>3.000</td>\n",
              "      <td>13.949</td>\n",
              "      <td>410.697</td>\n",
              "      <td>10995.142</td>\n",
              "      <td>184.689</td>\n",
              "      <td>5029.933</td>\n",
              "      <td>47.692</td>\n",
              "      <td>13.158</td>\n",
              "    </tr>\n",
              "    <tr>\n",
              "      <th>std</th>\n",
              "      <td>nan</td>\n",
              "      <td>8716.993</td>\n",
              "      <td>4.769</td>\n",
              "      <td>261.511</td>\n",
              "      <td>69925.231</td>\n",
              "      <td>11.160</td>\n",
              "      <td>31.852</td>\n",
              "      <td>31.853</td>\n",
              "      <td>21.919</td>\n",
              "      <td>26.576</td>\n",
              "      <td>0.602</td>\n",
              "      <td>21.378</td>\n",
              "      <td>59783.831</td>\n",
              "      <td>7.723</td>\n",
              "      <td>1.209</td>\n",
              "      <td>2.990</td>\n",
              "      <td>0.993</td>\n",
              "      <td>1.686</td>\n",
              "      <td>24.872</td>\n",
              "      <td>42906.627</td>\n",
              "      <td>22.909</td>\n",
              "      <td>1.575</td>\n",
              "      <td>2.701</td>\n",
              "      <td>5471.949</td>\n",
              "      <td>20.935</td>\n",
              "      <td>1.586</td>\n",
              "      <td>2.825</td>\n",
              "      <td>2.542</td>\n",
              "      <td>809.529</td>\n",
              "      <td>22.698</td>\n",
              "      <td>22.428</td>\n",
              "      <td>26885.409</td>\n",
              "      <td>45.873</td>\n",
              "      <td>45.873</td>\n",
              "      <td>1.092</td>\n",
              "      <td>1.839</td>\n",
              "      <td>6.504</td>\n",
              "      <td>26.479</td>\n",
              "      <td>3.195</td>\n",
              "      <td>8.340</td>\n",
              "      <td>0.463</td>\n",
              "      <td>0.430</td>\n",
              "      <td>23.985</td>\n",
              "      <td>0.000</td>\n",
              "      <td>128.469</td>\n",
              "      <td>0.000</td>\n",
              "      <td>9.777</td>\n",
              "      <td>357.512</td>\n",
              "      <td>7474.257</td>\n",
              "      <td>196.460</td>\n",
              "      <td>3684.827</td>\n",
              "      <td>7.306</td>\n",
              "      <td>8.236</td>\n",
              "    </tr>\n",
              "    <tr>\n",
              "      <th>min</th>\n",
              "      <td>nan</td>\n",
              "      <td>1000.000</td>\n",
              "      <td>5.310</td>\n",
              "      <td>4.930</td>\n",
              "      <td>0.000</td>\n",
              "      <td>-1.000</td>\n",
              "      <td>625.000</td>\n",
              "      <td>629.000</td>\n",
              "      <td>0.000</td>\n",
              "      <td>0.000</td>\n",
              "      <td>0.000</td>\n",
              "      <td>0.000</td>\n",
              "      <td>11000.000</td>\n",
              "      <td>0.000</td>\n",
              "      <td>0.000</td>\n",
              "      <td>0.000</td>\n",
              "      <td>0.000</td>\n",
              "      <td>0.000</td>\n",
              "      <td>0.000</td>\n",
              "      <td>0.000</td>\n",
              "      <td>0.000</td>\n",
              "      <td>0.000</td>\n",
              "      <td>0.000</td>\n",
              "      <td>0.000</td>\n",
              "      <td>0.000</td>\n",
              "      <td>0.000</td>\n",
              "      <td>0.000</td>\n",
              "      <td>0.000</td>\n",
              "      <td>0.000</td>\n",
              "      <td>0.000</td>\n",
              "      <td>0.000</td>\n",
              "      <td>0.000</td>\n",
              "      <td>540.000</td>\n",
              "      <td>544.000</td>\n",
              "      <td>0.000</td>\n",
              "      <td>0.000</td>\n",
              "      <td>0.000</td>\n",
              "      <td>0.000</td>\n",
              "      <td>0.000</td>\n",
              "      <td>0.000</td>\n",
              "      <td>0.000</td>\n",
              "      <td>0.000</td>\n",
              "      <td>0.000</td>\n",
              "      <td>3.000</td>\n",
              "      <td>0.640</td>\n",
              "      <td>3.000</td>\n",
              "      <td>0.000</td>\n",
              "      <td>1.920</td>\n",
              "      <td>55.730</td>\n",
              "      <td>0.010</td>\n",
              "      <td>44.210</td>\n",
              "      <td>0.200</td>\n",
              "      <td>0.000</td>\n",
              "    </tr>\n",
              "    <tr>\n",
              "      <th>25%</th>\n",
              "      <td>nan</td>\n",
              "      <td>8000.000</td>\n",
              "      <td>9.750</td>\n",
              "      <td>248.480</td>\n",
              "      <td>45785.145</td>\n",
              "      <td>11.790</td>\n",
              "      <td>670.000</td>\n",
              "      <td>674.000</td>\n",
              "      <td>16.000</td>\n",
              "      <td>53.000</td>\n",
              "      <td>0.000</td>\n",
              "      <td>27.000</td>\n",
              "      <td>80000.000</td>\n",
              "      <td>13.290</td>\n",
              "      <td>0.000</td>\n",
              "      <td>1.000</td>\n",
              "      <td>0.000</td>\n",
              "      <td>1.000</td>\n",
              "      <td>6.000</td>\n",
              "      <td>9605.000</td>\n",
              "      <td>58.000</td>\n",
              "      <td>0.000</td>\n",
              "      <td>1.000</td>\n",
              "      <td>2180.000</td>\n",
              "      <td>44.000</td>\n",
              "      <td>0.000</td>\n",
              "      <td>0.000</td>\n",
              "      <td>1.000</td>\n",
              "      <td>0.000</td>\n",
              "      <td>21.000</td>\n",
              "      <td>17.000</td>\n",
              "      <td>13837.000</td>\n",
              "      <td>640.000</td>\n",
              "      <td>644.000</td>\n",
              "      <td>0.000</td>\n",
              "      <td>0.000</td>\n",
              "      <td>7.000</td>\n",
              "      <td>37.900</td>\n",
              "      <td>1.000</td>\n",
              "      <td>7.000</td>\n",
              "      <td>0.000</td>\n",
              "      <td>0.000</td>\n",
              "      <td>15.000</td>\n",
              "      <td>3.000</td>\n",
              "      <td>53.267</td>\n",
              "      <td>3.000</td>\n",
              "      <td>5.000</td>\n",
              "      <td>147.450</td>\n",
              "      <td>5037.308</td>\n",
              "      <td>39.570</td>\n",
              "      <td>2228.618</td>\n",
              "      <td>45.000</td>\n",
              "      <td>6.000</td>\n",
              "    </tr>\n",
              "    <tr>\n",
              "      <th>50%</th>\n",
              "      <td>nan</td>\n",
              "      <td>12000.000</td>\n",
              "      <td>12.740</td>\n",
              "      <td>375.430</td>\n",
              "      <td>65000.000</td>\n",
              "      <td>17.610</td>\n",
              "      <td>690.000</td>\n",
              "      <td>694.000</td>\n",
              "      <td>31.000</td>\n",
              "      <td>72.000</td>\n",
              "      <td>0.000</td>\n",
              "      <td>44.000</td>\n",
              "      <td>106300.000</td>\n",
              "      <td>18.460</td>\n",
              "      <td>1.000</td>\n",
              "      <td>2.000</td>\n",
              "      <td>1.000</td>\n",
              "      <td>1.000</td>\n",
              "      <td>12.000</td>\n",
              "      <td>24062.000</td>\n",
              "      <td>75.000</td>\n",
              "      <td>1.000</td>\n",
              "      <td>2.000</td>\n",
              "      <td>4201.000</td>\n",
              "      <td>59.000</td>\n",
              "      <td>1.000</td>\n",
              "      <td>0.000</td>\n",
              "      <td>2.000</td>\n",
              "      <td>0.000</td>\n",
              "      <td>38.000</td>\n",
              "      <td>33.000</td>\n",
              "      <td>24659.000</td>\n",
              "      <td>665.000</td>\n",
              "      <td>669.000</td>\n",
              "      <td>0.000</td>\n",
              "      <td>1.000</td>\n",
              "      <td>10.000</td>\n",
              "      <td>59.300</td>\n",
              "      <td>2.000</td>\n",
              "      <td>11.000</td>\n",
              "      <td>0.000</td>\n",
              "      <td>0.000</td>\n",
              "      <td>35.000</td>\n",
              "      <td>3.000</td>\n",
              "      <td>109.820</td>\n",
              "      <td>3.000</td>\n",
              "      <td>15.000</td>\n",
              "      <td>303.450</td>\n",
              "      <td>9305.100</td>\n",
              "      <td>120.970</td>\n",
              "      <td>4174.680</td>\n",
              "      <td>45.000</td>\n",
              "      <td>14.000</td>\n",
              "    </tr>\n",
              "    <tr>\n",
              "      <th>75%</th>\n",
              "      <td>nan</td>\n",
              "      <td>20000.000</td>\n",
              "      <td>15.990</td>\n",
              "      <td>580.730</td>\n",
              "      <td>90000.000</td>\n",
              "      <td>24.060</td>\n",
              "      <td>710.000</td>\n",
              "      <td>714.000</td>\n",
              "      <td>50.000</td>\n",
              "      <td>90.000</td>\n",
              "      <td>0.000</td>\n",
              "      <td>61.000</td>\n",
              "      <td>140000.000</td>\n",
              "      <td>24.180</td>\n",
              "      <td>2.000</td>\n",
              "      <td>3.000</td>\n",
              "      <td>1.000</td>\n",
              "      <td>2.000</td>\n",
              "      <td>22.000</td>\n",
              "      <td>46724.750</td>\n",
              "      <td>87.000</td>\n",
              "      <td>2.000</td>\n",
              "      <td>4.000</td>\n",
              "      <td>7198.750</td>\n",
              "      <td>73.000</td>\n",
              "      <td>2.000</td>\n",
              "      <td>2.000</td>\n",
              "      <td>3.000</td>\n",
              "      <td>0.000</td>\n",
              "      <td>58.000</td>\n",
              "      <td>52.000</td>\n",
              "      <td>40771.000</td>\n",
              "      <td>690.000</td>\n",
              "      <td>694.000</td>\n",
              "      <td>1.000</td>\n",
              "      <td>3.000</td>\n",
              "      <td>15.000</td>\n",
              "      <td>78.400</td>\n",
              "      <td>4.000</td>\n",
              "      <td>17.000</td>\n",
              "      <td>0.000</td>\n",
              "      <td>0.000</td>\n",
              "      <td>56.000</td>\n",
              "      <td>3.000</td>\n",
              "      <td>203.350</td>\n",
              "      <td>3.000</td>\n",
              "      <td>23.000</td>\n",
              "      <td>564.825</td>\n",
              "      <td>15302.360</td>\n",
              "      <td>267.605</td>\n",
              "      <td>6884.238</td>\n",
              "      <td>50.000</td>\n",
              "      <td>18.000</td>\n",
              "    </tr>\n",
              "    <tr>\n",
              "      <th>max</th>\n",
              "      <td>nan</td>\n",
              "      <td>40000.000</td>\n",
              "      <td>30.990</td>\n",
              "      <td>1719.830</td>\n",
              "      <td>10999200.000</td>\n",
              "      <td>999.000</td>\n",
              "      <td>845.000</td>\n",
              "      <td>850.000</td>\n",
              "      <td>226.000</td>\n",
              "      <td>129.000</td>\n",
              "      <td>86.000</td>\n",
              "      <td>226.000</td>\n",
              "      <td>1837000.000</td>\n",
              "      <td>69.490</td>\n",
              "      <td>18.000</td>\n",
              "      <td>57.000</td>\n",
              "      <td>25.000</td>\n",
              "      <td>51.000</td>\n",
              "      <td>511.000</td>\n",
              "      <td>1711009.000</td>\n",
              "      <td>558.000</td>\n",
              "      <td>28.000</td>\n",
              "      <td>53.000</td>\n",
              "      <td>776843.000</td>\n",
              "      <td>198.000</td>\n",
              "      <td>48.000</td>\n",
              "      <td>79.000</td>\n",
              "      <td>67.000</td>\n",
              "      <td>249925.000</td>\n",
              "      <td>202.000</td>\n",
              "      <td>202.000</td>\n",
              "      <td>357135.000</td>\n",
              "      <td>840.000</td>\n",
              "      <td>844.000</td>\n",
              "      <td>6.000</td>\n",
              "      <td>18.000</td>\n",
              "      <td>82.000</td>\n",
              "      <td>212.600</td>\n",
              "      <td>38.000</td>\n",
              "      <td>92.000</td>\n",
              "      <td>20.000</td>\n",
              "      <td>16.000</td>\n",
              "      <td>132.000</td>\n",
              "      <td>3.000</td>\n",
              "      <td>943.940</td>\n",
              "      <td>3.000</td>\n",
              "      <td>37.000</td>\n",
              "      <td>2343.150</td>\n",
              "      <td>39542.450</td>\n",
              "      <td>1407.860</td>\n",
              "      <td>33601.000</td>\n",
              "      <td>521.350</td>\n",
              "      <td>181.000</td>\n",
              "    </tr>\n",
              "  </tbody>\n",
              "</table>\n",
              "</div>"
            ],
            "text/plain": [
              "       member_id   loan_amnt    int_rate  installment   annual_inc  \\\n",
              "count      0.000 1345298.000 1345298.000  1345298.000  1345298.000   \n",
              "mean         nan   14420.095      13.240      438.079    76248.088   \n",
              "std          nan    8716.993       4.769      261.511    69925.231   \n",
              "min          nan    1000.000       5.310        4.930        0.000   \n",
              "25%          nan    8000.000       9.750      248.480    45785.145   \n",
              "50%          nan   12000.000      12.740      375.430    65000.000   \n",
              "75%          nan   20000.000      15.990      580.730    90000.000   \n",
              "max          nan   40000.000      30.990     1719.830 10999200.000   \n",
              "\n",
              "              dti  fico_range_low  fico_range_high  mths_since_last_delinq  \\\n",
              "count 1344924.000     1345298.000      1345298.000              666558.000   \n",
              "mean       18.283         696.185          700.185                  34.312   \n",
              "std        11.160          31.852           31.853                  21.919   \n",
              "min        -1.000         625.000          629.000                   0.000   \n",
              "25%        11.790         670.000          674.000                  16.000   \n",
              "50%        17.610         690.000          694.000                  31.000   \n",
              "75%        24.060         710.000          714.000                  50.000   \n",
              "max       999.000         845.000          850.000                 226.000   \n",
              "\n",
              "       mths_since_last_record     pub_rec  mths_since_last_major_derog  \\\n",
              "count              228546.000 1345298.000                   353750.000   \n",
              "mean                   70.640       0.215                       43.701   \n",
              "std                    26.576       0.602                       21.378   \n",
              "min                     0.000       0.000                        0.000   \n",
              "25%                    53.000       0.000                       27.000   \n",
              "50%                    72.000       0.000                       44.000   \n",
              "75%                    90.000       0.000                       61.000   \n",
              "max                   129.000      86.000                      226.000   \n",
              "\n",
              "       annual_inc_joint  dti_joint  open_acc_6m  open_act_il  open_il_12m  \\\n",
              "count         25800.000  25797.000   537597.000   537598.000   537598.000   \n",
              "mean         117382.992     18.897        1.051        2.793        0.776   \n",
              "std           59783.831      7.723        1.209        2.990        0.993   \n",
              "min           11000.000      0.000        0.000        0.000        0.000   \n",
              "25%           80000.000     13.290        0.000        1.000        0.000   \n",
              "50%          106300.000     18.460        1.000        2.000        1.000   \n",
              "75%          140000.000     24.180        2.000        3.000        1.000   \n",
              "max         1837000.000     69.490       18.000       57.000       25.000   \n",
              "\n",
              "       open_il_24m  mths_since_rcnt_il  total_bal_il    il_util  open_rv_12m  \\\n",
              "count   537598.000          523382.000    537598.000 465016.000   537598.000   \n",
              "mean         1.743              19.593     35862.010     71.422        1.421   \n",
              "std          1.686              24.872     42906.627     22.909        1.575   \n",
              "min          0.000               0.000         0.000      0.000        0.000   \n",
              "25%          1.000               6.000      9605.000     58.000        0.000   \n",
              "50%          1.000              12.000     24062.000     75.000        1.000   \n",
              "75%          2.000              22.000     46724.750     87.000        2.000   \n",
              "max         51.000             511.000   1711009.000    558.000       28.000   \n",
              "\n",
              "       open_rv_24m  max_bal_bc   all_util     inq_fi  total_cu_tl  \\\n",
              "count   537598.000  537598.000 537545.000 537598.000   537597.000   \n",
              "mean         3.005    5537.703     58.176      1.093        1.609   \n",
              "std          2.701    5471.949     20.935      1.586        2.825   \n",
              "min          0.000       0.000      0.000      0.000        0.000   \n",
              "25%          1.000    2180.000     44.000      0.000        0.000   \n",
              "50%          2.000    4201.000     59.000      1.000        0.000   \n",
              "75%          4.000    7198.750     73.000      2.000        2.000   \n",
              "max         53.000  776843.000    198.000     48.000       79.000   \n",
              "\n",
              "       inq_last_12m  delinq_amnt  mths_since_recent_bc_dlq  \\\n",
              "count    537597.000  1345298.000                319020.000   \n",
              "mean          2.312       14.896                    39.653   \n",
              "std           2.542      809.529                    22.698   \n",
              "min           0.000        0.000                     0.000   \n",
              "25%           1.000        0.000                    21.000   \n",
              "50%           2.000        0.000                    38.000   \n",
              "75%           3.000        0.000                    58.000   \n",
              "max          67.000   249925.000                   202.000   \n",
              "\n",
              "       mths_since_recent_revol_delinq  revol_bal_joint  \\\n",
              "count                      449962.000        18629.000   \n",
              "mean                           35.805        31557.638   \n",
              "std                            22.428        26885.409   \n",
              "min                             0.000            0.000   \n",
              "25%                            17.000        13837.000   \n",
              "50%                            33.000        24659.000   \n",
              "75%                            52.000        40771.000   \n",
              "max                           202.000       357135.000   \n",
              "\n",
              "       sec_app_fico_range_low  sec_app_fico_range_high  \\\n",
              "count               18630.000                18630.000   \n",
              "mean                  665.970                  669.970   \n",
              "std                    45.873                   45.873   \n",
              "min                   540.000                  544.000   \n",
              "25%                   640.000                  644.000   \n",
              "50%                   665.000                  669.000   \n",
              "75%                   690.000                  694.000   \n",
              "max                   840.000                  844.000   \n",
              "\n",
              "       sec_app_inq_last_6mths  sec_app_mort_acc  sec_app_open_acc  \\\n",
              "count               18630.000         18630.000         18630.000   \n",
              "mean                    0.752             1.670            11.305   \n",
              "std                     1.092             1.839             6.504   \n",
              "min                     0.000             0.000             0.000   \n",
              "25%                     0.000             0.000             7.000   \n",
              "50%                     0.000             1.000            10.000   \n",
              "75%                     1.000             3.000            15.000   \n",
              "max                     6.000            18.000            82.000   \n",
              "\n",
              "       sec_app_revol_util  sec_app_open_act_il  sec_app_num_rev_accts  \\\n",
              "count           18302.000            18630.000              18630.000   \n",
              "mean               57.196                2.945                 12.800   \n",
              "std                26.479                3.195                  8.340   \n",
              "min                 0.000                0.000                  0.000   \n",
              "25%                37.900                1.000                  7.000   \n",
              "50%                59.300                2.000                 11.000   \n",
              "75%                78.400                4.000                 17.000   \n",
              "max               212.600               38.000                 92.000   \n",
              "\n",
              "       sec_app_chargeoff_within_12_mths  sec_app_collections_12_mths_ex_med  \\\n",
              "count                         18630.000                           18630.000   \n",
              "mean                              0.057                               0.087   \n",
              "std                               0.463                               0.430   \n",
              "min                               0.000                               0.000   \n",
              "25%                               0.000                               0.000   \n",
              "50%                               0.000                               0.000   \n",
              "75%                               0.000                               0.000   \n",
              "max                              20.000                              16.000   \n",
              "\n",
              "       sec_app_mths_since_last_major_derog  deferral_term  hardship_amount  \\\n",
              "count                             6645.000       5754.000         5754.000   \n",
              "mean                                36.357          3.000          147.434   \n",
              "std                                 23.985          0.000          128.469   \n",
              "min                                  0.000          3.000            0.640   \n",
              "25%                                 15.000          3.000           53.267   \n",
              "50%                                 35.000          3.000          109.820   \n",
              "75%                                 56.000          3.000          203.350   \n",
              "max                                132.000          3.000          943.940   \n",
              "\n",
              "       hardship_length  hardship_dpd  \\\n",
              "count         5754.000      5754.000   \n",
              "mean             3.000        13.949   \n",
              "std              0.000         9.777   \n",
              "min              3.000         0.000   \n",
              "25%              3.000         5.000   \n",
              "50%              3.000        15.000   \n",
              "75%              3.000        23.000   \n",
              "max              3.000        37.000   \n",
              "\n",
              "       orig_projected_additional_accrued_interest  \\\n",
              "count                                    3759.000   \n",
              "mean                                      410.697   \n",
              "std                                       357.512   \n",
              "min                                         1.920   \n",
              "25%                                       147.450   \n",
              "50%                                       303.450   \n",
              "75%                                       564.825   \n",
              "max                                      2343.150   \n",
              "\n",
              "       hardship_payoff_balance_amount  hardship_last_payment_amount  \\\n",
              "count                        5754.000                      5754.000   \n",
              "mean                        10995.142                       184.689   \n",
              "std                          7474.257                       196.460   \n",
              "min                            55.730                         0.010   \n",
              "25%                          5037.308                        39.570   \n",
              "50%                          9305.100                       120.970   \n",
              "75%                         15302.360                       267.605   \n",
              "max                         39542.450                      1407.860   \n",
              "\n",
              "       settlement_amount  settlement_percentage  settlement_term  \n",
              "count          33276.000              33276.000        33276.000  \n",
              "mean            5029.933                 47.692           13.158  \n",
              "std             3684.827                  7.306            8.236  \n",
              "min               44.210                  0.200            0.000  \n",
              "25%             2228.618                 45.000            6.000  \n",
              "50%             4174.680                 45.000           14.000  \n",
              "75%             6884.238                 50.000           18.000  \n",
              "max            33601.000                521.350          181.000  "
            ]
          },
          "metadata": {
            "tags": []
          },
          "execution_count": 44
        }
      ]
    },
    {
      "cell_type": "code",
      "metadata": {
        "colab": {
          "base_uri": "https://localhost:8080/",
          "height": 244
        },
        "id": "-N14_gZov1iD",
        "outputId": "75e292a9-6b07-4725-f145-c40c725905b8"
      },
      "source": [
        "\n",
        "df_Accepted.describe(include=[\"O\"])"
      ],
      "execution_count": null,
      "outputs": [
        {
          "output_type": "execute_result",
          "data": {
            "text/html": [
              "<div>\n",
              "<style scoped>\n",
              "    .dataframe tbody tr th:only-of-type {\n",
              "        vertical-align: middle;\n",
              "    }\n",
              "\n",
              "    .dataframe tbody tr th {\n",
              "        vertical-align: top;\n",
              "    }\n",
              "\n",
              "    .dataframe thead th {\n",
              "        text-align: right;\n",
              "    }\n",
              "</style>\n",
              "<table border=\"1\" class=\"dataframe\">\n",
              "  <thead>\n",
              "    <tr style=\"text-align: right;\">\n",
              "      <th></th>\n",
              "      <th>term</th>\n",
              "      <th>grade</th>\n",
              "      <th>sub_grade</th>\n",
              "      <th>emp_title</th>\n",
              "      <th>emp_length</th>\n",
              "      <th>home_ownership</th>\n",
              "      <th>loan_status</th>\n",
              "      <th>desc</th>\n",
              "      <th>purpose</th>\n",
              "      <th>zip_code</th>\n",
              "      <th>addr_state</th>\n",
              "      <th>next_pymnt_d</th>\n",
              "      <th>application_type</th>\n",
              "      <th>verification_status_joint</th>\n",
              "      <th>sec_app_earliest_cr_line</th>\n",
              "      <th>hardship_type</th>\n",
              "      <th>hardship_reason</th>\n",
              "      <th>hardship_status</th>\n",
              "      <th>hardship_start_date</th>\n",
              "      <th>hardship_end_date</th>\n",
              "      <th>payment_plan_start_date</th>\n",
              "      <th>hardship_loan_status</th>\n",
              "      <th>debt_settlement_flag_date</th>\n",
              "      <th>settlement_status</th>\n",
              "      <th>settlement_date</th>\n",
              "    </tr>\n",
              "  </thead>\n",
              "  <tbody>\n",
              "    <tr>\n",
              "      <th>count</th>\n",
              "      <td>1345298</td>\n",
              "      <td>1345298</td>\n",
              "      <td>1345298</td>\n",
              "      <td>1259515</td>\n",
              "      <td>1266787</td>\n",
              "      <td>1345298</td>\n",
              "      <td>1345298</td>\n",
              "      <td>123520</td>\n",
              "      <td>1345298</td>\n",
              "      <td>1345297</td>\n",
              "      <td>1345298</td>\n",
              "      <td>0</td>\n",
              "      <td>1345298</td>\n",
              "      <td>25595</td>\n",
              "      <td>18630</td>\n",
              "      <td>5754</td>\n",
              "      <td>5754</td>\n",
              "      <td>5754</td>\n",
              "      <td>5754</td>\n",
              "      <td>5754</td>\n",
              "      <td>5754</td>\n",
              "      <td>5754</td>\n",
              "      <td>33276</td>\n",
              "      <td>33276</td>\n",
              "      <td>33276</td>\n",
              "    </tr>\n",
              "    <tr>\n",
              "      <th>unique</th>\n",
              "      <td>2</td>\n",
              "      <td>7</td>\n",
              "      <td>35</td>\n",
              "      <td>378346</td>\n",
              "      <td>11</td>\n",
              "      <td>6</td>\n",
              "      <td>2</td>\n",
              "      <td>121993</td>\n",
              "      <td>14</td>\n",
              "      <td>943</td>\n",
              "      <td>51</td>\n",
              "      <td>0</td>\n",
              "      <td>2</td>\n",
              "      <td>3</td>\n",
              "      <td>570</td>\n",
              "      <td>1</td>\n",
              "      <td>9</td>\n",
              "      <td>2</td>\n",
              "      <td>26</td>\n",
              "      <td>25</td>\n",
              "      <td>25</td>\n",
              "      <td>5</td>\n",
              "      <td>83</td>\n",
              "      <td>3</td>\n",
              "      <td>89</td>\n",
              "    </tr>\n",
              "    <tr>\n",
              "      <th>top</th>\n",
              "      <td>36 months</td>\n",
              "      <td>B</td>\n",
              "      <td>C1</td>\n",
              "      <td>Teacher</td>\n",
              "      <td>10+ years</td>\n",
              "      <td>MORTGAGE</td>\n",
              "      <td>Fully Paid</td>\n",
              "      <td></td>\n",
              "      <td>debt_consolidation</td>\n",
              "      <td>945xx</td>\n",
              "      <td>CA</td>\n",
              "      <td>NaN</td>\n",
              "      <td>Individual</td>\n",
              "      <td>Not Verified</td>\n",
              "      <td>Aug-2006</td>\n",
              "      <td>INTEREST ONLY-3 MONTHS DEFERRAL</td>\n",
              "      <td>NATURAL_DISASTER</td>\n",
              "      <td>COMPLETED</td>\n",
              "      <td>Sep-2017</td>\n",
              "      <td>Dec-2017</td>\n",
              "      <td>Oct-2017</td>\n",
              "      <td>Late (16-30 days)</td>\n",
              "      <td>Jan-2019</td>\n",
              "      <td>COMPLETE</td>\n",
              "      <td>Jan-2019</td>\n",
              "    </tr>\n",
              "    <tr>\n",
              "      <th>freq</th>\n",
              "      <td>1020731</td>\n",
              "      <td>392737</td>\n",
              "      <td>85493</td>\n",
              "      <td>21268</td>\n",
              "      <td>442199</td>\n",
              "      <td>665575</td>\n",
              "      <td>1076740</td>\n",
              "      <td>236</td>\n",
              "      <td>780319</td>\n",
              "      <td>15005</td>\n",
              "      <td>196526</td>\n",
              "      <td>NaN</td>\n",
              "      <td>1319498</td>\n",
              "      <td>14872</td>\n",
              "      <td>198</td>\n",
              "      <td>5754</td>\n",
              "      <td>1619</td>\n",
              "      <td>3759</td>\n",
              "      <td>1493</td>\n",
              "      <td>1108</td>\n",
              "      <td>1065</td>\n",
              "      <td>2596</td>\n",
              "      <td>2451</td>\n",
              "      <td>14497</td>\n",
              "      <td>1635</td>\n",
              "    </tr>\n",
              "  </tbody>\n",
              "</table>\n",
              "</div>"
            ],
            "text/plain": [
              "              term    grade sub_grade emp_title emp_length home_ownership  \\\n",
              "count      1345298  1345298   1345298   1259515    1266787        1345298   \n",
              "unique           2        7        35    378346         11              6   \n",
              "top      36 months        B        C1   Teacher  10+ years       MORTGAGE   \n",
              "freq       1020731   392737     85493     21268     442199         665575   \n",
              "\n",
              "       loan_status    desc             purpose zip_code addr_state  \\\n",
              "count      1345298  123520             1345298  1345297    1345298   \n",
              "unique           2  121993                  14      943         51   \n",
              "top     Fully Paid          debt_consolidation    945xx         CA   \n",
              "freq       1076740     236              780319    15005     196526   \n",
              "\n",
              "       next_pymnt_d application_type verification_status_joint  \\\n",
              "count             0          1345298                     25595   \n",
              "unique            0                2                         3   \n",
              "top             NaN       Individual              Not Verified   \n",
              "freq            NaN          1319498                     14872   \n",
              "\n",
              "       sec_app_earliest_cr_line                    hardship_type  \\\n",
              "count                     18630                             5754   \n",
              "unique                      570                                1   \n",
              "top                    Aug-2006  INTEREST ONLY-3 MONTHS DEFERRAL   \n",
              "freq                        198                             5754   \n",
              "\n",
              "         hardship_reason hardship_status hardship_start_date  \\\n",
              "count               5754            5754                5754   \n",
              "unique                 9               2                  26   \n",
              "top     NATURAL_DISASTER       COMPLETED            Sep-2017   \n",
              "freq                1619            3759                1493   \n",
              "\n",
              "       hardship_end_date payment_plan_start_date hardship_loan_status  \\\n",
              "count               5754                    5754                 5754   \n",
              "unique                25                      25                    5   \n",
              "top             Dec-2017                Oct-2017    Late (16-30 days)   \n",
              "freq                1108                    1065                 2596   \n",
              "\n",
              "       debt_settlement_flag_date settlement_status settlement_date  \n",
              "count                      33276             33276           33276  \n",
              "unique                        83                 3              89  \n",
              "top                     Jan-2019          COMPLETE        Jan-2019  \n",
              "freq                        2451             14497            1635  "
            ]
          },
          "metadata": {
            "tags": []
          },
          "execution_count": 45
        }
      ]
    },
    {
      "cell_type": "markdown",
      "metadata": {
        "id": "MOR62Nl2v6pi"
      },
      "source": [
        "**2) INTEREST RATE:**\n",
        "\n",
        "general loan principle is, a good trust worthy customer will get loan easily with less interest rate for his credibility(Also his FICO Score, debt to income ratio both are well maintained in an appropriate level).\n",
        "\n",
        "Then a customer with less Risk score and high DTI are always risky customers, generally banks and lenders charge them more interest.\n",
        "\n",
        "So these variety of customers are graded and sub_graded into different different categories."
      ]
    },
    {
      "cell_type": "code",
      "metadata": {
        "colab": {
          "base_uri": "https://localhost:8080/"
        },
        "id": "6YUzaE5Vv3lb",
        "outputId": "54eb43c5-837f-4a04-f83f-24666a6b80f1"
      },
      "source": [
        "df_Accepted[\"int_rate\"].describe()"
      ],
      "execution_count": null,
      "outputs": [
        {
          "output_type": "execute_result",
          "data": {
            "text/plain": [
              "count   1345298.000\n",
              "mean         13.240\n",
              "std           4.769\n",
              "min           5.310\n",
              "25%           9.750\n",
              "50%          12.740\n",
              "75%          15.990\n",
              "max          30.990\n",
              "Name: int_rate, dtype: float64"
            ]
          },
          "metadata": {
            "tags": []
          },
          "execution_count": 46
        }
      ]
    },
    {
      "cell_type": "code",
      "metadata": {
        "colab": {
          "base_uri": "https://localhost:8080/",
          "height": 142
        },
        "id": "hhtyCZ5Jv_Ip",
        "outputId": "b4595e05-010b-4fda-ecb4-7d5ba2a3af7d"
      },
      "source": [
        "pd.pivot_table(df_Accepted, index='loan_status', values=\"int_rate\", aggfunc='mean')"
      ],
      "execution_count": null,
      "outputs": [
        {
          "output_type": "execute_result",
          "data": {
            "text/html": [
              "<div>\n",
              "<style scoped>\n",
              "    .dataframe tbody tr th:only-of-type {\n",
              "        vertical-align: middle;\n",
              "    }\n",
              "\n",
              "    .dataframe tbody tr th {\n",
              "        vertical-align: top;\n",
              "    }\n",
              "\n",
              "    .dataframe thead th {\n",
              "        text-align: right;\n",
              "    }\n",
              "</style>\n",
              "<table border=\"1\" class=\"dataframe\">\n",
              "  <thead>\n",
              "    <tr style=\"text-align: right;\">\n",
              "      <th></th>\n",
              "      <th>int_rate</th>\n",
              "    </tr>\n",
              "    <tr>\n",
              "      <th>loan_status</th>\n",
              "      <th></th>\n",
              "    </tr>\n",
              "  </thead>\n",
              "  <tbody>\n",
              "    <tr>\n",
              "      <th>Charged Off</th>\n",
              "      <td>15.711</td>\n",
              "    </tr>\n",
              "    <tr>\n",
              "      <th>Fully Paid</th>\n",
              "      <td>12.623</td>\n",
              "    </tr>\n",
              "  </tbody>\n",
              "</table>\n",
              "</div>"
            ],
            "text/plain": [
              "             int_rate\n",
              "loan_status          \n",
              "Charged Off    15.711\n",
              "Fully Paid     12.623"
            ]
          },
          "metadata": {
            "tags": []
          },
          "execution_count": 47
        }
      ]
    },
    {
      "cell_type": "code",
      "metadata": {
        "colab": {
          "base_uri": "https://localhost:8080/",
          "height": 142
        },
        "id": "ynmmdsV1wCAx",
        "outputId": "169ad61c-912d-4d78-834e-27f3ca204956"
      },
      "source": [
        "pd.pivot_table(df_Accepted, index='loan_status',columns=\"grade\", values=\"int_rate\", aggfunc='mean')"
      ],
      "execution_count": null,
      "outputs": [
        {
          "output_type": "execute_result",
          "data": {
            "text/html": [
              "<div>\n",
              "<style scoped>\n",
              "    .dataframe tbody tr th:only-of-type {\n",
              "        vertical-align: middle;\n",
              "    }\n",
              "\n",
              "    .dataframe tbody tr th {\n",
              "        vertical-align: top;\n",
              "    }\n",
              "\n",
              "    .dataframe thead th {\n",
              "        text-align: right;\n",
              "    }\n",
              "</style>\n",
              "<table border=\"1\" class=\"dataframe\">\n",
              "  <thead>\n",
              "    <tr style=\"text-align: right;\">\n",
              "      <th>grade</th>\n",
              "      <th>A</th>\n",
              "      <th>B</th>\n",
              "      <th>C</th>\n",
              "      <th>D</th>\n",
              "      <th>E</th>\n",
              "      <th>F</th>\n",
              "      <th>G</th>\n",
              "    </tr>\n",
              "    <tr>\n",
              "      <th>loan_status</th>\n",
              "      <th></th>\n",
              "      <th></th>\n",
              "      <th></th>\n",
              "      <th></th>\n",
              "      <th></th>\n",
              "      <th></th>\n",
              "      <th></th>\n",
              "    </tr>\n",
              "  </thead>\n",
              "  <tbody>\n",
              "    <tr>\n",
              "      <th>Charged Off</th>\n",
              "      <td>7.389</td>\n",
              "      <td>10.789</td>\n",
              "      <td>14.079</td>\n",
              "      <td>17.790</td>\n",
              "      <td>21.201</td>\n",
              "      <td>25.099</td>\n",
              "      <td>27.946</td>\n",
              "    </tr>\n",
              "    <tr>\n",
              "      <th>Fully Paid</th>\n",
              "      <td>7.095</td>\n",
              "      <td>10.662</td>\n",
              "      <td>14.005</td>\n",
              "      <td>17.692</td>\n",
              "      <td>21.099</td>\n",
              "      <td>24.799</td>\n",
              "      <td>27.506</td>\n",
              "    </tr>\n",
              "  </tbody>\n",
              "</table>\n",
              "</div>"
            ],
            "text/plain": [
              "grade           A      B      C      D      E      F      G\n",
              "loan_status                                                \n",
              "Charged Off 7.389 10.789 14.079 17.790 21.201 25.099 27.946\n",
              "Fully Paid  7.095 10.662 14.005 17.692 21.099 24.799 27.506"
            ]
          },
          "metadata": {
            "tags": []
          },
          "execution_count": 48
        }
      ]
    },
    {
      "cell_type": "code",
      "metadata": {
        "colab": {
          "base_uri": "https://localhost:8080/"
        },
        "id": "BgM5-UZowEfK",
        "outputId": "3c8f8780-0477-47c2-8fe0-c01c7ee9c7a0"
      },
      "source": [
        "#OUTLIER DETECTION USING INTER QURTILE RANGE:\n",
        "\n",
        "\n",
        "Q1 = np.quantile(df_Accepted[\"int_rate\"],0.25)\n",
        "Q3 = np.quantile(df_Accepted[\"int_rate\"],0.75)\n",
        "IQR = Q3 - Q1\n",
        "\n",
        "Low_outliers = Q1-1.5*IQR\n",
        "High_outliers = Q3+1.5*IQR\n",
        "\n",
        "print(\"Low_outliers :\", round(Low_outliers,4))\n",
        "print(\"High_outliers :\", round(High_outliers,4))\n",
        "\n",
        "print(\"Q1 :\",Q1)\n",
        "print(\"Q3 :\", Q3)\n",
        "print(\"IQR :\", IQR)"
      ],
      "execution_count": null,
      "outputs": [
        {
          "output_type": "stream",
          "text": [
            "Low_outliers : 0.39\n",
            "High_outliers : 25.35\n",
            "Q1 : 9.75\n",
            "Q3 : 15.99\n",
            "IQR : 6.24\n"
          ],
          "name": "stdout"
        }
      ]
    },
    {
      "cell_type": "markdown",
      "metadata": {
        "id": "cBffaBXDwPFe"
      },
      "source": [
        "OUTLIER DETECTION USING Z-SCORE TECHNIQUE:\n",
        "\n",
        "Z score = (x -mean) / std. deviation\n",
        "\n",
        "A normal distribution is shown below and it is estimated that,\n",
        "\n",
        "68% of the data points lie between +/- 1 standard deviation.\n",
        "95% of the data points lie between +/- 2 standard deviation\n",
        "99.7% of the data points lie between +/- 3 standard deviation"
      ]
    },
    {
      "cell_type": "code",
      "metadata": {
        "colab": {
          "base_uri": "https://localhost:8080/"
        },
        "id": "4FvsSHtFwInk",
        "outputId": "e29ba976-0432-4afc-baea-34b3ce6f986a"
      },
      "source": [
        "data = df_Accepted[\"int_rate\"] \n",
        "mean = round(np.mean(data) , 4)\n",
        "std = round(np.std(data),4)\n",
        "print('mean of the dataset is', mean) \n",
        "print('std. deviation is', std)\n",
        "\n",
        "\n",
        "threshold = 3\n",
        "outlier = [] \n",
        "for i in data: \n",
        "    z = (i-mean)/std \n",
        "    if z > threshold: \n",
        "        outlier.append(i)\n",
        "\n",
        "# print('outlier in dataset is', outlier)"
      ],
      "execution_count": null,
      "outputs": [
        {
          "output_type": "stream",
          "text": [
            "mean of the dataset is 13.2396\n",
            "std. deviation is 4.7687\n"
          ],
          "name": "stdout"
        }
      ]
    },
    {
      "cell_type": "code",
      "metadata": {
        "colab": {
          "base_uri": "https://localhost:8080/"
        },
        "id": "SuEy6t5HwS9u",
        "outputId": "06b6af7a-cef6-4750-9ad0-15105b2119ca"
      },
      "source": [
        "print(min(outlier))     #Outier threshold (starting value)\n",
        "print(len(outlier))    #Total No.of Outliers"
      ],
      "execution_count": null,
      "outputs": [
        {
          "output_type": "stream",
          "text": [
            "27.79\n",
            "9764\n"
          ],
          "name": "stdout"
        }
      ]
    },
    {
      "cell_type": "code",
      "metadata": {
        "colab": {
          "base_uri": "https://localhost:8080/"
        },
        "id": "R9nMxMSPwWYv",
        "outputId": "17ad6fb0-2a44-424d-fc4f-7b8e1fa5140c"
      },
      "source": [
        "df_Accepted[\"loan_status\"][df_Accepted[\"int_rate\"]>= min(outlier)].value_counts()\n"
      ],
      "execution_count": null,
      "outputs": [
        {
          "output_type": "execute_result",
          "data": {
            "text/plain": [
              "Charged Off    4916\n",
              "Fully Paid     4848\n",
              "Name: loan_status, dtype: int64"
            ]
          },
          "metadata": {
            "tags": []
          },
          "execution_count": 55
        }
      ]
    },
    {
      "cell_type": "code",
      "metadata": {
        "colab": {
          "base_uri": "https://localhost:8080/"
        },
        "id": "2skdJ1iLwadm",
        "outputId": "ec47af16-17e0-4e77-d660-b006181f95a8"
      },
      "source": [
        "outlier_interest_rate = list(df_Accepted[df_Accepted[\"int_rate\"]>=27.79].index)\n",
        "print(len(outlier_interest_rate))"
      ],
      "execution_count": null,
      "outputs": [
        {
          "output_type": "stream",
          "text": [
            "9764\n"
          ],
          "name": "stdout"
        }
      ]
    },
    {
      "cell_type": "code",
      "metadata": {
        "colab": {
          "base_uri": "https://localhost:8080/"
        },
        "id": "6UR_rx_2wlCj",
        "outputId": "c77843c5-88b8-49b5-9655-b1a76d20166e"
      },
      "source": [
        "df_Accepted.shape"
      ],
      "execution_count": null,
      "outputs": [
        {
          "output_type": "execute_result",
          "data": {
            "text/plain": [
              "(1345298, 78)"
            ]
          },
          "metadata": {
            "tags": []
          },
          "execution_count": 57
        }
      ]
    },
    {
      "cell_type": "code",
      "metadata": {
        "id": "wKWo572Pwn9E"
      },
      "source": [
        "df_Accepted.drop(labels=outlier_interest_rate, axis=0, inplace=True)"
      ],
      "execution_count": null,
      "outputs": []
    },
    {
      "cell_type": "code",
      "metadata": {
        "colab": {
          "base_uri": "https://localhost:8080/"
        },
        "id": "mkgo-5qlwrAJ",
        "outputId": "9dd5fc6a-6666-4e4d-fdbd-6db449de3911"
      },
      "source": [
        "df_Accepted.shape"
      ],
      "execution_count": null,
      "outputs": [
        {
          "output_type": "execute_result",
          "data": {
            "text/plain": [
              "(1335534, 78)"
            ]
          },
          "metadata": {
            "tags": []
          },
          "execution_count": 59
        }
      ]
    },
    {
      "cell_type": "code",
      "metadata": {
        "colab": {
          "base_uri": "https://localhost:8080/",
          "height": 371
        },
        "id": "L3aRVDDmwtaM",
        "outputId": "8efdebd4-58a6-478f-93bf-7f6b6c301eba"
      },
      "source": [
        "interest_rate = df_Accepted[\"int_rate\"]\n",
        "print(\"Mean interest rate of the Fully Paid customers:\", round(interest_rate.mean(),2))\n",
        "\n",
        "plt.figure(figsize=(10,5))\n",
        "plt.xlim(0, 35)\n",
        "plt.title('Interest rate distribution of all the customers')\n",
        "sns.kdeplot(interest_rate,shade=True)\n",
        "plt.show()"
      ],
      "execution_count": null,
      "outputs": [
        {
          "output_type": "stream",
          "text": [
            "Mean interest rate of the Fully Paid customers: 13.12\n"
          ],
          "name": "stdout"
        },
        {
          "output_type": "display_data",
          "data": {
            "image/png": "[encoded data removed]",
            "text/plain": [
              "<Figure size 720x360 with 1 Axes>"
            ]
          },
          "metadata": {
            "tags": []
          }
        }
      ]
    },
    {
      "cell_type": "code",
      "metadata": {
        "colab": {
          "base_uri": "https://localhost:8080/"
        },
        "id": "avPEKX1twvd8",
        "outputId": "4452f67c-79b0-4767-924a-57efce19f1d4"
      },
      "source": [
        "df_Accepted[\"loan_status\"][df_Accepted[\"int_rate\"]>18].value_counts()"
      ],
      "execution_count": null,
      "outputs": [
        {
          "output_type": "execute_result",
          "data": {
            "text/plain": [
              "Fully Paid     123432\n",
              "Charged Off     72138\n",
              "Name: loan_status, dtype: int64"
            ]
          },
          "metadata": {
            "tags": []
          },
          "execution_count": 61
        }
      ]
    },
    {
      "cell_type": "markdown",
      "metadata": {
        "id": "-ucUWbNXw1wG"
      },
      "source": [
        "**(3) ANNUAL INCOME**"
      ]
    },
    {
      "cell_type": "code",
      "metadata": {
        "colab": {
          "base_uri": "https://localhost:8080/"
        },
        "id": "X31Hsj3dw0AM",
        "outputId": "1280ce5d-6bc3-471f-e9fa-05d52348e693"
      },
      "source": [
        "df_Accepted[\"annual_inc\"].describe()"
      ],
      "execution_count": null,
      "outputs": [
        {
          "output_type": "execute_result",
          "data": {
            "text/plain": [
              "count    1335534.000\n",
              "mean       76270.908\n",
              "std        70074.912\n",
              "min            0.000\n",
              "25%        45760.000\n",
              "50%        65000.000\n",
              "75%        90000.000\n",
              "max     10999200.000\n",
              "Name: annual_inc, dtype: float64"
            ]
          },
          "metadata": {
            "tags": []
          },
          "execution_count": 62
        }
      ]
    },
    {
      "cell_type": "code",
      "metadata": {
        "colab": {
          "base_uri": "https://localhost:8080/",
          "height": 297
        },
        "id": "QksYKN3ww8pi",
        "outputId": "08d60f55-d4e8-4b2b-aac3-f302241ed8f8"
      },
      "source": [
        "plt.boxplot(df_Accepted[\"annual_inc\"])\n",
        "plt.title(\"Annual Income Distribution\")\n",
        "plt.tight_layout()\n",
        "plt.show()"
      ],
      "execution_count": null,
      "outputs": [
        {
          "output_type": "display_data",
          "data": {
            "image/png": "[encoded data removed]",
            "text/plain": [
              "<Figure size 432x288 with 1 Axes>"
            ]
          },
          "metadata": {
            "tags": []
          }
        }
      ]
    },
    {
      "cell_type": "code",
      "metadata": {
        "colab": {
          "base_uri": "https://localhost:8080/"
        },
        "id": "n9uJrowGw_Xj",
        "outputId": "496bc8cb-d1c3-46c5-cb1e-c5c6722b07cd"
      },
      "source": [
        "Q1 = np.quantile(df_Accepted[\"annual_inc\"],0.25)\n",
        "Q3 = np.quantile(df_Accepted[\"annual_inc\"],0.75)\n",
        "IQR = Q3 - Q1\n",
        "\n",
        "Low_outliers = Q1-1.5*IQR\n",
        "High_outliers = Q3+1.5*IQR\n",
        "\n",
        "print(\"Q1 :\",Q1)\n",
        "print(\"Q3 :\", Q3)\n",
        "print(\"IQR :\", IQR)\n",
        "print(\"Low_outliers :\", round(Low_outliers,4))\n",
        "print(\"High_outliers :\", round(High_outliers,4))"
      ],
      "execution_count": null,
      "outputs": [
        {
          "output_type": "stream",
          "text": [
            "Q1 : 45760.0\n",
            "Q3 : 90000.0\n",
            "IQR : 44240.0\n",
            "Low_outliers : -20600.0\n",
            "High_outliers : 156360.0\n"
          ],
          "name": "stdout"
        }
      ]
    },
    {
      "cell_type": "code",
      "metadata": {
        "colab": {
          "base_uri": "https://localhost:8080/"
        },
        "id": "xmkVwaX8xCeB",
        "outputId": "b9a430c5-adac-424f-fb3a-ff7f4379ccc8"
      },
      "source": [
        "#OUTLIER DETECTION USING Z-SCORE TECHNIQUE:\n",
        "\n",
        "#Z score = (x -mean) / std. deviation\n",
        "\n",
        "\n",
        "data = df_Accepted[\"annual_inc\"]\n",
        "mean = round(np.mean(data) , 4)\n",
        "std = round(np.std(data),4)\n",
        "print('mean of the dataset is', mean) \n",
        "print('std. deviation is', std)\n",
        "\n",
        "threshold1 = -3\n",
        "threshold2 =  3\n",
        "outlier_annual_income = [] \n",
        "for i in data: \n",
        "    z = (i-mean)/std \n",
        "    if z < threshold1 or z > threshold2: \n",
        "        outlier_annual_income.append(i)\n",
        "\n",
        "#print(\"outliers in the dataset :\", outlier_annual_income)"
      ],
      "execution_count": null,
      "outputs": [
        {
          "output_type": "stream",
          "text": [
            "mean of the dataset is 76270.908\n",
            "std. deviation is 70074.8859\n"
          ],
          "name": "stdout"
        }
      ]
    },
    {
      "cell_type": "code",
      "metadata": {
        "colab": {
          "base_uri": "https://localhost:8080/"
        },
        "id": "2RyFXB6yxJdD",
        "outputId": "63ad28f7-5612-4ab0-b9b6-8019b414d442"
      },
      "source": [
        "print(min(outlier_annual_income))\n",
        "print(len(outlier_annual_income))"
      ],
      "execution_count": null,
      "outputs": [
        {
          "output_type": "stream",
          "text": [
            "286800.0\n",
            "9964\n"
          ],
          "name": "stdout"
        }
      ]
    },
    {
      "cell_type": "code",
      "metadata": {
        "id": "r_Hhs3TixNAm"
      },
      "source": [
        "Outlier_Annual_inc = list(df_Accepted[df_Accepted[\"annual_inc\"]>=min(outlier_annual_income)].index)  #Based on Z-Score Threshold\n",
        "#Outlier_Annual_inc"
      ],
      "execution_count": null,
      "outputs": []
    },
    {
      "cell_type": "markdown",
      "metadata": {
        "id": "5kaoAeHUxTyc"
      },
      "source": [
        "**4)Debt-to-Income (DTI) Ratio**"
      ]
    },
    {
      "cell_type": "code",
      "metadata": {
        "colab": {
          "base_uri": "https://localhost:8080/"
        },
        "id": "XUzO8bc5xQDj",
        "outputId": "6736774f-f670-4f50-bd0a-7558a1b0882e"
      },
      "source": [
        "df_Accepted[\"dti\"].isnull().sum()"
      ],
      "execution_count": null,
      "outputs": [
        {
          "output_type": "execute_result",
          "data": {
            "text/plain": [
              "361"
            ]
          },
          "metadata": {
            "tags": []
          },
          "execution_count": 68
        }
      ]
    },
    {
      "cell_type": "code",
      "metadata": {
        "colab": {
          "base_uri": "https://localhost:8080/"
        },
        "id": "DiBvvAQDxY1Q",
        "outputId": "0eb75d0e-8142-4447-b942-d6a3a869e7b2"
      },
      "source": [
        "df_Accepted[\"loan_status\"][df_Accepted[\"dti\"].isnull()].value_counts()"
      ],
      "execution_count": null,
      "outputs": [
        {
          "output_type": "execute_result",
          "data": {
            "text/plain": [
              "Fully Paid     295\n",
              "Charged Off     66\n",
              "Name: loan_status, dtype: int64"
            ]
          },
          "metadata": {
            "tags": []
          },
          "execution_count": 69
        }
      ]
    },
    {
      "cell_type": "code",
      "metadata": {
        "id": "0uQHFpGNxboV"
      },
      "source": [
        "df_Accepted.dropna(subset=[\"dti\"], axis=0, inplace=True)"
      ],
      "execution_count": null,
      "outputs": []
    },
    {
      "cell_type": "code",
      "metadata": {
        "colab": {
          "base_uri": "https://localhost:8080/"
        },
        "id": "GQh2mzYpxdye",
        "outputId": "39db447a-cc64-4d1a-c14e-223bc2a5cbbb"
      },
      "source": [
        "df_Accepted[\"dti\"].isnull().any()"
      ],
      "execution_count": null,
      "outputs": [
        {
          "output_type": "execute_result",
          "data": {
            "text/plain": [
              "False"
            ]
          },
          "metadata": {
            "tags": []
          },
          "execution_count": 71
        }
      ]
    },
    {
      "cell_type": "code",
      "metadata": {
        "colab": {
          "base_uri": "https://localhost:8080/"
        },
        "id": "j0FX0ZmOxgsV",
        "outputId": "9921af77-1518-44d2-f4c4-03e85bad8094"
      },
      "source": [
        "df_Accepted.shape"
      ],
      "execution_count": null,
      "outputs": [
        {
          "output_type": "execute_result",
          "data": {
            "text/plain": [
              "(1335173, 78)"
            ]
          },
          "metadata": {
            "tags": []
          },
          "execution_count": 72
        }
      ]
    },
    {
      "cell_type": "code",
      "metadata": {
        "colab": {
          "base_uri": "https://localhost:8080/"
        },
        "id": "sFaGDQF_xi7L",
        "outputId": "ebae675e-6ab4-4f70-cb6c-e3e657366b32"
      },
      "source": [
        "df_Accepted[\"dti\"].describe()"
      ],
      "execution_count": null,
      "outputs": [
        {
          "output_type": "execute_result",
          "data": {
            "text/plain": [
              "count   1335173.000\n",
              "mean         18.246\n",
              "std          11.054\n",
              "min          -1.000\n",
              "25%          11.770\n",
              "50%          17.580\n",
              "75%          24.010\n",
              "max         999.000\n",
              "Name: dti, dtype: float64"
            ]
          },
          "metadata": {
            "tags": []
          },
          "execution_count": 73
        }
      ]
    },
    {
      "cell_type": "code",
      "metadata": {
        "colab": {
          "base_uri": "https://localhost:8080/",
          "height": 297
        },
        "id": "a30XnvQwxlFW",
        "outputId": "35ec9bbf-ca15-4d5e-b97a-3f59b1507908"
      },
      "source": [
        "plt.boxplot(df_Accepted[\"dti\"])\n",
        "plt.title(\"Debt to income Distribution\")\n",
        "plt.ylim(0,1000)\n",
        "plt.tight_layout()\n",
        "plt.show()"
      ],
      "execution_count": null,
      "outputs": [
        {
          "output_type": "display_data",
          "data": {
            "image/png": "[encoded data removed]",
            "text/plain": [
              "<Figure size 432x288 with 1 Axes>"
            ]
          },
          "metadata": {
            "tags": []
          }
        }
      ]
    },
    {
      "cell_type": "code",
      "metadata": {
        "colab": {
          "base_uri": "https://localhost:8080/"
        },
        "id": "kZpWMXlrxpOn",
        "outputId": "8e457c11-4381-4e0b-a612-41e1dd6c7f0d"
      },
      "source": [
        "Q1 = np.quantile(df_Accepted[\"dti\"],0.25)\n",
        "Q3 = np.quantile(df_Accepted[\"dti\"],0.75)\n",
        "IQR = Q3 - Q1\n",
        "\n",
        "IQR_Low_outliers = Q1-1.5*IQR\n",
        "IQR_High_outliers = Q3+1.5*IQR\n",
        "\n",
        "print(\"Q1 :\",Q1)\n",
        "print(\"Q3 :\", Q3)\n",
        "print(\"IQR :\", IQR)\n",
        "print(\"Low_outliers :\", round(IQR_Low_outliers,2))\n",
        "print(\"High_outliers :\", round(IQR_High_outliers,2))"
      ],
      "execution_count": null,
      "outputs": [
        {
          "output_type": "stream",
          "text": [
            "Q1 : 11.77\n",
            "Q3 : 24.01\n",
            "IQR : 12.240000000000002\n",
            "Low_outliers : -6.59\n",
            "High_outliers : 42.37\n"
          ],
          "name": "stdout"
        }
      ]
    },
    {
      "cell_type": "code",
      "metadata": {
        "colab": {
          "base_uri": "https://localhost:8080/"
        },
        "id": "Lp6weXkkxrpS",
        "outputId": "5afaf317-5d2c-4711-f4db-715acf2b9e8b"
      },
      "source": [
        "#OUTLIER DETECTION USING Z-SCORE TECHNIQUE:\n",
        "\n",
        "#Z score = (x -mean) / std. deviation\n",
        "\n",
        "data = df_Accepted[\"dti\"] \n",
        "mean = round(np.mean(data) , 4)\n",
        "std = round(np.std(data),4)\n",
        "print('mean of the dataset is', mean) \n",
        "print('std. deviation is', std)\n",
        "\n",
        "\n",
        "threshold1 = -3\n",
        "threshold2 =  3\n",
        "outliers = [] \n",
        "for i in data: \n",
        "    z = (i-mean)/std \n",
        "    if z < threshold1 or z > threshold2: \n",
        "        outliers.append(i)\n",
        "\n",
        "#print('outlier in the dataset:', outliers)\n",
        "print('DTI threshold:', min(outliers))\n",
        "print('No.of the outliers:', len(outliers))"
      ],
      "execution_count": null,
      "outputs": [
        {
          "output_type": "stream",
          "text": [
            "mean of the dataset is 18.2461\n",
            "std. deviation is 11.0537\n",
            "DTI threshold: 51.44\n",
            "No.of the outliers: 2458\n"
          ],
          "name": "stdout"
        }
      ]
    },
    {
      "cell_type": "code",
      "metadata": {
        "colab": {
          "base_uri": "https://localhost:8080/"
        },
        "id": "fPvtEp-axxrP",
        "outputId": "679674c4-4a6a-407e-8da6-63b54269497f"
      },
      "source": [
        "df_Accepted[\"loan_status\"][df_Accepted[\"dti\"]> round(IQR_High_outliers,2)].value_counts()"
      ],
      "execution_count": null,
      "outputs": [
        {
          "output_type": "execute_result",
          "data": {
            "text/plain": [
              "Fully Paid     3734\n",
              "Charged Off    1515\n",
              "Name: loan_status, dtype: int64"
            ]
          },
          "metadata": {
            "tags": []
          },
          "execution_count": 77
        }
      ]
    },
    {
      "cell_type": "code",
      "metadata": {
        "colab": {
          "base_uri": "https://localhost:8080/"
        },
        "id": "_7ftxXLcx2wt",
        "outputId": "76902233-3e14-421b-e4d8-51602e950a55"
      },
      "source": [
        "DTI_Outliers = list(df_Accepted[\"dti\"][df_Accepted[\"dti\"]>42.36].index)\n",
        "print(len(DTI_Outliers))"
      ],
      "execution_count": null,
      "outputs": [
        {
          "output_type": "stream",
          "text": [
            "5254\n"
          ],
          "name": "stdout"
        }
      ]
    },
    {
      "cell_type": "code",
      "metadata": {
        "id": "KIr5_5XVx5KU"
      },
      "source": [
        "df_Accepted.drop(labels=DTI_Outliers, axis=0, inplace=True)"
      ],
      "execution_count": null,
      "outputs": []
    },
    {
      "cell_type": "code",
      "metadata": {
        "colab": {
          "base_uri": "https://localhost:8080/"
        },
        "id": "D-VTi7-8x78u",
        "outputId": "ec14d13c-2bb9-42e6-db8c-34d586c19d42"
      },
      "source": [
        "df_Accepted[\"dti\"].describe()"
      ],
      "execution_count": null,
      "outputs": [
        {
          "output_type": "execute_result",
          "data": {
            "text/plain": [
              "count   1329919.000\n",
              "mean         18.024\n",
              "std           8.367\n",
              "min          -1.000\n",
              "25%          11.750\n",
              "50%          17.540\n",
              "75%          23.920\n",
              "max          42.360\n",
              "Name: dti, dtype: float64"
            ]
          },
          "metadata": {
            "tags": []
          },
          "execution_count": 80
        }
      ]
    },
    {
      "cell_type": "code",
      "metadata": {
        "colab": {
          "base_uri": "https://localhost:8080/",
          "height": 354
        },
        "id": "UZdGfWuVx-In",
        "outputId": "a80199ae-b390-4400-a4ad-84dd3c68ceb0"
      },
      "source": [
        "dti = df_Accepted[\"dti\"]\n",
        "plt.figure(figsize=(10,5))\n",
        "plt.xlim(0, 45)\n",
        "plt.title('Debt-to-income distribution of the Customers')\n",
        "sns.kdeplot(dti , shade=True)\n",
        "plt.show()"
      ],
      "execution_count": null,
      "outputs": [
        {
          "output_type": "display_data",
          "data": {
            "image/png": "[encoded data removed]",
            "text/plain": [
              "<Figure size 720x360 with 1 Axes>"
            ]
          },
          "metadata": {
            "tags": []
          }
        }
      ]
    },
    {
      "cell_type": "code",
      "metadata": {
        "colab": {
          "base_uri": "https://localhost:8080/"
        },
        "id": "eM-0KkDwyAji",
        "outputId": "cfc129ce-4cee-4985-b283-f78c12c74773"
      },
      "source": [
        "df_Accepted[\"loan_status\"][df_Accepted[\"dti\"]>35].value_counts() # Dataset{Fully Paid:Charged Off} = {80:20}\n"
      ],
      "execution_count": null,
      "outputs": [
        {
          "output_type": "execute_result",
          "data": {
            "text/plain": [
              "Fully Paid     20106\n",
              "Charged Off     8886\n",
              "Name: loan_status, dtype: int64"
            ]
          },
          "metadata": {
            "tags": []
          },
          "execution_count": 82
        }
      ]
    },
    {
      "cell_type": "markdown",
      "metadata": {
        "id": "ggYSt35IyI-0"
      },
      "source": [
        "**(5) Installment¶**"
      ]
    },
    {
      "cell_type": "code",
      "metadata": {
        "colab": {
          "base_uri": "https://localhost:8080/"
        },
        "id": "cs9D9XYuyGVZ",
        "outputId": "3095b4f2-cfa4-4ef4-a075-81f2a37f28db"
      },
      "source": [
        "df_Accepted[\"installment\"].isnull().any()"
      ],
      "execution_count": null,
      "outputs": [
        {
          "output_type": "execute_result",
          "data": {
            "text/plain": [
              "False"
            ]
          },
          "metadata": {
            "tags": []
          },
          "execution_count": 83
        }
      ]
    },
    {
      "cell_type": "code",
      "metadata": {
        "colab": {
          "base_uri": "https://localhost:8080/"
        },
        "id": "cHF6W9F0yNlM",
        "outputId": "0f1c234e-26d7-44da-ebe5-1a9ac13d1134"
      },
      "source": [
        "df_Accepted[\"installment\"].describe()"
      ],
      "execution_count": null,
      "outputs": [
        {
          "output_type": "execute_result",
          "data": {
            "text/plain": [
              "count   1329919.000\n",
              "mean        435.954\n",
              "std         260.035\n",
              "min           4.930\n",
              "25%         247.460\n",
              "50%         373.220\n",
              "75%         577.370\n",
              "max        1618.030\n",
              "Name: installment, dtype: float64"
            ]
          },
          "metadata": {
            "tags": []
          },
          "execution_count": 84
        }
      ]
    },
    {
      "cell_type": "code",
      "metadata": {
        "colab": {
          "base_uri": "https://localhost:8080/",
          "height": 297
        },
        "id": "qQG_pj-dyPjn",
        "outputId": "d516ce11-2d3e-4437-b25c-4a50caae2641"
      },
      "source": [
        "plt.boxplot(df_Accepted[\"installment\"])\n",
        "plt.title(\"Installment Distribution\")\n",
        "plt.ylim(0,1800)\n",
        "plt.tight_layout()\n",
        "plt.show()"
      ],
      "execution_count": null,
      "outputs": [
        {
          "output_type": "display_data",
          "data": {
            "image/png": "[encoded data removed]",
            "text/plain": [
              "<Figure size 432x288 with 1 Axes>"
            ]
          },
          "metadata": {
            "tags": []
          }
        }
      ]
    },
    {
      "cell_type": "code",
      "metadata": {
        "colab": {
          "base_uri": "https://localhost:8080/",
          "height": 142
        },
        "id": "p2pXPwZgyRd4",
        "outputId": "66209d31-6bb0-49a4-908f-c8045f5671ea"
      },
      "source": [
        "pd.pivot_table(df_Accepted, index='loan_status', values=\"installment\", aggfunc='mean')"
      ],
      "execution_count": null,
      "outputs": [
        {
          "output_type": "execute_result",
          "data": {
            "text/html": [
              "<div>\n",
              "<style scoped>\n",
              "    .dataframe tbody tr th:only-of-type {\n",
              "        vertical-align: middle;\n",
              "    }\n",
              "\n",
              "    .dataframe tbody tr th {\n",
              "        vertical-align: top;\n",
              "    }\n",
              "\n",
              "    .dataframe thead th {\n",
              "        text-align: right;\n",
              "    }\n",
              "</style>\n",
              "<table border=\"1\" class=\"dataframe\">\n",
              "  <thead>\n",
              "    <tr style=\"text-align: right;\">\n",
              "      <th></th>\n",
              "      <th>installment</th>\n",
              "    </tr>\n",
              "    <tr>\n",
              "      <th>loan_status</th>\n",
              "      <th></th>\n",
              "    </tr>\n",
              "  </thead>\n",
              "  <tbody>\n",
              "    <tr>\n",
              "      <th>Charged Off</th>\n",
              "      <td>460.618</td>\n",
              "    </tr>\n",
              "    <tr>\n",
              "      <th>Fully Paid</th>\n",
              "      <td>429.901</td>\n",
              "    </tr>\n",
              "  </tbody>\n",
              "</table>\n",
              "</div>"
            ],
            "text/plain": [
              "             installment\n",
              "loan_status             \n",
              "Charged Off      460.618\n",
              "Fully Paid       429.901"
            ]
          },
          "metadata": {
            "tags": []
          },
          "execution_count": 86
        }
      ]
    },
    {
      "cell_type": "code",
      "metadata": {
        "colab": {
          "base_uri": "https://localhost:8080/"
        },
        "id": "wQCWtB0JyTwr",
        "outputId": "d25422a9-289e-49fd-abe8-3e4f4c58ef14"
      },
      "source": [
        "Q1 = np.quantile(df_Accepted[\"installment\"],0.25)\n",
        "Q3 = np.quantile(df_Accepted[\"installment\"],0.75)\n",
        "IQR = Q3 - Q1\n",
        "\n",
        "Low_outliers = Q1-1.5*IQR\n",
        "High_outliers = Q3+1.5*IQR\n",
        "\n",
        "print(\"Q1 :\",Q1)\n",
        "print(\"Q3 :\", Q3)\n",
        "print(\"IQR :\", round(IQR,3))\n",
        "print(\"Low_outliers :\", round(Low_outliers,4))\n",
        "print(\"High_outliers :\", round(High_outliers,4))"
      ],
      "execution_count": null,
      "outputs": [
        {
          "output_type": "stream",
          "text": [
            "Q1 : 247.46\n",
            "Q3 : 577.37\n",
            "IQR : 329.91\n",
            "Low_outliers : -247.405\n",
            "High_outliers : 1072.235\n"
          ],
          "name": "stdout"
        }
      ]
    },
    {
      "cell_type": "code",
      "metadata": {
        "colab": {
          "base_uri": "https://localhost:8080/"
        },
        "id": "PMuRTviByWIT",
        "outputId": "26e83ba7-ad2f-43fa-867a-16dfef14086d"
      },
      "source": [
        "data = df_Accepted[\"installment\"] \n",
        "mean = round(np.mean(data) , 4)\n",
        "std = round(np.std(data),4)\n",
        "print('mean of the dataset is', mean) \n",
        "print('std. deviation is', std)\n",
        "\n",
        "\n",
        "threshold1 = -3\n",
        "threshold2 =  3\n",
        "outliers = [] \n",
        "for i in data: \n",
        "    z = (i-mean)/std \n",
        "    if z < threshold1 or z > threshold2: \n",
        "        outliers.append(i)\n",
        "\n",
        "#print('outlier in the dataset:', outliers)\n",
        "print('Installment threshold:', min(outliers))     \n",
        "print('No.of the outliers:', len(outliers))"
      ],
      "execution_count": null,
      "outputs": [
        {
          "output_type": "stream",
          "text": [
            "mean of the dataset is 435.954\n",
            "std. deviation is 260.0345\n",
            "Installment threshold: 1216.06\n",
            "No.of the outliers: 13622\n"
          ],
          "name": "stdout"
        }
      ]
    },
    {
      "cell_type": "code",
      "metadata": {
        "colab": {
          "base_uri": "https://localhost:8080/"
        },
        "id": "j0tO0NF_ybsV",
        "outputId": "5a58df8a-c250-4741-a773-b3bf9ea5b043"
      },
      "source": [
        "df_Accepted[\"loan_status\"][df_Accepted[\"installment\"]>=min(outliers)].value_counts()"
      ],
      "execution_count": null,
      "outputs": [
        {
          "output_type": "execute_result",
          "data": {
            "text/plain": [
              "Fully Paid     10107\n",
              "Charged Off     3515\n",
              "Name: loan_status, dtype: int64"
            ]
          },
          "metadata": {
            "tags": []
          },
          "execution_count": 89
        }
      ]
    },
    {
      "cell_type": "code",
      "metadata": {
        "colab": {
          "base_uri": "https://localhost:8080/"
        },
        "id": "fbYv0XwEyg1Q",
        "outputId": "f83da714-4908-4e24-bee8-64687f452d51"
      },
      "source": [
        "Outliers_Installment = df_Accepted[df_Accepted[\"installment\"]>=min(outliers)].index\n",
        "len(Outliers_Installment)"
      ],
      "execution_count": null,
      "outputs": [
        {
          "output_type": "execute_result",
          "data": {
            "text/plain": [
              "13622"
            ]
          },
          "metadata": {
            "tags": []
          },
          "execution_count": 90
        }
      ]
    },
    {
      "cell_type": "code",
      "metadata": {
        "colab": {
          "base_uri": "https://localhost:8080/"
        },
        "id": "hgiLGq-Ayi0x",
        "outputId": "9adc6230-98cb-49f2-98dc-2bcf643d42dc"
      },
      "source": [
        "df_Accepted.shape"
      ],
      "execution_count": null,
      "outputs": [
        {
          "output_type": "execute_result",
          "data": {
            "text/plain": [
              "(1329919, 78)"
            ]
          },
          "metadata": {
            "tags": []
          },
          "execution_count": 91
        }
      ]
    },
    {
      "cell_type": "code",
      "metadata": {
        "id": "rI78eMngykdK"
      },
      "source": [
        "df_Accepted.drop(labels=Outliers_Installment, axis=0, inplace=True)"
      ],
      "execution_count": null,
      "outputs": []
    },
    {
      "cell_type": "code",
      "metadata": {
        "colab": {
          "base_uri": "https://localhost:8080/",
          "height": 371
        },
        "id": "Bf5A7PvxymGk",
        "outputId": "eacde2f4-8acb-45df-b773-bcaf207282f2"
      },
      "source": [
        "\n",
        "installment = df_Accepted[\"installment\"]\n",
        "print(\"Mean value of the installment :\" , round(installment.mean(),2))\n",
        "plt.figure(figsize=(10,5))\n",
        "plt.xlim(0, 1300)\n",
        "plt.title('installment rate distribution of the Customers')\n",
        "sns.kdeplot(installment , shade=True)\n",
        "plt.show()"
      ],
      "execution_count": null,
      "outputs": [
        {
          "output_type": "stream",
          "text": [
            "Mean value of the installment : 427.24\n"
          ],
          "name": "stdout"
        },
        {
          "output_type": "display_data",
          "data": {
            "image/png": "[encoded data removed]",
            "text/plain": [
              "<Figure size 720x360 with 1 Axes>"
            ]
          },
          "metadata": {
            "tags": []
          }
        }
      ]
    },
    {
      "cell_type": "markdown",
      "metadata": {
        "id": "6wrumZ1gyrdK"
      },
      "source": [
        "**(6).FICO SCORE(RISK SCORE):¶**"
      ]
    },
    {
      "cell_type": "code",
      "metadata": {
        "id": "8vIopsK7yu92"
      },
      "source": [
        "df_Accepted[\"Risk_Score\"] = (df_Accepted['fico_range_low'] + df_Accepted['fico_range_high'])/2"
      ],
      "execution_count": null,
      "outputs": []
    },
    {
      "cell_type": "code",
      "metadata": {
        "id": "KSRS3onCyxEz"
      },
      "source": [
        "df_Accepted.drop(labels=['fico_range_low', 'fico_range_high'], axis=1,inplace=True)\n"
      ],
      "execution_count": null,
      "outputs": []
    },
    {
      "cell_type": "code",
      "metadata": {
        "colab": {
          "base_uri": "https://localhost:8080/"
        },
        "id": "JOsIDXXkyzg7",
        "outputId": "da4407ff-66bc-4fd1-df22-a92b6627447d"
      },
      "source": [
        "df_Accepted.shape"
      ],
      "execution_count": null,
      "outputs": [
        {
          "output_type": "execute_result",
          "data": {
            "text/plain": [
              "(1316297, 77)"
            ]
          },
          "metadata": {
            "tags": []
          },
          "execution_count": 96
        }
      ]
    },
    {
      "cell_type": "code",
      "metadata": {
        "colab": {
          "base_uri": "https://localhost:8080/"
        },
        "id": "94X4-pDVy1yR",
        "outputId": "c67ded68-1c2a-409c-ca9d-6ef05be55ffb"
      },
      "source": [
        "df_Accepted[\"loan_status\"][df_Accepted[\"Risk_Score\"]>627][df_Accepted[\"Risk_Score\"]<695].value_counts()"
      ],
      "execution_count": null,
      "outputs": [
        {
          "output_type": "execute_result",
          "data": {
            "text/plain": [
              "Fully Paid     553237\n",
              "Charged Off    171013\n",
              "Name: loan_status, dtype: int64"
            ]
          },
          "metadata": {
            "tags": []
          },
          "execution_count": 97
        }
      ]
    },
    {
      "cell_type": "markdown",
      "metadata": {
        "id": "HoJxsQJ4y6yw"
      },
      "source": [
        "(7) public derogatory¶"
      ]
    },
    {
      "cell_type": "code",
      "metadata": {
        "colab": {
          "base_uri": "https://localhost:8080/"
        },
        "id": "hNG_xg-my4p4",
        "outputId": "fb9d2803-3a8f-4d78-e641-ab3cca66cafa"
      },
      "source": [
        "df_Accepted[\"loan_status\"].value_counts()"
      ],
      "execution_count": null,
      "outputs": [
        {
          "output_type": "execute_result",
          "data": {
            "text/plain": [
              "Fully Paid     1057751\n",
              "Charged Off     258546\n",
              "Name: loan_status, dtype: int64"
            ]
          },
          "metadata": {
            "tags": []
          },
          "execution_count": 99
        }
      ]
    },
    {
      "cell_type": "code",
      "metadata": {
        "colab": {
          "base_uri": "https://localhost:8080/"
        },
        "id": "uQy-UV-ry9Mt",
        "outputId": "90d7aa8f-86e9-4699-c73b-e2c177eaec32"
      },
      "source": [
        "df_Accepted[\"pub_rec\"].describe()"
      ],
      "execution_count": null,
      "outputs": [
        {
          "output_type": "execute_result",
          "data": {
            "text/plain": [
              "count   1316297.000\n",
              "mean          0.215\n",
              "std           0.602\n",
              "min           0.000\n",
              "25%           0.000\n",
              "50%           0.000\n",
              "75%           0.000\n",
              "max          86.000\n",
              "Name: pub_rec, dtype: float64"
            ]
          },
          "metadata": {
            "tags": []
          },
          "execution_count": 100
        }
      ]
    },
    {
      "cell_type": "code",
      "metadata": {
        "colab": {
          "base_uri": "https://localhost:8080/",
          "height": 1000
        },
        "id": "x5OJ30rczFlK",
        "outputId": "e32937b2-7bd4-41dd-b8a1-89a8817a547a"
      },
      "source": [
        "\n",
        "pd.crosstab(df_Accepted[\"pub_rec\"],df_Accepted[\"loan_status\"], normalize=\"columns\", margins=True) #To see in percentage"
      ],
      "execution_count": null,
      "outputs": [
        {
          "output_type": "execute_result",
          "data": {
            "text/html": [
              "<div>\n",
              "<style scoped>\n",
              "    .dataframe tbody tr th:only-of-type {\n",
              "        vertical-align: middle;\n",
              "    }\n",
              "\n",
              "    .dataframe tbody tr th {\n",
              "        vertical-align: top;\n",
              "    }\n",
              "\n",
              "    .dataframe thead th {\n",
              "        text-align: right;\n",
              "    }\n",
              "</style>\n",
              "<table border=\"1\" class=\"dataframe\">\n",
              "  <thead>\n",
              "    <tr style=\"text-align: right;\">\n",
              "      <th>loan_status</th>\n",
              "      <th>Charged Off</th>\n",
              "      <th>Fully Paid</th>\n",
              "      <th>All</th>\n",
              "    </tr>\n",
              "    <tr>\n",
              "      <th>pub_rec</th>\n",
              "      <th></th>\n",
              "      <th></th>\n",
              "      <th></th>\n",
              "    </tr>\n",
              "  </thead>\n",
              "  <tbody>\n",
              "    <tr>\n",
              "      <th>0.000</th>\n",
              "      <td>0.807</td>\n",
              "      <td>0.836</td>\n",
              "      <td>0.831</td>\n",
              "    </tr>\n",
              "    <tr>\n",
              "      <th>1.000</th>\n",
              "      <td>0.161</td>\n",
              "      <td>0.137</td>\n",
              "      <td>0.142</td>\n",
              "    </tr>\n",
              "    <tr>\n",
              "      <th>2.000</th>\n",
              "      <td>0.022</td>\n",
              "      <td>0.017</td>\n",
              "      <td>0.018</td>\n",
              "    </tr>\n",
              "    <tr>\n",
              "      <th>3.000</th>\n",
              "      <td>0.006</td>\n",
              "      <td>0.005</td>\n",
              "      <td>0.006</td>\n",
              "    </tr>\n",
              "    <tr>\n",
              "      <th>4.000</th>\n",
              "      <td>0.002</td>\n",
              "      <td>0.002</td>\n",
              "      <td>0.002</td>\n",
              "    </tr>\n",
              "    <tr>\n",
              "      <th>5.000</th>\n",
              "      <td>0.001</td>\n",
              "      <td>0.001</td>\n",
              "      <td>0.001</td>\n",
              "    </tr>\n",
              "    <tr>\n",
              "      <th>6.000</th>\n",
              "      <td>0.001</td>\n",
              "      <td>0.000</td>\n",
              "      <td>0.000</td>\n",
              "    </tr>\n",
              "    <tr>\n",
              "      <th>7.000</th>\n",
              "      <td>0.000</td>\n",
              "      <td>0.000</td>\n",
              "      <td>0.000</td>\n",
              "    </tr>\n",
              "    <tr>\n",
              "      <th>8.000</th>\n",
              "      <td>0.000</td>\n",
              "      <td>0.000</td>\n",
              "      <td>0.000</td>\n",
              "    </tr>\n",
              "    <tr>\n",
              "      <th>9.000</th>\n",
              "      <td>0.000</td>\n",
              "      <td>0.000</td>\n",
              "      <td>0.000</td>\n",
              "    </tr>\n",
              "    <tr>\n",
              "      <th>10.000</th>\n",
              "      <td>0.000</td>\n",
              "      <td>0.000</td>\n",
              "      <td>0.000</td>\n",
              "    </tr>\n",
              "    <tr>\n",
              "      <th>11.000</th>\n",
              "      <td>0.000</td>\n",
              "      <td>0.000</td>\n",
              "      <td>0.000</td>\n",
              "    </tr>\n",
              "    <tr>\n",
              "      <th>12.000</th>\n",
              "      <td>0.000</td>\n",
              "      <td>0.000</td>\n",
              "      <td>0.000</td>\n",
              "    </tr>\n",
              "    <tr>\n",
              "      <th>13.000</th>\n",
              "      <td>0.000</td>\n",
              "      <td>0.000</td>\n",
              "      <td>0.000</td>\n",
              "    </tr>\n",
              "    <tr>\n",
              "      <th>14.000</th>\n",
              "      <td>0.000</td>\n",
              "      <td>0.000</td>\n",
              "      <td>0.000</td>\n",
              "    </tr>\n",
              "    <tr>\n",
              "      <th>15.000</th>\n",
              "      <td>0.000</td>\n",
              "      <td>0.000</td>\n",
              "      <td>0.000</td>\n",
              "    </tr>\n",
              "    <tr>\n",
              "      <th>16.000</th>\n",
              "      <td>0.000</td>\n",
              "      <td>0.000</td>\n",
              "      <td>0.000</td>\n",
              "    </tr>\n",
              "    <tr>\n",
              "      <th>17.000</th>\n",
              "      <td>0.000</td>\n",
              "      <td>0.000</td>\n",
              "      <td>0.000</td>\n",
              "    </tr>\n",
              "    <tr>\n",
              "      <th>18.000</th>\n",
              "      <td>0.000</td>\n",
              "      <td>0.000</td>\n",
              "      <td>0.000</td>\n",
              "    </tr>\n",
              "    <tr>\n",
              "      <th>19.000</th>\n",
              "      <td>0.000</td>\n",
              "      <td>0.000</td>\n",
              "      <td>0.000</td>\n",
              "    </tr>\n",
              "    <tr>\n",
              "      <th>20.000</th>\n",
              "      <td>0.000</td>\n",
              "      <td>0.000</td>\n",
              "      <td>0.000</td>\n",
              "    </tr>\n",
              "    <tr>\n",
              "      <th>21.000</th>\n",
              "      <td>0.000</td>\n",
              "      <td>0.000</td>\n",
              "      <td>0.000</td>\n",
              "    </tr>\n",
              "    <tr>\n",
              "      <th>22.000</th>\n",
              "      <td>0.000</td>\n",
              "      <td>0.000</td>\n",
              "      <td>0.000</td>\n",
              "    </tr>\n",
              "    <tr>\n",
              "      <th>23.000</th>\n",
              "      <td>0.000</td>\n",
              "      <td>0.000</td>\n",
              "      <td>0.000</td>\n",
              "    </tr>\n",
              "    <tr>\n",
              "      <th>24.000</th>\n",
              "      <td>0.000</td>\n",
              "      <td>0.000</td>\n",
              "      <td>0.000</td>\n",
              "    </tr>\n",
              "    <tr>\n",
              "      <th>25.000</th>\n",
              "      <td>0.000</td>\n",
              "      <td>0.000</td>\n",
              "      <td>0.000</td>\n",
              "    </tr>\n",
              "    <tr>\n",
              "      <th>28.000</th>\n",
              "      <td>0.000</td>\n",
              "      <td>0.000</td>\n",
              "      <td>0.000</td>\n",
              "    </tr>\n",
              "    <tr>\n",
              "      <th>34.000</th>\n",
              "      <td>0.000</td>\n",
              "      <td>0.000</td>\n",
              "      <td>0.000</td>\n",
              "    </tr>\n",
              "    <tr>\n",
              "      <th>37.000</th>\n",
              "      <td>0.000</td>\n",
              "      <td>0.000</td>\n",
              "      <td>0.000</td>\n",
              "    </tr>\n",
              "    <tr>\n",
              "      <th>40.000</th>\n",
              "      <td>0.000</td>\n",
              "      <td>0.000</td>\n",
              "      <td>0.000</td>\n",
              "    </tr>\n",
              "    <tr>\n",
              "      <th>46.000</th>\n",
              "      <td>0.000</td>\n",
              "      <td>0.000</td>\n",
              "      <td>0.000</td>\n",
              "    </tr>\n",
              "    <tr>\n",
              "      <th>47.000</th>\n",
              "      <td>0.000</td>\n",
              "      <td>0.000</td>\n",
              "      <td>0.000</td>\n",
              "    </tr>\n",
              "    <tr>\n",
              "      <th>49.000</th>\n",
              "      <td>0.000</td>\n",
              "      <td>0.000</td>\n",
              "      <td>0.000</td>\n",
              "    </tr>\n",
              "    <tr>\n",
              "      <th>54.000</th>\n",
              "      <td>0.000</td>\n",
              "      <td>0.000</td>\n",
              "      <td>0.000</td>\n",
              "    </tr>\n",
              "    <tr>\n",
              "      <th>61.000</th>\n",
              "      <td>0.000</td>\n",
              "      <td>0.000</td>\n",
              "      <td>0.000</td>\n",
              "    </tr>\n",
              "    <tr>\n",
              "      <th>63.000</th>\n",
              "      <td>0.000</td>\n",
              "      <td>0.000</td>\n",
              "      <td>0.000</td>\n",
              "    </tr>\n",
              "    <tr>\n",
              "      <th>86.000</th>\n",
              "      <td>0.000</td>\n",
              "      <td>0.000</td>\n",
              "      <td>0.000</td>\n",
              "    </tr>\n",
              "  </tbody>\n",
              "</table>\n",
              "</div>"
            ],
            "text/plain": [
              "loan_status  Charged Off  Fully Paid   All\n",
              "pub_rec                                   \n",
              "0.000              0.807       0.836 0.831\n",
              "1.000              0.161       0.137 0.142\n",
              "2.000              0.022       0.017 0.018\n",
              "3.000              0.006       0.005 0.006\n",
              "4.000              0.002       0.002 0.002\n",
              "5.000              0.001       0.001 0.001\n",
              "6.000              0.001       0.000 0.000\n",
              "7.000              0.000       0.000 0.000\n",
              "8.000              0.000       0.000 0.000\n",
              "9.000              0.000       0.000 0.000\n",
              "10.000             0.000       0.000 0.000\n",
              "11.000             0.000       0.000 0.000\n",
              "12.000             0.000       0.000 0.000\n",
              "13.000             0.000       0.000 0.000\n",
              "14.000             0.000       0.000 0.000\n",
              "15.000             0.000       0.000 0.000\n",
              "16.000             0.000       0.000 0.000\n",
              "17.000             0.000       0.000 0.000\n",
              "18.000             0.000       0.000 0.000\n",
              "19.000             0.000       0.000 0.000\n",
              "20.000             0.000       0.000 0.000\n",
              "21.000             0.000       0.000 0.000\n",
              "22.000             0.000       0.000 0.000\n",
              "23.000             0.000       0.000 0.000\n",
              "24.000             0.000       0.000 0.000\n",
              "25.000             0.000       0.000 0.000\n",
              "28.000             0.000       0.000 0.000\n",
              "34.000             0.000       0.000 0.000\n",
              "37.000             0.000       0.000 0.000\n",
              "40.000             0.000       0.000 0.000\n",
              "46.000             0.000       0.000 0.000\n",
              "47.000             0.000       0.000 0.000\n",
              "49.000             0.000       0.000 0.000\n",
              "54.000             0.000       0.000 0.000\n",
              "61.000             0.000       0.000 0.000\n",
              "63.000             0.000       0.000 0.000\n",
              "86.000             0.000       0.000 0.000"
            ]
          },
          "metadata": {
            "tags": []
          },
          "execution_count": 101
        }
      ]
    },
    {
      "cell_type": "code",
      "metadata": {
        "colab": {
          "base_uri": "https://localhost:8080/"
        },
        "id": "YeaSHQ4GzLZY",
        "outputId": "36312a59-d718-4a17-b0f5-4b8f901d13c6"
      },
      "source": [
        "df_Accepted[\"loan_status\"][df_Accepted[\"pub_rec\"]>3].value_counts()"
      ],
      "execution_count": null,
      "outputs": [
        {
          "output_type": "execute_result",
          "data": {
            "text/plain": [
              "Fully Paid     3935\n",
              "Charged Off    1185\n",
              "Name: loan_status, dtype: int64"
            ]
          },
          "metadata": {
            "tags": []
          },
          "execution_count": 102
        }
      ]
    },
    {
      "cell_type": "code",
      "metadata": {
        "colab": {
          "base_uri": "https://localhost:8080/",
          "height": 173
        },
        "id": "RYp3fnifzNxK",
        "outputId": "0300881d-b289-40c9-9422-7c4b87ec3afa"
      },
      "source": [
        "pd.crosstab(df_Accepted[\"loan_status\"],[df_Accepted[\"pub_rec\"]>3], normalize=\"index\",margins=True)"
      ],
      "execution_count": null,
      "outputs": [
        {
          "output_type": "execute_result",
          "data": {
            "text/html": [
              "<div>\n",
              "<style scoped>\n",
              "    .dataframe tbody tr th:only-of-type {\n",
              "        vertical-align: middle;\n",
              "    }\n",
              "\n",
              "    .dataframe tbody tr th {\n",
              "        vertical-align: top;\n",
              "    }\n",
              "\n",
              "    .dataframe thead th {\n",
              "        text-align: right;\n",
              "    }\n",
              "</style>\n",
              "<table border=\"1\" class=\"dataframe\">\n",
              "  <thead>\n",
              "    <tr style=\"text-align: right;\">\n",
              "      <th>pub_rec</th>\n",
              "      <th>False</th>\n",
              "      <th>True</th>\n",
              "    </tr>\n",
              "    <tr>\n",
              "      <th>loan_status</th>\n",
              "      <th></th>\n",
              "      <th></th>\n",
              "    </tr>\n",
              "  </thead>\n",
              "  <tbody>\n",
              "    <tr>\n",
              "      <th>Charged Off</th>\n",
              "      <td>0.995</td>\n",
              "      <td>0.005</td>\n",
              "    </tr>\n",
              "    <tr>\n",
              "      <th>Fully Paid</th>\n",
              "      <td>0.996</td>\n",
              "      <td>0.004</td>\n",
              "    </tr>\n",
              "    <tr>\n",
              "      <th>All</th>\n",
              "      <td>0.996</td>\n",
              "      <td>0.004</td>\n",
              "    </tr>\n",
              "  </tbody>\n",
              "</table>\n",
              "</div>"
            ],
            "text/plain": [
              "pub_rec      False  True \n",
              "loan_status              \n",
              "Charged Off  0.995  0.005\n",
              "Fully Paid   0.996  0.004\n",
              "All          0.996  0.004"
            ]
          },
          "metadata": {
            "tags": []
          },
          "execution_count": 103
        }
      ]
    },
    {
      "cell_type": "code",
      "metadata": {
        "id": "M5dHrrqCzQMc"
      },
      "source": [
        "Remove_Derogatory = df_Accepted[df_Accepted[\"pub_rec\"]>=3].index"
      ],
      "execution_count": null,
      "outputs": []
    },
    {
      "cell_type": "code",
      "metadata": {
        "id": "_OEY5DUMzSZM"
      },
      "source": [
        "df_Accepted.drop(labels=Remove_Derogatory, axis=0, inplace=True)"
      ],
      "execution_count": null,
      "outputs": []
    },
    {
      "cell_type": "markdown",
      "metadata": {
        "id": "GbXfmhtwzYL0"
      },
      "source": [
        "**8)DELINQUENT AMOUNT**"
      ]
    },
    {
      "cell_type": "code",
      "metadata": {
        "colab": {
          "base_uri": "https://localhost:8080/"
        },
        "id": "g53atKcVzWEk",
        "outputId": "59430ecc-3bf9-4958-b0a3-6a456b18e7e1"
      },
      "source": [
        "df_Accepted[\"delinq_amnt\"].describe()"
      ],
      "execution_count": null,
      "outputs": [
        {
          "output_type": "execute_result",
          "data": {
            "text/plain": [
              "count   1303936.000\n",
              "mean         14.798\n",
              "std         810.901\n",
              "min           0.000\n",
              "25%           0.000\n",
              "50%           0.000\n",
              "75%           0.000\n",
              "max      249925.000\n",
              "Name: delinq_amnt, dtype: float64"
            ]
          },
          "metadata": {
            "tags": []
          },
          "execution_count": 106
        }
      ]
    },
    {
      "cell_type": "code",
      "metadata": {
        "colab": {
          "base_uri": "https://localhost:8080/",
          "height": 317
        },
        "id": "HNAlJWIfzehZ",
        "outputId": "8615f522-f1cc-4da3-e899-02e876f79313"
      },
      "source": [
        "df_Accepted[df_Accepted[\"delinq_amnt\"]>5000][df_Accepted[\"loan_status\"]==\"Charged Off\"].sort_values(by=\"delinq_amnt\", ascending=False).describe()"
      ],
      "execution_count": null,
      "outputs": [
        {
          "output_type": "execute_result",
          "data": {
            "text/html": [
              "<div>\n",
              "<style scoped>\n",
              "    .dataframe tbody tr th:only-of-type {\n",
              "        vertical-align: middle;\n",
              "    }\n",
              "\n",
              "    .dataframe tbody tr th {\n",
              "        vertical-align: top;\n",
              "    }\n",
              "\n",
              "    .dataframe thead th {\n",
              "        text-align: right;\n",
              "    }\n",
              "</style>\n",
              "<table border=\"1\" class=\"dataframe\">\n",
              "  <thead>\n",
              "    <tr style=\"text-align: right;\">\n",
              "      <th></th>\n",
              "      <th>member_id</th>\n",
              "      <th>loan_amnt</th>\n",
              "      <th>int_rate</th>\n",
              "      <th>installment</th>\n",
              "      <th>annual_inc</th>\n",
              "      <th>dti</th>\n",
              "      <th>mths_since_last_delinq</th>\n",
              "      <th>mths_since_last_record</th>\n",
              "      <th>pub_rec</th>\n",
              "      <th>mths_since_last_major_derog</th>\n",
              "      <th>annual_inc_joint</th>\n",
              "      <th>dti_joint</th>\n",
              "      <th>open_acc_6m</th>\n",
              "      <th>open_act_il</th>\n",
              "      <th>open_il_12m</th>\n",
              "      <th>open_il_24m</th>\n",
              "      <th>mths_since_rcnt_il</th>\n",
              "      <th>total_bal_il</th>\n",
              "      <th>il_util</th>\n",
              "      <th>open_rv_12m</th>\n",
              "      <th>open_rv_24m</th>\n",
              "      <th>max_bal_bc</th>\n",
              "      <th>all_util</th>\n",
              "      <th>inq_fi</th>\n",
              "      <th>total_cu_tl</th>\n",
              "      <th>inq_last_12m</th>\n",
              "      <th>delinq_amnt</th>\n",
              "      <th>mths_since_recent_bc_dlq</th>\n",
              "      <th>mths_since_recent_revol_delinq</th>\n",
              "      <th>revol_bal_joint</th>\n",
              "      <th>sec_app_fico_range_low</th>\n",
              "      <th>sec_app_fico_range_high</th>\n",
              "      <th>sec_app_inq_last_6mths</th>\n",
              "      <th>sec_app_mort_acc</th>\n",
              "      <th>sec_app_open_acc</th>\n",
              "      <th>sec_app_revol_util</th>\n",
              "      <th>sec_app_open_act_il</th>\n",
              "      <th>sec_app_num_rev_accts</th>\n",
              "      <th>sec_app_chargeoff_within_12_mths</th>\n",
              "      <th>sec_app_collections_12_mths_ex_med</th>\n",
              "      <th>sec_app_mths_since_last_major_derog</th>\n",
              "      <th>deferral_term</th>\n",
              "      <th>hardship_amount</th>\n",
              "      <th>hardship_length</th>\n",
              "      <th>hardship_dpd</th>\n",
              "      <th>orig_projected_additional_accrued_interest</th>\n",
              "      <th>hardship_payoff_balance_amount</th>\n",
              "      <th>hardship_last_payment_amount</th>\n",
              "      <th>settlement_amount</th>\n",
              "      <th>settlement_percentage</th>\n",
              "      <th>settlement_term</th>\n",
              "      <th>Risk_Score</th>\n",
              "    </tr>\n",
              "  </thead>\n",
              "  <tbody>\n",
              "    <tr>\n",
              "      <th>count</th>\n",
              "      <td>0.000</td>\n",
              "      <td>148.000</td>\n",
              "      <td>148.000</td>\n",
              "      <td>148.000</td>\n",
              "      <td>148.000</td>\n",
              "      <td>148.000</td>\n",
              "      <td>133.000</td>\n",
              "      <td>42.000</td>\n",
              "      <td>148.000</td>\n",
              "      <td>134.000</td>\n",
              "      <td>1.000</td>\n",
              "      <td>1.000</td>\n",
              "      <td>95.000</td>\n",
              "      <td>95.000</td>\n",
              "      <td>95.000</td>\n",
              "      <td>95.000</td>\n",
              "      <td>95.000</td>\n",
              "      <td>95.000</td>\n",
              "      <td>83.000</td>\n",
              "      <td>95.000</td>\n",
              "      <td>95.000</td>\n",
              "      <td>95.000</td>\n",
              "      <td>95.000</td>\n",
              "      <td>95.000</td>\n",
              "      <td>95.000</td>\n",
              "      <td>95.000</td>\n",
              "      <td>148.000</td>\n",
              "      <td>52.000</td>\n",
              "      <td>72.000</td>\n",
              "      <td>0.000</td>\n",
              "      <td>0.000</td>\n",
              "      <td>0.000</td>\n",
              "      <td>0.000</td>\n",
              "      <td>0.000</td>\n",
              "      <td>0.000</td>\n",
              "      <td>0.000</td>\n",
              "      <td>0.000</td>\n",
              "      <td>0.000</td>\n",
              "      <td>0.000</td>\n",
              "      <td>0.000</td>\n",
              "      <td>0.000</td>\n",
              "      <td>1.000</td>\n",
              "      <td>1.000</td>\n",
              "      <td>1.000</td>\n",
              "      <td>1.000</td>\n",
              "      <td>0.000</td>\n",
              "      <td>1.000</td>\n",
              "      <td>1.000</td>\n",
              "      <td>22.000</td>\n",
              "      <td>22.000</td>\n",
              "      <td>22.000</td>\n",
              "      <td>148.000</td>\n",
              "    </tr>\n",
              "    <tr>\n",
              "      <th>mean</th>\n",
              "      <td>nan</td>\n",
              "      <td>15779.730</td>\n",
              "      <td>15.212</td>\n",
              "      <td>496.793</td>\n",
              "      <td>104337.689</td>\n",
              "      <td>17.525</td>\n",
              "      <td>5.293</td>\n",
              "      <td>60.929</td>\n",
              "      <td>0.331</td>\n",
              "      <td>5.239</td>\n",
              "      <td>74000.000</td>\n",
              "      <td>11.740</td>\n",
              "      <td>0.832</td>\n",
              "      <td>2.842</td>\n",
              "      <td>0.568</td>\n",
              "      <td>1.358</td>\n",
              "      <td>21.811</td>\n",
              "      <td>36049.400</td>\n",
              "      <td>67.783</td>\n",
              "      <td>1.421</td>\n",
              "      <td>3.126</td>\n",
              "      <td>5096.168</td>\n",
              "      <td>58.547</td>\n",
              "      <td>1.389</td>\n",
              "      <td>1.189</td>\n",
              "      <td>2.821</td>\n",
              "      <td>29177.284</td>\n",
              "      <td>35.923</td>\n",
              "      <td>31.972</td>\n",
              "      <td>nan</td>\n",
              "      <td>nan</td>\n",
              "      <td>nan</td>\n",
              "      <td>nan</td>\n",
              "      <td>nan</td>\n",
              "      <td>nan</td>\n",
              "      <td>nan</td>\n",
              "      <td>nan</td>\n",
              "      <td>nan</td>\n",
              "      <td>nan</td>\n",
              "      <td>nan</td>\n",
              "      <td>nan</td>\n",
              "      <td>3.000</td>\n",
              "      <td>137.780</td>\n",
              "      <td>3.000</td>\n",
              "      <td>27.000</td>\n",
              "      <td>nan</td>\n",
              "      <td>11321.180</td>\n",
              "      <td>189.630</td>\n",
              "      <td>4839.949</td>\n",
              "      <td>45.530</td>\n",
              "      <td>12.727</td>\n",
              "      <td>676.561</td>\n",
              "    </tr>\n",
              "    <tr>\n",
              "      <th>std</th>\n",
              "      <td>nan</td>\n",
              "      <td>9153.766</td>\n",
              "      <td>4.078</td>\n",
              "      <td>290.613</td>\n",
              "      <td>81480.591</td>\n",
              "      <td>8.317</td>\n",
              "      <td>9.692</td>\n",
              "      <td>27.274</td>\n",
              "      <td>0.564</td>\n",
              "      <td>8.786</td>\n",
              "      <td>nan</td>\n",
              "      <td>nan</td>\n",
              "      <td>1.028</td>\n",
              "      <td>2.803</td>\n",
              "      <td>0.794</td>\n",
              "      <td>1.288</td>\n",
              "      <td>24.585</td>\n",
              "      <td>37883.905</td>\n",
              "      <td>25.800</td>\n",
              "      <td>1.717</td>\n",
              "      <td>3.210</td>\n",
              "      <td>6728.395</td>\n",
              "      <td>21.622</td>\n",
              "      <td>2.075</td>\n",
              "      <td>2.275</td>\n",
              "      <td>2.697</td>\n",
              "      <td>28630.441</td>\n",
              "      <td>22.109</td>\n",
              "      <td>23.049</td>\n",
              "      <td>nan</td>\n",
              "      <td>nan</td>\n",
              "      <td>nan</td>\n",
              "      <td>nan</td>\n",
              "      <td>nan</td>\n",
              "      <td>nan</td>\n",
              "      <td>nan</td>\n",
              "      <td>nan</td>\n",
              "      <td>nan</td>\n",
              "      <td>nan</td>\n",
              "      <td>nan</td>\n",
              "      <td>nan</td>\n",
              "      <td>nan</td>\n",
              "      <td>nan</td>\n",
              "      <td>nan</td>\n",
              "      <td>nan</td>\n",
              "      <td>nan</td>\n",
              "      <td>nan</td>\n",
              "      <td>nan</td>\n",
              "      <td>3038.893</td>\n",
              "      <td>7.064</td>\n",
              "      <td>9.051</td>\n",
              "      <td>16.098</td>\n",
              "    </tr>\n",
              "    <tr>\n",
              "      <th>min</th>\n",
              "      <td>nan</td>\n",
              "      <td>1800.000</td>\n",
              "      <td>6.970</td>\n",
              "      <td>62.900</td>\n",
              "      <td>26000.000</td>\n",
              "      <td>1.320</td>\n",
              "      <td>0.000</td>\n",
              "      <td>8.000</td>\n",
              "      <td>0.000</td>\n",
              "      <td>0.000</td>\n",
              "      <td>74000.000</td>\n",
              "      <td>11.740</td>\n",
              "      <td>0.000</td>\n",
              "      <td>0.000</td>\n",
              "      <td>0.000</td>\n",
              "      <td>0.000</td>\n",
              "      <td>1.000</td>\n",
              "      <td>0.000</td>\n",
              "      <td>0.000</td>\n",
              "      <td>0.000</td>\n",
              "      <td>0.000</td>\n",
              "      <td>0.000</td>\n",
              "      <td>1.000</td>\n",
              "      <td>0.000</td>\n",
              "      <td>0.000</td>\n",
              "      <td>0.000</td>\n",
              "      <td>5038.000</td>\n",
              "      <td>0.000</td>\n",
              "      <td>1.000</td>\n",
              "      <td>nan</td>\n",
              "      <td>nan</td>\n",
              "      <td>nan</td>\n",
              "      <td>nan</td>\n",
              "      <td>nan</td>\n",
              "      <td>nan</td>\n",
              "      <td>nan</td>\n",
              "      <td>nan</td>\n",
              "      <td>nan</td>\n",
              "      <td>nan</td>\n",
              "      <td>nan</td>\n",
              "      <td>nan</td>\n",
              "      <td>3.000</td>\n",
              "      <td>137.780</td>\n",
              "      <td>3.000</td>\n",
              "      <td>27.000</td>\n",
              "      <td>nan</td>\n",
              "      <td>11321.180</td>\n",
              "      <td>189.630</td>\n",
              "      <td>778.920</td>\n",
              "      <td>30.000</td>\n",
              "      <td>0.000</td>\n",
              "      <td>662.000</td>\n",
              "    </tr>\n",
              "    <tr>\n",
              "      <th>25%</th>\n",
              "      <td>nan</td>\n",
              "      <td>8000.000</td>\n",
              "      <td>12.088</td>\n",
              "      <td>262.795</td>\n",
              "      <td>61438.500</td>\n",
              "      <td>11.738</td>\n",
              "      <td>1.000</td>\n",
              "      <td>42.000</td>\n",
              "      <td>0.000</td>\n",
              "      <td>1.000</td>\n",
              "      <td>74000.000</td>\n",
              "      <td>11.740</td>\n",
              "      <td>0.000</td>\n",
              "      <td>1.000</td>\n",
              "      <td>0.000</td>\n",
              "      <td>0.500</td>\n",
              "      <td>8.000</td>\n",
              "      <td>11732.500</td>\n",
              "      <td>55.500</td>\n",
              "      <td>0.000</td>\n",
              "      <td>1.000</td>\n",
              "      <td>1349.000</td>\n",
              "      <td>43.000</td>\n",
              "      <td>0.000</td>\n",
              "      <td>0.000</td>\n",
              "      <td>1.000</td>\n",
              "      <td>9160.000</td>\n",
              "      <td>15.750</td>\n",
              "      <td>12.000</td>\n",
              "      <td>nan</td>\n",
              "      <td>nan</td>\n",
              "      <td>nan</td>\n",
              "      <td>nan</td>\n",
              "      <td>nan</td>\n",
              "      <td>nan</td>\n",
              "      <td>nan</td>\n",
              "      <td>nan</td>\n",
              "      <td>nan</td>\n",
              "      <td>nan</td>\n",
              "      <td>nan</td>\n",
              "      <td>nan</td>\n",
              "      <td>3.000</td>\n",
              "      <td>137.780</td>\n",
              "      <td>3.000</td>\n",
              "      <td>27.000</td>\n",
              "      <td>nan</td>\n",
              "      <td>11321.180</td>\n",
              "      <td>189.630</td>\n",
              "      <td>2548.500</td>\n",
              "      <td>45.000</td>\n",
              "      <td>2.250</td>\n",
              "      <td>667.000</td>\n",
              "    </tr>\n",
              "    <tr>\n",
              "      <th>50%</th>\n",
              "      <td>nan</td>\n",
              "      <td>15000.000</td>\n",
              "      <td>14.570</td>\n",
              "      <td>459.870</td>\n",
              "      <td>80500.000</td>\n",
              "      <td>16.265</td>\n",
              "      <td>2.000</td>\n",
              "      <td>63.500</td>\n",
              "      <td>0.000</td>\n",
              "      <td>2.000</td>\n",
              "      <td>74000.000</td>\n",
              "      <td>11.740</td>\n",
              "      <td>1.000</td>\n",
              "      <td>2.000</td>\n",
              "      <td>0.000</td>\n",
              "      <td>1.000</td>\n",
              "      <td>13.000</td>\n",
              "      <td>23186.000</td>\n",
              "      <td>67.000</td>\n",
              "      <td>1.000</td>\n",
              "      <td>2.000</td>\n",
              "      <td>3129.000</td>\n",
              "      <td>60.000</td>\n",
              "      <td>1.000</td>\n",
              "      <td>0.000</td>\n",
              "      <td>2.000</td>\n",
              "      <td>18992.500</td>\n",
              "      <td>35.000</td>\n",
              "      <td>28.000</td>\n",
              "      <td>nan</td>\n",
              "      <td>nan</td>\n",
              "      <td>nan</td>\n",
              "      <td>nan</td>\n",
              "      <td>nan</td>\n",
              "      <td>nan</td>\n",
              "      <td>nan</td>\n",
              "      <td>nan</td>\n",
              "      <td>nan</td>\n",
              "      <td>nan</td>\n",
              "      <td>nan</td>\n",
              "      <td>nan</td>\n",
              "      <td>3.000</td>\n",
              "      <td>137.780</td>\n",
              "      <td>3.000</td>\n",
              "      <td>27.000</td>\n",
              "      <td>nan</td>\n",
              "      <td>11321.180</td>\n",
              "      <td>189.630</td>\n",
              "      <td>5051.000</td>\n",
              "      <td>45.000</td>\n",
              "      <td>14.000</td>\n",
              "      <td>672.000</td>\n",
              "    </tr>\n",
              "    <tr>\n",
              "      <th>75%</th>\n",
              "      <td>nan</td>\n",
              "      <td>21700.000</td>\n",
              "      <td>17.990</td>\n",
              "      <td>688.598</td>\n",
              "      <td>116250.000</td>\n",
              "      <td>23.950</td>\n",
              "      <td>6.000</td>\n",
              "      <td>77.750</td>\n",
              "      <td>1.000</td>\n",
              "      <td>6.000</td>\n",
              "      <td>74000.000</td>\n",
              "      <td>11.740</td>\n",
              "      <td>1.000</td>\n",
              "      <td>4.000</td>\n",
              "      <td>1.000</td>\n",
              "      <td>2.000</td>\n",
              "      <td>24.000</td>\n",
              "      <td>44597.000</td>\n",
              "      <td>87.500</td>\n",
              "      <td>2.000</td>\n",
              "      <td>4.000</td>\n",
              "      <td>6188.000</td>\n",
              "      <td>73.500</td>\n",
              "      <td>2.000</td>\n",
              "      <td>1.000</td>\n",
              "      <td>4.000</td>\n",
              "      <td>49237.500</td>\n",
              "      <td>59.000</td>\n",
              "      <td>49.000</td>\n",
              "      <td>nan</td>\n",
              "      <td>nan</td>\n",
              "      <td>nan</td>\n",
              "      <td>nan</td>\n",
              "      <td>nan</td>\n",
              "      <td>nan</td>\n",
              "      <td>nan</td>\n",
              "      <td>nan</td>\n",
              "      <td>nan</td>\n",
              "      <td>nan</td>\n",
              "      <td>nan</td>\n",
              "      <td>nan</td>\n",
              "      <td>3.000</td>\n",
              "      <td>137.780</td>\n",
              "      <td>3.000</td>\n",
              "      <td>27.000</td>\n",
              "      <td>nan</td>\n",
              "      <td>11321.180</td>\n",
              "      <td>189.630</td>\n",
              "      <td>6213.250</td>\n",
              "      <td>49.998</td>\n",
              "      <td>18.000</td>\n",
              "      <td>682.000</td>\n",
              "    </tr>\n",
              "    <tr>\n",
              "      <th>max</th>\n",
              "      <td>nan</td>\n",
              "      <td>35000.000</td>\n",
              "      <td>25.990</td>\n",
              "      <td>1195.880</td>\n",
              "      <td>700000.000</td>\n",
              "      <td>35.560</td>\n",
              "      <td>61.000</td>\n",
              "      <td>116.000</td>\n",
              "      <td>2.000</td>\n",
              "      <td>68.000</td>\n",
              "      <td>74000.000</td>\n",
              "      <td>11.740</td>\n",
              "      <td>4.000</td>\n",
              "      <td>13.000</td>\n",
              "      <td>4.000</td>\n",
              "      <td>7.000</td>\n",
              "      <td>142.000</td>\n",
              "      <td>192215.000</td>\n",
              "      <td>137.000</td>\n",
              "      <td>9.000</td>\n",
              "      <td>18.000</td>\n",
              "      <td>49017.000</td>\n",
              "      <td>128.000</td>\n",
              "      <td>12.000</td>\n",
              "      <td>12.000</td>\n",
              "      <td>11.000</td>\n",
              "      <td>249925.000</td>\n",
              "      <td>75.000</td>\n",
              "      <td>80.000</td>\n",
              "      <td>nan</td>\n",
              "      <td>nan</td>\n",
              "      <td>nan</td>\n",
              "      <td>nan</td>\n",
              "      <td>nan</td>\n",
              "      <td>nan</td>\n",
              "      <td>nan</td>\n",
              "      <td>nan</td>\n",
              "      <td>nan</td>\n",
              "      <td>nan</td>\n",
              "      <td>nan</td>\n",
              "      <td>nan</td>\n",
              "      <td>3.000</td>\n",
              "      <td>137.780</td>\n",
              "      <td>3.000</td>\n",
              "      <td>27.000</td>\n",
              "      <td>nan</td>\n",
              "      <td>11321.180</td>\n",
              "      <td>189.630</td>\n",
              "      <td>14546.000</td>\n",
              "      <td>65.030</td>\n",
              "      <td>24.000</td>\n",
              "      <td>737.000</td>\n",
              "    </tr>\n",
              "  </tbody>\n",
              "</table>\n",
              "</div>"
            ],
            "text/plain": [
              "       member_id  loan_amnt  int_rate  installment  annual_inc     dti  \\\n",
              "count      0.000    148.000   148.000      148.000     148.000 148.000   \n",
              "mean         nan  15779.730    15.212      496.793  104337.689  17.525   \n",
              "std          nan   9153.766     4.078      290.613   81480.591   8.317   \n",
              "min          nan   1800.000     6.970       62.900   26000.000   1.320   \n",
              "25%          nan   8000.000    12.088      262.795   61438.500  11.738   \n",
              "50%          nan  15000.000    14.570      459.870   80500.000  16.265   \n",
              "75%          nan  21700.000    17.990      688.598  116250.000  23.950   \n",
              "max          nan  35000.000    25.990     1195.880  700000.000  35.560   \n",
              "\n",
              "       mths_since_last_delinq  mths_since_last_record  pub_rec  \\\n",
              "count                 133.000                  42.000  148.000   \n",
              "mean                    5.293                  60.929    0.331   \n",
              "std                     9.692                  27.274    0.564   \n",
              "min                     0.000                   8.000    0.000   \n",
              "25%                     1.000                  42.000    0.000   \n",
              "50%                     2.000                  63.500    0.000   \n",
              "75%                     6.000                  77.750    1.000   \n",
              "max                    61.000                 116.000    2.000   \n",
              "\n",
              "       mths_since_last_major_derog  annual_inc_joint  dti_joint  open_acc_6m  \\\n",
              "count                      134.000             1.000      1.000       95.000   \n",
              "mean                         5.239         74000.000     11.740        0.832   \n",
              "std                          8.786               nan        nan        1.028   \n",
              "min                          0.000         74000.000     11.740        0.000   \n",
              "25%                          1.000         74000.000     11.740        0.000   \n",
              "50%                          2.000         74000.000     11.740        1.000   \n",
              "75%                          6.000         74000.000     11.740        1.000   \n",
              "max                         68.000         74000.000     11.740        4.000   \n",
              "\n",
              "       open_act_il  open_il_12m  open_il_24m  mths_since_rcnt_il  \\\n",
              "count       95.000       95.000       95.000              95.000   \n",
              "mean         2.842        0.568        1.358              21.811   \n",
              "std          2.803        0.794        1.288              24.585   \n",
              "min          0.000        0.000        0.000               1.000   \n",
              "25%          1.000        0.000        0.500               8.000   \n",
              "50%          2.000        0.000        1.000              13.000   \n",
              "75%          4.000        1.000        2.000              24.000   \n",
              "max         13.000        4.000        7.000             142.000   \n",
              "\n",
              "       total_bal_il  il_util  open_rv_12m  open_rv_24m  max_bal_bc  all_util  \\\n",
              "count        95.000   83.000       95.000       95.000      95.000    95.000   \n",
              "mean      36049.400   67.783        1.421        3.126    5096.168    58.547   \n",
              "std       37883.905   25.800        1.717        3.210    6728.395    21.622   \n",
              "min           0.000    0.000        0.000        0.000       0.000     1.000   \n",
              "25%       11732.500   55.500        0.000        1.000    1349.000    43.000   \n",
              "50%       23186.000   67.000        1.000        2.000    3129.000    60.000   \n",
              "75%       44597.000   87.500        2.000        4.000    6188.000    73.500   \n",
              "max      192215.000  137.000        9.000       18.000   49017.000   128.000   \n",
              "\n",
              "       inq_fi  total_cu_tl  inq_last_12m  delinq_amnt  \\\n",
              "count  95.000       95.000        95.000      148.000   \n",
              "mean    1.389        1.189         2.821    29177.284   \n",
              "std     2.075        2.275         2.697    28630.441   \n",
              "min     0.000        0.000         0.000     5038.000   \n",
              "25%     0.000        0.000         1.000     9160.000   \n",
              "50%     1.000        0.000         2.000    18992.500   \n",
              "75%     2.000        1.000         4.000    49237.500   \n",
              "max    12.000       12.000        11.000   249925.000   \n",
              "\n",
              "       mths_since_recent_bc_dlq  mths_since_recent_revol_delinq  \\\n",
              "count                    52.000                          72.000   \n",
              "mean                     35.923                          31.972   \n",
              "std                      22.109                          23.049   \n",
              "min                       0.000                           1.000   \n",
              "25%                      15.750                          12.000   \n",
              "50%                      35.000                          28.000   \n",
              "75%                      59.000                          49.000   \n",
              "max                      75.000                          80.000   \n",
              "\n",
              "       revol_bal_joint  sec_app_fico_range_low  sec_app_fico_range_high  \\\n",
              "count            0.000                   0.000                    0.000   \n",
              "mean               nan                     nan                      nan   \n",
              "std                nan                     nan                      nan   \n",
              "min                nan                     nan                      nan   \n",
              "25%                nan                     nan                      nan   \n",
              "50%                nan                     nan                      nan   \n",
              "75%                nan                     nan                      nan   \n",
              "max                nan                     nan                      nan   \n",
              "\n",
              "       sec_app_inq_last_6mths  sec_app_mort_acc  sec_app_open_acc  \\\n",
              "count                   0.000             0.000             0.000   \n",
              "mean                      nan               nan               nan   \n",
              "std                       nan               nan               nan   \n",
              "min                       nan               nan               nan   \n",
              "25%                       nan               nan               nan   \n",
              "50%                       nan               nan               nan   \n",
              "75%                       nan               nan               nan   \n",
              "max                       nan               nan               nan   \n",
              "\n",
              "       sec_app_revol_util  sec_app_open_act_il  sec_app_num_rev_accts  \\\n",
              "count               0.000                0.000                  0.000   \n",
              "mean                  nan                  nan                    nan   \n",
              "std                   nan                  nan                    nan   \n",
              "min                   nan                  nan                    nan   \n",
              "25%                   nan                  nan                    nan   \n",
              "50%                   nan                  nan                    nan   \n",
              "75%                   nan                  nan                    nan   \n",
              "max                   nan                  nan                    nan   \n",
              "\n",
              "       sec_app_chargeoff_within_12_mths  sec_app_collections_12_mths_ex_med  \\\n",
              "count                             0.000                               0.000   \n",
              "mean                                nan                                 nan   \n",
              "std                                 nan                                 nan   \n",
              "min                                 nan                                 nan   \n",
              "25%                                 nan                                 nan   \n",
              "50%                                 nan                                 nan   \n",
              "75%                                 nan                                 nan   \n",
              "max                                 nan                                 nan   \n",
              "\n",
              "       sec_app_mths_since_last_major_derog  deferral_term  hardship_amount  \\\n",
              "count                                0.000          1.000            1.000   \n",
              "mean                                   nan          3.000          137.780   \n",
              "std                                    nan            nan              nan   \n",
              "min                                    nan          3.000          137.780   \n",
              "25%                                    nan          3.000          137.780   \n",
              "50%                                    nan          3.000          137.780   \n",
              "75%                                    nan          3.000          137.780   \n",
              "max                                    nan          3.000          137.780   \n",
              "\n",
              "       hardship_length  hardship_dpd  \\\n",
              "count            1.000         1.000   \n",
              "mean             3.000        27.000   \n",
              "std                nan           nan   \n",
              "min              3.000        27.000   \n",
              "25%              3.000        27.000   \n",
              "50%              3.000        27.000   \n",
              "75%              3.000        27.000   \n",
              "max              3.000        27.000   \n",
              "\n",
              "       orig_projected_additional_accrued_interest  \\\n",
              "count                                       0.000   \n",
              "mean                                          nan   \n",
              "std                                           nan   \n",
              "min                                           nan   \n",
              "25%                                           nan   \n",
              "50%                                           nan   \n",
              "75%                                           nan   \n",
              "max                                           nan   \n",
              "\n",
              "       hardship_payoff_balance_amount  hardship_last_payment_amount  \\\n",
              "count                           1.000                         1.000   \n",
              "mean                        11321.180                       189.630   \n",
              "std                               nan                           nan   \n",
              "min                         11321.180                       189.630   \n",
              "25%                         11321.180                       189.630   \n",
              "50%                         11321.180                       189.630   \n",
              "75%                         11321.180                       189.630   \n",
              "max                         11321.180                       189.630   \n",
              "\n",
              "       settlement_amount  settlement_percentage  settlement_term  Risk_Score  \n",
              "count             22.000                 22.000           22.000     148.000  \n",
              "mean            4839.949                 45.530           12.727     676.561  \n",
              "std             3038.893                  7.064            9.051      16.098  \n",
              "min              778.920                 30.000            0.000     662.000  \n",
              "25%             2548.500                 45.000            2.250     667.000  \n",
              "50%             5051.000                 45.000           14.000     672.000  \n",
              "75%             6213.250                 49.998           18.000     682.000  \n",
              "max            14546.000                 65.030           24.000     737.000  "
            ]
          },
          "metadata": {
            "tags": []
          },
          "execution_count": 107
        }
      ]
    },
    {
      "cell_type": "code",
      "metadata": {
        "id": "bApv1VWHzhf9"
      },
      "source": [
        "Delinquent_Remove = df_Accepted[df_Accepted[\"delinq_amnt\"]>5000][df_Accepted[\"loan_status\"]==\"Charged Off\"].sort_values(by=\"delinq_amnt\", ascending=False).index"
      ],
      "execution_count": null,
      "outputs": []
    },
    {
      "cell_type": "code",
      "metadata": {
        "colab": {
          "base_uri": "https://localhost:8080/"
        },
        "id": "TDYyp75gzk5i",
        "outputId": "801b5867-c5ef-4af1-9b29-3d9435632dfb"
      },
      "source": [
        "df_Accepted.shape"
      ],
      "execution_count": null,
      "outputs": [
        {
          "output_type": "execute_result",
          "data": {
            "text/plain": [
              "(1303936, 77)"
            ]
          },
          "metadata": {
            "tags": []
          },
          "execution_count": 109
        }
      ]
    },
    {
      "cell_type": "markdown",
      "metadata": {
        "id": "PHE72xx1zpS5"
      },
      "source": [
        "**Let's Work on Categorical Variable:¶**"
      ]
    },
    {
      "cell_type": "code",
      "metadata": {
        "colab": {
          "base_uri": "https://localhost:8080/"
        },
        "id": "sMLt5jiUznO8",
        "outputId": "3626ad37-8e83-429d-c839-a2286f277947"
      },
      "source": [
        "df_Accepted.dtypes"
      ],
      "execution_count": null,
      "outputs": [
        {
          "output_type": "execute_result",
          "data": {
            "text/plain": [
              "member_id                                     float64\n",
              "loan_amnt                                     float64\n",
              "term                                           object\n",
              "int_rate                                      float64\n",
              "installment                                   float64\n",
              "grade                                          object\n",
              "sub_grade                                      object\n",
              "emp_title                                      object\n",
              "emp_length                                     object\n",
              "home_ownership                                 object\n",
              "annual_inc                                    float64\n",
              "loan_status                                    object\n",
              "desc                                           object\n",
              "purpose                                        object\n",
              "zip_code                                       object\n",
              "addr_state                                     object\n",
              "dti                                           float64\n",
              "mths_since_last_delinq                        float64\n",
              "mths_since_last_record                        float64\n",
              "pub_rec                                       float64\n",
              "next_pymnt_d                                   object\n",
              "mths_since_last_major_derog                   float64\n",
              "application_type                               object\n",
              "annual_inc_joint                              float64\n",
              "dti_joint                                     float64\n",
              "verification_status_joint                      object\n",
              "open_acc_6m                                   float64\n",
              "open_act_il                                   float64\n",
              "open_il_12m                                   float64\n",
              "open_il_24m                                   float64\n",
              "mths_since_rcnt_il                            float64\n",
              "total_bal_il                                  float64\n",
              "il_util                                       float64\n",
              "open_rv_12m                                   float64\n",
              "open_rv_24m                                   float64\n",
              "max_bal_bc                                    float64\n",
              "all_util                                      float64\n",
              "inq_fi                                        float64\n",
              "total_cu_tl                                   float64\n",
              "inq_last_12m                                  float64\n",
              "delinq_amnt                                   float64\n",
              "mths_since_recent_bc_dlq                      float64\n",
              "mths_since_recent_revol_delinq                float64\n",
              "revol_bal_joint                               float64\n",
              "sec_app_fico_range_low                        float64\n",
              "sec_app_fico_range_high                       float64\n",
              "sec_app_earliest_cr_line                       object\n",
              "sec_app_inq_last_6mths                        float64\n",
              "sec_app_mort_acc                              float64\n",
              "sec_app_open_acc                              float64\n",
              "sec_app_revol_util                            float64\n",
              "sec_app_open_act_il                           float64\n",
              "sec_app_num_rev_accts                         float64\n",
              "sec_app_chargeoff_within_12_mths              float64\n",
              "sec_app_collections_12_mths_ex_med            float64\n",
              "sec_app_mths_since_last_major_derog           float64\n",
              "hardship_type                                  object\n",
              "hardship_reason                                object\n",
              "hardship_status                                object\n",
              "deferral_term                                 float64\n",
              "hardship_amount                               float64\n",
              "hardship_start_date                            object\n",
              "hardship_end_date                              object\n",
              "payment_plan_start_date                        object\n",
              "hardship_length                               float64\n",
              "hardship_dpd                                  float64\n",
              "hardship_loan_status                           object\n",
              "orig_projected_additional_accrued_interest    float64\n",
              "hardship_payoff_balance_amount                float64\n",
              "hardship_last_payment_amount                  float64\n",
              "debt_settlement_flag_date                      object\n",
              "settlement_status                              object\n",
              "settlement_date                                object\n",
              "settlement_amount                             float64\n",
              "settlement_percentage                         float64\n",
              "settlement_term                               float64\n",
              "Risk_Score                                    float64\n",
              "dtype: object"
            ]
          },
          "metadata": {
            "tags": []
          },
          "execution_count": 110
        }
      ]
    },
    {
      "cell_type": "code",
      "metadata": {
        "colab": {
          "base_uri": "https://localhost:8080/"
        },
        "id": "pXYVIl2Pzsu1",
        "outputId": "af107d6a-b673-4155-beec-53b548bd489b"
      },
      "source": [
        "df_Accepted.isnull().sum()"
      ],
      "execution_count": null,
      "outputs": [
        {
          "output_type": "execute_result",
          "data": {
            "text/plain": [
              "member_id                                     1303936\n",
              "loan_amnt                                           0\n",
              "term                                                0\n",
              "int_rate                                            0\n",
              "installment                                         0\n",
              "grade                                               0\n",
              "sub_grade                                           0\n",
              "emp_title                                       82126\n",
              "emp_length                                      75173\n",
              "home_ownership                                      0\n",
              "annual_inc                                          0\n",
              "loan_status                                         0\n",
              "desc                                          1181580\n",
              "purpose                                             0\n",
              "zip_code                                            1\n",
              "addr_state                                          0\n",
              "dti                                                 0\n",
              "mths_since_last_delinq                         659918\n",
              "mths_since_last_record                        1092749\n",
              "pub_rec                                             0\n",
              "next_pymnt_d                                  1303936\n",
              "mths_since_last_major_derog                    962844\n",
              "application_type                                    0\n",
              "annual_inc_joint                              1284348\n",
              "dti_joint                                     1284351\n",
              "verification_status_joint                     1284499\n",
              "open_acc_6m                                    795162\n",
              "open_act_il                                    795161\n",
              "open_il_12m                                    795161\n",
              "open_il_24m                                    795161\n",
              "mths_since_rcnt_il                             808860\n",
              "total_bal_il                                   795161\n",
              "il_util                                        864265\n",
              "open_rv_12m                                    795161\n",
              "open_rv_24m                                    795161\n",
              "max_bal_bc                                     795161\n",
              "all_util                                       795211\n",
              "inq_fi                                         795161\n",
              "total_cu_tl                                    795162\n",
              "inq_last_12m                                   795162\n",
              "delinq_amnt                                         0\n",
              "mths_since_recent_bc_dlq                       995583\n",
              "mths_since_recent_revol_delinq                 868816\n",
              "revol_bal_joint                               1290247\n",
              "sec_app_fico_range_low                        1290246\n",
              "sec_app_fico_range_high                       1290246\n",
              "sec_app_earliest_cr_line                      1290246\n",
              "sec_app_inq_last_6mths                        1290246\n",
              "sec_app_mort_acc                              1290246\n",
              "sec_app_open_acc                              1290246\n",
              "sec_app_revol_util                            1290499\n",
              "sec_app_open_act_il                           1290246\n",
              "sec_app_num_rev_accts                         1290246\n",
              "sec_app_chargeoff_within_12_mths              1290246\n",
              "sec_app_collections_12_mths_ex_med            1290246\n",
              "sec_app_mths_since_last_major_derog           1298980\n",
              "hardship_type                                 1298599\n",
              "hardship_reason                               1298599\n",
              "hardship_status                               1298599\n",
              "deferral_term                                 1298599\n",
              "hardship_amount                               1298599\n",
              "hardship_start_date                           1298599\n",
              "hardship_end_date                             1298599\n",
              "payment_plan_start_date                       1298599\n",
              "hardship_length                               1298599\n",
              "hardship_dpd                                  1298599\n",
              "hardship_loan_status                          1298599\n",
              "orig_projected_additional_accrued_interest    1300408\n",
              "hardship_payoff_balance_amount                1298599\n",
              "hardship_last_payment_amount                  1298599\n",
              "debt_settlement_flag_date                     1272031\n",
              "settlement_status                             1272031\n",
              "settlement_date                               1272031\n",
              "settlement_amount                             1272031\n",
              "settlement_percentage                         1272031\n",
              "settlement_term                               1272031\n",
              "Risk_Score                                          0\n",
              "dtype: int64"
            ]
          },
          "metadata": {
            "tags": []
          },
          "execution_count": 111
        }
      ]
    },
    {
      "cell_type": "code",
      "metadata": {
        "colab": {
          "base_uri": "https://localhost:8080/"
        },
        "id": "R-XDIphGzu_e",
        "outputId": "8586a03a-9b5d-49b9-bd41-bc6f96744824"
      },
      "source": [
        "#(1) Employment Title\n",
        "#Borrowers Employee Title and Employment Length(Total Experience) are only having major Null_Values.\n",
        "#Let's see how many of the loan sanctioned borrowers have re-paid their loan or Defaulted the given loan by without providing these two details.\n",
        "\n",
        "df_Accepted[\"emp_title\"].isnull().sum()"
      ],
      "execution_count": null,
      "outputs": [
        {
          "output_type": "execute_result",
          "data": {
            "text/plain": [
              "82126"
            ]
          },
          "metadata": {
            "tags": []
          },
          "execution_count": 112
        }
      ]
    },
    {
      "cell_type": "code",
      "metadata": {
        "colab": {
          "base_uri": "https://localhost:8080/"
        },
        "id": "bekvj6CEz5Jj",
        "outputId": "51f04091-a62d-445f-f495-9a18d67e2081"
      },
      "source": [
        "print(df_Accepted[\"emp_title\"].unique())\n",
        "print(len(df_Accepted[\"emp_title\"].unique()))"
      ],
      "execution_count": null,
      "outputs": [
        {
          "output_type": "stream",
          "text": [
            "['leadman' 'Engineer' 'truck driver' ... 'personal investor'\n",
            " 'Sr. Photo Producer' 'Exec Dir Internal Audit']\n",
            "370797\n"
          ],
          "name": "stdout"
        }
      ]
    },
    {
      "cell_type": "code",
      "metadata": {
        "colab": {
          "base_uri": "https://localhost:8080/"
        },
        "id": "exo-PC7Cz9GH",
        "outputId": "df4a7261-6723-4af5-eb64-07f97e19bbf8"
      },
      "source": [
        "df_Accepted[\"loan_status\"][df_Accepted[\"emp_title\"].isnull()].value_counts()"
      ],
      "execution_count": null,
      "outputs": [
        {
          "output_type": "execute_result",
          "data": {
            "text/plain": [
              "Fully Paid     60861\n",
              "Charged Off    21265\n",
              "Name: loan_status, dtype: int64"
            ]
          },
          "metadata": {
            "tags": []
          },
          "execution_count": 114
        }
      ]
    },
    {
      "cell_type": "code",
      "metadata": {
        "colab": {
          "base_uri": "https://localhost:8080/"
        },
        "id": "veN9gPcQz-3u",
        "outputId": "926a0fc7-f2a0-45c2-e7de-11ef97d14c11"
      },
      "source": [
        "df_Accepted[\"loan_status\"][df_Accepted[\"emp_length\"].isnull()].value_counts()"
      ],
      "execution_count": null,
      "outputs": [
        {
          "output_type": "execute_result",
          "data": {
            "text/plain": [
              "Fully Paid     55167\n",
              "Charged Off    20006\n",
              "Name: loan_status, dtype: int64"
            ]
          },
          "metadata": {
            "tags": []
          },
          "execution_count": 115
        }
      ]
    },
    {
      "cell_type": "code",
      "metadata": {
        "colab": {
          "base_uri": "https://localhost:8080/"
        },
        "id": "ywp0Ykb70ApZ",
        "outputId": "9db5e9f5-8573-4495-dd6b-4de3364688c1"
      },
      "source": [
        "df_Accepted[\"loan_status\"][df_Accepted[\"emp_title\"].isnull()][df_Accepted[\"emp_length\"].isnull()].value_counts()"
      ],
      "execution_count": null,
      "outputs": [
        {
          "output_type": "execute_result",
          "data": {
            "text/plain": [
              "Fully Paid     54742\n",
              "Charged Off    19865\n",
              "Name: loan_status, dtype: int64"
            ]
          },
          "metadata": {
            "tags": []
          },
          "execution_count": 116
        }
      ]
    },
    {
      "cell_type": "code",
      "metadata": {
        "id": "vx5Whwxx0C3_"
      },
      "source": [
        "Remove_ET_EL = df_Accepted[df_Accepted[\"loan_status\"]==\"Charged Off\"][df_Accepted[\"emp_title\"].isnull()][df_Accepted[\"emp_length\"].isnull()].index"
      ],
      "execution_count": null,
      "outputs": []
    },
    {
      "cell_type": "code",
      "metadata": {
        "colab": {
          "base_uri": "https://localhost:8080/"
        },
        "id": "7FTc9um00GXF",
        "outputId": "3aa32b8e-cb22-421e-d5ea-efce35a8d3d0"
      },
      "source": [
        "df_Accepted.drop(labels=Remove_ET_EL, axis=0, inplace=True)\n",
        "df_Accepted.shape"
      ],
      "execution_count": null,
      "outputs": [
        {
          "output_type": "execute_result",
          "data": {
            "text/plain": [
              "(1284071, 77)"
            ]
          },
          "metadata": {
            "tags": []
          },
          "execution_count": 118
        }
      ]
    },
    {
      "cell_type": "code",
      "metadata": {
        "colab": {
          "base_uri": "https://localhost:8080/"
        },
        "id": "yvWp0-D20JjP",
        "outputId": "48face72-4d23-4de3-cbaf-9bea69ebe37f"
      },
      "source": [
        "df_Accepted[\"emp_title\"].fillna(\"Others\", inplace=True)\n",
        "df_Accepted[\"emp_title\"].isnull().any()"
      ],
      "execution_count": null,
      "outputs": [
        {
          "output_type": "execute_result",
          "data": {
            "text/plain": [
              "False"
            ]
          },
          "metadata": {
            "tags": []
          },
          "execution_count": 119
        }
      ]
    },
    {
      "cell_type": "code",
      "metadata": {
        "colab": {
          "base_uri": "https://localhost:8080/"
        },
        "id": "tcg2rl0l0NVW",
        "outputId": "dbf04b74-dd71-46c0-a163-2addc5c6e456"
      },
      "source": [
        "#(2) Employment Length:\n",
        "\n",
        "df_Accepted['emp_length'].unique()"
      ],
      "execution_count": null,
      "outputs": [
        {
          "output_type": "execute_result",
          "data": {
            "text/plain": [
              "array(['10+ years', '3 years', '4 years', '6 years', '7 years', '8 years',\n",
              "       '2 years', '5 years', '9 years', '< 1 year', '1 year', nan],\n",
              "      dtype=object)"
            ]
          },
          "metadata": {
            "tags": []
          },
          "execution_count": 120
        }
      ]
    },
    {
      "cell_type": "code",
      "metadata": {
        "id": "FUEaR1CN0Qkz"
      },
      "source": [
        "df_Accepted['emp_length'].replace(to_replace=['10+ years', '3 years', '4 years', '6 years', '7 years', '8 years', '2 years', '5 years', '9 years', '< 1 year', '1 year'], value=[10,3,4,6,7,8,2,5,9,0,1], inplace=True)"
      ],
      "execution_count": null,
      "outputs": []
    },
    {
      "cell_type": "code",
      "metadata": {
        "colab": {
          "base_uri": "https://localhost:8080/"
        },
        "id": "tpRDbAwE0SuX",
        "outputId": "8da4aab9-e21b-4631-8c99-b1a68bedae89"
      },
      "source": [
        "df_Accepted['emp_length'].isnull().sum()"
      ],
      "execution_count": null,
      "outputs": [
        {
          "output_type": "execute_result",
          "data": {
            "text/plain": [
              "55308"
            ]
          },
          "metadata": {
            "tags": []
          },
          "execution_count": 122
        }
      ]
    },
    {
      "cell_type": "code",
      "metadata": {
        "colab": {
          "base_uri": "https://localhost:8080/"
        },
        "id": "AgmQUOq-0UyO",
        "outputId": "101be1f2-a98d-406e-ef7d-379156d8b893"
      },
      "source": [
        "df_Accepted[\"loan_status\"][df_Accepted['emp_length'].isnull()].value_counts()"
      ],
      "execution_count": null,
      "outputs": [
        {
          "output_type": "execute_result",
          "data": {
            "text/plain": [
              "Fully Paid     55167\n",
              "Charged Off      141\n",
              "Name: loan_status, dtype: int64"
            ]
          },
          "metadata": {
            "tags": []
          },
          "execution_count": 123
        }
      ]
    },
    {
      "cell_type": "code",
      "metadata": {
        "colab": {
          "base_uri": "https://localhost:8080/"
        },
        "id": "8HjCxtYy0YOD",
        "outputId": "48fb47fb-b706-4e5f-ca07-c2ccbc27f1b2"
      },
      "source": [
        "df_Accepted['emp_length'].mean()"
      ],
      "execution_count": null,
      "outputs": [
        {
          "output_type": "execute_result",
          "data": {
            "text/plain": [
              "5.962898459670416"
            ]
          },
          "metadata": {
            "tags": []
          },
          "execution_count": 124
        }
      ]
    },
    {
      "cell_type": "code",
      "metadata": {
        "colab": {
          "base_uri": "https://localhost:8080/"
        },
        "id": "2o8VsBYm0ad-",
        "outputId": "94c63958-5d71-4969-bb32-b7054a8b49da"
      },
      "source": [
        "df_Accepted['emp_length'].fillna(6, inplace=True)\n",
        "df_Accepted['emp_length'] = df_Accepted['emp_length'].astype(\"int\", errors=\"raise\")\n",
        "\n",
        "df_Accepted['emp_length'].unique()  #Cool"
      ],
      "execution_count": null,
      "outputs": [
        {
          "output_type": "execute_result",
          "data": {
            "text/plain": [
              "array([10,  3,  4,  6,  7,  8,  2,  5,  9,  0,  1])"
            ]
          },
          "metadata": {
            "tags": []
          },
          "execution_count": 125
        }
      ]
    },
    {
      "cell_type": "code",
      "metadata": {
        "colab": {
          "base_uri": "https://localhost:8080/",
          "height": 421
        },
        "id": "dpYCqzoe0eoI",
        "outputId": "e53991c3-9849-405b-98f8-037f7f63d21f"
      },
      "source": [
        "pd.crosstab(df_Accepted[\"emp_length\"],[df_Accepted[\"loan_status\"]])"
      ],
      "execution_count": null,
      "outputs": [
        {
          "output_type": "execute_result",
          "data": {
            "text/html": [
              "<div>\n",
              "<style scoped>\n",
              "    .dataframe tbody tr th:only-of-type {\n",
              "        vertical-align: middle;\n",
              "    }\n",
              "\n",
              "    .dataframe tbody tr th {\n",
              "        vertical-align: top;\n",
              "    }\n",
              "\n",
              "    .dataframe thead th {\n",
              "        text-align: right;\n",
              "    }\n",
              "</style>\n",
              "<table border=\"1\" class=\"dataframe\">\n",
              "  <thead>\n",
              "    <tr style=\"text-align: right;\">\n",
              "      <th>loan_status</th>\n",
              "      <th>Charged Off</th>\n",
              "      <th>Fully Paid</th>\n",
              "    </tr>\n",
              "    <tr>\n",
              "      <th>emp_length</th>\n",
              "      <th></th>\n",
              "      <th></th>\n",
              "    </tr>\n",
              "  </thead>\n",
              "  <tbody>\n",
              "    <tr>\n",
              "      <th>0</th>\n",
              "      <td>21058</td>\n",
              "      <td>83344</td>\n",
              "    </tr>\n",
              "    <tr>\n",
              "      <th>1</th>\n",
              "      <td>17406</td>\n",
              "      <td>68727</td>\n",
              "    </tr>\n",
              "    <tr>\n",
              "      <th>2</th>\n",
              "      <td>23012</td>\n",
              "      <td>95392</td>\n",
              "    </tr>\n",
              "    <tr>\n",
              "      <th>3</th>\n",
              "      <td>20478</td>\n",
              "      <td>84080</td>\n",
              "    </tr>\n",
              "    <tr>\n",
              "      <th>4</th>\n",
              "      <td>15135</td>\n",
              "      <td>62994</td>\n",
              "    </tr>\n",
              "    <tr>\n",
              "      <th>5</th>\n",
              "      <td>15680</td>\n",
              "      <td>65933</td>\n",
              "    </tr>\n",
              "    <tr>\n",
              "      <th>6</th>\n",
              "      <td>11742</td>\n",
              "      <td>104562</td>\n",
              "    </tr>\n",
              "    <tr>\n",
              "      <th>7</th>\n",
              "      <td>11182</td>\n",
              "      <td>46859</td>\n",
              "    </tr>\n",
              "    <tr>\n",
              "      <th>8</th>\n",
              "      <td>11531</td>\n",
              "      <td>47404</td>\n",
              "    </tr>\n",
              "    <tr>\n",
              "      <th>9</th>\n",
              "      <td>9691</td>\n",
              "      <td>39779</td>\n",
              "    </tr>\n",
              "    <tr>\n",
              "      <th>10</th>\n",
              "      <td>78965</td>\n",
              "      <td>349117</td>\n",
              "    </tr>\n",
              "  </tbody>\n",
              "</table>\n",
              "</div>"
            ],
            "text/plain": [
              "loan_status  Charged Off  Fully Paid\n",
              "emp_length                          \n",
              "0                  21058       83344\n",
              "1                  17406       68727\n",
              "2                  23012       95392\n",
              "3                  20478       84080\n",
              "4                  15135       62994\n",
              "5                  15680       65933\n",
              "6                  11742      104562\n",
              "7                  11182       46859\n",
              "8                  11531       47404\n",
              "9                   9691       39779\n",
              "10                 78965      349117"
            ]
          },
          "metadata": {
            "tags": []
          },
          "execution_count": 126
        }
      ]
    },
    {
      "cell_type": "code",
      "metadata": {
        "colab": {
          "base_uri": "https://localhost:8080/",
          "height": 306
        },
        "id": "ATOiVZXK0gqr",
        "outputId": "5bef29a3-926b-4927-c42f-fadc946f0d9d"
      },
      "source": [
        "pd.crosstab(df_Accepted[\"emp_length\"],[df_Accepted[\"loan_status\"]]).plot(kind=\"bar\")\n",
        "plt.title(\"Loan status based on customer's work experience\", fontsize=18.0, fontweight='bold')\n",
        "plt.xlabel(\"No.of Years work experience\", fontsize=14.0, fontweight='bold')\n",
        "plt.ylabel(\"No.of Customers\", fontsize=14.0, fontweight='bold')\n",
        "plt.legend(loc=\"best\")\n",
        "plt.show()"
      ],
      "execution_count": null,
      "outputs": [
        {
          "output_type": "display_data",
          "data": {
            "image/png": "[encoded data removed]",
            "text/plain": [
              "<Figure size 432x288 with 1 Axes>"
            ]
          },
          "metadata": {
            "tags": []
          }
        }
      ]
    },
    {
      "cell_type": "code",
      "metadata": {
        "colab": {
          "base_uri": "https://localhost:8080/"
        },
        "id": "4tikBNOQ0kHb",
        "outputId": "88d1bd8c-4d46-417f-f015-46860cb2f4f1"
      },
      "source": [
        "#3). Term >> Loan Term\n",
        "#A loan term is the length of time it will take for a loan to be completely paid off when the borrower is making regular payments. The time it takes to eliminate the debt is a loan's term.\n",
        "\n",
        "\n",
        "df_Accepted[\"term\"].isnull().sum()"
      ],
      "execution_count": null,
      "outputs": [
        {
          "output_type": "execute_result",
          "data": {
            "text/plain": [
              "0"
            ]
          },
          "metadata": {
            "tags": []
          },
          "execution_count": 128
        }
      ]
    },
    {
      "cell_type": "code",
      "metadata": {
        "colab": {
          "base_uri": "https://localhost:8080/"
        },
        "id": "mgaw7C1o0pJG",
        "outputId": "77d32213-d82f-4983-c1b0-89b104b2d32d"
      },
      "source": [
        "df_Accepted[\"term\"].value_counts()"
      ],
      "execution_count": null,
      "outputs": [
        {
          "output_type": "execute_result",
          "data": {
            "text/plain": [
              " 36 months    975856\n",
              " 60 months    308215\n",
              "Name: term, dtype: int64"
            ]
          },
          "metadata": {
            "tags": []
          },
          "execution_count": 129
        }
      ]
    },
    {
      "cell_type": "code",
      "metadata": {
        "colab": {
          "base_uri": "https://localhost:8080/"
        },
        "id": "2pH9P4W10q7A",
        "outputId": "d8167dc3-f63d-4242-8e91-02fe6dfa6f8e"
      },
      "source": [
        "df_Accepted[\"term\"] = [x.strip(\" months\") for x in df_Accepted[\"term\"]]\n",
        "df_Accepted[\"term\"] = df_Accepted[\"term\"].astype(\"int\", errors =\"raise\")\n",
        "df_Accepted[\"term\"].dtype"
      ],
      "execution_count": null,
      "outputs": [
        {
          "output_type": "execute_result",
          "data": {
            "text/plain": [
              "dtype('int64')"
            ]
          },
          "metadata": {
            "tags": []
          },
          "execution_count": 130
        }
      ]
    },
    {
      "cell_type": "code",
      "metadata": {
        "colab": {
          "base_uri": "https://localhost:8080/",
          "height": 142
        },
        "id": "U6WgBmig0uh6",
        "outputId": "81d9999d-bb59-4698-f1a9-17d032ce554e"
      },
      "source": [
        "pd.crosstab(df_Accepted[\"term\"], df_Accepted[\"loan_status\"])"
      ],
      "execution_count": null,
      "outputs": [
        {
          "output_type": "execute_result",
          "data": {
            "text/html": [
              "<div>\n",
              "<style scoped>\n",
              "    .dataframe tbody tr th:only-of-type {\n",
              "        vertical-align: middle;\n",
              "    }\n",
              "\n",
              "    .dataframe tbody tr th {\n",
              "        vertical-align: top;\n",
              "    }\n",
              "\n",
              "    .dataframe thead th {\n",
              "        text-align: right;\n",
              "    }\n",
              "</style>\n",
              "<table border=\"1\" class=\"dataframe\">\n",
              "  <thead>\n",
              "    <tr style=\"text-align: right;\">\n",
              "      <th>loan_status</th>\n",
              "      <th>Charged Off</th>\n",
              "      <th>Fully Paid</th>\n",
              "    </tr>\n",
              "    <tr>\n",
              "      <th>term</th>\n",
              "      <th></th>\n",
              "      <th></th>\n",
              "    </tr>\n",
              "  </thead>\n",
              "  <tbody>\n",
              "    <tr>\n",
              "      <th>36</th>\n",
              "      <td>140655</td>\n",
              "      <td>835201</td>\n",
              "    </tr>\n",
              "    <tr>\n",
              "      <th>60</th>\n",
              "      <td>95225</td>\n",
              "      <td>212990</td>\n",
              "    </tr>\n",
              "  </tbody>\n",
              "</table>\n",
              "</div>"
            ],
            "text/plain": [
              "loan_status  Charged Off  Fully Paid\n",
              "term                                \n",
              "36                140655      835201\n",
              "60                 95225      212990"
            ]
          },
          "metadata": {
            "tags": []
          },
          "execution_count": 131
        }
      ]
    },
    {
      "cell_type": "code",
      "metadata": {
        "colab": {
          "base_uri": "https://localhost:8080/"
        },
        "id": "bpJn2vBz0zGI",
        "outputId": "a630011b-fb54-4860-ffc3-8f27d234e325"
      },
      "source": [
        "X = df_Accepted['loan_status'][df_Accepted['term'] == 36].value_counts()\n",
        "\n",
        "Term36M_Defaulters = round(X[1] / (X[0]+X[1]), 2)\n",
        "Term36M_Defaulters"
      ],
      "execution_count": null,
      "outputs": [
        {
          "output_type": "execute_result",
          "data": {
            "text/plain": [
              "0.14"
            ]
          },
          "metadata": {
            "tags": []
          },
          "execution_count": 132
        }
      ]
    },
    {
      "cell_type": "code",
      "metadata": {
        "colab": {
          "base_uri": "https://localhost:8080/",
          "height": 305
        },
        "id": "i6mg03ny001o",
        "outputId": "8869aa5e-9bc1-4650-f4a7-4225770ba068"
      },
      "source": [
        "pd.crosstab(df_Accepted[\"term\"], df_Accepted[\"loan_status\"]).plot(kind=\"bar\")\n",
        "plt.title(\"Loan status based on Term\", fontsize=18.0, fontweight='bold')\n",
        "plt.xlabel(\"Term(In Months)\")\n",
        "plt.ylabel(\"No.of Customers\")\n",
        "plt.legend(loc=\"best\")\n",
        "plt.show()"
      ],
      "execution_count": null,
      "outputs": [
        {
          "output_type": "display_data",
          "data": {
            "image/png": "[encoded data removed]",
            "text/plain": [
              "<Figure size 432x288 with 1 Axes>"
            ]
          },
          "metadata": {
            "tags": []
          }
        }
      ]
    },
    {
      "cell_type": "code",
      "metadata": {
        "colab": {
          "base_uri": "https://localhost:8080/"
        },
        "id": "mtvgFHku02_U",
        "outputId": "629de02c-2dc6-4f79-f01c-cc7c37943850"
      },
      "source": [
        "#(4). Grade of the Customers\n",
        "#Loan grading is used to assign a quality score to a loan based on the credit history of the borrower, quality of the collateral, and the likelihood of the repayment.It is the result of a formula that takes into account not only credit score, but also a combination of several indicators of credit risk from the credit report.\n",
        "df_Accepted.groupby([\"grade\"])[\"int_rate\"].mean()\n"
      ],
      "execution_count": null,
      "outputs": [
        {
          "output_type": "execute_result",
          "data": {
            "text/plain": [
              "grade\n",
              "A    7.111\n",
              "B   10.682\n",
              "C   14.014\n",
              "D   17.710\n",
              "E   21.102\n",
              "F   23.960\n",
              "G   25.658\n",
              "Name: int_rate, dtype: float64"
            ]
          },
          "metadata": {
            "tags": []
          },
          "execution_count": 134
        }
      ]
    },
    {
      "cell_type": "code",
      "metadata": {
        "colab": {
          "base_uri": "https://localhost:8080/"
        },
        "id": "LQydVEH209cL",
        "outputId": "82256037-9f01-4928-c2e2-bc9a83885c1b"
      },
      "source": [
        "#(4). Sub Grade of the Customers\n",
        "#Customers Grades are further classified into Sub_Grades in order to classify them customers in better way.\n",
        "df_Accepted.groupby([\"sub_grade\"])[\"int_rate\"].mean()"
      ],
      "execution_count": null,
      "outputs": [
        {
          "output_type": "execute_result",
          "data": {
            "text/plain": [
              "sub_grade\n",
              "A1    5.538\n",
              "A2    6.521\n",
              "A3    7.121\n",
              "A4    7.514\n",
              "A5    8.203\n",
              "B1    8.908\n",
              "B2    9.912\n",
              "B3   10.755\n",
              "B4   11.501\n",
              "B5   12.015\n",
              "C1   12.761\n",
              "C2   13.438\n",
              "C3   14.018\n",
              "C4   14.708\n",
              "C5   15.543\n",
              "D1   16.379\n",
              "D2   17.259\n",
              "D3   17.943\n",
              "D4   18.568\n",
              "D5   19.359\n",
              "E1   19.776\n",
              "E2   20.432\n",
              "E3   21.153\n",
              "E4   22.043\n",
              "E5   23.172\n",
              "F1   22.978\n",
              "F2   23.687\n",
              "F3   24.362\n",
              "F4   24.915\n",
              "F5   25.310\n",
              "G1   25.738\n",
              "G2   25.807\n",
              "G3   25.413\n",
              "G4   25.296\n",
              "G5   25.600\n",
              "Name: int_rate, dtype: float64"
            ]
          },
          "metadata": {
            "tags": []
          },
          "execution_count": 135
        }
      ]
    },
    {
      "cell_type": "code",
      "metadata": {
        "colab": {
          "base_uri": "https://localhost:8080/"
        },
        "id": "cIBiqO931GIr",
        "outputId": "5296695b-bac2-4a65-8bac-9f9a6b0fe233"
      },
      "source": [
        "#(5) HOME OWNERSHIP\n",
        "#The home ownership status provided by the borrower during registration or obtained from the credit report. Our values are: RENT, OWN, MORTGAGE, OTHER\n",
        "\n",
        "df_Accepted[\"home_ownership\"].unique()"
      ],
      "execution_count": null,
      "outputs": [
        {
          "output_type": "execute_result",
          "data": {
            "text/plain": [
              "array(['MORTGAGE', 'RENT', 'OWN', 'ANY', 'NONE', 'OTHER'], dtype=object)"
            ]
          },
          "metadata": {
            "tags": []
          },
          "execution_count": 136
        }
      ]
    },
    {
      "cell_type": "code",
      "metadata": {
        "colab": {
          "base_uri": "https://localhost:8080/"
        },
        "id": "JZeffTjj1MFT",
        "outputId": "a734d1e1-6609-4287-f347-312f49cd16eb"
      },
      "source": [
        "df_Accepted[\"home_ownership\"].value_counts()"
      ],
      "execution_count": null,
      "outputs": [
        {
          "output_type": "execute_result",
          "data": {
            "text/plain": [
              "MORTGAGE    635697\n",
              "RENT        511681\n",
              "OWN         136237\n",
              "ANY            267\n",
              "OTHER          143\n",
              "NONE            46\n",
              "Name: home_ownership, dtype: int64"
            ]
          },
          "metadata": {
            "tags": []
          },
          "execution_count": 137
        }
      ]
    },
    {
      "cell_type": "code",
      "metadata": {
        "colab": {
          "base_uri": "https://localhost:8080/"
        },
        "id": "8Yo6gJ2E1N5d",
        "outputId": "9d8f3f4a-3e6c-4bed-9498-3f20291d28f5"
      },
      "source": [
        "df_Accepted[\"home_ownership\"].replace(['ANY', 'NONE', 'OTHER'], \"OTHERS\", inplace=True)\n",
        "\n",
        "df_Accepted[\"home_ownership\"].value_counts()"
      ],
      "execution_count": null,
      "outputs": [
        {
          "output_type": "execute_result",
          "data": {
            "text/plain": [
              "MORTGAGE    635697\n",
              "RENT        511681\n",
              "OWN         136237\n",
              "OTHERS         456\n",
              "Name: home_ownership, dtype: int64"
            ]
          },
          "metadata": {
            "tags": []
          },
          "execution_count": 138
        }
      ]
    },
    {
      "cell_type": "code",
      "metadata": {
        "colab": {
          "base_uri": "https://localhost:8080/"
        },
        "id": "Mumla17b1Ran",
        "outputId": "c0cc9e08-de81-4c53-8b0e-cbf5885922a2"
      },
      "source": [
        "df_Accepted[df_Accepted[\"home_ownership\"] == \"OTHERS\"].index"
      ],
      "execution_count": null,
      "outputs": [
        {
          "output_type": "execute_result",
          "data": {
            "text/plain": [
              "Int64Index([  26480,  203353,  492111,  553622,  574868,  591301,  607073,\n",
              "             619848,  773138,  784334,\n",
              "            ...\n",
              "            2179759, 2179770, 2180228, 2180776, 2181225, 2206113, 2209498,\n",
              "            2237261, 2237397, 2258360],\n",
              "           dtype='int64', length=456)"
            ]
          },
          "metadata": {
            "tags": []
          },
          "execution_count": 140
        }
      ]
    },
    {
      "cell_type": "code",
      "metadata": {
        "colab": {
          "base_uri": "https://localhost:8080/"
        },
        "id": "voVsLx741Ta1",
        "outputId": "f3a890be-ab9e-4ac2-c80e-727e75978e01"
      },
      "source": [
        "df_Accepted[\"loan_status\"][df_Accepted[\"home_ownership\"]==\"OTHERS\"].value_counts()\n",
        "\n",
        "df_Accepted[\"home_ownership\"].value_counts()"
      ],
      "execution_count": null,
      "outputs": [
        {
          "output_type": "execute_result",
          "data": {
            "text/plain": [
              "MORTGAGE    635697\n",
              "RENT        511681\n",
              "OWN         136237\n",
              "OTHERS         456\n",
              "Name: home_ownership, dtype: int64"
            ]
          },
          "metadata": {
            "tags": []
          },
          "execution_count": 141
        }
      ]
    },
    {
      "cell_type": "code",
      "metadata": {
        "colab": {
          "base_uri": "https://localhost:8080/",
          "height": 204
        },
        "id": "-r1kMN3w1awY",
        "outputId": "eca7e8cc-3feb-4aac-9d4a-9e917e139747"
      },
      "source": [
        "pd.crosstab(df_Accepted[\"home_ownership\"], df_Accepted[\"loan_status\"])"
      ],
      "execution_count": null,
      "outputs": [
        {
          "output_type": "execute_result",
          "data": {
            "text/html": [
              "<div>\n",
              "<style scoped>\n",
              "    .dataframe tbody tr th:only-of-type {\n",
              "        vertical-align: middle;\n",
              "    }\n",
              "\n",
              "    .dataframe tbody tr th {\n",
              "        vertical-align: top;\n",
              "    }\n",
              "\n",
              "    .dataframe thead th {\n",
              "        text-align: right;\n",
              "    }\n",
              "</style>\n",
              "<table border=\"1\" class=\"dataframe\">\n",
              "  <thead>\n",
              "    <tr style=\"text-align: right;\">\n",
              "      <th>loan_status</th>\n",
              "      <th>Charged Off</th>\n",
              "      <th>Fully Paid</th>\n",
              "    </tr>\n",
              "    <tr>\n",
              "      <th>home_ownership</th>\n",
              "      <th></th>\n",
              "      <th></th>\n",
              "    </tr>\n",
              "  </thead>\n",
              "  <tbody>\n",
              "    <tr>\n",
              "      <th>MORTGAGE</th>\n",
              "      <td>100916</td>\n",
              "      <td>534781</td>\n",
              "    </tr>\n",
              "    <tr>\n",
              "      <th>OTHERS</th>\n",
              "      <td>78</td>\n",
              "      <td>378</td>\n",
              "    </tr>\n",
              "    <tr>\n",
              "      <th>OWN</th>\n",
              "      <td>24427</td>\n",
              "      <td>111810</td>\n",
              "    </tr>\n",
              "    <tr>\n",
              "      <th>RENT</th>\n",
              "      <td>110459</td>\n",
              "      <td>401222</td>\n",
              "    </tr>\n",
              "  </tbody>\n",
              "</table>\n",
              "</div>"
            ],
            "text/plain": [
              "loan_status     Charged Off  Fully Paid\n",
              "home_ownership                         \n",
              "MORTGAGE             100916      534781\n",
              "OTHERS                   78         378\n",
              "OWN                   24427      111810\n",
              "RENT                 110459      401222"
            ]
          },
          "metadata": {
            "tags": []
          },
          "execution_count": 142
        }
      ]
    },
    {
      "cell_type": "code",
      "metadata": {
        "colab": {
          "base_uri": "https://localhost:8080/",
          "height": 204
        },
        "id": "9c2Zg8Nw1esm",
        "outputId": "8a32750f-a5d7-483e-fb61-b314efc0efb8"
      },
      "source": [
        "pd.crosstab(df_Accepted[\"home_ownership\"], df_Accepted[\"loan_status\"], values=df_Accepted[\"int_rate\"], aggfunc='mean')"
      ],
      "execution_count": null,
      "outputs": [
        {
          "output_type": "execute_result",
          "data": {
            "text/html": [
              "<div>\n",
              "<style scoped>\n",
              "    .dataframe tbody tr th:only-of-type {\n",
              "        vertical-align: middle;\n",
              "    }\n",
              "\n",
              "    .dataframe tbody tr th {\n",
              "        vertical-align: top;\n",
              "    }\n",
              "\n",
              "    .dataframe thead th {\n",
              "        text-align: right;\n",
              "    }\n",
              "</style>\n",
              "<table border=\"1\" class=\"dataframe\">\n",
              "  <thead>\n",
              "    <tr style=\"text-align: right;\">\n",
              "      <th>loan_status</th>\n",
              "      <th>Charged Off</th>\n",
              "      <th>Fully Paid</th>\n",
              "    </tr>\n",
              "    <tr>\n",
              "      <th>home_ownership</th>\n",
              "      <th></th>\n",
              "      <th></th>\n",
              "    </tr>\n",
              "  </thead>\n",
              "  <tbody>\n",
              "    <tr>\n",
              "      <th>MORTGAGE</th>\n",
              "      <td>15.307</td>\n",
              "      <td>12.226</td>\n",
              "    </tr>\n",
              "    <tr>\n",
              "      <th>OTHERS</th>\n",
              "      <td>15.274</td>\n",
              "      <td>12.930</td>\n",
              "    </tr>\n",
              "    <tr>\n",
              "      <th>OWN</th>\n",
              "      <td>15.395</td>\n",
              "      <td>12.531</td>\n",
              "    </tr>\n",
              "    <tr>\n",
              "      <th>RENT</th>\n",
              "      <td>15.573</td>\n",
              "      <td>12.848</td>\n",
              "    </tr>\n",
              "  </tbody>\n",
              "</table>\n",
              "</div>"
            ],
            "text/plain": [
              "loan_status     Charged Off  Fully Paid\n",
              "home_ownership                         \n",
              "MORTGAGE             15.307      12.226\n",
              "OTHERS               15.274      12.930\n",
              "OWN                  15.395      12.531\n",
              "RENT                 15.573      12.848"
            ]
          },
          "metadata": {
            "tags": []
          },
          "execution_count": 143
        }
      ]
    },
    {
      "cell_type": "code",
      "metadata": {
        "colab": {
          "base_uri": "https://localhost:8080/",
          "height": 328
        },
        "id": "2bLxZ8aa1ghZ",
        "outputId": "5757898b-694f-4ee5-a334-c10183c632a8"
      },
      "source": [
        "A = pd.crosstab(df_Accepted[\"grade\"],[df_Accepted[\"home_ownership\"], df_Accepted[\"loan_status\"]], values=df_Accepted[\"int_rate\"], aggfunc='mean')\n",
        "A"
      ],
      "execution_count": null,
      "outputs": [
        {
          "output_type": "execute_result",
          "data": {
            "text/html": [
              "<div>\n",
              "<style scoped>\n",
              "    .dataframe tbody tr th:only-of-type {\n",
              "        vertical-align: middle;\n",
              "    }\n",
              "\n",
              "    .dataframe tbody tr th {\n",
              "        vertical-align: top;\n",
              "    }\n",
              "\n",
              "    .dataframe thead tr th {\n",
              "        text-align: left;\n",
              "    }\n",
              "\n",
              "    .dataframe thead tr:last-of-type th {\n",
              "        text-align: right;\n",
              "    }\n",
              "</style>\n",
              "<table border=\"1\" class=\"dataframe\">\n",
              "  <thead>\n",
              "    <tr>\n",
              "      <th>home_ownership</th>\n",
              "      <th colspan=\"2\" halign=\"left\">MORTGAGE</th>\n",
              "      <th colspan=\"2\" halign=\"left\">OTHERS</th>\n",
              "      <th colspan=\"2\" halign=\"left\">OWN</th>\n",
              "      <th colspan=\"2\" halign=\"left\">RENT</th>\n",
              "    </tr>\n",
              "    <tr>\n",
              "      <th>loan_status</th>\n",
              "      <th>Charged Off</th>\n",
              "      <th>Fully Paid</th>\n",
              "      <th>Charged Off</th>\n",
              "      <th>Fully Paid</th>\n",
              "      <th>Charged Off</th>\n",
              "      <th>Fully Paid</th>\n",
              "      <th>Charged Off</th>\n",
              "      <th>Fully Paid</th>\n",
              "    </tr>\n",
              "    <tr>\n",
              "      <th>grade</th>\n",
              "      <th></th>\n",
              "      <th></th>\n",
              "      <th></th>\n",
              "      <th></th>\n",
              "      <th></th>\n",
              "      <th></th>\n",
              "      <th></th>\n",
              "      <th></th>\n",
              "    </tr>\n",
              "  </thead>\n",
              "  <tbody>\n",
              "    <tr>\n",
              "      <th>A</th>\n",
              "      <td>7.381</td>\n",
              "      <td>7.044</td>\n",
              "      <td>8.333</td>\n",
              "      <td>7.633</td>\n",
              "      <td>7.355</td>\n",
              "      <td>7.053</td>\n",
              "      <td>7.447</td>\n",
              "      <td>7.200</td>\n",
              "    </tr>\n",
              "    <tr>\n",
              "      <th>B</th>\n",
              "      <td>10.774</td>\n",
              "      <td>10.626</td>\n",
              "      <td>11.645</td>\n",
              "      <td>11.007</td>\n",
              "      <td>10.740</td>\n",
              "      <td>10.616</td>\n",
              "      <td>10.846</td>\n",
              "      <td>10.729</td>\n",
              "    </tr>\n",
              "    <tr>\n",
              "      <th>C</th>\n",
              "      <td>14.115</td>\n",
              "      <td>14.024</td>\n",
              "      <td>14.127</td>\n",
              "      <td>14.277</td>\n",
              "      <td>14.040</td>\n",
              "      <td>13.954</td>\n",
              "      <td>14.049</td>\n",
              "      <td>13.977</td>\n",
              "    </tr>\n",
              "    <tr>\n",
              "      <th>D</th>\n",
              "      <td>17.759</td>\n",
              "      <td>17.695</td>\n",
              "      <td>17.534</td>\n",
              "      <td>17.809</td>\n",
              "      <td>17.851</td>\n",
              "      <td>17.736</td>\n",
              "      <td>17.766</td>\n",
              "      <td>17.661</td>\n",
              "    </tr>\n",
              "    <tr>\n",
              "      <th>E</th>\n",
              "      <td>21.064</td>\n",
              "      <td>21.098</td>\n",
              "      <td>22.465</td>\n",
              "      <td>21.381</td>\n",
              "      <td>21.291</td>\n",
              "      <td>21.254</td>\n",
              "      <td>21.179</td>\n",
              "      <td>21.007</td>\n",
              "    </tr>\n",
              "    <tr>\n",
              "      <th>F</th>\n",
              "      <td>24.055</td>\n",
              "      <td>23.822</td>\n",
              "      <td>19.590</td>\n",
              "      <td>22.249</td>\n",
              "      <td>24.169</td>\n",
              "      <td>24.015</td>\n",
              "      <td>24.145</td>\n",
              "      <td>23.832</td>\n",
              "    </tr>\n",
              "    <tr>\n",
              "      <th>G</th>\n",
              "      <td>25.757</td>\n",
              "      <td>25.463</td>\n",
              "      <td>nan</td>\n",
              "      <td>24.890</td>\n",
              "      <td>25.936</td>\n",
              "      <td>25.833</td>\n",
              "      <td>25.875</td>\n",
              "      <td>25.504</td>\n",
              "    </tr>\n",
              "  </tbody>\n",
              "</table>\n",
              "</div>"
            ],
            "text/plain": [
              "home_ownership    MORTGAGE                 OTHERS                    OWN  \\\n",
              "loan_status    Charged Off Fully Paid Charged Off Fully Paid Charged Off   \n",
              "grade                                                                      \n",
              "A                    7.381      7.044       8.333      7.633       7.355   \n",
              "B                   10.774     10.626      11.645     11.007      10.740   \n",
              "C                   14.115     14.024      14.127     14.277      14.040   \n",
              "D                   17.759     17.695      17.534     17.809      17.851   \n",
              "E                   21.064     21.098      22.465     21.381      21.291   \n",
              "F                   24.055     23.822      19.590     22.249      24.169   \n",
              "G                   25.757     25.463         nan     24.890      25.936   \n",
              "\n",
              "home_ownership                   RENT             \n",
              "loan_status    Fully Paid Charged Off Fully Paid  \n",
              "grade                                             \n",
              "A                   7.053       7.447      7.200  \n",
              "B                  10.616      10.846     10.729  \n",
              "C                  13.954      14.049     13.977  \n",
              "D                  17.736      17.766     17.661  \n",
              "E                  21.254      21.179     21.007  \n",
              "F                  24.015      24.145     23.832  \n",
              "G                  25.833      25.875     25.504  "
            ]
          },
          "metadata": {
            "tags": []
          },
          "execution_count": 144
        }
      ]
    },
    {
      "cell_type": "code",
      "metadata": {
        "colab": {
          "base_uri": "https://localhost:8080/",
          "height": 266
        },
        "id": "XjHq2Y051jQF",
        "outputId": "05699b34-d76b-43ae-d951-e9e22953f810"
      },
      "source": [
        "pd.crosstab(df_Accepted[\"home_ownership\"], [df_Accepted[\"loan_status\"],df_Accepted[\"term\"]],values=df_Accepted[\"int_rate\"], aggfunc=np.mean,  margins=True)"
      ],
      "execution_count": null,
      "outputs": [
        {
          "output_type": "execute_result",
          "data": {
            "text/html": [
              "<div>\n",
              "<style scoped>\n",
              "    .dataframe tbody tr th:only-of-type {\n",
              "        vertical-align: middle;\n",
              "    }\n",
              "\n",
              "    .dataframe tbody tr th {\n",
              "        vertical-align: top;\n",
              "    }\n",
              "\n",
              "    .dataframe thead tr th {\n",
              "        text-align: left;\n",
              "    }\n",
              "\n",
              "    .dataframe thead tr:last-of-type th {\n",
              "        text-align: right;\n",
              "    }\n",
              "</style>\n",
              "<table border=\"1\" class=\"dataframe\">\n",
              "  <thead>\n",
              "    <tr>\n",
              "      <th>loan_status</th>\n",
              "      <th colspan=\"2\" halign=\"left\">Charged Off</th>\n",
              "      <th colspan=\"2\" halign=\"left\">Fully Paid</th>\n",
              "      <th>All</th>\n",
              "    </tr>\n",
              "    <tr>\n",
              "      <th>term</th>\n",
              "      <th>36</th>\n",
              "      <th>60</th>\n",
              "      <th>36</th>\n",
              "      <th>60</th>\n",
              "      <th></th>\n",
              "    </tr>\n",
              "    <tr>\n",
              "      <th>home_ownership</th>\n",
              "      <th></th>\n",
              "      <th></th>\n",
              "      <th></th>\n",
              "      <th></th>\n",
              "      <th></th>\n",
              "    </tr>\n",
              "  </thead>\n",
              "  <tbody>\n",
              "    <tr>\n",
              "      <th>MORTGAGE</th>\n",
              "      <td>13.459</td>\n",
              "      <td>17.337</td>\n",
              "      <td>11.124</td>\n",
              "      <td>15.553</td>\n",
              "      <td>12.715</td>\n",
              "    </tr>\n",
              "    <tr>\n",
              "      <th>OTHERS</th>\n",
              "      <td>14.831</td>\n",
              "      <td>17.709</td>\n",
              "      <td>12.393</td>\n",
              "      <td>16.447</td>\n",
              "      <td>13.331</td>\n",
              "    </tr>\n",
              "    <tr>\n",
              "      <th>OWN</th>\n",
              "      <td>14.054</td>\n",
              "      <td>17.697</td>\n",
              "      <td>11.783</td>\n",
              "      <td>15.919</td>\n",
              "      <td>13.045</td>\n",
              "    </tr>\n",
              "    <tr>\n",
              "      <th>RENT</th>\n",
              "      <td>14.259</td>\n",
              "      <td>18.064</td>\n",
              "      <td>12.195</td>\n",
              "      <td>16.587</td>\n",
              "      <td>13.436</td>\n",
              "    </tr>\n",
              "    <tr>\n",
              "      <th>All</th>\n",
              "      <td>13.936</td>\n",
              "      <td>17.662</td>\n",
              "      <td>11.634</td>\n",
              "      <td>15.878</td>\n",
              "      <td>13.038</td>\n",
              "    </tr>\n",
              "  </tbody>\n",
              "</table>\n",
              "</div>"
            ],
            "text/plain": [
              "loan_status    Charged Off        Fully Paid           All\n",
              "term                    36     60         36     60       \n",
              "home_ownership                                            \n",
              "MORTGAGE            13.459 17.337     11.124 15.553 12.715\n",
              "OTHERS              14.831 17.709     12.393 16.447 13.331\n",
              "OWN                 14.054 17.697     11.783 15.919 13.045\n",
              "RENT                14.259 18.064     12.195 16.587 13.436\n",
              "All                 13.936 17.662     11.634 15.878 13.038"
            ]
          },
          "metadata": {
            "tags": []
          },
          "execution_count": 145
        }
      ]
    },
    {
      "cell_type": "code",
      "metadata": {
        "colab": {
          "base_uri": "https://localhost:8080/",
          "height": 419
        },
        "id": "tQANP7KT1lOw",
        "outputId": "bd33ee0e-1543-4e92-b824-09ead33dc8e4"
      },
      "source": [
        "#6) OTHER CATEGORICAL VARIABLES\n",
        "\n",
        "df_Accepted[[\"purpose\",\"zip_code\",\"addr_state\", \"application_type\"]]"
      ],
      "execution_count": null,
      "outputs": [
        {
          "output_type": "execute_result",
          "data": {
            "text/html": [
              "<div>\n",
              "<style scoped>\n",
              "    .dataframe tbody tr th:only-of-type {\n",
              "        vertical-align: middle;\n",
              "    }\n",
              "\n",
              "    .dataframe tbody tr th {\n",
              "        vertical-align: top;\n",
              "    }\n",
              "\n",
              "    .dataframe thead th {\n",
              "        text-align: right;\n",
              "    }\n",
              "</style>\n",
              "<table border=\"1\" class=\"dataframe\">\n",
              "  <thead>\n",
              "    <tr style=\"text-align: right;\">\n",
              "      <th></th>\n",
              "      <th>purpose</th>\n",
              "      <th>zip_code</th>\n",
              "      <th>addr_state</th>\n",
              "      <th>application_type</th>\n",
              "    </tr>\n",
              "  </thead>\n",
              "  <tbody>\n",
              "    <tr>\n",
              "      <th>0</th>\n",
              "      <td>debt_consolidation</td>\n",
              "      <td>190xx</td>\n",
              "      <td>PA</td>\n",
              "      <td>Individual</td>\n",
              "    </tr>\n",
              "    <tr>\n",
              "      <th>1</th>\n",
              "      <td>small_business</td>\n",
              "      <td>577xx</td>\n",
              "      <td>SD</td>\n",
              "      <td>Individual</td>\n",
              "    </tr>\n",
              "    <tr>\n",
              "      <th>2</th>\n",
              "      <td>home_improvement</td>\n",
              "      <td>605xx</td>\n",
              "      <td>IL</td>\n",
              "      <td>Joint App</td>\n",
              "    </tr>\n",
              "    <tr>\n",
              "      <th>4</th>\n",
              "      <td>major_purchase</td>\n",
              "      <td>174xx</td>\n",
              "      <td>PA</td>\n",
              "      <td>Individual</td>\n",
              "    </tr>\n",
              "    <tr>\n",
              "      <th>5</th>\n",
              "      <td>debt_consolidation</td>\n",
              "      <td>300xx</td>\n",
              "      <td>GA</td>\n",
              "      <td>Individual</td>\n",
              "    </tr>\n",
              "    <tr>\n",
              "      <th>...</th>\n",
              "      <td>...</td>\n",
              "      <td>...</td>\n",
              "      <td>...</td>\n",
              "      <td>...</td>\n",
              "    </tr>\n",
              "    <tr>\n",
              "      <th>2260686</th>\n",
              "      <td>debt_consolidation</td>\n",
              "      <td>441xx</td>\n",
              "      <td>OH</td>\n",
              "      <td>Individual</td>\n",
              "    </tr>\n",
              "    <tr>\n",
              "      <th>2260688</th>\n",
              "      <td>home_improvement</td>\n",
              "      <td>775xx</td>\n",
              "      <td>TX</td>\n",
              "      <td>Individual</td>\n",
              "    </tr>\n",
              "    <tr>\n",
              "      <th>2260690</th>\n",
              "      <td>debt_consolidation</td>\n",
              "      <td>900xx</td>\n",
              "      <td>CA</td>\n",
              "      <td>Individual</td>\n",
              "    </tr>\n",
              "    <tr>\n",
              "      <th>2260691</th>\n",
              "      <td>home_improvement</td>\n",
              "      <td>863xx</td>\n",
              "      <td>AZ</td>\n",
              "      <td>Individual</td>\n",
              "    </tr>\n",
              "    <tr>\n",
              "      <th>2260697</th>\n",
              "      <td>debt_consolidation</td>\n",
              "      <td>334xx</td>\n",
              "      <td>FL</td>\n",
              "      <td>Individual</td>\n",
              "    </tr>\n",
              "  </tbody>\n",
              "</table>\n",
              "<p>1284071 rows × 4 columns</p>\n",
              "</div>"
            ],
            "text/plain": [
              "                    purpose zip_code addr_state application_type\n",
              "0        debt_consolidation    190xx         PA       Individual\n",
              "1            small_business    577xx         SD       Individual\n",
              "2          home_improvement    605xx         IL        Joint App\n",
              "4            major_purchase    174xx         PA       Individual\n",
              "5        debt_consolidation    300xx         GA       Individual\n",
              "...                     ...      ...        ...              ...\n",
              "2260686  debt_consolidation    441xx         OH       Individual\n",
              "2260688    home_improvement    775xx         TX       Individual\n",
              "2260690  debt_consolidation    900xx         CA       Individual\n",
              "2260691    home_improvement    863xx         AZ       Individual\n",
              "2260697  debt_consolidation    334xx         FL       Individual\n",
              "\n",
              "[1284071 rows x 4 columns]"
            ]
          },
          "metadata": {
            "tags": []
          },
          "execution_count": 146
        }
      ]
    },
    {
      "cell_type": "code",
      "metadata": {
        "colab": {
          "base_uri": "https://localhost:8080/"
        },
        "id": "llnesm2y1qJP",
        "outputId": "25206e04-58b8-4a74-87d9-91d9959a6be6"
      },
      "source": [
        "df_Accepted[\"purpose\"].unique()"
      ],
      "execution_count": null,
      "outputs": [
        {
          "output_type": "execute_result",
          "data": {
            "text/plain": [
              "array(['debt_consolidation', 'small_business', 'home_improvement',\n",
              "       'major_purchase', 'credit_card', 'other', 'house', 'vacation',\n",
              "       'car', 'medical', 'moving', 'renewable_energy', 'wedding',\n",
              "       'educational'], dtype=object)"
            ]
          },
          "metadata": {
            "tags": []
          },
          "execution_count": 147
        }
      ]
    },
    {
      "cell_type": "code",
      "metadata": {
        "colab": {
          "base_uri": "https://localhost:8080/"
        },
        "id": "Jcf_giVb1r7d",
        "outputId": "ca0ea4f1-b58a-4741-c0e2-a1d49f242955"
      },
      "source": [
        "df_Accepted[\"purpose\"].unique()"
      ],
      "execution_count": null,
      "outputs": [
        {
          "output_type": "execute_result",
          "data": {
            "text/plain": [
              "array(['debt_consolidation', 'small_business', 'home_improvement',\n",
              "       'major_purchase', 'credit_card', 'other', 'house', 'vacation',\n",
              "       'car', 'medical', 'moving', 'renewable_energy', 'wedding',\n",
              "       'educational'], dtype=object)"
            ]
          },
          "metadata": {
            "tags": []
          },
          "execution_count": 148
        }
      ]
    },
    {
      "cell_type": "code",
      "metadata": {
        "colab": {
          "base_uri": "https://localhost:8080/",
          "height": 372
        },
        "id": "CAwV-CGJ1x0J",
        "outputId": "c4befeab-f5fa-4cda-82ec-71f676228a8e"
      },
      "source": [
        "A = df_Accepted[\"purpose\"].value_counts().sort_values(ascending=False)[:5]\n",
        "f, ax = plt.subplots(figsize=(12,5))\n",
        "plt.bar(A.index, A.values, color=\"green\", alpha=0.5)\n",
        "plt.title(\"Purpose of the Loan\", fontsize=14.0, fontweight='bold')\n",
        "plt.xlabel(\"Different Purposes\", fontsize=13.0, fontweight='bold')\n",
        "plt.ylabel(\"No.of Customers\", fontsize=13.0, fontweight='bold')\n",
        "plt.show()"
      ],
      "execution_count": null,
      "outputs": [
        {
          "output_type": "execute_result",
          "data": {
            "text/plain": [
              "<function matplotlib.pyplot.show>"
            ]
          },
          "metadata": {
            "tags": []
          },
          "execution_count": 149
        },
        {
          "output_type": "display_data",
          "data": {
            "image/png": "[encoded data removed]",
            "text/plain": [
              "<Figure size 864x360 with 1 Axes>"
            ]
          },
          "metadata": {
            "tags": []
          }
        }
      ]
    },
    {
      "cell_type": "code",
      "metadata": {
        "colab": {
          "base_uri": "https://localhost:8080/",
          "height": 514
        },
        "id": "f3lBRR0R10jH",
        "outputId": "da542566-b6ca-4bed-aebd-5965e656dbeb"
      },
      "source": [
        "pd.crosstab(df_Accepted[\"purpose\"], df_Accepted[\"loan_status\"].sort_values(ascending=False))"
      ],
      "execution_count": null,
      "outputs": [
        {
          "output_type": "execute_result",
          "data": {
            "text/html": [
              "<div>\n",
              "<style scoped>\n",
              "    .dataframe tbody tr th:only-of-type {\n",
              "        vertical-align: middle;\n",
              "    }\n",
              "\n",
              "    .dataframe tbody tr th {\n",
              "        vertical-align: top;\n",
              "    }\n",
              "\n",
              "    .dataframe thead th {\n",
              "        text-align: right;\n",
              "    }\n",
              "</style>\n",
              "<table border=\"1\" class=\"dataframe\">\n",
              "  <thead>\n",
              "    <tr style=\"text-align: right;\">\n",
              "      <th>loan_status</th>\n",
              "      <th>Charged Off</th>\n",
              "      <th>Fully Paid</th>\n",
              "    </tr>\n",
              "    <tr>\n",
              "      <th>purpose</th>\n",
              "      <th></th>\n",
              "      <th></th>\n",
              "    </tr>\n",
              "  </thead>\n",
              "  <tbody>\n",
              "    <tr>\n",
              "      <th>car</th>\n",
              "      <td>1880</td>\n",
              "      <td>12233</td>\n",
              "    </tr>\n",
              "    <tr>\n",
              "      <th>credit_card</th>\n",
              "      <td>44232</td>\n",
              "      <td>240745</td>\n",
              "    </tr>\n",
              "    <tr>\n",
              "      <th>debt_consolidation</th>\n",
              "      <td>145492</td>\n",
              "      <td>598008</td>\n",
              "    </tr>\n",
              "    <tr>\n",
              "      <th>educational</th>\n",
              "      <td>51</td>\n",
              "      <td>270</td>\n",
              "    </tr>\n",
              "    <tr>\n",
              "      <th>home_improvement</th>\n",
              "      <td>13185</td>\n",
              "      <td>69453</td>\n",
              "    </tr>\n",
              "    <tr>\n",
              "      <th>house</th>\n",
              "      <td>1335</td>\n",
              "      <td>5353</td>\n",
              "    </tr>\n",
              "    <tr>\n",
              "      <th>major_purchase</th>\n",
              "      <td>4770</td>\n",
              "      <td>23287</td>\n",
              "    </tr>\n",
              "    <tr>\n",
              "      <th>medical</th>\n",
              "      <td>2843</td>\n",
              "      <td>11899</td>\n",
              "    </tr>\n",
              "    <tr>\n",
              "      <th>moving</th>\n",
              "      <td>1949</td>\n",
              "      <td>7094</td>\n",
              "    </tr>\n",
              "    <tr>\n",
              "      <th>other</th>\n",
              "      <td>14085</td>\n",
              "      <td>59731</td>\n",
              "    </tr>\n",
              "    <tr>\n",
              "      <th>renewable_energy</th>\n",
              "      <td>196</td>\n",
              "      <td>693</td>\n",
              "    </tr>\n",
              "    <tr>\n",
              "      <th>small_business</th>\n",
              "      <td>4064</td>\n",
              "      <td>10187</td>\n",
              "    </tr>\n",
              "    <tr>\n",
              "      <th>vacation</th>\n",
              "      <td>1529</td>\n",
              "      <td>7234</td>\n",
              "    </tr>\n",
              "    <tr>\n",
              "      <th>wedding</th>\n",
              "      <td>269</td>\n",
              "      <td>2004</td>\n",
              "    </tr>\n",
              "  </tbody>\n",
              "</table>\n",
              "</div>"
            ],
            "text/plain": [
              "loan_status         Charged Off  Fully Paid\n",
              "purpose                                    \n",
              "car                        1880       12233\n",
              "credit_card               44232      240745\n",
              "debt_consolidation       145492      598008\n",
              "educational                  51         270\n",
              "home_improvement          13185       69453\n",
              "house                      1335        5353\n",
              "major_purchase             4770       23287\n",
              "medical                    2843       11899\n",
              "moving                     1949        7094\n",
              "other                     14085       59731\n",
              "renewable_energy            196         693\n",
              "small_business             4064       10187\n",
              "vacation                   1529        7234\n",
              "wedding                     269        2004"
            ]
          },
          "metadata": {
            "tags": []
          },
          "execution_count": 150
        }
      ]
    },
    {
      "cell_type": "code",
      "metadata": {
        "colab": {
          "base_uri": "https://localhost:8080/",
          "height": 142
        },
        "id": "j3QdqTq014Cu",
        "outputId": "654861ac-e7f3-49e9-d595-f52134fe4fcf"
      },
      "source": [
        "pd.crosstab(df_Accepted[\"application_type\"],df_Accepted[\"loan_status\"])"
      ],
      "execution_count": null,
      "outputs": [
        {
          "output_type": "execute_result",
          "data": {
            "text/html": [
              "<div>\n",
              "<style scoped>\n",
              "    .dataframe tbody tr th:only-of-type {\n",
              "        vertical-align: middle;\n",
              "    }\n",
              "\n",
              "    .dataframe tbody tr th {\n",
              "        vertical-align: top;\n",
              "    }\n",
              "\n",
              "    .dataframe thead th {\n",
              "        text-align: right;\n",
              "    }\n",
              "</style>\n",
              "<table border=\"1\" class=\"dataframe\">\n",
              "  <thead>\n",
              "    <tr style=\"text-align: right;\">\n",
              "      <th>loan_status</th>\n",
              "      <th>Charged Off</th>\n",
              "      <th>Fully Paid</th>\n",
              "    </tr>\n",
              "    <tr>\n",
              "      <th>application_type</th>\n",
              "      <th></th>\n",
              "      <th></th>\n",
              "    </tr>\n",
              "  </thead>\n",
              "  <tbody>\n",
              "    <tr>\n",
              "      <th>Individual</th>\n",
              "      <td>232101</td>\n",
              "      <td>1033155</td>\n",
              "    </tr>\n",
              "    <tr>\n",
              "      <th>Joint App</th>\n",
              "      <td>3779</td>\n",
              "      <td>15036</td>\n",
              "    </tr>\n",
              "  </tbody>\n",
              "</table>\n",
              "</div>"
            ],
            "text/plain": [
              "loan_status       Charged Off  Fully Paid\n",
              "application_type                         \n",
              "Individual             232101     1033155\n",
              "Joint App                3779       15036"
            ]
          },
          "metadata": {
            "tags": []
          },
          "execution_count": 151
        }
      ]
    },
    {
      "cell_type": "code",
      "metadata": {
        "colab": {
          "base_uri": "https://localhost:8080/"
        },
        "id": "FG-7te2G17ah",
        "outputId": "79f10a0c-9d05-4b42-d117-021bdf5a7306"
      },
      "source": [
        "df_Accepted[\"zip_code\"].describe()"
      ],
      "execution_count": null,
      "outputs": [
        {
          "output_type": "execute_result",
          "data": {
            "text/plain": [
              "count     1284070\n",
              "unique        941\n",
              "top         945xx\n",
              "freq        14301\n",
              "Name: zip_code, dtype: object"
            ]
          },
          "metadata": {
            "tags": []
          },
          "execution_count": 152
        }
      ]
    },
    {
      "cell_type": "code",
      "metadata": {
        "colab": {
          "base_uri": "https://localhost:8080/"
        },
        "id": "saO9Asp019GU",
        "outputId": "539d4248-3a1a-4372-ebd0-6c76929a9093"
      },
      "source": [
        "df_Accepted[\"addr_state\"].describe()"
      ],
      "execution_count": null,
      "outputs": [
        {
          "output_type": "execute_result",
          "data": {
            "text/plain": [
              "count     1284071\n",
              "unique         51\n",
              "top            CA\n",
              "freq       187999\n",
              "Name: addr_state, dtype: object"
            ]
          },
          "metadata": {
            "tags": []
          },
          "execution_count": 153
        }
      ]
    },
    {
      "cell_type": "code",
      "metadata": {
        "colab": {
          "base_uri": "https://localhost:8080/"
        },
        "id": "EjTRrJWL1_hQ",
        "outputId": "2142a311-5d01-4293-cf62-6a600bc5829a"
      },
      "source": [
        "df_Accepted[\"loan_status\"][df_Accepted[\"int_rate\"]>18][df_Accepted[\"dti\"]>35][df_Accepted[\"Risk_Score\"]>=627][df_Accepted[\"Risk_Score\"]<695].value_counts()"
      ],
      "execution_count": null,
      "outputs": [
        {
          "output_type": "execute_result",
          "data": {
            "text/plain": [
              "Fully Paid     2918\n",
              "Charged Off    2329\n",
              "Name: loan_status, dtype: int64"
            ]
          },
          "metadata": {
            "tags": []
          },
          "execution_count": 154
        }
      ]
    },
    {
      "cell_type": "code",
      "metadata": {
        "id": "wlCZlY3I2KfO"
      },
      "source": [
        "Remove_Risk = list(df_Accepted[df_Accepted[\"int_rate\"]>18][df_Accepted[\"dti\"]>35][df_Accepted[\"Risk_Score\"]>=627][df_Accepted[\"Risk_Score\"]<695].index)"
      ],
      "execution_count": null,
      "outputs": []
    },
    {
      "cell_type": "code",
      "metadata": {
        "id": "cWvvk3Xu2Mel"
      },
      "source": [
        "df_Accepted.drop(labels=Remove_Risk, axis=0, inplace=True)"
      ],
      "execution_count": null,
      "outputs": []
    },
    {
      "cell_type": "code",
      "metadata": {
        "colab": {
          "base_uri": "https://localhost:8080/"
        },
        "id": "xpA-BTVE2O7j",
        "outputId": "86ab62e5-4f0b-4a0f-9a2e-94d2b261f15c"
      },
      "source": [
        "df_Accepted.shape"
      ],
      "execution_count": null,
      "outputs": [
        {
          "output_type": "execute_result",
          "data": {
            "text/plain": [
              "(1278824, 77)"
            ]
          },
          "metadata": {
            "tags": []
          },
          "execution_count": 157
        }
      ]
    },
    {
      "cell_type": "markdown",
      "metadata": {
        "id": "rbrkHQC32WGR"
      },
      "source": [
        "**LENDING CLUB'S REJECTED APPLICANT'S DATASET:**\n",
        "OBJECTIVE OF THE ANALYSIS:\n",
        "\n",
        "Based on the Accepted dataset feature's threshold values, we gonna extract the records which is going to strongly support for not to approve loan."
      ]
    },
    {
      "cell_type": "code",
      "metadata": {
        "colab": {
          "base_uri": "https://localhost:8080/",
          "height": 238
        },
        "id": "uU9P4x-t2RJY",
        "outputId": "7897d12c-afb0-4f5e-f2d4-7fe18f3106d4"
      },
      "source": [
        "df_Rejected = pd.read_csv(\"/content/drive/MyDrive/rejected_2007_to_2018Q4.csv (1).gz\")\n",
        "df_Rejected.head()"
      ],
      "execution_count": 5,
      "outputs": [
        {
          "output_type": "execute_result",
          "data": {
            "text/html": [
              "<div>\n",
              "<style scoped>\n",
              "    .dataframe tbody tr th:only-of-type {\n",
              "        vertical-align: middle;\n",
              "    }\n",
              "\n",
              "    .dataframe tbody tr th {\n",
              "        vertical-align: top;\n",
              "    }\n",
              "\n",
              "    .dataframe thead th {\n",
              "        text-align: right;\n",
              "    }\n",
              "</style>\n",
              "<table border=\"1\" class=\"dataframe\">\n",
              "  <thead>\n",
              "    <tr style=\"text-align: right;\">\n",
              "      <th></th>\n",
              "      <th>Amount Requested</th>\n",
              "      <th>Application Date</th>\n",
              "      <th>Loan Title</th>\n",
              "      <th>Risk_Score</th>\n",
              "      <th>Debt-To-Income Ratio</th>\n",
              "      <th>Zip Code</th>\n",
              "      <th>State</th>\n",
              "      <th>Employment Length</th>\n",
              "      <th>Policy Code</th>\n",
              "    </tr>\n",
              "  </thead>\n",
              "  <tbody>\n",
              "    <tr>\n",
              "      <th>0</th>\n",
              "      <td>1000.0</td>\n",
              "      <td>2007-05-26</td>\n",
              "      <td>Wedding Covered but No Honeymoon</td>\n",
              "      <td>693.0</td>\n",
              "      <td>10%</td>\n",
              "      <td>481xx</td>\n",
              "      <td>NM</td>\n",
              "      <td>4 years</td>\n",
              "      <td>0.0</td>\n",
              "    </tr>\n",
              "    <tr>\n",
              "      <th>1</th>\n",
              "      <td>1000.0</td>\n",
              "      <td>2007-05-26</td>\n",
              "      <td>Consolidating Debt</td>\n",
              "      <td>703.0</td>\n",
              "      <td>10%</td>\n",
              "      <td>010xx</td>\n",
              "      <td>MA</td>\n",
              "      <td>&lt; 1 year</td>\n",
              "      <td>0.0</td>\n",
              "    </tr>\n",
              "    <tr>\n",
              "      <th>2</th>\n",
              "      <td>11000.0</td>\n",
              "      <td>2007-05-27</td>\n",
              "      <td>Want to consolidate my debt</td>\n",
              "      <td>715.0</td>\n",
              "      <td>10%</td>\n",
              "      <td>212xx</td>\n",
              "      <td>MD</td>\n",
              "      <td>1 year</td>\n",
              "      <td>0.0</td>\n",
              "    </tr>\n",
              "    <tr>\n",
              "      <th>3</th>\n",
              "      <td>6000.0</td>\n",
              "      <td>2007-05-27</td>\n",
              "      <td>waksman</td>\n",
              "      <td>698.0</td>\n",
              "      <td>38.64%</td>\n",
              "      <td>017xx</td>\n",
              "      <td>MA</td>\n",
              "      <td>&lt; 1 year</td>\n",
              "      <td>0.0</td>\n",
              "    </tr>\n",
              "    <tr>\n",
              "      <th>4</th>\n",
              "      <td>1500.0</td>\n",
              "      <td>2007-05-27</td>\n",
              "      <td>mdrigo</td>\n",
              "      <td>509.0</td>\n",
              "      <td>9.43%</td>\n",
              "      <td>209xx</td>\n",
              "      <td>MD</td>\n",
              "      <td>&lt; 1 year</td>\n",
              "      <td>0.0</td>\n",
              "    </tr>\n",
              "  </tbody>\n",
              "</table>\n",
              "</div>"
            ],
            "text/plain": [
              "   Amount Requested Application Date  ... Employment Length  Policy Code\n",
              "0            1000.0       2007-05-26  ...           4 years          0.0\n",
              "1            1000.0       2007-05-26  ...          < 1 year          0.0\n",
              "2           11000.0       2007-05-27  ...            1 year          0.0\n",
              "3            6000.0       2007-05-27  ...          < 1 year          0.0\n",
              "4            1500.0       2007-05-27  ...          < 1 year          0.0\n",
              "\n",
              "[5 rows x 9 columns]"
            ]
          },
          "metadata": {
            "tags": []
          },
          "execution_count": 5
        }
      ]
    },
    {
      "cell_type": "code",
      "metadata": {
        "colab": {
          "base_uri": "https://localhost:8080/"
        },
        "id": "tcy8cE982hrj",
        "outputId": "c7adf58d-c1d8-491d-a7ac-da26ce82e99d"
      },
      "source": [
        "df_Rejected.shape"
      ],
      "execution_count": null,
      "outputs": [
        {
          "output_type": "execute_result",
          "data": {
            "text/plain": [
              "(27648741, 9)"
            ]
          },
          "metadata": {
            "tags": []
          },
          "execution_count": 159
        }
      ]
    },
    {
      "cell_type": "code",
      "metadata": {
        "id": "wBFENpbL2zSp"
      },
      "source": [
        "df_Rejected.drop(labels=['Application Date', 'Loan Title', 'Zip Code', 'State', 'Policy Code'], axis=1, inplace=True)"
      ],
      "execution_count": 6,
      "outputs": []
    },
    {
      "cell_type": "code",
      "metadata": {
        "colab": {
          "base_uri": "https://localhost:8080/",
          "height": 204
        },
        "id": "p4rqbFuh22li",
        "outputId": "69778e2f-213c-462d-cc7c-f173eb500e65"
      },
      "source": [
        "df_Rejected.head()"
      ],
      "execution_count": 7,
      "outputs": [
        {
          "output_type": "execute_result",
          "data": {
            "text/html": [
              "<div>\n",
              "<style scoped>\n",
              "    .dataframe tbody tr th:only-of-type {\n",
              "        vertical-align: middle;\n",
              "    }\n",
              "\n",
              "    .dataframe tbody tr th {\n",
              "        vertical-align: top;\n",
              "    }\n",
              "\n",
              "    .dataframe thead th {\n",
              "        text-align: right;\n",
              "    }\n",
              "</style>\n",
              "<table border=\"1\" class=\"dataframe\">\n",
              "  <thead>\n",
              "    <tr style=\"text-align: right;\">\n",
              "      <th></th>\n",
              "      <th>Amount Requested</th>\n",
              "      <th>Risk_Score</th>\n",
              "      <th>Debt-To-Income Ratio</th>\n",
              "      <th>Employment Length</th>\n",
              "    </tr>\n",
              "  </thead>\n",
              "  <tbody>\n",
              "    <tr>\n",
              "      <th>0</th>\n",
              "      <td>1000.0</td>\n",
              "      <td>693.0</td>\n",
              "      <td>10%</td>\n",
              "      <td>4 years</td>\n",
              "    </tr>\n",
              "    <tr>\n",
              "      <th>1</th>\n",
              "      <td>1000.0</td>\n",
              "      <td>703.0</td>\n",
              "      <td>10%</td>\n",
              "      <td>&lt; 1 year</td>\n",
              "    </tr>\n",
              "    <tr>\n",
              "      <th>2</th>\n",
              "      <td>11000.0</td>\n",
              "      <td>715.0</td>\n",
              "      <td>10%</td>\n",
              "      <td>1 year</td>\n",
              "    </tr>\n",
              "    <tr>\n",
              "      <th>3</th>\n",
              "      <td>6000.0</td>\n",
              "      <td>698.0</td>\n",
              "      <td>38.64%</td>\n",
              "      <td>&lt; 1 year</td>\n",
              "    </tr>\n",
              "    <tr>\n",
              "      <th>4</th>\n",
              "      <td>1500.0</td>\n",
              "      <td>509.0</td>\n",
              "      <td>9.43%</td>\n",
              "      <td>&lt; 1 year</td>\n",
              "    </tr>\n",
              "  </tbody>\n",
              "</table>\n",
              "</div>"
            ],
            "text/plain": [
              "   Amount Requested  Risk_Score Debt-To-Income Ratio Employment Length\n",
              "0            1000.0       693.0                  10%           4 years\n",
              "1            1000.0       703.0                  10%          < 1 year\n",
              "2           11000.0       715.0                  10%            1 year\n",
              "3            6000.0       698.0               38.64%          < 1 year\n",
              "4            1500.0       509.0                9.43%          < 1 year"
            ]
          },
          "metadata": {
            "tags": []
          },
          "execution_count": 7
        }
      ]
    },
    {
      "cell_type": "code",
      "metadata": {
        "colab": {
          "base_uri": "https://localhost:8080/"
        },
        "id": "YLfhyo9g24cb",
        "outputId": "6c7cfbd6-e88c-4c6a-b506-f5b55913d25e"
      },
      "source": [
        "df_Rejected.isnull().sum()"
      ],
      "execution_count": 8,
      "outputs": [
        {
          "output_type": "execute_result",
          "data": {
            "text/plain": [
              "Amount Requested               0\n",
              "Risk_Score              18497630\n",
              "Debt-To-Income Ratio           0\n",
              "Employment Length         951355\n",
              "dtype: int64"
            ]
          },
          "metadata": {
            "tags": []
          },
          "execution_count": 8
        }
      ]
    },
    {
      "cell_type": "code",
      "metadata": {
        "colab": {
          "base_uri": "https://localhost:8080/"
        },
        "id": "IuTruebn26xw",
        "outputId": "011c6de0-7372-4c80-81aa-cd22fdf5a673"
      },
      "source": [
        "df_Rejected.dropna(axis=0, how=\"any\", inplace=True)\n",
        "\n",
        "df_Rejected.isnull().any()"
      ],
      "execution_count": 9,
      "outputs": [
        {
          "output_type": "execute_result",
          "data": {
            "text/plain": [
              "Amount Requested        False\n",
              "Risk_Score              False\n",
              "Debt-To-Income Ratio    False\n",
              "Employment Length       False\n",
              "dtype: bool"
            ]
          },
          "metadata": {
            "tags": []
          },
          "execution_count": 9
        }
      ]
    },
    {
      "cell_type": "code",
      "metadata": {
        "colab": {
          "base_uri": "https://localhost:8080/"
        },
        "id": "owzXTyCD2-C_",
        "outputId": "c9d4edce-f1a8-46e6-f332-fdbb2a1fb7e8"
      },
      "source": [
        "df_Rejected.shape  #Our base data for rejecting applicants"
      ],
      "execution_count": 10,
      "outputs": [
        {
          "output_type": "execute_result",
          "data": {
            "text/plain": [
              "(8992595, 4)"
            ]
          },
          "metadata": {
            "tags": []
          },
          "execution_count": 10
        }
      ]
    },
    {
      "cell_type": "code",
      "metadata": {
        "colab": {
          "base_uri": "https://localhost:8080/"
        },
        "id": "aB2cNQe23Aag",
        "outputId": "5e2293bb-5745-4503-8cd7-fa53e0bb5378"
      },
      "source": [
        "#(I) Debt-To-Income Ratio:\n",
        "\n",
        "#Let's remove \"%\" from 'Debt-To-Income Ratio' and change the dtype as float, so that we can able to perform numerical operations:\n",
        "\n",
        "df_Rejected['Debt-To-Income Ratio'] = [x.strip('%') for x in df_Rejected['Debt-To-Income Ratio']]\n",
        "#Let's convert that into float\n",
        "\n",
        "df_Rejected['Debt-To-Income Ratio']=df_Rejected['Debt-To-Income Ratio'].astype(float, errors = 'raise')\n",
        "\n",
        "df_Rejected['Debt-To-Income Ratio'].dtype"
      ],
      "execution_count": 11,
      "outputs": [
        {
          "output_type": "execute_result",
          "data": {
            "text/plain": [
              "dtype('float64')"
            ]
          },
          "metadata": {
            "tags": []
          },
          "execution_count": 11
        }
      ]
    },
    {
      "cell_type": "code",
      "metadata": {
        "colab": {
          "base_uri": "https://localhost:8080/"
        },
        "id": "1PLbtqyc3Jmq",
        "outputId": "f41993ce-d2ef-4ce7-cf15-691d7e18961a"
      },
      "source": [
        "df_Rejected['Debt-To-Income Ratio'].describe()"
      ],
      "execution_count": 12,
      "outputs": [
        {
          "output_type": "execute_result",
          "data": {
            "text/plain": [
              "count    8.992595e+06\n",
              "mean     1.695681e+02\n",
              "std      1.776784e+04\n",
              "min     -1.000000e+00\n",
              "25%      9.060000e+00\n",
              "50%      2.055000e+01\n",
              "75%      3.626000e+01\n",
              "max      5.000003e+07\n",
              "Name: Debt-To-Income Ratio, dtype: float64"
            ]
          },
          "metadata": {
            "tags": []
          },
          "execution_count": 12
        }
      ]
    },
    {
      "cell_type": "code",
      "metadata": {
        "colab": {
          "base_uri": "https://localhost:8080/"
        },
        "id": "BqT4_tPN3NPk",
        "outputId": "9db94ba2-f420-410f-d62a-a1483fea1ef4"
      },
      "source": [
        "df_Rejected[\"Employment Length\"].unique()"
      ],
      "execution_count": 13,
      "outputs": [
        {
          "output_type": "execute_result",
          "data": {
            "text/plain": [
              "array(['4 years', '< 1 year', '1 year', '3 years', '2 years', '10+ years',\n",
              "       '9 years', '5 years', '7 years', '6 years', '8 years'],\n",
              "      dtype=object)"
            ]
          },
          "metadata": {
            "tags": []
          },
          "execution_count": 13
        }
      ]
    },
    {
      "cell_type": "code",
      "metadata": {
        "colab": {
          "base_uri": "https://localhost:8080/"
        },
        "id": "8cjAh_iv3QEG",
        "outputId": "cce99412-1dd4-496a-8af8-dba2cf517f62"
      },
      "source": [
        "df_Rejected['Employment Length'].unique()"
      ],
      "execution_count": 14,
      "outputs": [
        {
          "output_type": "execute_result",
          "data": {
            "text/plain": [
              "array(['4 years', '< 1 year', '1 year', '3 years', '2 years', '10+ years',\n",
              "       '9 years', '5 years', '7 years', '6 years', '8 years'],\n",
              "      dtype=object)"
            ]
          },
          "metadata": {
            "tags": []
          },
          "execution_count": 14
        }
      ]
    },
    {
      "cell_type": "code",
      "metadata": {
        "colab": {
          "base_uri": "https://localhost:8080/"
        },
        "id": "E17H6X_J3SF6",
        "outputId": "ee0c2067-8e21-4de1-bfa7-abc6a8955341"
      },
      "source": [
        "df_Rejected['Employment Length'].dtype"
      ],
      "execution_count": null,
      "outputs": [
        {
          "output_type": "execute_result",
          "data": {
            "text/plain": [
              "dtype('O')"
            ]
          },
          "metadata": {
            "tags": []
          },
          "execution_count": 169
        }
      ]
    },
    {
      "cell_type": "code",
      "metadata": {
        "colab": {
          "base_uri": "https://localhost:8080/"
        },
        "id": "zX4W7QMH3TqK",
        "outputId": "6ab2aac8-7169-4533-ac36-95ff367c84ee"
      },
      "source": [
        "df_Rejected[\"Employment Length\"].unique()"
      ],
      "execution_count": 15,
      "outputs": [
        {
          "output_type": "execute_result",
          "data": {
            "text/plain": [
              "array(['4 years', '< 1 year', '1 year', '3 years', '2 years', '10+ years',\n",
              "       '9 years', '5 years', '7 years', '6 years', '8 years'],\n",
              "      dtype=object)"
            ]
          },
          "metadata": {
            "tags": []
          },
          "execution_count": 15
        }
      ]
    },
    {
      "cell_type": "code",
      "metadata": {
        "colab": {
          "base_uri": "https://localhost:8080/"
        },
        "id": "QH71pvRu3Vyr",
        "outputId": "ec72bc4d-a5f4-4c6a-82d9-97061817b7c3"
      },
      "source": [
        "df_Rejected['Employment Length'].dtype"
      ],
      "execution_count": 16,
      "outputs": [
        {
          "output_type": "execute_result",
          "data": {
            "text/plain": [
              "dtype('O')"
            ]
          },
          "metadata": {
            "tags": []
          },
          "execution_count": 16
        }
      ]
    },
    {
      "cell_type": "code",
      "metadata": {
        "id": "8dgE4bbv3X-X"
      },
      "source": [
        "df_Rejected_Modify = df_Rejected.copy(deep=True)\n"
      ],
      "execution_count": 18,
      "outputs": []
    },
    {
      "cell_type": "code",
      "metadata": {
        "colab": {
          "base_uri": "https://localhost:8080/"
        },
        "id": "3snSw1lt3ah3",
        "outputId": "f4d4b8bf-00d0-4867-e91c-74a4d53bc89d"
      },
      "source": [
        "print(len(df_Rejected_Modify[\"Amount Requested\"][df_Rejected_Modify[\"Amount Requested\"]<1000]))\n",
        "print(len(df_Rejected_Modify[\"Amount Requested\"][df_Rejected_Modify[\"Amount Requested\"]>40000]))"
      ],
      "execution_count": 19,
      "outputs": [
        {
          "output_type": "stream",
          "text": [
            "448\n",
            "3609\n"
          ],
          "name": "stdout"
        }
      ]
    },
    {
      "cell_type": "code",
      "metadata": {
        "id": "xDWUS0NQ3dTr"
      },
      "source": [
        "Remove_Amt_R = df_Rejected_Modify[\"Amount Requested\"][df_Rejected_Modify[\"Amount Requested\"]<1000].index.append(df_Rejected_Modify[\"Amount Requested\"][df_Rejected_Modify[\"Amount Requested\"]>40000].index)"
      ],
      "execution_count": 20,
      "outputs": []
    },
    {
      "cell_type": "code",
      "metadata": {
        "colab": {
          "base_uri": "https://localhost:8080/"
        },
        "id": "-pbU0L8y3e_8",
        "outputId": "cf10e925-3c2f-4a7a-b655-d83db4d627c3"
      },
      "source": [
        "df_Rejected_Modify.drop(labels =Remove_Amt_R, axis=0, inplace=True)\n",
        "\n",
        "df_Rejected_Modify.shape"
      ],
      "execution_count": 21,
      "outputs": [
        {
          "output_type": "execute_result",
          "data": {
            "text/plain": [
              "(8988538, 4)"
            ]
          },
          "metadata": {
            "tags": []
          },
          "execution_count": 21
        }
      ]
    },
    {
      "cell_type": "code",
      "metadata": {
        "colab": {
          "base_uri": "https://localhost:8080/"
        },
        "id": "Sc5HOr1t3hxN",
        "outputId": "25f001bd-9e42-47c6-aeeb-6aef9d659f95"
      },
      "source": [
        "df_Rejected_Modify = df_Rejected_Modify.dropna(axis=0, subset=['Risk_Score'])\n",
        "print(\"No.of Applications with Risk score less than 627 :\" ,len(df_Rejected_Modify[\"Risk_Score\"][df_Rejected_Modify[\"Risk_Score\"]<627].index))\n",
        "print(\"No.of Applications with Risk score more than 900 :\" ,len(df_Rejected_Modify[\"Risk_Score\"][df_Rejected_Modify[\"Risk_Score\"]>850].index))"
      ],
      "execution_count": 22,
      "outputs": [
        {
          "output_type": "stream",
          "text": [
            "No.of Applications with Risk score less than 627 : 3951625\n",
            "No.of Applications with Risk score more than 900 : 25905\n"
          ],
          "name": "stdout"
        }
      ]
    },
    {
      "cell_type": "code",
      "metadata": {
        "colab": {
          "base_uri": "https://localhost:8080/"
        },
        "id": "OfiU3HTI3nV2",
        "outputId": "e075da39-5177-4fb0-f86a-90077a985a5b"
      },
      "source": [
        "Remove_Risk_Score = (df_Rejected_Modify[\"Risk_Score\"][df_Rejected_Modify[\"Risk_Score\"]<627].index).append(df_Rejected_Modify[\"Risk_Score\"][df_Rejected_Modify[\"Risk_Score\"]>850].index)\n",
        "print(len(Remove_Risk_Score))"
      ],
      "execution_count": 23,
      "outputs": [
        {
          "output_type": "stream",
          "text": [
            "3977530\n"
          ],
          "name": "stdout"
        }
      ]
    },
    {
      "cell_type": "code",
      "metadata": {
        "id": "JiF4okU03q1q"
      },
      "source": [
        "df_Rejected_Modify.drop(Remove_Risk_Score, axis=0, inplace=True)"
      ],
      "execution_count": 24,
      "outputs": []
    },
    {
      "cell_type": "code",
      "metadata": {
        "colab": {
          "base_uri": "https://localhost:8080/"
        },
        "id": "YBDMLnMc3uHd",
        "outputId": "25390466-1b59-43ec-aa82-33bc528cda58"
      },
      "source": [
        "df_Rejected_Modify.shape"
      ],
      "execution_count": 25,
      "outputs": [
        {
          "output_type": "execute_result",
          "data": {
            "text/plain": [
              "(5011008, 4)"
            ]
          },
          "metadata": {
            "tags": []
          },
          "execution_count": 25
        }
      ]
    },
    {
      "cell_type": "code",
      "metadata": {
        "colab": {
          "base_uri": "https://localhost:8080/"
        },
        "id": "e98-oGHA35yZ",
        "outputId": "3727b0d9-04ec-409c-b67d-b7b072102614"
      },
      "source": [
        "df_Rejected_Modify.isnull().sum()"
      ],
      "execution_count": 26,
      "outputs": [
        {
          "output_type": "execute_result",
          "data": {
            "text/plain": [
              "Amount Requested        0\n",
              "Risk_Score              0\n",
              "Debt-To-Income Ratio    0\n",
              "Employment Length       0\n",
              "dtype: int64"
            ]
          },
          "metadata": {
            "tags": []
          },
          "execution_count": 26
        }
      ]
    },
    {
      "cell_type": "code",
      "metadata": {
        "colab": {
          "base_uri": "https://localhost:8080/"
        },
        "id": "lCyaPEbZ38Fo",
        "outputId": "19070d56-b940-4f8c-b532-5b4baecbc80b"
      },
      "source": [
        "df_Rejected_Modify['Debt-To-Income Ratio'].sample(5)"
      ],
      "execution_count": 27,
      "outputs": [
        {
          "output_type": "execute_result",
          "data": {
            "text/plain": [
              "9355496     10.57\n",
              "21750966    21.37\n",
              "3738134     69.20\n",
              "8414865     42.28\n",
              "26707677    49.80\n",
              "Name: Debt-To-Income Ratio, dtype: float64"
            ]
          },
          "metadata": {
            "tags": []
          },
          "execution_count": 27
        }
      ]
    },
    {
      "cell_type": "code",
      "metadata": {
        "id": "ggn2dxmQ391s"
      },
      "source": [
        "Reject_DTI = df_Rejected_Modify[df_Rejected_Modify['Debt-To-Income Ratio']>=42.36].index\n",
        "df_Rejected_Modify.drop(labels=Reject_DTI, axis=0, inplace=True)"
      ],
      "execution_count": 28,
      "outputs": []
    },
    {
      "cell_type": "code",
      "metadata": {
        "colab": {
          "base_uri": "https://localhost:8080/"
        },
        "id": "vN4uxb944CWm",
        "outputId": "d9c04c4b-0a39-4bc2-fce3-e6b1dc1eee29"
      },
      "source": [
        "df_Rejected_Modify.shape"
      ],
      "execution_count": 29,
      "outputs": [
        {
          "output_type": "execute_result",
          "data": {
            "text/plain": [
              "(3971581, 4)"
            ]
          },
          "metadata": {
            "tags": []
          },
          "execution_count": 29
        }
      ]
    },
    {
      "cell_type": "code",
      "metadata": {
        "colab": {
          "base_uri": "https://localhost:8080/",
          "height": 204
        },
        "id": "d29Q6y4c4Ejx",
        "outputId": "6df5c740-1174-4f51-b042-b030fb668e7d"
      },
      "source": [
        "df_Rejected_Modify.head()"
      ],
      "execution_count": 30,
      "outputs": [
        {
          "output_type": "execute_result",
          "data": {
            "text/html": [
              "<div>\n",
              "<style scoped>\n",
              "    .dataframe tbody tr th:only-of-type {\n",
              "        vertical-align: middle;\n",
              "    }\n",
              "\n",
              "    .dataframe tbody tr th {\n",
              "        vertical-align: top;\n",
              "    }\n",
              "\n",
              "    .dataframe thead th {\n",
              "        text-align: right;\n",
              "    }\n",
              "</style>\n",
              "<table border=\"1\" class=\"dataframe\">\n",
              "  <thead>\n",
              "    <tr style=\"text-align: right;\">\n",
              "      <th></th>\n",
              "      <th>Amount Requested</th>\n",
              "      <th>Risk_Score</th>\n",
              "      <th>Debt-To-Income Ratio</th>\n",
              "      <th>Employment Length</th>\n",
              "    </tr>\n",
              "  </thead>\n",
              "  <tbody>\n",
              "    <tr>\n",
              "      <th>0</th>\n",
              "      <td>1000.0</td>\n",
              "      <td>693.0</td>\n",
              "      <td>10.00</td>\n",
              "      <td>4 years</td>\n",
              "    </tr>\n",
              "    <tr>\n",
              "      <th>1</th>\n",
              "      <td>1000.0</td>\n",
              "      <td>703.0</td>\n",
              "      <td>10.00</td>\n",
              "      <td>&lt; 1 year</td>\n",
              "    </tr>\n",
              "    <tr>\n",
              "      <th>2</th>\n",
              "      <td>11000.0</td>\n",
              "      <td>715.0</td>\n",
              "      <td>10.00</td>\n",
              "      <td>1 year</td>\n",
              "    </tr>\n",
              "    <tr>\n",
              "      <th>3</th>\n",
              "      <td>6000.0</td>\n",
              "      <td>698.0</td>\n",
              "      <td>38.64</td>\n",
              "      <td>&lt; 1 year</td>\n",
              "    </tr>\n",
              "    <tr>\n",
              "      <th>5</th>\n",
              "      <td>15000.0</td>\n",
              "      <td>645.0</td>\n",
              "      <td>0.00</td>\n",
              "      <td>3 years</td>\n",
              "    </tr>\n",
              "  </tbody>\n",
              "</table>\n",
              "</div>"
            ],
            "text/plain": [
              "   Amount Requested  Risk_Score  Debt-To-Income Ratio Employment Length\n",
              "0            1000.0       693.0                 10.00           4 years\n",
              "1            1000.0       703.0                 10.00          < 1 year\n",
              "2           11000.0       715.0                 10.00            1 year\n",
              "3            6000.0       698.0                 38.64          < 1 year\n",
              "5           15000.0       645.0                  0.00           3 years"
            ]
          },
          "metadata": {
            "tags": []
          },
          "execution_count": 30
        }
      ]
    },
    {
      "cell_type": "code",
      "metadata": {
        "colab": {
          "base_uri": "https://localhost:8080/",
          "height": 204
        },
        "id": "meG3Pqpa4Gxa",
        "outputId": "fbc8fe17-af49-4c1b-ad66-9e15dd6a0a23"
      },
      "source": [
        "df_Rejected_Modify.sample(5)"
      ],
      "execution_count": 31,
      "outputs": [
        {
          "output_type": "execute_result",
          "data": {
            "text/html": [
              "<div>\n",
              "<style scoped>\n",
              "    .dataframe tbody tr th:only-of-type {\n",
              "        vertical-align: middle;\n",
              "    }\n",
              "\n",
              "    .dataframe tbody tr th {\n",
              "        vertical-align: top;\n",
              "    }\n",
              "\n",
              "    .dataframe thead th {\n",
              "        text-align: right;\n",
              "    }\n",
              "</style>\n",
              "<table border=\"1\" class=\"dataframe\">\n",
              "  <thead>\n",
              "    <tr style=\"text-align: right;\">\n",
              "      <th></th>\n",
              "      <th>Amount Requested</th>\n",
              "      <th>Risk_Score</th>\n",
              "      <th>Debt-To-Income Ratio</th>\n",
              "      <th>Employment Length</th>\n",
              "    </tr>\n",
              "  </thead>\n",
              "  <tbody>\n",
              "    <tr>\n",
              "      <th>10957563</th>\n",
              "      <td>1000.0</td>\n",
              "      <td>642.0</td>\n",
              "      <td>4.00</td>\n",
              "      <td>&lt; 1 year</td>\n",
              "    </tr>\n",
              "    <tr>\n",
              "      <th>2795101</th>\n",
              "      <td>4000.0</td>\n",
              "      <td>724.0</td>\n",
              "      <td>0.00</td>\n",
              "      <td>&lt; 1 year</td>\n",
              "    </tr>\n",
              "    <tr>\n",
              "      <th>9929984</th>\n",
              "      <td>5000.0</td>\n",
              "      <td>662.0</td>\n",
              "      <td>8.03</td>\n",
              "      <td>10+ years</td>\n",
              "    </tr>\n",
              "    <tr>\n",
              "      <th>7673321</th>\n",
              "      <td>10000.0</td>\n",
              "      <td>651.0</td>\n",
              "      <td>6.02</td>\n",
              "      <td>&lt; 1 year</td>\n",
              "    </tr>\n",
              "    <tr>\n",
              "      <th>7628910</th>\n",
              "      <td>20000.0</td>\n",
              "      <td>667.0</td>\n",
              "      <td>9.81</td>\n",
              "      <td>10+ years</td>\n",
              "    </tr>\n",
              "  </tbody>\n",
              "</table>\n",
              "</div>"
            ],
            "text/plain": [
              "          Amount Requested  Risk_Score  Debt-To-Income Ratio Employment Length\n",
              "10957563            1000.0       642.0                  4.00          < 1 year\n",
              "2795101             4000.0       724.0                  0.00          < 1 year\n",
              "9929984             5000.0       662.0                  8.03         10+ years\n",
              "7673321            10000.0       651.0                  6.02          < 1 year\n",
              "7628910            20000.0       667.0                  9.81         10+ years"
            ]
          },
          "metadata": {
            "tags": []
          },
          "execution_count": 31
        }
      ]
    },
    {
      "cell_type": "code",
      "metadata": {
        "colab": {
          "base_uri": "https://localhost:8080/"
        },
        "id": "cURP8VaM4Ip8",
        "outputId": "58b1dfa1-a52c-41b8-a4af-86bf90a8a4a9"
      },
      "source": [
        "df_Rejected.index"
      ],
      "execution_count": 32,
      "outputs": [
        {
          "output_type": "execute_result",
          "data": {
            "text/plain": [
              "Int64Index([       0,        1,        2,        3,        4,        5,\n",
              "                   6,        7,        8,        9,\n",
              "            ...\n",
              "            27648725, 27648726, 27648727, 27648729, 27648732, 27648733,\n",
              "            27648734, 27648736, 27648738, 27648740],\n",
              "           dtype='int64', length=8992595)"
            ]
          },
          "metadata": {
            "tags": []
          },
          "execution_count": 32
        }
      ]
    },
    {
      "cell_type": "code",
      "metadata": {
        "colab": {
          "base_uri": "https://localhost:8080/"
        },
        "id": "EdDohXXw4L4L",
        "outputId": "b1a797da-788c-40d2-b805-b08396219037"
      },
      "source": [
        "df_Rejected_Modify.index"
      ],
      "execution_count": 33,
      "outputs": [
        {
          "output_type": "execute_result",
          "data": {
            "text/plain": [
              "Int64Index([       0,        1,        2,        3,        5,        6,\n",
              "                   7,        8,       10,       11,\n",
              "            ...\n",
              "            27648674, 27648675, 27648692, 27648696, 27648698, 27648725,\n",
              "            27648729, 27648732, 27648738, 27648740],\n",
              "           dtype='int64', length=3971581)"
            ]
          },
          "metadata": {
            "tags": []
          },
          "execution_count": 33
        }
      ]
    },
    {
      "cell_type": "code",
      "metadata": {
        "colab": {
          "base_uri": "https://localhost:8080/"
        },
        "id": "KJhll8ZY4NZ9",
        "outputId": "8592c38d-219b-43fe-ffc4-e3b45a8bdbf6"
      },
      "source": [
        "X = []\n",
        "for index in df_Rejected.index:\n",
        "  if index in df_Rejected_Modify.index:\n",
        "    pass\n",
        "  else:\n",
        "    X.append(index)\n",
        "\n",
        "print(len(X))"
      ],
      "execution_count": 34,
      "outputs": [
        {
          "output_type": "stream",
          "text": [
            "5021014\n"
          ],
          "name": "stdout"
        }
      ]
    },
    {
      "cell_type": "code",
      "metadata": {
        "id": "UPUgz0Ib4R8b"
      },
      "source": [
        "df_Rejected_final = df_Rejected.loc[X]"
      ],
      "execution_count": 35,
      "outputs": []
    },
    {
      "cell_type": "code",
      "metadata": {
        "id": "msmVIvdi4U71",
        "colab": {
          "base_uri": "https://localhost:8080/"
        },
        "outputId": "8e30d8b6-0b36-450f-bb39-62803841046f"
      },
      "source": [
        "df_Rejected_final.shape"
      ],
      "execution_count": 36,
      "outputs": [
        {
          "output_type": "execute_result",
          "data": {
            "text/plain": [
              "(5021014, 4)"
            ]
          },
          "metadata": {
            "tags": []
          },
          "execution_count": 36
        }
      ]
    },
    {
      "cell_type": "code",
      "metadata": {
        "colab": {
          "base_uri": "https://localhost:8080/",
          "height": 204
        },
        "id": "c5ehigHj8OX_",
        "outputId": "7004f233-273a-42f3-d0a9-e70b8553fefb"
      },
      "source": [
        "df_Rejected_final.sample(5)"
      ],
      "execution_count": 37,
      "outputs": [
        {
          "output_type": "execute_result",
          "data": {
            "text/html": [
              "<div>\n",
              "<style scoped>\n",
              "    .dataframe tbody tr th:only-of-type {\n",
              "        vertical-align: middle;\n",
              "    }\n",
              "\n",
              "    .dataframe tbody tr th {\n",
              "        vertical-align: top;\n",
              "    }\n",
              "\n",
              "    .dataframe thead th {\n",
              "        text-align: right;\n",
              "    }\n",
              "</style>\n",
              "<table border=\"1\" class=\"dataframe\">\n",
              "  <thead>\n",
              "    <tr style=\"text-align: right;\">\n",
              "      <th></th>\n",
              "      <th>Amount Requested</th>\n",
              "      <th>Risk_Score</th>\n",
              "      <th>Debt-To-Income Ratio</th>\n",
              "      <th>Employment Length</th>\n",
              "    </tr>\n",
              "  </thead>\n",
              "  <tbody>\n",
              "    <tr>\n",
              "      <th>7288620</th>\n",
              "      <td>1000.0</td>\n",
              "      <td>592.0</td>\n",
              "      <td>431.95</td>\n",
              "      <td>&lt; 1 year</td>\n",
              "    </tr>\n",
              "    <tr>\n",
              "      <th>4570751</th>\n",
              "      <td>3000.0</td>\n",
              "      <td>595.0</td>\n",
              "      <td>2.31</td>\n",
              "      <td>&lt; 1 year</td>\n",
              "    </tr>\n",
              "    <tr>\n",
              "      <th>21733071</th>\n",
              "      <td>15000.0</td>\n",
              "      <td>659.0</td>\n",
              "      <td>46.45</td>\n",
              "      <td>&lt; 1 year</td>\n",
              "    </tr>\n",
              "    <tr>\n",
              "      <th>20870340</th>\n",
              "      <td>5000.0</td>\n",
              "      <td>617.0</td>\n",
              "      <td>3.76</td>\n",
              "      <td>&lt; 1 year</td>\n",
              "    </tr>\n",
              "    <tr>\n",
              "      <th>12713065</th>\n",
              "      <td>5000.0</td>\n",
              "      <td>557.0</td>\n",
              "      <td>21.39</td>\n",
              "      <td>&lt; 1 year</td>\n",
              "    </tr>\n",
              "  </tbody>\n",
              "</table>\n",
              "</div>"
            ],
            "text/plain": [
              "          Amount Requested  Risk_Score  Debt-To-Income Ratio Employment Length\n",
              "7288620             1000.0       592.0                431.95          < 1 year\n",
              "4570751             3000.0       595.0                  2.31          < 1 year\n",
              "21733071           15000.0       659.0                 46.45          < 1 year\n",
              "20870340            5000.0       617.0                  3.76          < 1 year\n",
              "12713065            5000.0       557.0                 21.39          < 1 year"
            ]
          },
          "metadata": {
            "tags": []
          },
          "execution_count": 37
        }
      ]
    },
    {
      "cell_type": "code",
      "metadata": {
        "colab": {
          "base_uri": "https://localhost:8080/",
          "height": 204
        },
        "id": "4PIgrtOG8QSd",
        "outputId": "7a3c05f1-5ba5-459d-8ea2-cfca2fa7f14b"
      },
      "source": [
        "df_Rejected_final[\"Target\"] = 0\n",
        "\n",
        "df_Rejected_final.sample(5)"
      ],
      "execution_count": 38,
      "outputs": [
        {
          "output_type": "execute_result",
          "data": {
            "text/html": [
              "<div>\n",
              "<style scoped>\n",
              "    .dataframe tbody tr th:only-of-type {\n",
              "        vertical-align: middle;\n",
              "    }\n",
              "\n",
              "    .dataframe tbody tr th {\n",
              "        vertical-align: top;\n",
              "    }\n",
              "\n",
              "    .dataframe thead th {\n",
              "        text-align: right;\n",
              "    }\n",
              "</style>\n",
              "<table border=\"1\" class=\"dataframe\">\n",
              "  <thead>\n",
              "    <tr style=\"text-align: right;\">\n",
              "      <th></th>\n",
              "      <th>Amount Requested</th>\n",
              "      <th>Risk_Score</th>\n",
              "      <th>Debt-To-Income Ratio</th>\n",
              "      <th>Employment Length</th>\n",
              "      <th>Target</th>\n",
              "    </tr>\n",
              "  </thead>\n",
              "  <tbody>\n",
              "    <tr>\n",
              "      <th>7207389</th>\n",
              "      <td>5000.0</td>\n",
              "      <td>504.0</td>\n",
              "      <td>1.53</td>\n",
              "      <td>&lt; 1 year</td>\n",
              "      <td>0</td>\n",
              "    </tr>\n",
              "    <tr>\n",
              "      <th>9789809</th>\n",
              "      <td>8900.0</td>\n",
              "      <td>581.0</td>\n",
              "      <td>34.56</td>\n",
              "      <td>&lt; 1 year</td>\n",
              "      <td>0</td>\n",
              "    </tr>\n",
              "    <tr>\n",
              "      <th>9679224</th>\n",
              "      <td>10000.0</td>\n",
              "      <td>580.0</td>\n",
              "      <td>18.91</td>\n",
              "      <td>&lt; 1 year</td>\n",
              "      <td>0</td>\n",
              "    </tr>\n",
              "    <tr>\n",
              "      <th>224549</th>\n",
              "      <td>4000.0</td>\n",
              "      <td>0.0</td>\n",
              "      <td>-1.00</td>\n",
              "      <td>&lt; 1 year</td>\n",
              "      <td>0</td>\n",
              "    </tr>\n",
              "    <tr>\n",
              "      <th>25673471</th>\n",
              "      <td>10000.0</td>\n",
              "      <td>618.0</td>\n",
              "      <td>60.62</td>\n",
              "      <td>&lt; 1 year</td>\n",
              "      <td>0</td>\n",
              "    </tr>\n",
              "  </tbody>\n",
              "</table>\n",
              "</div>"
            ],
            "text/plain": [
              "          Amount Requested  Risk_Score  ...  Employment Length Target\n",
              "7207389             5000.0       504.0  ...           < 1 year      0\n",
              "9789809             8900.0       581.0  ...           < 1 year      0\n",
              "9679224            10000.0       580.0  ...           < 1 year      0\n",
              "224549              4000.0         0.0  ...           < 1 year      0\n",
              "25673471           10000.0       618.0  ...           < 1 year      0\n",
              "\n",
              "[5 rows x 5 columns]"
            ]
          },
          "metadata": {
            "tags": []
          },
          "execution_count": 38
        }
      ]
    },
    {
      "cell_type": "code",
      "metadata": {
        "id": "ceygWhL98eLm"
      },
      "source": [
        ""
      ],
      "execution_count": null,
      "outputs": []
    }
  ]
}