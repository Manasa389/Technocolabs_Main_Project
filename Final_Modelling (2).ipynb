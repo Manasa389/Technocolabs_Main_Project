{
 "cells": [
  {
   "cell_type": "markdown",
   "metadata": {
    "id": "ZmmDPOTMgpIF"
   },
   "source": [
    "#**Implementation of Random Forest and Hyper Parameter Tuning on pre-processed Lending Club Dataset:**"
   ]
  },
  {
   "cell_type": "code",
   "execution_count": 2,
   "metadata": {
    "colab": {
     "base_uri": "https://localhost:8080/"
    },
    "id": "9JSIWiSU9ce2",
    "outputId": "a67b1cf9-a10b-4e1d-b23d-747358f6e99c"
   },
   "outputs": [
    {
     "name": "stdout",
     "output_type": "stream",
     "text": [
      "Mounted at /content/drive\n"
     ]
    }
   ],
   "source": [
    "from google.colab import drive\n",
    "drive.mount('/content/drive')"
   ]
  },
  {
   "cell_type": "code",
   "execution_count": 3,
   "metadata": {
    "id": "afgKw1O6abGh"
   },
   "outputs": [],
   "source": [
    "#importing python libraries for analysis:\n",
    "\n",
    "import pandas as pd\n",
    "import numpy as np"
   ]
  },
  {
   "cell_type": "code",
   "execution_count": 4,
   "metadata": {
    "colab": {
     "base_uri": "https://localhost:8080/",
     "height": 204
    },
    "id": "tUgOk8FwbIC5",
    "outputId": "5b1a94e1-9d3b-4634-ac39-20b7d0b412ab"
   },
   "outputs": [
    {
     "data": {
      "text/html": [
       "<div>\n",
       "<style scoped>\n",
       "    .dataframe tbody tr th:only-of-type {\n",
       "        vertical-align: middle;\n",
       "    }\n",
       "\n",
       "    .dataframe tbody tr th {\n",
       "        vertical-align: top;\n",
       "    }\n",
       "\n",
       "    .dataframe thead th {\n",
       "        text-align: right;\n",
       "    }\n",
       "</style>\n",
       "<table border=\"1\" class=\"dataframe\">\n",
       "  <thead>\n",
       "    <tr style=\"text-align: right;\">\n",
       "      <th></th>\n",
       "      <th>Amount Requested</th>\n",
       "      <th>Risk_Score</th>\n",
       "      <th>Debt-To-Income Ratio</th>\n",
       "      <th>Employment Length</th>\n",
       "      <th>Target</th>\n",
       "    </tr>\n",
       "  </thead>\n",
       "  <tbody>\n",
       "    <tr>\n",
       "      <th>0</th>\n",
       "      <td>3600.0</td>\n",
       "      <td>677.0</td>\n",
       "      <td>5.91</td>\n",
       "      <td>10</td>\n",
       "      <td>1</td>\n",
       "    </tr>\n",
       "    <tr>\n",
       "      <th>1</th>\n",
       "      <td>24700.0</td>\n",
       "      <td>717.0</td>\n",
       "      <td>16.06</td>\n",
       "      <td>10</td>\n",
       "      <td>1</td>\n",
       "    </tr>\n",
       "    <tr>\n",
       "      <th>2</th>\n",
       "      <td>20000.0</td>\n",
       "      <td>697.0</td>\n",
       "      <td>10.78</td>\n",
       "      <td>10</td>\n",
       "      <td>1</td>\n",
       "    </tr>\n",
       "    <tr>\n",
       "      <th>3</th>\n",
       "      <td>10400.0</td>\n",
       "      <td>697.0</td>\n",
       "      <td>25.37</td>\n",
       "      <td>3</td>\n",
       "      <td>1</td>\n",
       "    </tr>\n",
       "    <tr>\n",
       "      <th>4</th>\n",
       "      <td>11950.0</td>\n",
       "      <td>692.0</td>\n",
       "      <td>10.20</td>\n",
       "      <td>4</td>\n",
       "      <td>1</td>\n",
       "    </tr>\n",
       "  </tbody>\n",
       "</table>\n",
       "</div>"
      ],
      "text/plain": [
       "   Amount Requested  Risk_Score  ...  Employment Length  Target\n",
       "0            3600.0       677.0  ...                 10       1\n",
       "1           24700.0       717.0  ...                 10       1\n",
       "2           20000.0       697.0  ...                 10       1\n",
       "3           10400.0       697.0  ...                  3       1\n",
       "4           11950.0       692.0  ...                  4       1\n",
       "\n",
       "[5 rows x 5 columns]"
      ]
     },
     "execution_count": 4,
     "metadata": {
      "tags": []
     },
     "output_type": "execute_result"
    }
   ],
   "source": [
    "df_Lending_Club = pd.read_csv(\"/content/drive/MyDrive/Lending_Club's_loan_approval_optimization (1).csv\")\n",
    "df_Lending_Club.drop(\"Unnamed: 0\", axis=1, inplace=True)\n",
    "df_Lending_Club.head()"
   ]
  },
  {
   "cell_type": "markdown",
   "metadata": {
    "id": "Lkzkb3VOSVz3"
   },
   "source": [
    "#**Let's split the data for training and testing:**\n",
    "\n"
   ]
  },
  {
   "cell_type": "code",
   "execution_count": 5,
   "metadata": {
    "id": "iKwFmJEMLCGt"
   },
   "outputs": [],
   "source": [
    "from sklearn.model_selection import train_test_split,cross_val_predict\n",
    "\n",
    "X = df_Lending_Club.iloc[:,:-1].values\n",
    "y = df_Lending_Club.iloc[:,-1].values\n",
    "\n",
    "X_train, X_test, y_train, y_test = train_test_split(X,y,test_size=0.2,random_state=42)"
   ]
  },
  {
   "cell_type": "code",
   "execution_count": 6,
   "metadata": {
    "colab": {
     "base_uri": "https://localhost:8080/"
    },
    "id": "mKELEQhCT5gz",
    "outputId": "8cbfa262-9f33-4685-9cfd-0210afd28393"
   },
   "outputs": [
    {
     "name": "stdout",
     "output_type": "stream",
     "text": [
      "(1658244, 4)\n",
      "(1658244,)\n"
     ]
    }
   ],
   "source": [
    "print(X_train.shape)\n",
    "print(y_train.shape)"
   ]
  },
  {
   "cell_type": "code",
   "execution_count": 7,
   "metadata": {
    "colab": {
     "base_uri": "https://localhost:8080/"
    },
    "id": "xl1Z70q-Cu2f",
    "outputId": "332d5660-d61a-43f9-a409-31fb94cf69ca"
   },
   "outputs": [
    {
     "name": "stdout",
     "output_type": "stream",
     "text": [
      "Accuracy score of training data 99.33604463516829 %:\n",
      "Accuracy score of testing data 85.78379108553123 %\n"
     ]
    }
   ],
   "source": [
    "from sklearn.ensemble import RandomForestClassifier\n",
    "\n",
    "Model_RF = RandomForestClassifier()\n",
    "Model_RF.fit(X_train, y_train)\n",
    "y_pred = Model_RF.predict(X_test)\n",
    "print(\"Accuracy score of training data {} %:\".format(Model_RF.score(X_train, y_train)*100))\n",
    "print(\"Accuracy score of testing data {} %\".format(Model_RF.score(X_test, y_test)*100))"
   ]
  },
  {
   "cell_type": "markdown",
   "metadata": {
    "id": "GzgtqPe0AVTX"
   },
   "source": [
    "#**Let's Retrain the Model by using the best parameters which is discovered from RandomizedSearchCV:**\n",
    "\n",
    "stratified : n_estimators=500, max_features=None, max_depth=6, bootstrap=True"
   ]
  },
  {
   "cell_type": "code",
   "execution_count": 8,
   "metadata": {
    "colab": {
     "base_uri": "https://localhost:8080/"
    },
    "id": "CvVAUVmNrmXn",
    "outputId": "08b4e396-0196-423c-b0d5-f5c615154860"
   },
   "outputs": [
    {
     "name": "stdout",
     "output_type": "stream",
     "text": [
      "Accuracy score of training data 88.80056252276505 %:\n",
      "Accuracy score of testing data 88.80577573438954 %\n"
     ]
    }
   ],
   "source": [
    "from sklearn.ensemble import RandomForestClassifier\n",
    "\n",
    "Model_RF = RandomForestClassifier(n_estimators=500, max_features=None, max_depth=6, bootstrap=True)\n",
    "Model_RF.fit(X_train, y_train)\n",
    "print(\"Accuracy score of training data {} %:\".format(Model_RF.score(X_train, y_train)*100))\n",
    "print(\"Accuracy score of testing data {} %\".format(Model_RF.score(X_test, y_test)*100))"
   ]
  },
  {
   "cell_type": "code",
   "execution_count": 9,
   "metadata": {
    "colab": {
     "base_uri": "https://localhost:8080/"
    },
    "id": "4Z-f0SUridwb",
    "outputId": "1a9526cc-c42e-48dd-ab1c-656a3d54c0dc"
   },
   "outputs": [
    {
     "data": {
      "text/plain": [
       "array([1])"
      ]
     },
     "execution_count": 9,
     "metadata": {
      "tags": []
     },
     "output_type": "execute_result"
    }
   ],
   "source": [
    "y_pred = Model_RF.predict([[35000, 750, 25, 9]])\n",
    "y_pred"
   ]
  },
  {
   "cell_type": "code",
   "execution_count": 10,
   "metadata": {
    "colab": {
     "base_uri": "https://localhost:8080/"
    },
    "id": "zVABnxeuiige",
    "outputId": "b65fb288-594c-47a7-de31-29f9fe8c36fd"
   },
   "outputs": [
    {
     "data": {
      "text/plain": [
       "array([0])"
      ]
     },
     "execution_count": 10,
     "metadata": {
      "tags": []
     },
     "output_type": "execute_result"
    }
   ],
   "source": [
    "y_pred = Model_RF.predict([[20000, 550, 25, 6]])\n",
    "y_pred"
   ]
  },
  {
   "cell_type": "code",
   "execution_count": 11,
   "metadata": {
    "id": "MySfdnq8DH4f"
   },
   "outputs": [],
   "source": [
    "import pickle"
   ]
  },
  {
   "cell_type": "code",
   "execution_count": 12,
   "metadata": {
    "colab": {
     "base_uri": "https://localhost:8080/"
    },
    "id": "_xFJAKe2DH7m",
    "outputId": "0b07af76-ae81-4232-da9b-9259ac8ce6a5"
   },
   "outputs": [
    {
     "name": "stdout",
     "output_type": "stream",
     "text": [
      "0.8880577573438955\n"
     ]
    }
   ],
   "source": [
    "pickle_out=open(\"loan.pkl\",\"wb\")\n",
    "pickle.dump(Model_RF,pickle_out)\n",
    "loaded_model=pickle.load(open(\"loan.pkl\",\"rb\"))\n",
    "result=loaded_model.score(X_test,y_test)\n",
    "print(result)"
   ]
  },
  {
   "cell_type": "code",
   "execution_count": null,
   "metadata": {
    "id": "w2y7WKy-EBgz"
   },
   "outputs": [],
   "source": []
  }
 ],
 "metadata": {
  "colab": {
   "collapsed_sections": [],
   "name": "model-RF.ipynb",
   "provenance": [],
   "toc_visible": true
  },
  "kernelspec": {
   "display_name": "Python 3",
   "language": "python",
   "name": "python3"
  },
  "language_info": {
   "codemirror_mode": {
    "name": "ipython",
    "version": 3
   },
   "file_extension": ".py",
   "mimetype": "text/x-python",
   "name": "python",
   "nbconvert_exporter": "python",
   "pygments_lexer": "ipython3",
   "version": "3.8.3"
  }
 },
 "nbformat": 4,
 "nbformat_minor": 1
}
